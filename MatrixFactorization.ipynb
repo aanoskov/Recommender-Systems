{
  "cells": [
    {
      "cell_type": "code",
      "execution_count": null,
      "metadata": {
        "colab": {
          "base_uri": "https://localhost:8080/"
        },
        "id": "uM6Vp898DT-z",
        "outputId": "843589a9-27fa-4a2c-cae4-5f4e927d1125"
      },
      "outputs": [
        {
          "output_type": "stream",
          "name": "stdout",
          "text": [
            "Looking in indexes: https://pypi.org/simple, https://us-python.pkg.dev/colab-wheels/public/simple/\n",
            "Collecting torchmetrics\n",
            "  Downloading torchmetrics-0.9.0-py3-none-any.whl (418 kB)\n",
            "\u001b[K     |████████████████████████████████| 418 kB 11.8 MB/s \n",
            "\u001b[?25hRequirement already satisfied: torch>=1.3.1 in /usr/local/lib/python3.7/dist-packages (from torchmetrics) (1.11.0+cu113)\n",
            "Requirement already satisfied: numpy>=1.17.2 in /usr/local/lib/python3.7/dist-packages (from torchmetrics) (1.21.6)\n",
            "Requirement already satisfied: typing-extensions in /usr/local/lib/python3.7/dist-packages (from torchmetrics) (4.2.0)\n",
            "Requirement already satisfied: packaging in /usr/local/lib/python3.7/dist-packages (from torchmetrics) (21.3)\n",
            "Requirement already satisfied: pyparsing!=3.0.5,>=2.0.2 in /usr/local/lib/python3.7/dist-packages (from packaging->torchmetrics) (3.0.9)\n",
            "Installing collected packages: torchmetrics\n",
            "Successfully installed torchmetrics-0.9.0\n"
          ]
        }
      ],
      "source": [
        "#!pip install pytorch_accelerated\n",
        "!pip install torchmetrics"
      ]
    },
    {
      "cell_type": "code",
      "execution_count": null,
      "metadata": {
        "id": "XJ5ubDRam86w"
      },
      "outputs": [],
      "source": [
        "import os\n",
        "import numpy as np\n",
        "import pandas as pd\n",
        "from torch.utils.data import Dataset\n",
        "import torch\n",
        "from torch import nn\n",
        "\n",
        "from functools import partial\n",
        "#from pytorch_accelerated import Trainer, notebook_launcher \n",
        "#from pytorch_accelerated.trainer import TrainerPlaceholderValues, DEFAULT_CALLBACKS\n",
        "#from pytorch_accelerated.callbacks import EarlyStoppingCallback, SaveBestModelCallback, TrainerCallback, StopTrainingError\n",
        "import torchmetrics\n",
        "from tqdm import tqdm\n",
        "from torch.utils.data import TensorDataset, DataLoader, RandomSampler, SequentialSampler\n",
        "import matplotlib.pyplot as plt"
      ]
    },
    {
      "cell_type": "code",
      "execution_count": null,
      "metadata": {
        "id": "9YhcaRSs0K3H"
      },
      "outputs": [],
      "source": [
        "# drive.flush_and_unmount()"
      ]
    },
    {
      "cell_type": "code",
      "execution_count": null,
      "metadata": {
        "colab": {
          "base_uri": "https://localhost:8080/"
        },
        "id": "and9ppV5m99-",
        "outputId": "30134121-725a-49c6-c115-c077214932b4"
      },
      "outputs": [
        {
          "output_type": "stream",
          "name": "stdout",
          "text": [
            "Mounted at /content/drive\n"
          ]
        }
      ],
      "source": [
        "from google.colab import drive\n",
        "drive.mount('/content/drive')"
      ]
    },
    {
      "cell_type": "code",
      "execution_count": null,
      "metadata": {
        "id": "YnLs5sx-nnes"
      },
      "outputs": [],
      "source": [
        "path = \"/content/drive/MyDrive/Colab Notebooks/Diploma/book_crossing/\""
      ]
    },
    {
      "cell_type": "code",
      "execution_count": null,
      "metadata": {
        "colab": {
          "base_uri": "https://localhost:8080/",
          "height": 424
        },
        "id": "N2fwODUpsFWv",
        "outputId": "5e3abe29-6702-4f50-c03a-97223ba797f2"
      },
      "outputs": [
        {
          "output_type": "execute_result",
          "data": {
            "text/plain": [
              "       user_id  book_id  rating   time\n",
              "0            1     6264     7.0      0\n",
              "1            1     4350     7.0      1\n",
              "2            1     6252     5.0      2\n",
              "3            1      202     9.0      3\n",
              "4            1     6266     6.0      4\n",
              "...        ...      ...     ...    ...\n",
              "62651     2945    15719     8.0  62651\n",
              "62652     2945    11960     6.0  62652\n",
              "62653     2945     8515     9.0  62653\n",
              "62654     2945     9417     7.0  62654\n",
              "62655     2945     8052     8.0  62655\n",
              "\n",
              "[62656 rows x 4 columns]"
            ],
            "text/html": [
              "\n",
              "  <div id=\"df-268ab0f4-84db-4654-90ba-2418a9ff172a\">\n",
              "    <div class=\"colab-df-container\">\n",
              "      <div>\n",
              "<style scoped>\n",
              "    .dataframe tbody tr th:only-of-type {\n",
              "        vertical-align: middle;\n",
              "    }\n",
              "\n",
              "    .dataframe tbody tr th {\n",
              "        vertical-align: top;\n",
              "    }\n",
              "\n",
              "    .dataframe thead th {\n",
              "        text-align: right;\n",
              "    }\n",
              "</style>\n",
              "<table border=\"1\" class=\"dataframe\">\n",
              "  <thead>\n",
              "    <tr style=\"text-align: right;\">\n",
              "      <th></th>\n",
              "      <th>user_id</th>\n",
              "      <th>book_id</th>\n",
              "      <th>rating</th>\n",
              "      <th>time</th>\n",
              "    </tr>\n",
              "  </thead>\n",
              "  <tbody>\n",
              "    <tr>\n",
              "      <th>0</th>\n",
              "      <td>1</td>\n",
              "      <td>6264</td>\n",
              "      <td>7.0</td>\n",
              "      <td>0</td>\n",
              "    </tr>\n",
              "    <tr>\n",
              "      <th>1</th>\n",
              "      <td>1</td>\n",
              "      <td>4350</td>\n",
              "      <td>7.0</td>\n",
              "      <td>1</td>\n",
              "    </tr>\n",
              "    <tr>\n",
              "      <th>2</th>\n",
              "      <td>1</td>\n",
              "      <td>6252</td>\n",
              "      <td>5.0</td>\n",
              "      <td>2</td>\n",
              "    </tr>\n",
              "    <tr>\n",
              "      <th>3</th>\n",
              "      <td>1</td>\n",
              "      <td>202</td>\n",
              "      <td>9.0</td>\n",
              "      <td>3</td>\n",
              "    </tr>\n",
              "    <tr>\n",
              "      <th>4</th>\n",
              "      <td>1</td>\n",
              "      <td>6266</td>\n",
              "      <td>6.0</td>\n",
              "      <td>4</td>\n",
              "    </tr>\n",
              "    <tr>\n",
              "      <th>...</th>\n",
              "      <td>...</td>\n",
              "      <td>...</td>\n",
              "      <td>...</td>\n",
              "      <td>...</td>\n",
              "    </tr>\n",
              "    <tr>\n",
              "      <th>62651</th>\n",
              "      <td>2945</td>\n",
              "      <td>15719</td>\n",
              "      <td>8.0</td>\n",
              "      <td>62651</td>\n",
              "    </tr>\n",
              "    <tr>\n",
              "      <th>62652</th>\n",
              "      <td>2945</td>\n",
              "      <td>11960</td>\n",
              "      <td>6.0</td>\n",
              "      <td>62652</td>\n",
              "    </tr>\n",
              "    <tr>\n",
              "      <th>62653</th>\n",
              "      <td>2945</td>\n",
              "      <td>8515</td>\n",
              "      <td>9.0</td>\n",
              "      <td>62653</td>\n",
              "    </tr>\n",
              "    <tr>\n",
              "      <th>62654</th>\n",
              "      <td>2945</td>\n",
              "      <td>9417</td>\n",
              "      <td>7.0</td>\n",
              "      <td>62654</td>\n",
              "    </tr>\n",
              "    <tr>\n",
              "      <th>62655</th>\n",
              "      <td>2945</td>\n",
              "      <td>8052</td>\n",
              "      <td>8.0</td>\n",
              "      <td>62655</td>\n",
              "    </tr>\n",
              "  </tbody>\n",
              "</table>\n",
              "<p>62656 rows × 4 columns</p>\n",
              "</div>\n",
              "      <button class=\"colab-df-convert\" onclick=\"convertToInteractive('df-268ab0f4-84db-4654-90ba-2418a9ff172a')\"\n",
              "              title=\"Convert this dataframe to an interactive table.\"\n",
              "              style=\"display:none;\">\n",
              "        \n",
              "  <svg xmlns=\"http://www.w3.org/2000/svg\" height=\"24px\"viewBox=\"0 0 24 24\"\n",
              "       width=\"24px\">\n",
              "    <path d=\"M0 0h24v24H0V0z\" fill=\"none\"/>\n",
              "    <path d=\"M18.56 5.44l.94 2.06.94-2.06 2.06-.94-2.06-.94-.94-2.06-.94 2.06-2.06.94zm-11 1L8.5 8.5l.94-2.06 2.06-.94-2.06-.94L8.5 2.5l-.94 2.06-2.06.94zm10 10l.94 2.06.94-2.06 2.06-.94-2.06-.94-.94-2.06-.94 2.06-2.06.94z\"/><path d=\"M17.41 7.96l-1.37-1.37c-.4-.4-.92-.59-1.43-.59-.52 0-1.04.2-1.43.59L10.3 9.45l-7.72 7.72c-.78.78-.78 2.05 0 2.83L4 21.41c.39.39.9.59 1.41.59.51 0 1.02-.2 1.41-.59l7.78-7.78 2.81-2.81c.8-.78.8-2.07 0-2.86zM5.41 20L4 18.59l7.72-7.72 1.47 1.35L5.41 20z\"/>\n",
              "  </svg>\n",
              "      </button>\n",
              "      \n",
              "  <style>\n",
              "    .colab-df-container {\n",
              "      display:flex;\n",
              "      flex-wrap:wrap;\n",
              "      gap: 12px;\n",
              "    }\n",
              "\n",
              "    .colab-df-convert {\n",
              "      background-color: #E8F0FE;\n",
              "      border: none;\n",
              "      border-radius: 50%;\n",
              "      cursor: pointer;\n",
              "      display: none;\n",
              "      fill: #1967D2;\n",
              "      height: 32px;\n",
              "      padding: 0 0 0 0;\n",
              "      width: 32px;\n",
              "    }\n",
              "\n",
              "    .colab-df-convert:hover {\n",
              "      background-color: #E2EBFA;\n",
              "      box-shadow: 0px 1px 2px rgba(60, 64, 67, 0.3), 0px 1px 3px 1px rgba(60, 64, 67, 0.15);\n",
              "      fill: #174EA6;\n",
              "    }\n",
              "\n",
              "    [theme=dark] .colab-df-convert {\n",
              "      background-color: #3B4455;\n",
              "      fill: #D2E3FC;\n",
              "    }\n",
              "\n",
              "    [theme=dark] .colab-df-convert:hover {\n",
              "      background-color: #434B5C;\n",
              "      box-shadow: 0px 1px 3px 1px rgba(0, 0, 0, 0.15);\n",
              "      filter: drop-shadow(0px 1px 2px rgba(0, 0, 0, 0.3));\n",
              "      fill: #FFFFFF;\n",
              "    }\n",
              "  </style>\n",
              "\n",
              "      <script>\n",
              "        const buttonEl =\n",
              "          document.querySelector('#df-268ab0f4-84db-4654-90ba-2418a9ff172a button.colab-df-convert');\n",
              "        buttonEl.style.display =\n",
              "          google.colab.kernel.accessAllowed ? 'block' : 'none';\n",
              "\n",
              "        async function convertToInteractive(key) {\n",
              "          const element = document.querySelector('#df-268ab0f4-84db-4654-90ba-2418a9ff172a');\n",
              "          const dataTable =\n",
              "            await google.colab.kernel.invokeFunction('convertToInteractive',\n",
              "                                                     [key], {});\n",
              "          if (!dataTable) return;\n",
              "\n",
              "          const docLinkHtml = 'Like what you see? Visit the ' +\n",
              "            '<a target=\"_blank\" href=https://colab.research.google.com/notebooks/data_table.ipynb>data table notebook</a>'\n",
              "            + ' to learn more about interactive tables.';\n",
              "          element.innerHTML = '';\n",
              "          dataTable['output_type'] = 'display_data';\n",
              "          await google.colab.output.renderOutput(dataTable, element);\n",
              "          const docLink = document.createElement('div');\n",
              "          docLink.innerHTML = docLinkHtml;\n",
              "          element.appendChild(docLink);\n",
              "        }\n",
              "      </script>\n",
              "    </div>\n",
              "  </div>\n",
              "  "
            ]
          },
          "metadata": {},
          "execution_count": 7
        }
      ],
      "source": [
        "book_ratings = pd.read_table(path + 'book_ratings.dat', sep=\"\\t\", header=0)\n",
        "book_ratings['time'] = book_ratings.index\n",
        "book_ratings"
      ]
    },
    {
      "cell_type": "code",
      "execution_count": null,
      "metadata": {
        "colab": {
          "base_uri": "https://localhost:8080/",
          "height": 424
        },
        "id": "iPQPfqQr0wgt",
        "outputId": "9dd2456c-c9d2-49c4-c701-41cbe3cf4ece"
      },
      "outputs": [
        {
          "output_type": "execute_result",
          "data": {
            "text/plain": [
              "      user_id                      Location  Age\n",
              "0           1   minneapolis, minnesota, usa   24\n",
              "1           2    san diego, california, usa   20\n",
              "2           3       novinger, missouri, usa   16\n",
              "3           4       sonoma, california, usa   34\n",
              "4           5     berkeley, california, usa   23\n",
              "...       ...                           ...  ...\n",
              "2941     2942  east orange, new jersey, usa   56\n",
              "2942     2943       san antonio, texas, usa   27\n",
              "2943     2944         storm lake, iowa, usa   48\n",
              "2944     2945    lake george, new york, usa   34\n",
              "2945     2946  pismo beach, california, usa   28\n",
              "\n",
              "[2946 rows x 3 columns]"
            ],
            "text/html": [
              "\n",
              "  <div id=\"df-4ff314ac-f509-4da2-aa47-4586ab98ab57\">\n",
              "    <div class=\"colab-df-container\">\n",
              "      <div>\n",
              "<style scoped>\n",
              "    .dataframe tbody tr th:only-of-type {\n",
              "        vertical-align: middle;\n",
              "    }\n",
              "\n",
              "    .dataframe tbody tr th {\n",
              "        vertical-align: top;\n",
              "    }\n",
              "\n",
              "    .dataframe thead th {\n",
              "        text-align: right;\n",
              "    }\n",
              "</style>\n",
              "<table border=\"1\" class=\"dataframe\">\n",
              "  <thead>\n",
              "    <tr style=\"text-align: right;\">\n",
              "      <th></th>\n",
              "      <th>user_id</th>\n",
              "      <th>Location</th>\n",
              "      <th>Age</th>\n",
              "    </tr>\n",
              "  </thead>\n",
              "  <tbody>\n",
              "    <tr>\n",
              "      <th>0</th>\n",
              "      <td>1</td>\n",
              "      <td>minneapolis, minnesota, usa</td>\n",
              "      <td>24</td>\n",
              "    </tr>\n",
              "    <tr>\n",
              "      <th>1</th>\n",
              "      <td>2</td>\n",
              "      <td>san diego, california, usa</td>\n",
              "      <td>20</td>\n",
              "    </tr>\n",
              "    <tr>\n",
              "      <th>2</th>\n",
              "      <td>3</td>\n",
              "      <td>novinger, missouri, usa</td>\n",
              "      <td>16</td>\n",
              "    </tr>\n",
              "    <tr>\n",
              "      <th>3</th>\n",
              "      <td>4</td>\n",
              "      <td>sonoma, california, usa</td>\n",
              "      <td>34</td>\n",
              "    </tr>\n",
              "    <tr>\n",
              "      <th>4</th>\n",
              "      <td>5</td>\n",
              "      <td>berkeley, california, usa</td>\n",
              "      <td>23</td>\n",
              "    </tr>\n",
              "    <tr>\n",
              "      <th>...</th>\n",
              "      <td>...</td>\n",
              "      <td>...</td>\n",
              "      <td>...</td>\n",
              "    </tr>\n",
              "    <tr>\n",
              "      <th>2941</th>\n",
              "      <td>2942</td>\n",
              "      <td>east orange, new jersey, usa</td>\n",
              "      <td>56</td>\n",
              "    </tr>\n",
              "    <tr>\n",
              "      <th>2942</th>\n",
              "      <td>2943</td>\n",
              "      <td>san antonio, texas, usa</td>\n",
              "      <td>27</td>\n",
              "    </tr>\n",
              "    <tr>\n",
              "      <th>2943</th>\n",
              "      <td>2944</td>\n",
              "      <td>storm lake, iowa, usa</td>\n",
              "      <td>48</td>\n",
              "    </tr>\n",
              "    <tr>\n",
              "      <th>2944</th>\n",
              "      <td>2945</td>\n",
              "      <td>lake george, new york, usa</td>\n",
              "      <td>34</td>\n",
              "    </tr>\n",
              "    <tr>\n",
              "      <th>2945</th>\n",
              "      <td>2946</td>\n",
              "      <td>pismo beach, california, usa</td>\n",
              "      <td>28</td>\n",
              "    </tr>\n",
              "  </tbody>\n",
              "</table>\n",
              "<p>2946 rows × 3 columns</p>\n",
              "</div>\n",
              "      <button class=\"colab-df-convert\" onclick=\"convertToInteractive('df-4ff314ac-f509-4da2-aa47-4586ab98ab57')\"\n",
              "              title=\"Convert this dataframe to an interactive table.\"\n",
              "              style=\"display:none;\">\n",
              "        \n",
              "  <svg xmlns=\"http://www.w3.org/2000/svg\" height=\"24px\"viewBox=\"0 0 24 24\"\n",
              "       width=\"24px\">\n",
              "    <path d=\"M0 0h24v24H0V0z\" fill=\"none\"/>\n",
              "    <path d=\"M18.56 5.44l.94 2.06.94-2.06 2.06-.94-2.06-.94-.94-2.06-.94 2.06-2.06.94zm-11 1L8.5 8.5l.94-2.06 2.06-.94-2.06-.94L8.5 2.5l-.94 2.06-2.06.94zm10 10l.94 2.06.94-2.06 2.06-.94-2.06-.94-.94-2.06-.94 2.06-2.06.94z\"/><path d=\"M17.41 7.96l-1.37-1.37c-.4-.4-.92-.59-1.43-.59-.52 0-1.04.2-1.43.59L10.3 9.45l-7.72 7.72c-.78.78-.78 2.05 0 2.83L4 21.41c.39.39.9.59 1.41.59.51 0 1.02-.2 1.41-.59l7.78-7.78 2.81-2.81c.8-.78.8-2.07 0-2.86zM5.41 20L4 18.59l7.72-7.72 1.47 1.35L5.41 20z\"/>\n",
              "  </svg>\n",
              "      </button>\n",
              "      \n",
              "  <style>\n",
              "    .colab-df-container {\n",
              "      display:flex;\n",
              "      flex-wrap:wrap;\n",
              "      gap: 12px;\n",
              "    }\n",
              "\n",
              "    .colab-df-convert {\n",
              "      background-color: #E8F0FE;\n",
              "      border: none;\n",
              "      border-radius: 50%;\n",
              "      cursor: pointer;\n",
              "      display: none;\n",
              "      fill: #1967D2;\n",
              "      height: 32px;\n",
              "      padding: 0 0 0 0;\n",
              "      width: 32px;\n",
              "    }\n",
              "\n",
              "    .colab-df-convert:hover {\n",
              "      background-color: #E2EBFA;\n",
              "      box-shadow: 0px 1px 2px rgba(60, 64, 67, 0.3), 0px 1px 3px 1px rgba(60, 64, 67, 0.15);\n",
              "      fill: #174EA6;\n",
              "    }\n",
              "\n",
              "    [theme=dark] .colab-df-convert {\n",
              "      background-color: #3B4455;\n",
              "      fill: #D2E3FC;\n",
              "    }\n",
              "\n",
              "    [theme=dark] .colab-df-convert:hover {\n",
              "      background-color: #434B5C;\n",
              "      box-shadow: 0px 1px 3px 1px rgba(0, 0, 0, 0.15);\n",
              "      filter: drop-shadow(0px 1px 2px rgba(0, 0, 0, 0.3));\n",
              "      fill: #FFFFFF;\n",
              "    }\n",
              "  </style>\n",
              "\n",
              "      <script>\n",
              "        const buttonEl =\n",
              "          document.querySelector('#df-4ff314ac-f509-4da2-aa47-4586ab98ab57 button.colab-df-convert');\n",
              "        buttonEl.style.display =\n",
              "          google.colab.kernel.accessAllowed ? 'block' : 'none';\n",
              "\n",
              "        async function convertToInteractive(key) {\n",
              "          const element = document.querySelector('#df-4ff314ac-f509-4da2-aa47-4586ab98ab57');\n",
              "          const dataTable =\n",
              "            await google.colab.kernel.invokeFunction('convertToInteractive',\n",
              "                                                     [key], {});\n",
              "          if (!dataTable) return;\n",
              "\n",
              "          const docLinkHtml = 'Like what you see? Visit the ' +\n",
              "            '<a target=\"_blank\" href=https://colab.research.google.com/notebooks/data_table.ipynb>data table notebook</a>'\n",
              "            + ' to learn more about interactive tables.';\n",
              "          element.innerHTML = '';\n",
              "          dataTable['output_type'] = 'display_data';\n",
              "          await google.colab.output.renderOutput(dataTable, element);\n",
              "          const docLink = document.createElement('div');\n",
              "          docLink.innerHTML = docLinkHtml;\n",
              "          element.appendChild(docLink);\n",
              "        }\n",
              "      </script>\n",
              "    </div>\n",
              "  </div>\n",
              "  "
            ]
          },
          "metadata": {},
          "execution_count": 8
        }
      ],
      "source": [
        "users_info = pd.read_table(path + 'users_info.dat', sep=\"\\t\", header=0, index_col=False)\n",
        "users_info"
      ]
    },
    {
      "cell_type": "code",
      "execution_count": null,
      "metadata": {
        "colab": {
          "base_uri": "https://localhost:8080/",
          "height": 939
        },
        "id": "ZDoM3jXX2WAK",
        "outputId": "bde305ec-5175-4aac-cdf4-c675de3efbda"
      },
      "outputs": [
        {
          "output_type": "execute_result",
          "data": {
            "text/plain": [
              "       book_id        ISBN                                         Book_title  \\\n",
              "0            1  0060973129                               Decision in Normandy   \n",
              "1            2  0393045218                             The Mummies of Urumchi   \n",
              "2            3  0425176428  What If?: The World's Foremost Military Histor...   \n",
              "3            4  0452264464               Beloved (Plume Contemporary Fiction)   \n",
              "4            5  0609804618  Our Dumb Century: The Onion Presents 100 Years...   \n",
              "...        ...         ...                                                ...   \n",
              "17379    17380  0449209202                          Guide to Confident Living   \n",
              "17380    17381  2209014026                                   Ludwig Feuerbach   \n",
              "17381    17382  070892722X  To Bring You Joy (Ulverscroft Large Print Series)   \n",
              "17382    17383  1570031843  Like Unto Like: A Novel (Southern Classics Ser...   \n",
              "17383    17384  0435272632                  The Grapes of Wrath (Upper Level)   \n",
              "\n",
              "                              Book_Author  Year-Of-Publication  \\\n",
              "0                            Carlo D'Este                 1991   \n",
              "1                         E. J. W. Barber                 1999   \n",
              "2                           Robert Cowley                 2000   \n",
              "3                           Toni Morrison                 1994   \n",
              "4                               The Onion                 1999   \n",
              "...                                   ...                  ...   \n",
              "17379                Norman Vincent Peale                 1985   \n",
              "17380                           F. Engels                 1976   \n",
              "17381                       Essie Summers                 1992   \n",
              "17382  Katherine Sherwood Bonner McDowell                 1997   \n",
              "17383                          John Milne                 1995   \n",
              "\n",
              "                                Publisher  \\\n",
              "0                         HarperPerennial   \n",
              "1                    W. W. Norton Company   \n",
              "2                Berkley Publishing Group   \n",
              "3                                   Plume   \n",
              "4                      Three Rivers Press   \n",
              "...                                   ...   \n",
              "17379                       Fawcett Books   \n",
              "17380                          La Dispute   \n",
              "17381             Ulverscroft Large Print   \n",
              "17382  University of South Carolina Press   \n",
              "17383                    Delta Systems Co   \n",
              "\n",
              "                                             Image-URL-S  \\\n",
              "0      http://images.amazon.com/images/P/0060973129.0...   \n",
              "1      http://images.amazon.com/images/P/0393045218.0...   \n",
              "2      http://images.amazon.com/images/P/0425176428.0...   \n",
              "3      http://images.amazon.com/images/P/0452264464.0...   \n",
              "4      http://images.amazon.com/images/P/0609804618.0...   \n",
              "...                                                  ...   \n",
              "17379  http://images.amazon.com/images/P/0449209202.0...   \n",
              "17380  http://images.amazon.com/images/P/2209014026.0...   \n",
              "17381  http://images.amazon.com/images/P/070892722X.0...   \n",
              "17382  http://images.amazon.com/images/P/1570031843.0...   \n",
              "17383  http://images.amazon.com/images/P/0435272632.0...   \n",
              "\n",
              "                                             Image-URL-M  \\\n",
              "0      http://images.amazon.com/images/P/0060973129.0...   \n",
              "1      http://images.amazon.com/images/P/0393045218.0...   \n",
              "2      http://images.amazon.com/images/P/0425176428.0...   \n",
              "3      http://images.amazon.com/images/P/0452264464.0...   \n",
              "4      http://images.amazon.com/images/P/0609804618.0...   \n",
              "...                                                  ...   \n",
              "17379  http://images.amazon.com/images/P/0449209202.0...   \n",
              "17380  http://images.amazon.com/images/P/2209014026.0...   \n",
              "17381  http://images.amazon.com/images/P/070892722X.0...   \n",
              "17382  http://images.amazon.com/images/P/1570031843.0...   \n",
              "17383  http://images.amazon.com/images/P/0435272632.0...   \n",
              "\n",
              "                                             Image-URL-L  \n",
              "0      http://images.amazon.com/images/P/0060973129.0...  \n",
              "1      http://images.amazon.com/images/P/0393045218.0...  \n",
              "2      http://images.amazon.com/images/P/0425176428.0...  \n",
              "3      http://images.amazon.com/images/P/0452264464.0...  \n",
              "4      http://images.amazon.com/images/P/0609804618.0...  \n",
              "...                                                  ...  \n",
              "17379  http://images.amazon.com/images/P/0449209202.0...  \n",
              "17380  http://images.amazon.com/images/P/2209014026.0...  \n",
              "17381  http://images.amazon.com/images/P/070892722X.0...  \n",
              "17382  http://images.amazon.com/images/P/1570031843.0...  \n",
              "17383  http://images.amazon.com/images/P/0435272632.0...  \n",
              "\n",
              "[17384 rows x 9 columns]"
            ],
            "text/html": [
              "\n",
              "  <div id=\"df-bd6fdfd2-b884-4e89-b526-fff914dfc3d8\">\n",
              "    <div class=\"colab-df-container\">\n",
              "      <div>\n",
              "<style scoped>\n",
              "    .dataframe tbody tr th:only-of-type {\n",
              "        vertical-align: middle;\n",
              "    }\n",
              "\n",
              "    .dataframe tbody tr th {\n",
              "        vertical-align: top;\n",
              "    }\n",
              "\n",
              "    .dataframe thead th {\n",
              "        text-align: right;\n",
              "    }\n",
              "</style>\n",
              "<table border=\"1\" class=\"dataframe\">\n",
              "  <thead>\n",
              "    <tr style=\"text-align: right;\">\n",
              "      <th></th>\n",
              "      <th>book_id</th>\n",
              "      <th>ISBN</th>\n",
              "      <th>Book_title</th>\n",
              "      <th>Book_Author</th>\n",
              "      <th>Year-Of-Publication</th>\n",
              "      <th>Publisher</th>\n",
              "      <th>Image-URL-S</th>\n",
              "      <th>Image-URL-M</th>\n",
              "      <th>Image-URL-L</th>\n",
              "    </tr>\n",
              "  </thead>\n",
              "  <tbody>\n",
              "    <tr>\n",
              "      <th>0</th>\n",
              "      <td>1</td>\n",
              "      <td>0060973129</td>\n",
              "      <td>Decision in Normandy</td>\n",
              "      <td>Carlo D'Este</td>\n",
              "      <td>1991</td>\n",
              "      <td>HarperPerennial</td>\n",
              "      <td>http://images.amazon.com/images/P/0060973129.0...</td>\n",
              "      <td>http://images.amazon.com/images/P/0060973129.0...</td>\n",
              "      <td>http://images.amazon.com/images/P/0060973129.0...</td>\n",
              "    </tr>\n",
              "    <tr>\n",
              "      <th>1</th>\n",
              "      <td>2</td>\n",
              "      <td>0393045218</td>\n",
              "      <td>The Mummies of Urumchi</td>\n",
              "      <td>E. J. W. Barber</td>\n",
              "      <td>1999</td>\n",
              "      <td>W. W. Norton Company</td>\n",
              "      <td>http://images.amazon.com/images/P/0393045218.0...</td>\n",
              "      <td>http://images.amazon.com/images/P/0393045218.0...</td>\n",
              "      <td>http://images.amazon.com/images/P/0393045218.0...</td>\n",
              "    </tr>\n",
              "    <tr>\n",
              "      <th>2</th>\n",
              "      <td>3</td>\n",
              "      <td>0425176428</td>\n",
              "      <td>What If?: The World's Foremost Military Histor...</td>\n",
              "      <td>Robert Cowley</td>\n",
              "      <td>2000</td>\n",
              "      <td>Berkley Publishing Group</td>\n",
              "      <td>http://images.amazon.com/images/P/0425176428.0...</td>\n",
              "      <td>http://images.amazon.com/images/P/0425176428.0...</td>\n",
              "      <td>http://images.amazon.com/images/P/0425176428.0...</td>\n",
              "    </tr>\n",
              "    <tr>\n",
              "      <th>3</th>\n",
              "      <td>4</td>\n",
              "      <td>0452264464</td>\n",
              "      <td>Beloved (Plume Contemporary Fiction)</td>\n",
              "      <td>Toni Morrison</td>\n",
              "      <td>1994</td>\n",
              "      <td>Plume</td>\n",
              "      <td>http://images.amazon.com/images/P/0452264464.0...</td>\n",
              "      <td>http://images.amazon.com/images/P/0452264464.0...</td>\n",
              "      <td>http://images.amazon.com/images/P/0452264464.0...</td>\n",
              "    </tr>\n",
              "    <tr>\n",
              "      <th>4</th>\n",
              "      <td>5</td>\n",
              "      <td>0609804618</td>\n",
              "      <td>Our Dumb Century: The Onion Presents 100 Years...</td>\n",
              "      <td>The Onion</td>\n",
              "      <td>1999</td>\n",
              "      <td>Three Rivers Press</td>\n",
              "      <td>http://images.amazon.com/images/P/0609804618.0...</td>\n",
              "      <td>http://images.amazon.com/images/P/0609804618.0...</td>\n",
              "      <td>http://images.amazon.com/images/P/0609804618.0...</td>\n",
              "    </tr>\n",
              "    <tr>\n",
              "      <th>...</th>\n",
              "      <td>...</td>\n",
              "      <td>...</td>\n",
              "      <td>...</td>\n",
              "      <td>...</td>\n",
              "      <td>...</td>\n",
              "      <td>...</td>\n",
              "      <td>...</td>\n",
              "      <td>...</td>\n",
              "      <td>...</td>\n",
              "    </tr>\n",
              "    <tr>\n",
              "      <th>17379</th>\n",
              "      <td>17380</td>\n",
              "      <td>0449209202</td>\n",
              "      <td>Guide to Confident Living</td>\n",
              "      <td>Norman Vincent Peale</td>\n",
              "      <td>1985</td>\n",
              "      <td>Fawcett Books</td>\n",
              "      <td>http://images.amazon.com/images/P/0449209202.0...</td>\n",
              "      <td>http://images.amazon.com/images/P/0449209202.0...</td>\n",
              "      <td>http://images.amazon.com/images/P/0449209202.0...</td>\n",
              "    </tr>\n",
              "    <tr>\n",
              "      <th>17380</th>\n",
              "      <td>17381</td>\n",
              "      <td>2209014026</td>\n",
              "      <td>Ludwig Feuerbach</td>\n",
              "      <td>F. Engels</td>\n",
              "      <td>1976</td>\n",
              "      <td>La Dispute</td>\n",
              "      <td>http://images.amazon.com/images/P/2209014026.0...</td>\n",
              "      <td>http://images.amazon.com/images/P/2209014026.0...</td>\n",
              "      <td>http://images.amazon.com/images/P/2209014026.0...</td>\n",
              "    </tr>\n",
              "    <tr>\n",
              "      <th>17381</th>\n",
              "      <td>17382</td>\n",
              "      <td>070892722X</td>\n",
              "      <td>To Bring You Joy (Ulverscroft Large Print Series)</td>\n",
              "      <td>Essie Summers</td>\n",
              "      <td>1992</td>\n",
              "      <td>Ulverscroft Large Print</td>\n",
              "      <td>http://images.amazon.com/images/P/070892722X.0...</td>\n",
              "      <td>http://images.amazon.com/images/P/070892722X.0...</td>\n",
              "      <td>http://images.amazon.com/images/P/070892722X.0...</td>\n",
              "    </tr>\n",
              "    <tr>\n",
              "      <th>17382</th>\n",
              "      <td>17383</td>\n",
              "      <td>1570031843</td>\n",
              "      <td>Like Unto Like: A Novel (Southern Classics Ser...</td>\n",
              "      <td>Katherine Sherwood Bonner McDowell</td>\n",
              "      <td>1997</td>\n",
              "      <td>University of South Carolina Press</td>\n",
              "      <td>http://images.amazon.com/images/P/1570031843.0...</td>\n",
              "      <td>http://images.amazon.com/images/P/1570031843.0...</td>\n",
              "      <td>http://images.amazon.com/images/P/1570031843.0...</td>\n",
              "    </tr>\n",
              "    <tr>\n",
              "      <th>17383</th>\n",
              "      <td>17384</td>\n",
              "      <td>0435272632</td>\n",
              "      <td>The Grapes of Wrath (Upper Level)</td>\n",
              "      <td>John Milne</td>\n",
              "      <td>1995</td>\n",
              "      <td>Delta Systems Co</td>\n",
              "      <td>http://images.amazon.com/images/P/0435272632.0...</td>\n",
              "      <td>http://images.amazon.com/images/P/0435272632.0...</td>\n",
              "      <td>http://images.amazon.com/images/P/0435272632.0...</td>\n",
              "    </tr>\n",
              "  </tbody>\n",
              "</table>\n",
              "<p>17384 rows × 9 columns</p>\n",
              "</div>\n",
              "      <button class=\"colab-df-convert\" onclick=\"convertToInteractive('df-bd6fdfd2-b884-4e89-b526-fff914dfc3d8')\"\n",
              "              title=\"Convert this dataframe to an interactive table.\"\n",
              "              style=\"display:none;\">\n",
              "        \n",
              "  <svg xmlns=\"http://www.w3.org/2000/svg\" height=\"24px\"viewBox=\"0 0 24 24\"\n",
              "       width=\"24px\">\n",
              "    <path d=\"M0 0h24v24H0V0z\" fill=\"none\"/>\n",
              "    <path d=\"M18.56 5.44l.94 2.06.94-2.06 2.06-.94-2.06-.94-.94-2.06-.94 2.06-2.06.94zm-11 1L8.5 8.5l.94-2.06 2.06-.94-2.06-.94L8.5 2.5l-.94 2.06-2.06.94zm10 10l.94 2.06.94-2.06 2.06-.94-2.06-.94-.94-2.06-.94 2.06-2.06.94z\"/><path d=\"M17.41 7.96l-1.37-1.37c-.4-.4-.92-.59-1.43-.59-.52 0-1.04.2-1.43.59L10.3 9.45l-7.72 7.72c-.78.78-.78 2.05 0 2.83L4 21.41c.39.39.9.59 1.41.59.51 0 1.02-.2 1.41-.59l7.78-7.78 2.81-2.81c.8-.78.8-2.07 0-2.86zM5.41 20L4 18.59l7.72-7.72 1.47 1.35L5.41 20z\"/>\n",
              "  </svg>\n",
              "      </button>\n",
              "      \n",
              "  <style>\n",
              "    .colab-df-container {\n",
              "      display:flex;\n",
              "      flex-wrap:wrap;\n",
              "      gap: 12px;\n",
              "    }\n",
              "\n",
              "    .colab-df-convert {\n",
              "      background-color: #E8F0FE;\n",
              "      border: none;\n",
              "      border-radius: 50%;\n",
              "      cursor: pointer;\n",
              "      display: none;\n",
              "      fill: #1967D2;\n",
              "      height: 32px;\n",
              "      padding: 0 0 0 0;\n",
              "      width: 32px;\n",
              "    }\n",
              "\n",
              "    .colab-df-convert:hover {\n",
              "      background-color: #E2EBFA;\n",
              "      box-shadow: 0px 1px 2px rgba(60, 64, 67, 0.3), 0px 1px 3px 1px rgba(60, 64, 67, 0.15);\n",
              "      fill: #174EA6;\n",
              "    }\n",
              "\n",
              "    [theme=dark] .colab-df-convert {\n",
              "      background-color: #3B4455;\n",
              "      fill: #D2E3FC;\n",
              "    }\n",
              "\n",
              "    [theme=dark] .colab-df-convert:hover {\n",
              "      background-color: #434B5C;\n",
              "      box-shadow: 0px 1px 3px 1px rgba(0, 0, 0, 0.15);\n",
              "      filter: drop-shadow(0px 1px 2px rgba(0, 0, 0, 0.3));\n",
              "      fill: #FFFFFF;\n",
              "    }\n",
              "  </style>\n",
              "\n",
              "      <script>\n",
              "        const buttonEl =\n",
              "          document.querySelector('#df-bd6fdfd2-b884-4e89-b526-fff914dfc3d8 button.colab-df-convert');\n",
              "        buttonEl.style.display =\n",
              "          google.colab.kernel.accessAllowed ? 'block' : 'none';\n",
              "\n",
              "        async function convertToInteractive(key) {\n",
              "          const element = document.querySelector('#df-bd6fdfd2-b884-4e89-b526-fff914dfc3d8');\n",
              "          const dataTable =\n",
              "            await google.colab.kernel.invokeFunction('convertToInteractive',\n",
              "                                                     [key], {});\n",
              "          if (!dataTable) return;\n",
              "\n",
              "          const docLinkHtml = 'Like what you see? Visit the ' +\n",
              "            '<a target=\"_blank\" href=https://colab.research.google.com/notebooks/data_table.ipynb>data table notebook</a>'\n",
              "            + ' to learn more about interactive tables.';\n",
              "          element.innerHTML = '';\n",
              "          dataTable['output_type'] = 'display_data';\n",
              "          await google.colab.output.renderOutput(dataTable, element);\n",
              "          const docLink = document.createElement('div');\n",
              "          docLink.innerHTML = docLinkHtml;\n",
              "          element.appendChild(docLink);\n",
              "        }\n",
              "      </script>\n",
              "    </div>\n",
              "  </div>\n",
              "  "
            ]
          },
          "metadata": {},
          "execution_count": 9
        }
      ],
      "source": [
        "items_info = pd.read_table(path + 'items_info.dat', sep=\"\\t\", header=0, index_col=False)\n",
        "items_info"
      ]
    },
    {
      "cell_type": "code",
      "source": [
        "items_info.iloc[list(book_ratings[:32]['book_id'] - 1)]"
      ],
      "metadata": {
        "colab": {
          "base_uri": "https://localhost:8080/",
          "height": 1000
        },
        "id": "jgGBlBX8J4K2",
        "outputId": "701b72a0-b1f2-434c-f268-69c942df25af"
      },
      "execution_count": null,
      "outputs": [
        {
          "output_type": "execute_result",
          "data": {
            "text/plain": [
              "      book_id        ISBN                                         Book_title  \\\n",
              "6263     6264  0553280325                    Something Wicked This Way Comes   \n",
              "4349     4350  0345441184                                The Mists of Avalon   \n",
              "6251     6252  0553265741                                        Sacred Sins   \n",
              "201       202  0195086295   What a Wonderful World: A Lifetime of Recordings   \n",
              "6265     6266  0446363499                                       A Coral Kiss   \n",
              "4809     4810  037312273X  To Marry McAllister  (Bachelor Cousins) (Harle...   \n",
              "6250     6251  0679409033             Love Always Remembers: A Book of Poems   \n",
              "159       160  0375823468      The Subtle Knife (His Dark Materials, Book 2)   \n",
              "160       161  0380973839                                 Martian Chronicles   \n",
              "630       631  0446677574  Just Here Trying to Save a Few Lives : Tales o...   \n",
              "6243     6244  051510521X                                       Bitter Sweet   \n",
              "6259     6260  0553560468                                    Wilderness Tips   \n",
              "6228     6229  0765300222                                     Into the Green   \n",
              "2071     2072  0375414487  Nobody's Perfect: Selected Writings from the N...   \n",
              "6253     6254  014100018X                                           Chocolat   \n",
              "1513     1514  0312186754                                  An Arrow's Flight   \n",
              "2565     2566  1575665379    The 10th Kingdom (Hallmark Entertainment Books)   \n",
              "1713     1714  0679751602  Mama Makes Up Her Mind: And Other Dangers of S...   \n",
              "1892     1893  0671028367                                   Deadly Decisions   \n",
              "2954     2955  0688160867               Sideways Stories from Wayside School   \n",
              "2564     2565  0439064864   Harry Potter and the Chamber of Secrets (Book 2)   \n",
              "2863     2864  0821725998                       Quest of the Seventh Carrier   \n",
              "5987     5988  0345424115                                      Canine Crimes   \n",
              "163       164  0451523415                      Little Women (Signet Classic)   \n",
              "1118     1119  0679721819                  Mama Day (Vintage Contemporaries)   \n",
              "166       167  0486415864         Great Expectations (Dover Thrift Editions)   \n",
              "6264     6265  0373810431                      Expiration Date (Men at Work)   \n",
              "1439     1440  0671877283  Silverlight: The Arcana, Book II (Arcana/Morga...   \n",
              "1426     1427  0553576399                               Distraction: A Novel   \n",
              "5403     5404  0001047973                                    Brave New World   \n",
              "258       259  0767903579  Falling Leaves: The True Story of an Unwanted ...   \n",
              "4155     4156  0425057771                                            Phantom   \n",
              "\n",
              "                Book_Author  Year-Of-Publication  \\\n",
              "6263           Ray Bradbury                 1983   \n",
              "4349  MARION ZIMMER BRADLEY                 2000   \n",
              "6251           Nora Roberts                 1990   \n",
              "201              Bob Thiele                 1995   \n",
              "6265       Jayne Ann Krentz                 1992   \n",
              "4809        Carole Mortimer                 2002   \n",
              "6250     Joan Walsh Anglund                 1997   \n",
              "159          PHILIP PULLMAN                 2002   \n",
              "160            Ray Bradbury                 1997   \n",
              "630             Pamela Grim                 2002   \n",
              "6243        LaVyrle Spencer                 1995   \n",
              "6259        Margaret Atwood                 1993   \n",
              "6228        Charles de Lint                 2001   \n",
              "2071           Anthony Lane                 2002   \n",
              "6253          Joanne Harris                 2000   \n",
              "1513            Mark Merlis                 1998   \n",
              "2565         Kathryn Wesley                 2000   \n",
              "1713           Bailey White                 1994   \n",
              "1892           Kathy Reichs                 2001   \n",
              "2954           Louis Sachar                 1998   \n",
              "2564          J. K. Rowling                 1999   \n",
              "2863           Peter Albano                 1989   \n",
              "5987          Jeffrey Marks                 1998   \n",
              "163       Louisa May Alcott                 1988   \n",
              "1118          Gloria Naylor                 1989   \n",
              "166         Charles Dickens                 2001   \n",
              "6264           Aimee Thurlo                 1998   \n",
              "1439        Morgan Llywelyn                 1996   \n",
              "1426         Bruce Sterling                 1999   \n",
              "5403          Aldous Huxley                 1999   \n",
              "258         Adeline Yen Mah                 1999   \n",
              "4155         Dean R. Koontz                 1986   \n",
              "\n",
              "                              Publisher  \\\n",
              "6263                             Bantam   \n",
              "4349                            Del Rey   \n",
              "6251                       Bantam Books   \n",
              "201             Oxford University Press   \n",
              "6265                       Warner Books   \n",
              "4809                          Harlequin   \n",
              "6250                       Random House   \n",
              "159       Knopf Books for Young Readers   \n",
              "160                      William Morrow   \n",
              "630                        Warner Books   \n",
              "6243                         Jove Books   \n",
              "6259                       Bantam Books   \n",
              "6228                          Orb Books   \n",
              "2071                    Alfred A. Knopf   \n",
              "6253                      Penguin Books   \n",
              "1513                      St Martins Pr   \n",
              "2565  Kensington Publishing Corporation   \n",
              "1713                  Vintage Books USA   \n",
              "1892                       Pocket Books   \n",
              "2954                      HarperCollins   \n",
              "2564                         Scholastic   \n",
              "2863           Kensington Pub Corp (Mm)   \n",
              "5987                   Ballantine Books   \n",
              "163                     Signet Classics   \n",
              "1118                  Vintage Books USA   \n",
              "166                  Dover Publications   \n",
              "6264                    Harlequin Books   \n",
              "1439                               Baen   \n",
              "1426                      Spectra Books   \n",
              "5403        Trafalgar Square Publishing   \n",
              "258                      Broadway Books   \n",
              "4155           Berkley Publishing Group   \n",
              "\n",
              "                                            Image-URL-S  \\\n",
              "6263  http://images.amazon.com/images/P/0553280325.0...   \n",
              "4349  http://images.amazon.com/images/P/0345441184.0...   \n",
              "6251  http://images.amazon.com/images/P/0553265741.0...   \n",
              "201   http://images.amazon.com/images/P/0195086295.0...   \n",
              "6265  http://images.amazon.com/images/P/0446363499.0...   \n",
              "4809  http://images.amazon.com/images/P/037312273X.0...   \n",
              "6250  http://images.amazon.com/images/P/0679409033.0...   \n",
              "159   http://images.amazon.com/images/P/0375823468.0...   \n",
              "160   http://images.amazon.com/images/P/0380973839.0...   \n",
              "630   http://images.amazon.com/images/P/0446677574.0...   \n",
              "6243  http://images.amazon.com/images/P/051510521X.0...   \n",
              "6259  http://images.amazon.com/images/P/0553560468.0...   \n",
              "6228  http://images.amazon.com/images/P/0765300222.0...   \n",
              "2071  http://images.amazon.com/images/P/0375414487.0...   \n",
              "6253  http://images.amazon.com/images/P/014100018X.0...   \n",
              "1513  http://images.amazon.com/images/P/0312186754.0...   \n",
              "2565  http://images.amazon.com/images/P/1575665379.0...   \n",
              "1713  http://images.amazon.com/images/P/0679751602.0...   \n",
              "1892  http://images.amazon.com/images/P/0671028367.0...   \n",
              "2954  http://images.amazon.com/images/P/0688160867.0...   \n",
              "2564  http://images.amazon.com/images/P/0439064864.0...   \n",
              "2863  http://images.amazon.com/images/P/0821725998.0...   \n",
              "5987  http://images.amazon.com/images/P/0345424115.0...   \n",
              "163   http://images.amazon.com/images/P/0451523415.0...   \n",
              "1118  http://images.amazon.com/images/P/0679721819.0...   \n",
              "166   http://images.amazon.com/images/P/0486415864.0...   \n",
              "6264  http://images.amazon.com/images/P/0373810431.0...   \n",
              "1439  http://images.amazon.com/images/P/0671877283.0...   \n",
              "1426  http://images.amazon.com/images/P/0553576399.0...   \n",
              "5403  http://images.amazon.com/images/P/0001047973.0...   \n",
              "258   http://images.amazon.com/images/P/0767903579.0...   \n",
              "4155  http://images.amazon.com/images/P/0425057771.0...   \n",
              "\n",
              "                                            Image-URL-M  \\\n",
              "6263  http://images.amazon.com/images/P/0553280325.0...   \n",
              "4349  http://images.amazon.com/images/P/0345441184.0...   \n",
              "6251  http://images.amazon.com/images/P/0553265741.0...   \n",
              "201   http://images.amazon.com/images/P/0195086295.0...   \n",
              "6265  http://images.amazon.com/images/P/0446363499.0...   \n",
              "4809  http://images.amazon.com/images/P/037312273X.0...   \n",
              "6250  http://images.amazon.com/images/P/0679409033.0...   \n",
              "159   http://images.amazon.com/images/P/0375823468.0...   \n",
              "160   http://images.amazon.com/images/P/0380973839.0...   \n",
              "630   http://images.amazon.com/images/P/0446677574.0...   \n",
              "6243  http://images.amazon.com/images/P/051510521X.0...   \n",
              "6259  http://images.amazon.com/images/P/0553560468.0...   \n",
              "6228  http://images.amazon.com/images/P/0765300222.0...   \n",
              "2071  http://images.amazon.com/images/P/0375414487.0...   \n",
              "6253  http://images.amazon.com/images/P/014100018X.0...   \n",
              "1513  http://images.amazon.com/images/P/0312186754.0...   \n",
              "2565  http://images.amazon.com/images/P/1575665379.0...   \n",
              "1713  http://images.amazon.com/images/P/0679751602.0...   \n",
              "1892  http://images.amazon.com/images/P/0671028367.0...   \n",
              "2954  http://images.amazon.com/images/P/0688160867.0...   \n",
              "2564  http://images.amazon.com/images/P/0439064864.0...   \n",
              "2863  http://images.amazon.com/images/P/0821725998.0...   \n",
              "5987  http://images.amazon.com/images/P/0345424115.0...   \n",
              "163   http://images.amazon.com/images/P/0451523415.0...   \n",
              "1118  http://images.amazon.com/images/P/0679721819.0...   \n",
              "166   http://images.amazon.com/images/P/0486415864.0...   \n",
              "6264  http://images.amazon.com/images/P/0373810431.0...   \n",
              "1439  http://images.amazon.com/images/P/0671877283.0...   \n",
              "1426  http://images.amazon.com/images/P/0553576399.0...   \n",
              "5403  http://images.amazon.com/images/P/0001047973.0...   \n",
              "258   http://images.amazon.com/images/P/0767903579.0...   \n",
              "4155  http://images.amazon.com/images/P/0425057771.0...   \n",
              "\n",
              "                                            Image-URL-L  \n",
              "6263  http://images.amazon.com/images/P/0553280325.0...  \n",
              "4349  http://images.amazon.com/images/P/0345441184.0...  \n",
              "6251  http://images.amazon.com/images/P/0553265741.0...  \n",
              "201   http://images.amazon.com/images/P/0195086295.0...  \n",
              "6265  http://images.amazon.com/images/P/0446363499.0...  \n",
              "4809  http://images.amazon.com/images/P/037312273X.0...  \n",
              "6250  http://images.amazon.com/images/P/0679409033.0...  \n",
              "159   http://images.amazon.com/images/P/0375823468.0...  \n",
              "160   http://images.amazon.com/images/P/0380973839.0...  \n",
              "630   http://images.amazon.com/images/P/0446677574.0...  \n",
              "6243  http://images.amazon.com/images/P/051510521X.0...  \n",
              "6259  http://images.amazon.com/images/P/0553560468.0...  \n",
              "6228  http://images.amazon.com/images/P/0765300222.0...  \n",
              "2071  http://images.amazon.com/images/P/0375414487.0...  \n",
              "6253  http://images.amazon.com/images/P/014100018X.0...  \n",
              "1513  http://images.amazon.com/images/P/0312186754.0...  \n",
              "2565  http://images.amazon.com/images/P/1575665379.0...  \n",
              "1713  http://images.amazon.com/images/P/0679751602.0...  \n",
              "1892  http://images.amazon.com/images/P/0671028367.0...  \n",
              "2954  http://images.amazon.com/images/P/0688160867.0...  \n",
              "2564  http://images.amazon.com/images/P/0439064864.0...  \n",
              "2863  http://images.amazon.com/images/P/0821725998.0...  \n",
              "5987  http://images.amazon.com/images/P/0345424115.0...  \n",
              "163   http://images.amazon.com/images/P/0451523415.0...  \n",
              "1118  http://images.amazon.com/images/P/0679721819.0...  \n",
              "166   http://images.amazon.com/images/P/0486415864.0...  \n",
              "6264  http://images.amazon.com/images/P/0373810431.0...  \n",
              "1439  http://images.amazon.com/images/P/0671877283.0...  \n",
              "1426  http://images.amazon.com/images/P/0553576399.0...  \n",
              "5403  http://images.amazon.com/images/P/0001047973.0...  \n",
              "258   http://images.amazon.com/images/P/0767903579.0...  \n",
              "4155  http://images.amazon.com/images/P/0425057771.0...  "
            ],
            "text/html": [
              "\n",
              "  <div id=\"df-94f2a007-6008-4ab1-984b-a9fd5f5ca50e\">\n",
              "    <div class=\"colab-df-container\">\n",
              "      <div>\n",
              "<style scoped>\n",
              "    .dataframe tbody tr th:only-of-type {\n",
              "        vertical-align: middle;\n",
              "    }\n",
              "\n",
              "    .dataframe tbody tr th {\n",
              "        vertical-align: top;\n",
              "    }\n",
              "\n",
              "    .dataframe thead th {\n",
              "        text-align: right;\n",
              "    }\n",
              "</style>\n",
              "<table border=\"1\" class=\"dataframe\">\n",
              "  <thead>\n",
              "    <tr style=\"text-align: right;\">\n",
              "      <th></th>\n",
              "      <th>book_id</th>\n",
              "      <th>ISBN</th>\n",
              "      <th>Book_title</th>\n",
              "      <th>Book_Author</th>\n",
              "      <th>Year-Of-Publication</th>\n",
              "      <th>Publisher</th>\n",
              "      <th>Image-URL-S</th>\n",
              "      <th>Image-URL-M</th>\n",
              "      <th>Image-URL-L</th>\n",
              "    </tr>\n",
              "  </thead>\n",
              "  <tbody>\n",
              "    <tr>\n",
              "      <th>6263</th>\n",
              "      <td>6264</td>\n",
              "      <td>0553280325</td>\n",
              "      <td>Something Wicked This Way Comes</td>\n",
              "      <td>Ray Bradbury</td>\n",
              "      <td>1983</td>\n",
              "      <td>Bantam</td>\n",
              "      <td>http://images.amazon.com/images/P/0553280325.0...</td>\n",
              "      <td>http://images.amazon.com/images/P/0553280325.0...</td>\n",
              "      <td>http://images.amazon.com/images/P/0553280325.0...</td>\n",
              "    </tr>\n",
              "    <tr>\n",
              "      <th>4349</th>\n",
              "      <td>4350</td>\n",
              "      <td>0345441184</td>\n",
              "      <td>The Mists of Avalon</td>\n",
              "      <td>MARION ZIMMER BRADLEY</td>\n",
              "      <td>2000</td>\n",
              "      <td>Del Rey</td>\n",
              "      <td>http://images.amazon.com/images/P/0345441184.0...</td>\n",
              "      <td>http://images.amazon.com/images/P/0345441184.0...</td>\n",
              "      <td>http://images.amazon.com/images/P/0345441184.0...</td>\n",
              "    </tr>\n",
              "    <tr>\n",
              "      <th>6251</th>\n",
              "      <td>6252</td>\n",
              "      <td>0553265741</td>\n",
              "      <td>Sacred Sins</td>\n",
              "      <td>Nora Roberts</td>\n",
              "      <td>1990</td>\n",
              "      <td>Bantam Books</td>\n",
              "      <td>http://images.amazon.com/images/P/0553265741.0...</td>\n",
              "      <td>http://images.amazon.com/images/P/0553265741.0...</td>\n",
              "      <td>http://images.amazon.com/images/P/0553265741.0...</td>\n",
              "    </tr>\n",
              "    <tr>\n",
              "      <th>201</th>\n",
              "      <td>202</td>\n",
              "      <td>0195086295</td>\n",
              "      <td>What a Wonderful World: A Lifetime of Recordings</td>\n",
              "      <td>Bob Thiele</td>\n",
              "      <td>1995</td>\n",
              "      <td>Oxford University Press</td>\n",
              "      <td>http://images.amazon.com/images/P/0195086295.0...</td>\n",
              "      <td>http://images.amazon.com/images/P/0195086295.0...</td>\n",
              "      <td>http://images.amazon.com/images/P/0195086295.0...</td>\n",
              "    </tr>\n",
              "    <tr>\n",
              "      <th>6265</th>\n",
              "      <td>6266</td>\n",
              "      <td>0446363499</td>\n",
              "      <td>A Coral Kiss</td>\n",
              "      <td>Jayne Ann Krentz</td>\n",
              "      <td>1992</td>\n",
              "      <td>Warner Books</td>\n",
              "      <td>http://images.amazon.com/images/P/0446363499.0...</td>\n",
              "      <td>http://images.amazon.com/images/P/0446363499.0...</td>\n",
              "      <td>http://images.amazon.com/images/P/0446363499.0...</td>\n",
              "    </tr>\n",
              "    <tr>\n",
              "      <th>4809</th>\n",
              "      <td>4810</td>\n",
              "      <td>037312273X</td>\n",
              "      <td>To Marry McAllister  (Bachelor Cousins) (Harle...</td>\n",
              "      <td>Carole Mortimer</td>\n",
              "      <td>2002</td>\n",
              "      <td>Harlequin</td>\n",
              "      <td>http://images.amazon.com/images/P/037312273X.0...</td>\n",
              "      <td>http://images.amazon.com/images/P/037312273X.0...</td>\n",
              "      <td>http://images.amazon.com/images/P/037312273X.0...</td>\n",
              "    </tr>\n",
              "    <tr>\n",
              "      <th>6250</th>\n",
              "      <td>6251</td>\n",
              "      <td>0679409033</td>\n",
              "      <td>Love Always Remembers: A Book of Poems</td>\n",
              "      <td>Joan Walsh Anglund</td>\n",
              "      <td>1997</td>\n",
              "      <td>Random House</td>\n",
              "      <td>http://images.amazon.com/images/P/0679409033.0...</td>\n",
              "      <td>http://images.amazon.com/images/P/0679409033.0...</td>\n",
              "      <td>http://images.amazon.com/images/P/0679409033.0...</td>\n",
              "    </tr>\n",
              "    <tr>\n",
              "      <th>159</th>\n",
              "      <td>160</td>\n",
              "      <td>0375823468</td>\n",
              "      <td>The Subtle Knife (His Dark Materials, Book 2)</td>\n",
              "      <td>PHILIP PULLMAN</td>\n",
              "      <td>2002</td>\n",
              "      <td>Knopf Books for Young Readers</td>\n",
              "      <td>http://images.amazon.com/images/P/0375823468.0...</td>\n",
              "      <td>http://images.amazon.com/images/P/0375823468.0...</td>\n",
              "      <td>http://images.amazon.com/images/P/0375823468.0...</td>\n",
              "    </tr>\n",
              "    <tr>\n",
              "      <th>160</th>\n",
              "      <td>161</td>\n",
              "      <td>0380973839</td>\n",
              "      <td>Martian Chronicles</td>\n",
              "      <td>Ray Bradbury</td>\n",
              "      <td>1997</td>\n",
              "      <td>William Morrow</td>\n",
              "      <td>http://images.amazon.com/images/P/0380973839.0...</td>\n",
              "      <td>http://images.amazon.com/images/P/0380973839.0...</td>\n",
              "      <td>http://images.amazon.com/images/P/0380973839.0...</td>\n",
              "    </tr>\n",
              "    <tr>\n",
              "      <th>630</th>\n",
              "      <td>631</td>\n",
              "      <td>0446677574</td>\n",
              "      <td>Just Here Trying to Save a Few Lives : Tales o...</td>\n",
              "      <td>Pamela Grim</td>\n",
              "      <td>2002</td>\n",
              "      <td>Warner Books</td>\n",
              "      <td>http://images.amazon.com/images/P/0446677574.0...</td>\n",
              "      <td>http://images.amazon.com/images/P/0446677574.0...</td>\n",
              "      <td>http://images.amazon.com/images/P/0446677574.0...</td>\n",
              "    </tr>\n",
              "    <tr>\n",
              "      <th>6243</th>\n",
              "      <td>6244</td>\n",
              "      <td>051510521X</td>\n",
              "      <td>Bitter Sweet</td>\n",
              "      <td>LaVyrle Spencer</td>\n",
              "      <td>1995</td>\n",
              "      <td>Jove Books</td>\n",
              "      <td>http://images.amazon.com/images/P/051510521X.0...</td>\n",
              "      <td>http://images.amazon.com/images/P/051510521X.0...</td>\n",
              "      <td>http://images.amazon.com/images/P/051510521X.0...</td>\n",
              "    </tr>\n",
              "    <tr>\n",
              "      <th>6259</th>\n",
              "      <td>6260</td>\n",
              "      <td>0553560468</td>\n",
              "      <td>Wilderness Tips</td>\n",
              "      <td>Margaret Atwood</td>\n",
              "      <td>1993</td>\n",
              "      <td>Bantam Books</td>\n",
              "      <td>http://images.amazon.com/images/P/0553560468.0...</td>\n",
              "      <td>http://images.amazon.com/images/P/0553560468.0...</td>\n",
              "      <td>http://images.amazon.com/images/P/0553560468.0...</td>\n",
              "    </tr>\n",
              "    <tr>\n",
              "      <th>6228</th>\n",
              "      <td>6229</td>\n",
              "      <td>0765300222</td>\n",
              "      <td>Into the Green</td>\n",
              "      <td>Charles de Lint</td>\n",
              "      <td>2001</td>\n",
              "      <td>Orb Books</td>\n",
              "      <td>http://images.amazon.com/images/P/0765300222.0...</td>\n",
              "      <td>http://images.amazon.com/images/P/0765300222.0...</td>\n",
              "      <td>http://images.amazon.com/images/P/0765300222.0...</td>\n",
              "    </tr>\n",
              "    <tr>\n",
              "      <th>2071</th>\n",
              "      <td>2072</td>\n",
              "      <td>0375414487</td>\n",
              "      <td>Nobody's Perfect: Selected Writings from the N...</td>\n",
              "      <td>Anthony Lane</td>\n",
              "      <td>2002</td>\n",
              "      <td>Alfred A. Knopf</td>\n",
              "      <td>http://images.amazon.com/images/P/0375414487.0...</td>\n",
              "      <td>http://images.amazon.com/images/P/0375414487.0...</td>\n",
              "      <td>http://images.amazon.com/images/P/0375414487.0...</td>\n",
              "    </tr>\n",
              "    <tr>\n",
              "      <th>6253</th>\n",
              "      <td>6254</td>\n",
              "      <td>014100018X</td>\n",
              "      <td>Chocolat</td>\n",
              "      <td>Joanne Harris</td>\n",
              "      <td>2000</td>\n",
              "      <td>Penguin Books</td>\n",
              "      <td>http://images.amazon.com/images/P/014100018X.0...</td>\n",
              "      <td>http://images.amazon.com/images/P/014100018X.0...</td>\n",
              "      <td>http://images.amazon.com/images/P/014100018X.0...</td>\n",
              "    </tr>\n",
              "    <tr>\n",
              "      <th>1513</th>\n",
              "      <td>1514</td>\n",
              "      <td>0312186754</td>\n",
              "      <td>An Arrow's Flight</td>\n",
              "      <td>Mark Merlis</td>\n",
              "      <td>1998</td>\n",
              "      <td>St Martins Pr</td>\n",
              "      <td>http://images.amazon.com/images/P/0312186754.0...</td>\n",
              "      <td>http://images.amazon.com/images/P/0312186754.0...</td>\n",
              "      <td>http://images.amazon.com/images/P/0312186754.0...</td>\n",
              "    </tr>\n",
              "    <tr>\n",
              "      <th>2565</th>\n",
              "      <td>2566</td>\n",
              "      <td>1575665379</td>\n",
              "      <td>The 10th Kingdom (Hallmark Entertainment Books)</td>\n",
              "      <td>Kathryn Wesley</td>\n",
              "      <td>2000</td>\n",
              "      <td>Kensington Publishing Corporation</td>\n",
              "      <td>http://images.amazon.com/images/P/1575665379.0...</td>\n",
              "      <td>http://images.amazon.com/images/P/1575665379.0...</td>\n",
              "      <td>http://images.amazon.com/images/P/1575665379.0...</td>\n",
              "    </tr>\n",
              "    <tr>\n",
              "      <th>1713</th>\n",
              "      <td>1714</td>\n",
              "      <td>0679751602</td>\n",
              "      <td>Mama Makes Up Her Mind: And Other Dangers of S...</td>\n",
              "      <td>Bailey White</td>\n",
              "      <td>1994</td>\n",
              "      <td>Vintage Books USA</td>\n",
              "      <td>http://images.amazon.com/images/P/0679751602.0...</td>\n",
              "      <td>http://images.amazon.com/images/P/0679751602.0...</td>\n",
              "      <td>http://images.amazon.com/images/P/0679751602.0...</td>\n",
              "    </tr>\n",
              "    <tr>\n",
              "      <th>1892</th>\n",
              "      <td>1893</td>\n",
              "      <td>0671028367</td>\n",
              "      <td>Deadly Decisions</td>\n",
              "      <td>Kathy Reichs</td>\n",
              "      <td>2001</td>\n",
              "      <td>Pocket Books</td>\n",
              "      <td>http://images.amazon.com/images/P/0671028367.0...</td>\n",
              "      <td>http://images.amazon.com/images/P/0671028367.0...</td>\n",
              "      <td>http://images.amazon.com/images/P/0671028367.0...</td>\n",
              "    </tr>\n",
              "    <tr>\n",
              "      <th>2954</th>\n",
              "      <td>2955</td>\n",
              "      <td>0688160867</td>\n",
              "      <td>Sideways Stories from Wayside School</td>\n",
              "      <td>Louis Sachar</td>\n",
              "      <td>1998</td>\n",
              "      <td>HarperCollins</td>\n",
              "      <td>http://images.amazon.com/images/P/0688160867.0...</td>\n",
              "      <td>http://images.amazon.com/images/P/0688160867.0...</td>\n",
              "      <td>http://images.amazon.com/images/P/0688160867.0...</td>\n",
              "    </tr>\n",
              "    <tr>\n",
              "      <th>2564</th>\n",
              "      <td>2565</td>\n",
              "      <td>0439064864</td>\n",
              "      <td>Harry Potter and the Chamber of Secrets (Book 2)</td>\n",
              "      <td>J. K. Rowling</td>\n",
              "      <td>1999</td>\n",
              "      <td>Scholastic</td>\n",
              "      <td>http://images.amazon.com/images/P/0439064864.0...</td>\n",
              "      <td>http://images.amazon.com/images/P/0439064864.0...</td>\n",
              "      <td>http://images.amazon.com/images/P/0439064864.0...</td>\n",
              "    </tr>\n",
              "    <tr>\n",
              "      <th>2863</th>\n",
              "      <td>2864</td>\n",
              "      <td>0821725998</td>\n",
              "      <td>Quest of the Seventh Carrier</td>\n",
              "      <td>Peter Albano</td>\n",
              "      <td>1989</td>\n",
              "      <td>Kensington Pub Corp (Mm)</td>\n",
              "      <td>http://images.amazon.com/images/P/0821725998.0...</td>\n",
              "      <td>http://images.amazon.com/images/P/0821725998.0...</td>\n",
              "      <td>http://images.amazon.com/images/P/0821725998.0...</td>\n",
              "    </tr>\n",
              "    <tr>\n",
              "      <th>5987</th>\n",
              "      <td>5988</td>\n",
              "      <td>0345424115</td>\n",
              "      <td>Canine Crimes</td>\n",
              "      <td>Jeffrey Marks</td>\n",
              "      <td>1998</td>\n",
              "      <td>Ballantine Books</td>\n",
              "      <td>http://images.amazon.com/images/P/0345424115.0...</td>\n",
              "      <td>http://images.amazon.com/images/P/0345424115.0...</td>\n",
              "      <td>http://images.amazon.com/images/P/0345424115.0...</td>\n",
              "    </tr>\n",
              "    <tr>\n",
              "      <th>163</th>\n",
              "      <td>164</td>\n",
              "      <td>0451523415</td>\n",
              "      <td>Little Women (Signet Classic)</td>\n",
              "      <td>Louisa May Alcott</td>\n",
              "      <td>1988</td>\n",
              "      <td>Signet Classics</td>\n",
              "      <td>http://images.amazon.com/images/P/0451523415.0...</td>\n",
              "      <td>http://images.amazon.com/images/P/0451523415.0...</td>\n",
              "      <td>http://images.amazon.com/images/P/0451523415.0...</td>\n",
              "    </tr>\n",
              "    <tr>\n",
              "      <th>1118</th>\n",
              "      <td>1119</td>\n",
              "      <td>0679721819</td>\n",
              "      <td>Mama Day (Vintage Contemporaries)</td>\n",
              "      <td>Gloria Naylor</td>\n",
              "      <td>1989</td>\n",
              "      <td>Vintage Books USA</td>\n",
              "      <td>http://images.amazon.com/images/P/0679721819.0...</td>\n",
              "      <td>http://images.amazon.com/images/P/0679721819.0...</td>\n",
              "      <td>http://images.amazon.com/images/P/0679721819.0...</td>\n",
              "    </tr>\n",
              "    <tr>\n",
              "      <th>166</th>\n",
              "      <td>167</td>\n",
              "      <td>0486415864</td>\n",
              "      <td>Great Expectations (Dover Thrift Editions)</td>\n",
              "      <td>Charles Dickens</td>\n",
              "      <td>2001</td>\n",
              "      <td>Dover Publications</td>\n",
              "      <td>http://images.amazon.com/images/P/0486415864.0...</td>\n",
              "      <td>http://images.amazon.com/images/P/0486415864.0...</td>\n",
              "      <td>http://images.amazon.com/images/P/0486415864.0...</td>\n",
              "    </tr>\n",
              "    <tr>\n",
              "      <th>6264</th>\n",
              "      <td>6265</td>\n",
              "      <td>0373810431</td>\n",
              "      <td>Expiration Date (Men at Work)</td>\n",
              "      <td>Aimee Thurlo</td>\n",
              "      <td>1998</td>\n",
              "      <td>Harlequin Books</td>\n",
              "      <td>http://images.amazon.com/images/P/0373810431.0...</td>\n",
              "      <td>http://images.amazon.com/images/P/0373810431.0...</td>\n",
              "      <td>http://images.amazon.com/images/P/0373810431.0...</td>\n",
              "    </tr>\n",
              "    <tr>\n",
              "      <th>1439</th>\n",
              "      <td>1440</td>\n",
              "      <td>0671877283</td>\n",
              "      <td>Silverlight: The Arcana, Book II (Arcana/Morga...</td>\n",
              "      <td>Morgan Llywelyn</td>\n",
              "      <td>1996</td>\n",
              "      <td>Baen</td>\n",
              "      <td>http://images.amazon.com/images/P/0671877283.0...</td>\n",
              "      <td>http://images.amazon.com/images/P/0671877283.0...</td>\n",
              "      <td>http://images.amazon.com/images/P/0671877283.0...</td>\n",
              "    </tr>\n",
              "    <tr>\n",
              "      <th>1426</th>\n",
              "      <td>1427</td>\n",
              "      <td>0553576399</td>\n",
              "      <td>Distraction: A Novel</td>\n",
              "      <td>Bruce Sterling</td>\n",
              "      <td>1999</td>\n",
              "      <td>Spectra Books</td>\n",
              "      <td>http://images.amazon.com/images/P/0553576399.0...</td>\n",
              "      <td>http://images.amazon.com/images/P/0553576399.0...</td>\n",
              "      <td>http://images.amazon.com/images/P/0553576399.0...</td>\n",
              "    </tr>\n",
              "    <tr>\n",
              "      <th>5403</th>\n",
              "      <td>5404</td>\n",
              "      <td>0001047973</td>\n",
              "      <td>Brave New World</td>\n",
              "      <td>Aldous Huxley</td>\n",
              "      <td>1999</td>\n",
              "      <td>Trafalgar Square Publishing</td>\n",
              "      <td>http://images.amazon.com/images/P/0001047973.0...</td>\n",
              "      <td>http://images.amazon.com/images/P/0001047973.0...</td>\n",
              "      <td>http://images.amazon.com/images/P/0001047973.0...</td>\n",
              "    </tr>\n",
              "    <tr>\n",
              "      <th>258</th>\n",
              "      <td>259</td>\n",
              "      <td>0767903579</td>\n",
              "      <td>Falling Leaves: The True Story of an Unwanted ...</td>\n",
              "      <td>Adeline Yen Mah</td>\n",
              "      <td>1999</td>\n",
              "      <td>Broadway Books</td>\n",
              "      <td>http://images.amazon.com/images/P/0767903579.0...</td>\n",
              "      <td>http://images.amazon.com/images/P/0767903579.0...</td>\n",
              "      <td>http://images.amazon.com/images/P/0767903579.0...</td>\n",
              "    </tr>\n",
              "    <tr>\n",
              "      <th>4155</th>\n",
              "      <td>4156</td>\n",
              "      <td>0425057771</td>\n",
              "      <td>Phantom</td>\n",
              "      <td>Dean R. Koontz</td>\n",
              "      <td>1986</td>\n",
              "      <td>Berkley Publishing Group</td>\n",
              "      <td>http://images.amazon.com/images/P/0425057771.0...</td>\n",
              "      <td>http://images.amazon.com/images/P/0425057771.0...</td>\n",
              "      <td>http://images.amazon.com/images/P/0425057771.0...</td>\n",
              "    </tr>\n",
              "  </tbody>\n",
              "</table>\n",
              "</div>\n",
              "      <button class=\"colab-df-convert\" onclick=\"convertToInteractive('df-94f2a007-6008-4ab1-984b-a9fd5f5ca50e')\"\n",
              "              title=\"Convert this dataframe to an interactive table.\"\n",
              "              style=\"display:none;\">\n",
              "        \n",
              "  <svg xmlns=\"http://www.w3.org/2000/svg\" height=\"24px\"viewBox=\"0 0 24 24\"\n",
              "       width=\"24px\">\n",
              "    <path d=\"M0 0h24v24H0V0z\" fill=\"none\"/>\n",
              "    <path d=\"M18.56 5.44l.94 2.06.94-2.06 2.06-.94-2.06-.94-.94-2.06-.94 2.06-2.06.94zm-11 1L8.5 8.5l.94-2.06 2.06-.94-2.06-.94L8.5 2.5l-.94 2.06-2.06.94zm10 10l.94 2.06.94-2.06 2.06-.94-2.06-.94-.94-2.06-.94 2.06-2.06.94z\"/><path d=\"M17.41 7.96l-1.37-1.37c-.4-.4-.92-.59-1.43-.59-.52 0-1.04.2-1.43.59L10.3 9.45l-7.72 7.72c-.78.78-.78 2.05 0 2.83L4 21.41c.39.39.9.59 1.41.59.51 0 1.02-.2 1.41-.59l7.78-7.78 2.81-2.81c.8-.78.8-2.07 0-2.86zM5.41 20L4 18.59l7.72-7.72 1.47 1.35L5.41 20z\"/>\n",
              "  </svg>\n",
              "      </button>\n",
              "      \n",
              "  <style>\n",
              "    .colab-df-container {\n",
              "      display:flex;\n",
              "      flex-wrap:wrap;\n",
              "      gap: 12px;\n",
              "    }\n",
              "\n",
              "    .colab-df-convert {\n",
              "      background-color: #E8F0FE;\n",
              "      border: none;\n",
              "      border-radius: 50%;\n",
              "      cursor: pointer;\n",
              "      display: none;\n",
              "      fill: #1967D2;\n",
              "      height: 32px;\n",
              "      padding: 0 0 0 0;\n",
              "      width: 32px;\n",
              "    }\n",
              "\n",
              "    .colab-df-convert:hover {\n",
              "      background-color: #E2EBFA;\n",
              "      box-shadow: 0px 1px 2px rgba(60, 64, 67, 0.3), 0px 1px 3px 1px rgba(60, 64, 67, 0.15);\n",
              "      fill: #174EA6;\n",
              "    }\n",
              "\n",
              "    [theme=dark] .colab-df-convert {\n",
              "      background-color: #3B4455;\n",
              "      fill: #D2E3FC;\n",
              "    }\n",
              "\n",
              "    [theme=dark] .colab-df-convert:hover {\n",
              "      background-color: #434B5C;\n",
              "      box-shadow: 0px 1px 3px 1px rgba(0, 0, 0, 0.15);\n",
              "      filter: drop-shadow(0px 1px 2px rgba(0, 0, 0, 0.3));\n",
              "      fill: #FFFFFF;\n",
              "    }\n",
              "  </style>\n",
              "\n",
              "      <script>\n",
              "        const buttonEl =\n",
              "          document.querySelector('#df-94f2a007-6008-4ab1-984b-a9fd5f5ca50e button.colab-df-convert');\n",
              "        buttonEl.style.display =\n",
              "          google.colab.kernel.accessAllowed ? 'block' : 'none';\n",
              "\n",
              "        async function convertToInteractive(key) {\n",
              "          const element = document.querySelector('#df-94f2a007-6008-4ab1-984b-a9fd5f5ca50e');\n",
              "          const dataTable =\n",
              "            await google.colab.kernel.invokeFunction('convertToInteractive',\n",
              "                                                     [key], {});\n",
              "          if (!dataTable) return;\n",
              "\n",
              "          const docLinkHtml = 'Like what you see? Visit the ' +\n",
              "            '<a target=\"_blank\" href=https://colab.research.google.com/notebooks/data_table.ipynb>data table notebook</a>'\n",
              "            + ' to learn more about interactive tables.';\n",
              "          element.innerHTML = '';\n",
              "          dataTable['output_type'] = 'display_data';\n",
              "          await google.colab.output.renderOutput(dataTable, element);\n",
              "          const docLink = document.createElement('div');\n",
              "          docLink.innerHTML = docLinkHtml;\n",
              "          element.appendChild(docLink);\n",
              "        }\n",
              "      </script>\n",
              "    </div>\n",
              "  </div>\n",
              "  "
            ]
          },
          "metadata": {},
          "execution_count": 10
        }
      ]
    },
    {
      "cell_type": "code",
      "execution_count": null,
      "metadata": {
        "colab": {
          "base_uri": "https://localhost:8080/",
          "height": 424
        },
        "id": "3w8OWYyEr3LU",
        "outputId": "da915489-f37c-4931-8bfd-bd58972d36b9"
      },
      "outputs": [
        {
          "output_type": "execute_result",
          "data": {
            "text/plain": [
              "       user_id  book_id                                         Book_title  \\\n",
              "0            1     6264                    Something Wicked This Way Comes   \n",
              "1          496     6264                    Something Wicked This Way Comes   \n",
              "2          676     6264                    Something Wicked This Way Comes   \n",
              "3         1842     6264                    Something Wicked This Way Comes   \n",
              "4            1     4350                                The Mists of Avalon   \n",
              "...        ...      ...                                                ...   \n",
              "62651     2945    16981  Jessi Ramsey, Pet Sitter (Baby-Sitters Club (P...   \n",
              "62652     2945    14501  STAY AWAY FROM THE TREEHOUSE (GHOSTS OF FEAR S...   \n",
              "62653     2945     3490                Bright Eyes (Coulter Family Series)   \n",
              "62654     2945    15719                                            Arcadia   \n",
              "62655     2945     8515  MR CLEMENS TWAIN P (Touchstone Books (Paperback))   \n",
              "\n",
              "        time  rating  \n",
              "0          0     7.0  \n",
              "1      10090     8.0  \n",
              "2      14043    10.0  \n",
              "3      39880    10.0  \n",
              "4          1     7.0  \n",
              "...      ...     ...  \n",
              "62651  62642     7.0  \n",
              "62652  62643     7.0  \n",
              "62653  62649     8.0  \n",
              "62654  62651     8.0  \n",
              "62655  62653     9.0  \n",
              "\n",
              "[62656 rows x 5 columns]"
            ],
            "text/html": [
              "\n",
              "  <div id=\"df-e663cb8d-de37-421b-9b8a-aaa531b4db63\">\n",
              "    <div class=\"colab-df-container\">\n",
              "      <div>\n",
              "<style scoped>\n",
              "    .dataframe tbody tr th:only-of-type {\n",
              "        vertical-align: middle;\n",
              "    }\n",
              "\n",
              "    .dataframe tbody tr th {\n",
              "        vertical-align: top;\n",
              "    }\n",
              "\n",
              "    .dataframe thead th {\n",
              "        text-align: right;\n",
              "    }\n",
              "</style>\n",
              "<table border=\"1\" class=\"dataframe\">\n",
              "  <thead>\n",
              "    <tr style=\"text-align: right;\">\n",
              "      <th></th>\n",
              "      <th>user_id</th>\n",
              "      <th>book_id</th>\n",
              "      <th>Book_title</th>\n",
              "      <th>time</th>\n",
              "      <th>rating</th>\n",
              "    </tr>\n",
              "  </thead>\n",
              "  <tbody>\n",
              "    <tr>\n",
              "      <th>0</th>\n",
              "      <td>1</td>\n",
              "      <td>6264</td>\n",
              "      <td>Something Wicked This Way Comes</td>\n",
              "      <td>0</td>\n",
              "      <td>7.0</td>\n",
              "    </tr>\n",
              "    <tr>\n",
              "      <th>1</th>\n",
              "      <td>496</td>\n",
              "      <td>6264</td>\n",
              "      <td>Something Wicked This Way Comes</td>\n",
              "      <td>10090</td>\n",
              "      <td>8.0</td>\n",
              "    </tr>\n",
              "    <tr>\n",
              "      <th>2</th>\n",
              "      <td>676</td>\n",
              "      <td>6264</td>\n",
              "      <td>Something Wicked This Way Comes</td>\n",
              "      <td>14043</td>\n",
              "      <td>10.0</td>\n",
              "    </tr>\n",
              "    <tr>\n",
              "      <th>3</th>\n",
              "      <td>1842</td>\n",
              "      <td>6264</td>\n",
              "      <td>Something Wicked This Way Comes</td>\n",
              "      <td>39880</td>\n",
              "      <td>10.0</td>\n",
              "    </tr>\n",
              "    <tr>\n",
              "      <th>4</th>\n",
              "      <td>1</td>\n",
              "      <td>4350</td>\n",
              "      <td>The Mists of Avalon</td>\n",
              "      <td>1</td>\n",
              "      <td>7.0</td>\n",
              "    </tr>\n",
              "    <tr>\n",
              "      <th>...</th>\n",
              "      <td>...</td>\n",
              "      <td>...</td>\n",
              "      <td>...</td>\n",
              "      <td>...</td>\n",
              "      <td>...</td>\n",
              "    </tr>\n",
              "    <tr>\n",
              "      <th>62651</th>\n",
              "      <td>2945</td>\n",
              "      <td>16981</td>\n",
              "      <td>Jessi Ramsey, Pet Sitter (Baby-Sitters Club (P...</td>\n",
              "      <td>62642</td>\n",
              "      <td>7.0</td>\n",
              "    </tr>\n",
              "    <tr>\n",
              "      <th>62652</th>\n",
              "      <td>2945</td>\n",
              "      <td>14501</td>\n",
              "      <td>STAY AWAY FROM THE TREEHOUSE (GHOSTS OF FEAR S...</td>\n",
              "      <td>62643</td>\n",
              "      <td>7.0</td>\n",
              "    </tr>\n",
              "    <tr>\n",
              "      <th>62653</th>\n",
              "      <td>2945</td>\n",
              "      <td>3490</td>\n",
              "      <td>Bright Eyes (Coulter Family Series)</td>\n",
              "      <td>62649</td>\n",
              "      <td>8.0</td>\n",
              "    </tr>\n",
              "    <tr>\n",
              "      <th>62654</th>\n",
              "      <td>2945</td>\n",
              "      <td>15719</td>\n",
              "      <td>Arcadia</td>\n",
              "      <td>62651</td>\n",
              "      <td>8.0</td>\n",
              "    </tr>\n",
              "    <tr>\n",
              "      <th>62655</th>\n",
              "      <td>2945</td>\n",
              "      <td>8515</td>\n",
              "      <td>MR CLEMENS TWAIN P (Touchstone Books (Paperback))</td>\n",
              "      <td>62653</td>\n",
              "      <td>9.0</td>\n",
              "    </tr>\n",
              "  </tbody>\n",
              "</table>\n",
              "<p>62656 rows × 5 columns</p>\n",
              "</div>\n",
              "      <button class=\"colab-df-convert\" onclick=\"convertToInteractive('df-e663cb8d-de37-421b-9b8a-aaa531b4db63')\"\n",
              "              title=\"Convert this dataframe to an interactive table.\"\n",
              "              style=\"display:none;\">\n",
              "        \n",
              "  <svg xmlns=\"http://www.w3.org/2000/svg\" height=\"24px\"viewBox=\"0 0 24 24\"\n",
              "       width=\"24px\">\n",
              "    <path d=\"M0 0h24v24H0V0z\" fill=\"none\"/>\n",
              "    <path d=\"M18.56 5.44l.94 2.06.94-2.06 2.06-.94-2.06-.94-.94-2.06-.94 2.06-2.06.94zm-11 1L8.5 8.5l.94-2.06 2.06-.94-2.06-.94L8.5 2.5l-.94 2.06-2.06.94zm10 10l.94 2.06.94-2.06 2.06-.94-2.06-.94-.94-2.06-.94 2.06-2.06.94z\"/><path d=\"M17.41 7.96l-1.37-1.37c-.4-.4-.92-.59-1.43-.59-.52 0-1.04.2-1.43.59L10.3 9.45l-7.72 7.72c-.78.78-.78 2.05 0 2.83L4 21.41c.39.39.9.59 1.41.59.51 0 1.02-.2 1.41-.59l7.78-7.78 2.81-2.81c.8-.78.8-2.07 0-2.86zM5.41 20L4 18.59l7.72-7.72 1.47 1.35L5.41 20z\"/>\n",
              "  </svg>\n",
              "      </button>\n",
              "      \n",
              "  <style>\n",
              "    .colab-df-container {\n",
              "      display:flex;\n",
              "      flex-wrap:wrap;\n",
              "      gap: 12px;\n",
              "    }\n",
              "\n",
              "    .colab-df-convert {\n",
              "      background-color: #E8F0FE;\n",
              "      border: none;\n",
              "      border-radius: 50%;\n",
              "      cursor: pointer;\n",
              "      display: none;\n",
              "      fill: #1967D2;\n",
              "      height: 32px;\n",
              "      padding: 0 0 0 0;\n",
              "      width: 32px;\n",
              "    }\n",
              "\n",
              "    .colab-df-convert:hover {\n",
              "      background-color: #E2EBFA;\n",
              "      box-shadow: 0px 1px 2px rgba(60, 64, 67, 0.3), 0px 1px 3px 1px rgba(60, 64, 67, 0.15);\n",
              "      fill: #174EA6;\n",
              "    }\n",
              "\n",
              "    [theme=dark] .colab-df-convert {\n",
              "      background-color: #3B4455;\n",
              "      fill: #D2E3FC;\n",
              "    }\n",
              "\n",
              "    [theme=dark] .colab-df-convert:hover {\n",
              "      background-color: #434B5C;\n",
              "      box-shadow: 0px 1px 3px 1px rgba(0, 0, 0, 0.15);\n",
              "      filter: drop-shadow(0px 1px 2px rgba(0, 0, 0, 0.3));\n",
              "      fill: #FFFFFF;\n",
              "    }\n",
              "  </style>\n",
              "\n",
              "      <script>\n",
              "        const buttonEl =\n",
              "          document.querySelector('#df-e663cb8d-de37-421b-9b8a-aaa531b4db63 button.colab-df-convert');\n",
              "        buttonEl.style.display =\n",
              "          google.colab.kernel.accessAllowed ? 'block' : 'none';\n",
              "\n",
              "        async function convertToInteractive(key) {\n",
              "          const element = document.querySelector('#df-e663cb8d-de37-421b-9b8a-aaa531b4db63');\n",
              "          const dataTable =\n",
              "            await google.colab.kernel.invokeFunction('convertToInteractive',\n",
              "                                                     [key], {});\n",
              "          if (!dataTable) return;\n",
              "\n",
              "          const docLinkHtml = 'Like what you see? Visit the ' +\n",
              "            '<a target=\"_blank\" href=https://colab.research.google.com/notebooks/data_table.ipynb>data table notebook</a>'\n",
              "            + ' to learn more about interactive tables.';\n",
              "          element.innerHTML = '';\n",
              "          dataTable['output_type'] = 'display_data';\n",
              "          await google.colab.output.renderOutput(dataTable, element);\n",
              "          const docLink = document.createElement('div');\n",
              "          docLink.innerHTML = docLinkHtml;\n",
              "          element.appendChild(docLink);\n",
              "        }\n",
              "      </script>\n",
              "    </div>\n",
              "  </div>\n",
              "  "
            ]
          },
          "metadata": {},
          "execution_count": 11
        }
      ],
      "source": [
        "ratings_df = pd.merge(book_ratings, items_info)[['user_id', 'book_id', 'Book_title', 'time', 'rating']]\n",
        "ratings_df"
      ]
    },
    {
      "cell_type": "code",
      "execution_count": null,
      "metadata": {
        "id": "ez5I6bFlzdGH"
      },
      "outputs": [],
      "source": [
        "ratings_df[\"user_id\"] = ratings_df[\"user_id\"].astype(str)"
      ]
    },
    {
      "cell_type": "code",
      "execution_count": null,
      "metadata": {
        "colab": {
          "base_uri": "https://localhost:8080/"
        },
        "id": "CY8bSIjrwr5g",
        "outputId": "c99c3add-bce0-4c83-cd83-d1569e0e0282"
      },
      "outputs": [
        {
          "output_type": "stream",
          "name": "stdout",
          "text": [
            "Total No. of users: 1295\n",
            "Total No. of items: 14017\n",
            "\n",
            "\n",
            "Max observed rating: 10.0\n",
            "Min observed rating: 1.0\n",
            "\n",
            "\n",
            "Max no. of user ratings: 1092\n",
            "Min no. of user ratings: 20\n",
            "Median no. of ratings per user: 33.0\n",
            "\n",
            "\n",
            "Max no. of item ratings: 160\n",
            "Min no. of item ratings: 1\n",
            "Median no. of ratings per item: 3.0\n"
          ]
        }
      ],
      "source": [
        "ratings_per_user = ratings_df.groupby('user_id').rating.count()\n",
        "ratings_per_item = ratings_df.groupby('Book_title').rating.count()\n",
        "\n",
        "print(f\"Total No. of users: {len(ratings_df.user_id.unique())}\")\n",
        "print(f\"Total No. of items: {len(ratings_df.Book_title.unique())}\")\n",
        "print(\"\\n\")\n",
        "\n",
        "print(f\"Max observed rating: {ratings_df.rating.max()}\")\n",
        "print(f\"Min observed rating: {ratings_df.rating.min()}\")\n",
        "print(\"\\n\")\n",
        "\n",
        "print(f\"Max no. of user ratings: {ratings_per_user.max()}\")\n",
        "print(f\"Min no. of user ratings: {ratings_per_user.min()}\")\n",
        "print(f\"Median no. of ratings per user: {ratings_per_user.median()}\")\n",
        "print(\"\\n\")\n",
        "\n",
        "print(f\"Max no. of item ratings: {ratings_per_item.max()}\")\n",
        "print(f\"Min no. of item ratings: {ratings_per_item.min()}\")\n",
        "print(f\"Median no. of ratings per item: {ratings_per_item.median()}\")"
      ]
    },
    {
      "cell_type": "code",
      "execution_count": null,
      "metadata": {
        "id": "c3M97Dek1xMV"
      },
      "outputs": [],
      "source": [
        "def get_last_n_ratings_by_user(\n",
        "    df, n, min_ratings_per_user=1, user_colname=\"user_id\", timestamp_colname=\"time\"\n",
        "):\n",
        "    return (\n",
        "        df.groupby(user_colname)\n",
        "        .filter(lambda x: len(x) >= min_ratings_per_user)\n",
        "        .sort_values(timestamp_colname)\n",
        "        .groupby(user_colname)\n",
        "        .tail(n)\n",
        "        .sort_values(user_colname)\n",
        "    )"
      ]
    },
    {
      "cell_type": "code",
      "execution_count": null,
      "metadata": {
        "colab": {
          "base_uri": "https://localhost:8080/",
          "height": 424
        },
        "id": "3XlyD0Fe3YYs",
        "outputId": "da7a6f03-e9cb-4cf8-97cd-531106f09f8c"
      },
      "outputs": [
        {
          "output_type": "execute_result",
          "data": {
            "text/plain": [
              "      user_id  book_id                                         Book_title  \\\n",
              "752         1     4156                                            Phantom   \n",
              "6273     1002     1444  The 21 Lessons of Merlyn: A Study in Druid Mag...   \n",
              "50256    1003    11898  Circle Works: Transforming Eurocentric Conscio...   \n",
              "53489    1004    16575                               Peace, Beetle Bailey   \n",
              "27675    1005     1207                               The Big Book of Calm   \n",
              "...       ...      ...                                                ...   \n",
              "10346      99     1962  A Fever in the Heart : Ann Rule's Crime Files,...   \n",
              "52186     990     1235                           Man's Search For Meaning   \n",
              "36669     991     5860                                          Prime Cut   \n",
              "36355     995      236  El desarrollo de Leonardo da Vinci (BiografÃ­a...   \n",
              "31003     999     3989  Asphalt Nation: How the Automobile Took over A...   \n",
              "\n",
              "        time  rating  \n",
              "752       31     8.0  \n",
              "6273   20881    10.0  \n",
              "50256  21973     9.0  \n",
              "53489  22005    10.0  \n",
              "27675  22055    10.0  \n",
              "...      ...     ...  \n",
              "10346   1973     8.0  \n",
              "52186  20741     9.0  \n",
              "36669  20768     8.0  \n",
              "36355  20827     6.0  \n",
              "31003  20859     7.0  \n",
              "\n",
              "[1295 rows x 5 columns]"
            ],
            "text/html": [
              "\n",
              "  <div id=\"df-68587708-9278-41b4-ba34-4a63b93f298f\">\n",
              "    <div class=\"colab-df-container\">\n",
              "      <div>\n",
              "<style scoped>\n",
              "    .dataframe tbody tr th:only-of-type {\n",
              "        vertical-align: middle;\n",
              "    }\n",
              "\n",
              "    .dataframe tbody tr th {\n",
              "        vertical-align: top;\n",
              "    }\n",
              "\n",
              "    .dataframe thead th {\n",
              "        text-align: right;\n",
              "    }\n",
              "</style>\n",
              "<table border=\"1\" class=\"dataframe\">\n",
              "  <thead>\n",
              "    <tr style=\"text-align: right;\">\n",
              "      <th></th>\n",
              "      <th>user_id</th>\n",
              "      <th>book_id</th>\n",
              "      <th>Book_title</th>\n",
              "      <th>time</th>\n",
              "      <th>rating</th>\n",
              "    </tr>\n",
              "  </thead>\n",
              "  <tbody>\n",
              "    <tr>\n",
              "      <th>752</th>\n",
              "      <td>1</td>\n",
              "      <td>4156</td>\n",
              "      <td>Phantom</td>\n",
              "      <td>31</td>\n",
              "      <td>8.0</td>\n",
              "    </tr>\n",
              "    <tr>\n",
              "      <th>6273</th>\n",
              "      <td>1002</td>\n",
              "      <td>1444</td>\n",
              "      <td>The 21 Lessons of Merlyn: A Study in Druid Mag...</td>\n",
              "      <td>20881</td>\n",
              "      <td>10.0</td>\n",
              "    </tr>\n",
              "    <tr>\n",
              "      <th>50256</th>\n",
              "      <td>1003</td>\n",
              "      <td>11898</td>\n",
              "      <td>Circle Works: Transforming Eurocentric Conscio...</td>\n",
              "      <td>21973</td>\n",
              "      <td>9.0</td>\n",
              "    </tr>\n",
              "    <tr>\n",
              "      <th>53489</th>\n",
              "      <td>1004</td>\n",
              "      <td>16575</td>\n",
              "      <td>Peace, Beetle Bailey</td>\n",
              "      <td>22005</td>\n",
              "      <td>10.0</td>\n",
              "    </tr>\n",
              "    <tr>\n",
              "      <th>27675</th>\n",
              "      <td>1005</td>\n",
              "      <td>1207</td>\n",
              "      <td>The Big Book of Calm</td>\n",
              "      <td>22055</td>\n",
              "      <td>10.0</td>\n",
              "    </tr>\n",
              "    <tr>\n",
              "      <th>...</th>\n",
              "      <td>...</td>\n",
              "      <td>...</td>\n",
              "      <td>...</td>\n",
              "      <td>...</td>\n",
              "      <td>...</td>\n",
              "    </tr>\n",
              "    <tr>\n",
              "      <th>10346</th>\n",
              "      <td>99</td>\n",
              "      <td>1962</td>\n",
              "      <td>A Fever in the Heart : Ann Rule's Crime Files,...</td>\n",
              "      <td>1973</td>\n",
              "      <td>8.0</td>\n",
              "    </tr>\n",
              "    <tr>\n",
              "      <th>52186</th>\n",
              "      <td>990</td>\n",
              "      <td>1235</td>\n",
              "      <td>Man's Search For Meaning</td>\n",
              "      <td>20741</td>\n",
              "      <td>9.0</td>\n",
              "    </tr>\n",
              "    <tr>\n",
              "      <th>36669</th>\n",
              "      <td>991</td>\n",
              "      <td>5860</td>\n",
              "      <td>Prime Cut</td>\n",
              "      <td>20768</td>\n",
              "      <td>8.0</td>\n",
              "    </tr>\n",
              "    <tr>\n",
              "      <th>36355</th>\n",
              "      <td>995</td>\n",
              "      <td>236</td>\n",
              "      <td>El desarrollo de Leonardo da Vinci (BiografÃ­a...</td>\n",
              "      <td>20827</td>\n",
              "      <td>6.0</td>\n",
              "    </tr>\n",
              "    <tr>\n",
              "      <th>31003</th>\n",
              "      <td>999</td>\n",
              "      <td>3989</td>\n",
              "      <td>Asphalt Nation: How the Automobile Took over A...</td>\n",
              "      <td>20859</td>\n",
              "      <td>7.0</td>\n",
              "    </tr>\n",
              "  </tbody>\n",
              "</table>\n",
              "<p>1295 rows × 5 columns</p>\n",
              "</div>\n",
              "      <button class=\"colab-df-convert\" onclick=\"convertToInteractive('df-68587708-9278-41b4-ba34-4a63b93f298f')\"\n",
              "              title=\"Convert this dataframe to an interactive table.\"\n",
              "              style=\"display:none;\">\n",
              "        \n",
              "  <svg xmlns=\"http://www.w3.org/2000/svg\" height=\"24px\"viewBox=\"0 0 24 24\"\n",
              "       width=\"24px\">\n",
              "    <path d=\"M0 0h24v24H0V0z\" fill=\"none\"/>\n",
              "    <path d=\"M18.56 5.44l.94 2.06.94-2.06 2.06-.94-2.06-.94-.94-2.06-.94 2.06-2.06.94zm-11 1L8.5 8.5l.94-2.06 2.06-.94-2.06-.94L8.5 2.5l-.94 2.06-2.06.94zm10 10l.94 2.06.94-2.06 2.06-.94-2.06-.94-.94-2.06-.94 2.06-2.06.94z\"/><path d=\"M17.41 7.96l-1.37-1.37c-.4-.4-.92-.59-1.43-.59-.52 0-1.04.2-1.43.59L10.3 9.45l-7.72 7.72c-.78.78-.78 2.05 0 2.83L4 21.41c.39.39.9.59 1.41.59.51 0 1.02-.2 1.41-.59l7.78-7.78 2.81-2.81c.8-.78.8-2.07 0-2.86zM5.41 20L4 18.59l7.72-7.72 1.47 1.35L5.41 20z\"/>\n",
              "  </svg>\n",
              "      </button>\n",
              "      \n",
              "  <style>\n",
              "    .colab-df-container {\n",
              "      display:flex;\n",
              "      flex-wrap:wrap;\n",
              "      gap: 12px;\n",
              "    }\n",
              "\n",
              "    .colab-df-convert {\n",
              "      background-color: #E8F0FE;\n",
              "      border: none;\n",
              "      border-radius: 50%;\n",
              "      cursor: pointer;\n",
              "      display: none;\n",
              "      fill: #1967D2;\n",
              "      height: 32px;\n",
              "      padding: 0 0 0 0;\n",
              "      width: 32px;\n",
              "    }\n",
              "\n",
              "    .colab-df-convert:hover {\n",
              "      background-color: #E2EBFA;\n",
              "      box-shadow: 0px 1px 2px rgba(60, 64, 67, 0.3), 0px 1px 3px 1px rgba(60, 64, 67, 0.15);\n",
              "      fill: #174EA6;\n",
              "    }\n",
              "\n",
              "    [theme=dark] .colab-df-convert {\n",
              "      background-color: #3B4455;\n",
              "      fill: #D2E3FC;\n",
              "    }\n",
              "\n",
              "    [theme=dark] .colab-df-convert:hover {\n",
              "      background-color: #434B5C;\n",
              "      box-shadow: 0px 1px 3px 1px rgba(0, 0, 0, 0.15);\n",
              "      filter: drop-shadow(0px 1px 2px rgba(0, 0, 0, 0.3));\n",
              "      fill: #FFFFFF;\n",
              "    }\n",
              "  </style>\n",
              "\n",
              "      <script>\n",
              "        const buttonEl =\n",
              "          document.querySelector('#df-68587708-9278-41b4-ba34-4a63b93f298f button.colab-df-convert');\n",
              "        buttonEl.style.display =\n",
              "          google.colab.kernel.accessAllowed ? 'block' : 'none';\n",
              "\n",
              "        async function convertToInteractive(key) {\n",
              "          const element = document.querySelector('#df-68587708-9278-41b4-ba34-4a63b93f298f');\n",
              "          const dataTable =\n",
              "            await google.colab.kernel.invokeFunction('convertToInteractive',\n",
              "                                                     [key], {});\n",
              "          if (!dataTable) return;\n",
              "\n",
              "          const docLinkHtml = 'Like what you see? Visit the ' +\n",
              "            '<a target=\"_blank\" href=https://colab.research.google.com/notebooks/data_table.ipynb>data table notebook</a>'\n",
              "            + ' to learn more about interactive tables.';\n",
              "          element.innerHTML = '';\n",
              "          dataTable['output_type'] = 'display_data';\n",
              "          await google.colab.output.renderOutput(dataTable, element);\n",
              "          const docLink = document.createElement('div');\n",
              "          docLink.innerHTML = docLinkHtml;\n",
              "          element.appendChild(docLink);\n",
              "        }\n",
              "      </script>\n",
              "    </div>\n",
              "  </div>\n",
              "  "
            ]
          },
          "metadata": {},
          "execution_count": 15
        }
      ],
      "source": [
        "get_last_n_ratings_by_user(ratings_df, 1)"
      ]
    },
    {
      "cell_type": "code",
      "execution_count": null,
      "metadata": {
        "id": "GRaSL6yy3dSf"
      },
      "outputs": [],
      "source": [
        "def mark_last_n_ratings_as_validation_set(\n",
        "    df, n, min_ratings=1, user_colname=\"user_id\", timestamp_colname=\"time\"\n",
        "  ):\n",
        "    df[\"is_valid\"] = False\n",
        "    df.loc[\n",
        "        get_last_n_ratings_by_user(\n",
        "            df,\n",
        "            n,\n",
        "            min_ratings,\n",
        "            user_colname=user_colname,\n",
        "            timestamp_colname=timestamp_colname,\n",
        "        ).index,\n",
        "        \"is_valid\",\n",
        "    ] = True\n",
        "    return df"
      ]
    },
    {
      "cell_type": "code",
      "execution_count": null,
      "metadata": {
        "colab": {
          "base_uri": "https://localhost:8080/",
          "height": 424
        },
        "id": "MnyDW2y4-P3H",
        "outputId": "79b83e11-9112-4b36-c4ee-4296603872fc"
      },
      "outputs": [
        {
          "output_type": "execute_result",
          "data": {
            "text/plain": [
              "      user_id  book_id                                         Book_title  \\\n",
              "0           1     6264                    Something Wicked This Way Comes   \n",
              "1         496     6264                    Something Wicked This Way Comes   \n",
              "2         676     6264                    Something Wicked This Way Comes   \n",
              "3        1842     6264                    Something Wicked This Way Comes   \n",
              "4           1     4350                                The Mists of Avalon   \n",
              "...       ...      ...                                                ...   \n",
              "62651    2945    16981  Jessi Ramsey, Pet Sitter (Baby-Sitters Club (P...   \n",
              "62652    2945    14501  STAY AWAY FROM THE TREEHOUSE (GHOSTS OF FEAR S...   \n",
              "62653    2945     3490                Bright Eyes (Coulter Family Series)   \n",
              "62654    2945    15719                                            Arcadia   \n",
              "62655    2945     8515  MR CLEMENS TWAIN P (Touchstone Books (Paperback))   \n",
              "\n",
              "        time  rating  is_valid  \n",
              "0          0     7.0     False  \n",
              "1      10090     8.0     False  \n",
              "2      14043    10.0     False  \n",
              "3      39880    10.0     False  \n",
              "4          1     7.0     False  \n",
              "...      ...     ...       ...  \n",
              "62651  62642     7.0     False  \n",
              "62652  62643     7.0     False  \n",
              "62653  62649     8.0     False  \n",
              "62654  62651     8.0     False  \n",
              "62655  62653     9.0     False  \n",
              "\n",
              "[62656 rows x 6 columns]"
            ],
            "text/html": [
              "\n",
              "  <div id=\"df-f4ff188d-317e-4fcf-bcc1-117d339cfc73\">\n",
              "    <div class=\"colab-df-container\">\n",
              "      <div>\n",
              "<style scoped>\n",
              "    .dataframe tbody tr th:only-of-type {\n",
              "        vertical-align: middle;\n",
              "    }\n",
              "\n",
              "    .dataframe tbody tr th {\n",
              "        vertical-align: top;\n",
              "    }\n",
              "\n",
              "    .dataframe thead th {\n",
              "        text-align: right;\n",
              "    }\n",
              "</style>\n",
              "<table border=\"1\" class=\"dataframe\">\n",
              "  <thead>\n",
              "    <tr style=\"text-align: right;\">\n",
              "      <th></th>\n",
              "      <th>user_id</th>\n",
              "      <th>book_id</th>\n",
              "      <th>Book_title</th>\n",
              "      <th>time</th>\n",
              "      <th>rating</th>\n",
              "      <th>is_valid</th>\n",
              "    </tr>\n",
              "  </thead>\n",
              "  <tbody>\n",
              "    <tr>\n",
              "      <th>0</th>\n",
              "      <td>1</td>\n",
              "      <td>6264</td>\n",
              "      <td>Something Wicked This Way Comes</td>\n",
              "      <td>0</td>\n",
              "      <td>7.0</td>\n",
              "      <td>False</td>\n",
              "    </tr>\n",
              "    <tr>\n",
              "      <th>1</th>\n",
              "      <td>496</td>\n",
              "      <td>6264</td>\n",
              "      <td>Something Wicked This Way Comes</td>\n",
              "      <td>10090</td>\n",
              "      <td>8.0</td>\n",
              "      <td>False</td>\n",
              "    </tr>\n",
              "    <tr>\n",
              "      <th>2</th>\n",
              "      <td>676</td>\n",
              "      <td>6264</td>\n",
              "      <td>Something Wicked This Way Comes</td>\n",
              "      <td>14043</td>\n",
              "      <td>10.0</td>\n",
              "      <td>False</td>\n",
              "    </tr>\n",
              "    <tr>\n",
              "      <th>3</th>\n",
              "      <td>1842</td>\n",
              "      <td>6264</td>\n",
              "      <td>Something Wicked This Way Comes</td>\n",
              "      <td>39880</td>\n",
              "      <td>10.0</td>\n",
              "      <td>False</td>\n",
              "    </tr>\n",
              "    <tr>\n",
              "      <th>4</th>\n",
              "      <td>1</td>\n",
              "      <td>4350</td>\n",
              "      <td>The Mists of Avalon</td>\n",
              "      <td>1</td>\n",
              "      <td>7.0</td>\n",
              "      <td>False</td>\n",
              "    </tr>\n",
              "    <tr>\n",
              "      <th>...</th>\n",
              "      <td>...</td>\n",
              "      <td>...</td>\n",
              "      <td>...</td>\n",
              "      <td>...</td>\n",
              "      <td>...</td>\n",
              "      <td>...</td>\n",
              "    </tr>\n",
              "    <tr>\n",
              "      <th>62651</th>\n",
              "      <td>2945</td>\n",
              "      <td>16981</td>\n",
              "      <td>Jessi Ramsey, Pet Sitter (Baby-Sitters Club (P...</td>\n",
              "      <td>62642</td>\n",
              "      <td>7.0</td>\n",
              "      <td>False</td>\n",
              "    </tr>\n",
              "    <tr>\n",
              "      <th>62652</th>\n",
              "      <td>2945</td>\n",
              "      <td>14501</td>\n",
              "      <td>STAY AWAY FROM THE TREEHOUSE (GHOSTS OF FEAR S...</td>\n",
              "      <td>62643</td>\n",
              "      <td>7.0</td>\n",
              "      <td>False</td>\n",
              "    </tr>\n",
              "    <tr>\n",
              "      <th>62653</th>\n",
              "      <td>2945</td>\n",
              "      <td>3490</td>\n",
              "      <td>Bright Eyes (Coulter Family Series)</td>\n",
              "      <td>62649</td>\n",
              "      <td>8.0</td>\n",
              "      <td>False</td>\n",
              "    </tr>\n",
              "    <tr>\n",
              "      <th>62654</th>\n",
              "      <td>2945</td>\n",
              "      <td>15719</td>\n",
              "      <td>Arcadia</td>\n",
              "      <td>62651</td>\n",
              "      <td>8.0</td>\n",
              "      <td>False</td>\n",
              "    </tr>\n",
              "    <tr>\n",
              "      <th>62655</th>\n",
              "      <td>2945</td>\n",
              "      <td>8515</td>\n",
              "      <td>MR CLEMENS TWAIN P (Touchstone Books (Paperback))</td>\n",
              "      <td>62653</td>\n",
              "      <td>9.0</td>\n",
              "      <td>False</td>\n",
              "    </tr>\n",
              "  </tbody>\n",
              "</table>\n",
              "<p>62656 rows × 6 columns</p>\n",
              "</div>\n",
              "      <button class=\"colab-df-convert\" onclick=\"convertToInteractive('df-f4ff188d-317e-4fcf-bcc1-117d339cfc73')\"\n",
              "              title=\"Convert this dataframe to an interactive table.\"\n",
              "              style=\"display:none;\">\n",
              "        \n",
              "  <svg xmlns=\"http://www.w3.org/2000/svg\" height=\"24px\"viewBox=\"0 0 24 24\"\n",
              "       width=\"24px\">\n",
              "    <path d=\"M0 0h24v24H0V0z\" fill=\"none\"/>\n",
              "    <path d=\"M18.56 5.44l.94 2.06.94-2.06 2.06-.94-2.06-.94-.94-2.06-.94 2.06-2.06.94zm-11 1L8.5 8.5l.94-2.06 2.06-.94-2.06-.94L8.5 2.5l-.94 2.06-2.06.94zm10 10l.94 2.06.94-2.06 2.06-.94-2.06-.94-.94-2.06-.94 2.06-2.06.94z\"/><path d=\"M17.41 7.96l-1.37-1.37c-.4-.4-.92-.59-1.43-.59-.52 0-1.04.2-1.43.59L10.3 9.45l-7.72 7.72c-.78.78-.78 2.05 0 2.83L4 21.41c.39.39.9.59 1.41.59.51 0 1.02-.2 1.41-.59l7.78-7.78 2.81-2.81c.8-.78.8-2.07 0-2.86zM5.41 20L4 18.59l7.72-7.72 1.47 1.35L5.41 20z\"/>\n",
              "  </svg>\n",
              "      </button>\n",
              "      \n",
              "  <style>\n",
              "    .colab-df-container {\n",
              "      display:flex;\n",
              "      flex-wrap:wrap;\n",
              "      gap: 12px;\n",
              "    }\n",
              "\n",
              "    .colab-df-convert {\n",
              "      background-color: #E8F0FE;\n",
              "      border: none;\n",
              "      border-radius: 50%;\n",
              "      cursor: pointer;\n",
              "      display: none;\n",
              "      fill: #1967D2;\n",
              "      height: 32px;\n",
              "      padding: 0 0 0 0;\n",
              "      width: 32px;\n",
              "    }\n",
              "\n",
              "    .colab-df-convert:hover {\n",
              "      background-color: #E2EBFA;\n",
              "      box-shadow: 0px 1px 2px rgba(60, 64, 67, 0.3), 0px 1px 3px 1px rgba(60, 64, 67, 0.15);\n",
              "      fill: #174EA6;\n",
              "    }\n",
              "\n",
              "    [theme=dark] .colab-df-convert {\n",
              "      background-color: #3B4455;\n",
              "      fill: #D2E3FC;\n",
              "    }\n",
              "\n",
              "    [theme=dark] .colab-df-convert:hover {\n",
              "      background-color: #434B5C;\n",
              "      box-shadow: 0px 1px 3px 1px rgba(0, 0, 0, 0.15);\n",
              "      filter: drop-shadow(0px 1px 2px rgba(0, 0, 0, 0.3));\n",
              "      fill: #FFFFFF;\n",
              "    }\n",
              "  </style>\n",
              "\n",
              "      <script>\n",
              "        const buttonEl =\n",
              "          document.querySelector('#df-f4ff188d-317e-4fcf-bcc1-117d339cfc73 button.colab-df-convert');\n",
              "        buttonEl.style.display =\n",
              "          google.colab.kernel.accessAllowed ? 'block' : 'none';\n",
              "\n",
              "        async function convertToInteractive(key) {\n",
              "          const element = document.querySelector('#df-f4ff188d-317e-4fcf-bcc1-117d339cfc73');\n",
              "          const dataTable =\n",
              "            await google.colab.kernel.invokeFunction('convertToInteractive',\n",
              "                                                     [key], {});\n",
              "          if (!dataTable) return;\n",
              "\n",
              "          const docLinkHtml = 'Like what you see? Visit the ' +\n",
              "            '<a target=\"_blank\" href=https://colab.research.google.com/notebooks/data_table.ipynb>data table notebook</a>'\n",
              "            + ' to learn more about interactive tables.';\n",
              "          element.innerHTML = '';\n",
              "          dataTable['output_type'] = 'display_data';\n",
              "          await google.colab.output.renderOutput(dataTable, element);\n",
              "          const docLink = document.createElement('div');\n",
              "          docLink.innerHTML = docLinkHtml;\n",
              "          element.appendChild(docLink);\n",
              "        }\n",
              "      </script>\n",
              "    </div>\n",
              "  </div>\n",
              "  "
            ]
          },
          "metadata": {},
          "execution_count": 17
        }
      ],
      "source": [
        "mark_last_n_ratings_as_validation_set(ratings_df, 1)"
      ]
    },
    {
      "cell_type": "code",
      "execution_count": null,
      "metadata": {
        "id": "2NmRjHLG-VD_"
      },
      "outputs": [],
      "source": [
        "train_df = ratings_df[ratings_df.is_valid==False]\n",
        "valid_df = ratings_df[ratings_df.is_valid==True]"
      ]
    },
    {
      "cell_type": "code",
      "execution_count": null,
      "metadata": {
        "colab": {
          "base_uri": "https://localhost:8080/"
        },
        "id": "FXUXZPTs-hms",
        "outputId": "4e0d5cfd-f8a2-4c2f-9fa9-d129c5e18c45"
      },
      "outputs": [
        {
          "output_type": "execute_result",
          "data": {
            "text/plain": [
              "1295"
            ]
          },
          "metadata": {},
          "execution_count": 19
        }
      ],
      "source": [
        "len(valid_df)"
      ]
    },
    {
      "cell_type": "code",
      "execution_count": null,
      "metadata": {
        "colab": {
          "base_uri": "https://localhost:8080/"
        },
        "id": "N9jEXGjG-jPM",
        "outputId": "a0fafc62-00e2-4e50-85ed-a71b80133e97"
      },
      "outputs": [
        {
          "output_type": "execute_result",
          "data": {
            "text/plain": [
              "8.0"
            ]
          },
          "metadata": {},
          "execution_count": 20
        }
      ],
      "source": [
        "median_rating = train_df.rating.median()\n",
        "median_rating"
      ]
    },
    {
      "cell_type": "code",
      "execution_count": null,
      "metadata": {
        "colab": {
          "base_uri": "https://localhost:8080/"
        },
        "id": "7oF4wbFL-130",
        "outputId": "d83be5e3-e28c-4ee1-9507-d1bb8b37719c"
      },
      "outputs": [
        {
          "output_type": "stream",
          "name": "stdout",
          "text": [
            "mae: 1.3845559845559845\n",
            "mse: 3.3644787644787644\n",
            "rmse: 1.834251554307305\n"
          ]
        }
      ],
      "source": [
        "import math\n",
        "from sklearn.metrics import mean_squared_error, mean_absolute_error\n",
        "\n",
        "predictions = np.array([median_rating]* len(valid_df))\n",
        "\n",
        "mae = mean_absolute_error(valid_df.rating, predictions)\n",
        "mse = mean_squared_error(valid_df.rating, predictions)\n",
        "rmse = math.sqrt(mse)\n",
        "\n",
        "print(f'mae: {mae}')\n",
        "print(f'mse: {mse}')\n",
        "print(f'rmse: {rmse}')"
      ]
    },
    {
      "cell_type": "code",
      "execution_count": null,
      "metadata": {
        "id": "5KnazeyJ--Mq"
      },
      "outputs": [],
      "source": [
        "user_lookup = {v: i+1 for i, v in enumerate(ratings_df['user_id'].unique())}"
      ]
    },
    {
      "cell_type": "code",
      "execution_count": null,
      "metadata": {
        "id": "iqpQMRGS_pCa"
      },
      "outputs": [],
      "source": [
        "book_lookup = {v: i+1 for i, v in enumerate(ratings_df['Book_title'].unique())}"
      ]
    },
    {
      "cell_type": "code",
      "execution_count": null,
      "metadata": {
        "id": "2nFF2nmp_4VT"
      },
      "outputs": [],
      "source": [
        "class UserItemRatingDataset(Dataset):\n",
        "    def __init__(self, df, movie_lookup, user_lookup):\n",
        "        self.df = df\n",
        "        self.movie_lookup = movie_lookup\n",
        "        self.user_lookup = user_lookup\n",
        "    def __getitem__(self, index):\n",
        "        row = self.df.iloc[index]\n",
        "        user_id = self.user_lookup[row.user_id]\n",
        "        movie_id = self.movie_lookup[row.Book_title]\n",
        "        \n",
        "        rating = torch.tensor(row.rating, dtype=torch.float32)\n",
        "        \n",
        "        return torch.tensor(user_id), torch.tensor(movie_id), rating\n",
        "    def __len__(self):\n",
        "        return len(self.df)"
      ]
    },
    {
      "cell_type": "code",
      "execution_count": null,
      "metadata": {
        "id": "7VXvijMGAEfv"
      },
      "outputs": [],
      "source": [
        "train_dataset = UserItemRatingDataset(train_df, movie_lookup, user_lookup)\n",
        "valid_dataset = UserItemRatingDataset(valid_df, movie_lookup, user_lookup)"
      ]
    },
    {
      "cell_type": "code",
      "execution_count": null,
      "metadata": {
        "id": "JFQd5rCbAW38"
      },
      "outputs": [],
      "source": [
        "class MatrixFactorizationModel(nn.Module):\n",
        "    def __init__(\n",
        "        self, n_factors, n_users, n_items, ratings_range=None, use_biases=True\n",
        "    ):\n",
        "        super().__init__()\n",
        "        self.bias = use_biases\n",
        "        self.y_range = ratings_range\n",
        "        self.user_embedding = nn.Embedding(n_users+1, n_factors, padding_idx=0)\n",
        "        self.item_embedding = nn.Embedding(n_items+1, n_factors, padding_idx=0)\n",
        "        if use_biases:\n",
        "            self.user_bias = nn.Embedding(n_users+1, 1, padding_idx=0)\n",
        "            self.item_bias = nn.Embedding(n_items+1, 1, padding_idx=0)\n",
        "    def forward(self, inputs):\n",
        "        users, items = inputs\n",
        "        dot = self.user_embedding(users) * self.item_embedding(items)\n",
        "        # print(dot)\n",
        "        result = dot.sum(1)\n",
        "        if self.bias:\n",
        "            result = (\n",
        "                result + self.user_bias(users).squeeze() + self.item_bias(items).squeeze()\n",
        "            )\n",
        "        if self.y_range is None:\n",
        "            return result\n",
        "        else:\n",
        "            return (\n",
        "                torch.sigmoid(result) * (self.y_range[1] - self.y_range[0])\n",
        "                + self.y_range[0]\n",
        "            )"
      ]
    },
    {
      "cell_type": "markdown",
      "source": [
        "# Common PyTorch\n",
        "Matrix Factorization model development"
      ],
      "metadata": {
        "id": "iOAztY3HBAJC"
      }
    },
    {
      "cell_type": "code",
      "source": [
        "def plot_losses():\n",
        "  # make data\n",
        "  x = np.arange(1, len(all_train_losses)+1)\n",
        "  # plot\n",
        "  fig, ax = plt.subplots()\n",
        "\n",
        "  ax.plot(x, all_train_losses, linewidth=2.0, label=\"Train\")\n",
        "  ax.plot(x, all_valid_losses, linewidth=2.0, label=\"Valid\")\n",
        "  best = [best_valid_loss for i in range(len(all_train_losses))]\n",
        "  ax.plot(x, best, 'r--', linewidth=1.25, label=f'{best_valid_loss}')\n",
        "\n",
        "  # ax.set(xlim=(0, 50), xticks=np.arange(1, 8),\n",
        "  #        ylim=(0, 8), yticks=np.arange(1, 8))\n",
        "  plt.grid()\n",
        "  plt.title(\"Losses\")\n",
        "  plt.xlabel(\"Epochs\")\n",
        "  plt.ylabel(\"Cross-entropy loss\")\n",
        "  ax.legend()\n",
        "  plt.show()"
      ],
      "metadata": {
        "id": "V1rLjPz5P1DW"
      },
      "execution_count": null,
      "outputs": []
    },
    {
      "cell_type": "code",
      "source": [
        "def plot_metrics():\n",
        "  # make data\n",
        "  x = np.arange(1, len(all_train_metrics)+1)\n",
        "  # plot\n",
        "  fig, ax = plt.subplots()\n",
        "\n",
        "  ax.plot(x, all_train_metrics, linewidth=2.0, label=\"Train\")\n",
        "  ax.plot(x, all_val_metrics, linewidth=2.0, label=\"Valid\")\n",
        "  best = [best_val_metric for i in range(len(all_train_metrics))]\n",
        "  ax.plot(x, best, 'r--', linewidth=1.25, label=f'{best_val_metric}')\n",
        "\n",
        "  # ax.set(xlim=(0, 50), xticks=np.arange(1, 8),\n",
        "  #        ylim=(0, 8), yticks=np.arange(1, 8))\n",
        "  plt.grid()\n",
        "  plt.title(\"Metrics\")\n",
        "  plt.xlabel(\"Epochs\")\n",
        "  plt.ylabel(\"MAE\")\n",
        "  ax.legend()\n",
        "  plt.show()"
      ],
      "metadata": {
        "id": "MKZs7h-VP1xX"
      },
      "execution_count": null,
      "outputs": []
    },
    {
      "cell_type": "code",
      "source": [
        "train_sampler = RandomSampler(train_dataset)\n",
        "train_dataloader = DataLoader(train_dataset, sampler = train_sampler, batch_size = 512)\n",
        "\n",
        "val_sampler = RandomSampler(valid_dataset) # SequentialSampler(val_data)\n",
        "val_dataloader = DataLoader(valid_dataset, sampler = val_sampler, batch_size = 512)"
      ],
      "metadata": {
        "id": "xxdH3R5NBuaP"
      },
      "execution_count": null,
      "outputs": []
    },
    {
      "cell_type": "code",
      "source": [
        "device = torch.device(\"cuda:0\" if torch.cuda.is_available() else \"cpu\")\n",
        "device"
      ],
      "metadata": {
        "colab": {
          "base_uri": "https://localhost:8080/"
        },
        "id": "PdD1-vqcBJdD",
        "outputId": "13bc039e-ccf7-4db9-85ab-a0e8d9145f66"
      },
      "execution_count": null,
      "outputs": [
        {
          "output_type": "execute_result",
          "data": {
            "text/plain": [
              "device(type='cuda', index=0)"
            ]
          },
          "metadata": {},
          "execution_count": 29
        }
      ]
    },
    {
      "cell_type": "code",
      "source": [
        "model = MatrixFactorizationModel(\n",
        "    120, len(user_lookup), len(movie_lookup), ratings_range=[1, 10]\n",
        ")\n",
        "model = model.to(device)\n",
        "loss_func = torch.nn.MSELoss()\n",
        "mae_func = torchmetrics.MeanAbsoluteError()\n",
        "\n",
        "optimizer = torch.optim.AdamW(model.parameters(), lr=0.05)"
      ],
      "metadata": {
        "id": "JyBmjuscA-sR"
      },
      "execution_count": null,
      "outputs": []
    },
    {
      "cell_type": "code",
      "source": [
        "def train():\n",
        "    model.train()\n",
        "    total_loss, total_accuracy = 0, 0\n",
        "    total_preds = []\n",
        "    mae_metrics = 0\n",
        "    \n",
        "    for step, batch in tqdm(enumerate(train_dataloader), total = len(train_dataloader)):\n",
        "        # print(batch)\n",
        "        batch = [r.to(device) for r in batch]\n",
        "        # print(batch.device)\n",
        "        # print(\"===============================================\")\n",
        "        user_ids, book_ids, target_ratings = batch\n",
        "        # print(user_ids.device, book_ids.device, target_ratings.device)\n",
        "        # model.zero_grad()\n",
        "        pred_ratings = model((user_ids, book_ids))\n",
        "        loss = loss_func(pred_ratings, target_ratings)\n",
        "        total_loss += loss.item()\n",
        "        model.zero_grad()\n",
        "        loss.backward()\n",
        "        torch.nn.utils.clip_grad_norm_(model.parameters(), 1.0)\n",
        "        optimizer.step()\n",
        "        preds = pred_ratings.detach().cpu().numpy()\n",
        "        mae_metrics += mae_func(pred_ratings.detach().cpu(), target_ratings.detach().cpu())\n",
        "        total_preds.append(preds)\n",
        "        \n",
        "    avg_loss = total_loss / len(train_dataloader)\n",
        "    mae_metrics /= len(train_dataloader)\n",
        "    total_preds = np.concatenate(total_preds, axis = 0)\n",
        "        \n",
        "    return avg_loss, mae_metrics, total_preds\n",
        "\n",
        "def evaluate():\n",
        "    model.eval()\n",
        "    total_loss, total_accuracy = 0,0\n",
        "    total_preds = []\n",
        "    mae_metrics = 0\n",
        "\n",
        "    for step, batch in tqdm(enumerate(val_dataloader), total = len(val_dataloader)):\n",
        "        batch = [t.to(device) for t in batch]\n",
        "        user_ids, book_ids, target_ratings = batch\n",
        "        with torch.no_grad():\n",
        "            pred_ratings = model((user_ids, book_ids))\n",
        "            loss = loss_func(pred_ratings, target_ratings)\n",
        "            total_loss = total_loss + loss.item()\n",
        "            # mae_metrics += mae_func(pred_rating, taget_rating)\n",
        "            preds = pred_ratings.detach().cpu().numpy()\n",
        "            mae_metrics += mae_func(pred_ratings.detach().cpu(), target_ratings.detach().cpu())\n",
        "            print(mae_metrics)\n",
        "            total_preds.append(preds)\n",
        "\n",
        "    avg_loss = total_loss / len(val_dataloader)\n",
        "    mae_metrics /= len(val_dataloader)\n",
        "    total_preds = np.concatenate(total_preds, axis = 0)\n",
        "    return avg_loss, mae_metrics, total_preds"
      ],
      "metadata": {
        "id": "ZUlC85POBE2T"
      },
      "execution_count": null,
      "outputs": []
    },
    {
      "cell_type": "markdown",
      "source": [
        "# Old experiments"
      ],
      "metadata": {
        "id": "6kZ5pawxb9eX"
      }
    },
    {
      "cell_type": "code",
      "source": [
        "all_train_losses = []\n",
        "all_valid_losses = []\n",
        "all_train_metrics = []\n",
        "all_val_metrics = []\n",
        "best_valid_loss = float('inf')\n",
        "best_val_metric = float('inf')\n",
        "epochs = 50\n",
        "train_losses = []\n",
        "valid_losses = []\n",
        "train_metrics, val_metrics = [], []\n",
        "\n",
        "for epoch in range(epochs):\n",
        "    print('\\n Epoch{:} / {:}'.format(epoch+1, epochs))\n",
        "\n",
        "    train_loss, train_mae, _ = train()\n",
        "    valid_loss, val_mae, _ = evaluate()\n",
        "    \n",
        "    if valid_loss < best_valid_loss:\n",
        "        best_valid_loss = valid_loss\n",
        "        best_val_metric = val_mae\n",
        "        torch.save(model.state_dict(), 'saved_weights.pt')\n",
        "    \n",
        "    train_losses.append(train_loss)\n",
        "    valid_losses.append(valid_loss)\n",
        "    train_metrics.append(train_mae)\n",
        "    val_metrics.append(val_mae)\n",
        "    print(f'\\nTraining loss: {train_loss:.3f}')\n",
        "    print(f'Validation loss: {valid_loss:.3f}')\n",
        "    print(f'Training MAE: {train_mae}')\n",
        "    print(f'Validation MAE: {val_mae}')\n",
        "    \n",
        "all_train_losses.extend(train_losses)\n",
        "all_valid_losses.extend(valid_losses)\n",
        "all_train_metrics.extend(train_metrics)\n",
        "all_val_metrics.extend(val_metrics)"
      ],
      "metadata": {
        "colab": {
          "base_uri": "https://localhost:8080/"
        },
        "id": "Qpf8Qi-vKU3U",
        "outputId": "a2ea5613-0078-444d-ee88-b8d7c02030bf"
      },
      "execution_count": null,
      "outputs": [
        {
          "output_type": "stream",
          "name": "stdout",
          "text": [
            "\n",
            " Epoch1 / 50\n"
          ]
        },
        {
          "output_type": "stream",
          "name": "stderr",
          "text": [
            "100%|██████████| 120/120 [00:14<00:00,  8.32it/s]\n",
            "100%|██████████| 3/3 [00:00<00:00, 10.56it/s]"
          ]
        },
        {
          "output_type": "stream",
          "name": "stdout",
          "text": [
            "tensor(4.1428)\n",
            "tensor(7.9752)\n",
            "tensor(11.8890)\n"
          ]
        },
        {
          "output_type": "stream",
          "name": "stderr",
          "text": [
            "\n"
          ]
        },
        {
          "output_type": "stream",
          "name": "stdout",
          "text": [
            "\n",
            "Training loss: 24.850\n",
            "Validation loss: 23.852\n",
            "Training MAE: 4.062870979309082\n",
            "Validation MAE: 3.963003158569336\n",
            "\n",
            " Epoch2 / 50\n"
          ]
        },
        {
          "output_type": "stream",
          "name": "stderr",
          "text": [
            "100%|██████████| 120/120 [00:14<00:00,  8.35it/s]\n",
            "100%|██████████| 3/3 [00:00<00:00,  9.59it/s]"
          ]
        },
        {
          "output_type": "stream",
          "name": "stdout",
          "text": [
            "tensor(3.8338)\n",
            "tensor(7.8102)\n",
            "tensor(11.7140)\n"
          ]
        },
        {
          "output_type": "stream",
          "name": "stderr",
          "text": [
            "\n"
          ]
        },
        {
          "output_type": "stream",
          "name": "stdout",
          "text": [
            "\n",
            "Training loss: 18.994\n",
            "Validation loss: 23.355\n",
            "Training MAE: 3.3832180500030518\n",
            "Validation MAE: 3.9046592712402344\n",
            "\n",
            " Epoch3 / 50\n"
          ]
        },
        {
          "output_type": "stream",
          "name": "stderr",
          "text": [
            "100%|██████████| 120/120 [00:14<00:00,  8.39it/s]\n",
            "100%|██████████| 3/3 [00:00<00:00,  9.43it/s]"
          ]
        },
        {
          "output_type": "stream",
          "name": "stdout",
          "text": [
            "tensor(4.1065)\n",
            "tensor(7.8507)\n",
            "tensor(11.3625)\n"
          ]
        },
        {
          "output_type": "stream",
          "name": "stderr",
          "text": [
            "\n"
          ]
        },
        {
          "output_type": "stream",
          "name": "stdout",
          "text": [
            "\n",
            "Training loss: 16.512\n",
            "Validation loss: 22.485\n",
            "Training MAE: 3.0978169441223145\n",
            "Validation MAE: 3.787487030029297\n",
            "\n",
            " Epoch4 / 50\n"
          ]
        },
        {
          "output_type": "stream",
          "name": "stderr",
          "text": [
            "100%|██████████| 120/120 [00:14<00:00,  8.29it/s]\n",
            " 67%|██████▋   | 2/3 [00:00<00:00,  8.04it/s]"
          ]
        },
        {
          "output_type": "stream",
          "name": "stdout",
          "text": [
            "tensor(3.6965)\n",
            "tensor(7.3365)\n",
            "tensor(11.1603)\n"
          ]
        },
        {
          "output_type": "stream",
          "name": "stderr",
          "text": [
            "\r100%|██████████| 3/3 [00:00<00:00,  9.39it/s]\n"
          ]
        },
        {
          "output_type": "stream",
          "name": "stdout",
          "text": [
            "\n",
            "Training loss: 14.943\n",
            "Validation loss: 21.857\n",
            "Training MAE: 2.9216933250427246\n",
            "Validation MAE: 3.720094680786133\n",
            "\n",
            " Epoch5 / 50\n"
          ]
        },
        {
          "output_type": "stream",
          "name": "stderr",
          "text": [
            "100%|██████████| 120/120 [00:14<00:00,  8.33it/s]\n",
            "100%|██████████| 3/3 [00:00<00:00,  9.35it/s]"
          ]
        },
        {
          "output_type": "stream",
          "name": "stdout",
          "text": [
            "tensor(3.5996)\n",
            "tensor(7.1604)\n",
            "tensor(10.6241)\n"
          ]
        },
        {
          "output_type": "stream",
          "name": "stderr",
          "text": [
            "\n"
          ]
        },
        {
          "output_type": "stream",
          "name": "stdout",
          "text": [
            "\n",
            "Training loss: 13.714\n",
            "Validation loss: 20.179\n",
            "Training MAE: 2.782632350921631\n",
            "Validation MAE: 3.541367292404175\n",
            "\n",
            " Epoch6 / 50\n"
          ]
        },
        {
          "output_type": "stream",
          "name": "stderr",
          "text": [
            "100%|██████████| 120/120 [00:14<00:00,  8.36it/s]\n",
            "100%|██████████| 3/3 [00:00<00:00,  9.62it/s]\n"
          ]
        },
        {
          "output_type": "stream",
          "name": "stdout",
          "text": [
            "tensor(3.3768)\n",
            "tensor(6.9629)\n",
            "tensor(10.3351)\n",
            "\n",
            "Training loss: 12.831\n",
            "Validation loss: 19.312\n",
            "Training MAE: 2.6828854084014893\n",
            "Validation MAE: 3.445040464401245\n",
            "\n",
            " Epoch7 / 50\n"
          ]
        },
        {
          "output_type": "stream",
          "name": "stderr",
          "text": [
            "100%|██████████| 120/120 [00:15<00:00,  7.72it/s]\n",
            "100%|██████████| 3/3 [00:00<00:00,  9.88it/s]"
          ]
        },
        {
          "output_type": "stream",
          "name": "stdout",
          "text": [
            "tensor(3.4561)\n",
            "tensor(7.0910)\n",
            "tensor(10.2585)\n"
          ]
        },
        {
          "output_type": "stream",
          "name": "stderr",
          "text": [
            "\n"
          ]
        },
        {
          "output_type": "stream",
          "name": "stdout",
          "text": [
            "\n",
            "Training loss: 12.234\n",
            "Validation loss: 18.949\n",
            "Training MAE: 2.615464925765991\n",
            "Validation MAE: 3.4194862842559814\n",
            "\n",
            " Epoch8 / 50\n"
          ]
        },
        {
          "output_type": "stream",
          "name": "stderr",
          "text": [
            "100%|██████████| 120/120 [00:14<00:00,  8.41it/s]\n",
            "100%|██████████| 3/3 [00:00<00:00,  9.34it/s]\n"
          ]
        },
        {
          "output_type": "stream",
          "name": "stdout",
          "text": [
            "tensor(3.4359)\n",
            "tensor(6.7153)\n",
            "tensor(10.3014)\n",
            "\n",
            "Training loss: 11.740\n",
            "Validation loss: 19.009\n",
            "Training MAE: 2.559314489364624\n",
            "Validation MAE: 3.433788537979126\n",
            "\n",
            " Epoch9 / 50\n"
          ]
        },
        {
          "output_type": "stream",
          "name": "stderr",
          "text": [
            "100%|██████████| 120/120 [00:14<00:00,  8.37it/s]\n",
            "100%|██████████| 3/3 [00:00<00:00,  9.91it/s]"
          ]
        },
        {
          "output_type": "stream",
          "name": "stdout",
          "text": [
            "tensor(3.4305)\n",
            "tensor(6.8429)\n",
            "tensor(9.9480)\n"
          ]
        },
        {
          "output_type": "stream",
          "name": "stderr",
          "text": [
            "\n"
          ]
        },
        {
          "output_type": "stream",
          "name": "stdout",
          "text": [
            "\n",
            "Training loss: 11.387\n",
            "Validation loss: 18.330\n",
            "Training MAE: 2.520347833633423\n",
            "Validation MAE: 3.315999984741211\n",
            "\n",
            " Epoch10 / 50\n"
          ]
        },
        {
          "output_type": "stream",
          "name": "stderr",
          "text": [
            "100%|██████████| 120/120 [00:14<00:00,  8.14it/s]\n",
            "100%|██████████| 3/3 [00:00<00:00, 10.03it/s]\n"
          ]
        },
        {
          "output_type": "stream",
          "name": "stdout",
          "text": [
            "tensor(3.3950)\n",
            "tensor(6.7528)\n",
            "tensor(10.2324)\n",
            "\n",
            "Training loss: 11.078\n",
            "Validation loss: 19.011\n",
            "Training MAE: 2.4854557514190674\n",
            "Validation MAE: 3.4107837677001953\n",
            "\n",
            " Epoch11 / 50\n"
          ]
        },
        {
          "output_type": "stream",
          "name": "stderr",
          "text": [
            "100%|██████████| 120/120 [00:14<00:00,  8.51it/s]\n",
            "100%|██████████| 3/3 [00:00<00:00,  8.95it/s]\n"
          ]
        },
        {
          "output_type": "stream",
          "name": "stdout",
          "text": [
            "tensor(3.3801)\n",
            "tensor(6.6956)\n",
            "tensor(10.2008)\n",
            "\n",
            "Training loss: 10.883\n",
            "Validation loss: 18.707\n",
            "Training MAE: 2.463024616241455\n",
            "Validation MAE: 3.4002676010131836\n",
            "\n",
            " Epoch12 / 50\n"
          ]
        },
        {
          "output_type": "stream",
          "name": "stderr",
          "text": [
            "100%|██████████| 120/120 [00:14<00:00,  8.33it/s]\n",
            "100%|██████████| 3/3 [00:00<00:00,  9.63it/s]"
          ]
        },
        {
          "output_type": "stream",
          "name": "stdout",
          "text": [
            "tensor(3.2528)\n",
            "tensor(6.7269)\n",
            "tensor(9.9393)\n"
          ]
        },
        {
          "output_type": "stream",
          "name": "stderr",
          "text": [
            "\n"
          ]
        },
        {
          "output_type": "stream",
          "name": "stdout",
          "text": [
            "\n",
            "Training loss: 10.726\n",
            "Validation loss: 17.979\n",
            "Training MAE: 2.445266008377075\n",
            "Validation MAE: 3.3130877017974854\n",
            "\n",
            " Epoch13 / 50\n"
          ]
        },
        {
          "output_type": "stream",
          "name": "stderr",
          "text": [
            "100%|██████████| 120/120 [00:14<00:00,  8.45it/s]\n",
            "100%|██████████| 3/3 [00:00<00:00,  9.63it/s]"
          ]
        },
        {
          "output_type": "stream",
          "name": "stdout",
          "text": [
            "tensor(3.3357)\n",
            "tensor(6.3753)\n",
            "tensor(9.7893)\n"
          ]
        },
        {
          "output_type": "stream",
          "name": "stderr",
          "text": [
            "\n"
          ]
        },
        {
          "output_type": "stream",
          "name": "stdout",
          "text": [
            "\n",
            "Training loss: 10.675\n",
            "Validation loss: 17.561\n",
            "Training MAE: 2.439701557159424\n",
            "Validation MAE: 3.263101577758789\n",
            "\n",
            " Epoch14 / 50\n"
          ]
        },
        {
          "output_type": "stream",
          "name": "stderr",
          "text": [
            "100%|██████████| 120/120 [00:14<00:00,  8.57it/s]\n",
            "100%|██████████| 3/3 [00:00<00:00,  9.83it/s]"
          ]
        },
        {
          "output_type": "stream",
          "name": "stdout",
          "text": [
            "tensor(3.2286)\n",
            "tensor(6.3009)\n",
            "tensor(9.7213)\n"
          ]
        },
        {
          "output_type": "stream",
          "name": "stderr",
          "text": [
            "\n"
          ]
        },
        {
          "output_type": "stream",
          "name": "stdout",
          "text": [
            "\n",
            "Training loss: 10.604\n",
            "Validation loss: 17.335\n",
            "Training MAE: 2.4335851669311523\n",
            "Validation MAE: 3.2404396533966064\n",
            "\n",
            " Epoch15 / 50\n"
          ]
        },
        {
          "output_type": "stream",
          "name": "stderr",
          "text": [
            "100%|██████████| 120/120 [00:14<00:00,  8.42it/s]\n",
            "100%|██████████| 3/3 [00:00<00:00,  9.38it/s]"
          ]
        },
        {
          "output_type": "stream",
          "name": "stdout",
          "text": [
            "tensor(3.0132)\n",
            "tensor(6.1776)\n",
            "tensor(9.3273)\n"
          ]
        },
        {
          "output_type": "stream",
          "name": "stderr",
          "text": [
            "\n"
          ]
        },
        {
          "output_type": "stream",
          "name": "stdout",
          "text": [
            "\n",
            "Training loss: 10.517\n",
            "Validation loss: 16.270\n",
            "Training MAE: 2.4231362342834473\n",
            "Validation MAE: 3.1090869903564453\n",
            "\n",
            " Epoch16 / 50\n"
          ]
        },
        {
          "output_type": "stream",
          "name": "stderr",
          "text": [
            "100%|██████████| 120/120 [00:14<00:00,  8.37it/s]\n",
            "100%|██████████| 3/3 [00:00<00:00, 10.03it/s]"
          ]
        },
        {
          "output_type": "stream",
          "name": "stdout",
          "text": [
            "tensor(2.9937)\n",
            "tensor(6.1584)\n",
            "tensor(9.1857)\n"
          ]
        },
        {
          "output_type": "stream",
          "name": "stderr",
          "text": [
            "\n"
          ]
        },
        {
          "output_type": "stream",
          "name": "stdout",
          "text": [
            "\n",
            "Training loss: 10.425\n",
            "Validation loss: 15.727\n",
            "Training MAE: 2.412001371383667\n",
            "Validation MAE: 3.0618896484375\n",
            "\n",
            " Epoch17 / 50\n"
          ]
        },
        {
          "output_type": "stream",
          "name": "stderr",
          "text": [
            "100%|██████████| 120/120 [00:14<00:00,  8.28it/s]\n",
            "100%|██████████| 3/3 [00:00<00:00,  9.30it/s]"
          ]
        },
        {
          "output_type": "stream",
          "name": "stdout",
          "text": [
            "tensor(2.9661)\n",
            "tensor(5.9613)\n",
            "tensor(8.9890)\n"
          ]
        },
        {
          "output_type": "stream",
          "name": "stderr",
          "text": [
            "\n"
          ]
        },
        {
          "output_type": "stream",
          "name": "stdout",
          "text": [
            "\n",
            "Training loss: 10.413\n",
            "Validation loss: 15.350\n",
            "Training MAE: 2.410820960998535\n",
            "Validation MAE: 2.9963467121124268\n",
            "\n",
            " Epoch18 / 50\n"
          ]
        },
        {
          "output_type": "stream",
          "name": "stderr",
          "text": [
            "100%|██████████| 120/120 [00:14<00:00,  8.38it/s]\n",
            "100%|██████████| 3/3 [00:00<00:00,  9.61it/s]"
          ]
        },
        {
          "output_type": "stream",
          "name": "stdout",
          "text": [
            "tensor(2.9133)\n",
            "tensor(5.8705)\n",
            "tensor(8.8885)\n"
          ]
        },
        {
          "output_type": "stream",
          "name": "stderr",
          "text": [
            "\n"
          ]
        },
        {
          "output_type": "stream",
          "name": "stdout",
          "text": [
            "\n",
            "Training loss: 10.345\n",
            "Validation loss: 15.048\n",
            "Training MAE: 2.4028995037078857\n",
            "Validation MAE: 2.9628307819366455\n",
            "\n",
            " Epoch19 / 50\n"
          ]
        },
        {
          "output_type": "stream",
          "name": "stderr",
          "text": [
            "100%|██████████| 120/120 [00:14<00:00,  8.31it/s]\n",
            "100%|██████████| 3/3 [00:00<00:00,  9.72it/s]"
          ]
        },
        {
          "output_type": "stream",
          "name": "stdout",
          "text": [
            "tensor(2.9548)\n",
            "tensor(5.7853)\n",
            "tensor(8.5957)\n"
          ]
        },
        {
          "output_type": "stream",
          "name": "stderr",
          "text": [
            "\n"
          ]
        },
        {
          "output_type": "stream",
          "name": "stdout",
          "text": [
            "\n",
            "Training loss: 10.363\n",
            "Validation loss: 14.076\n",
            "Training MAE: 2.4055564403533936\n",
            "Validation MAE: 2.865229606628418\n",
            "\n",
            " Epoch20 / 50\n"
          ]
        },
        {
          "output_type": "stream",
          "name": "stderr",
          "text": [
            "100%|██████████| 120/120 [00:14<00:00,  8.27it/s]\n",
            "100%|██████████| 3/3 [00:00<00:00,  9.65it/s]"
          ]
        },
        {
          "output_type": "stream",
          "name": "stdout",
          "text": [
            "tensor(2.8898)\n",
            "tensor(5.7221)\n",
            "tensor(8.4668)\n"
          ]
        },
        {
          "output_type": "stream",
          "name": "stderr",
          "text": [
            "\n"
          ]
        },
        {
          "output_type": "stream",
          "name": "stdout",
          "text": [
            "\n",
            "Training loss: 10.311\n",
            "Validation loss: 13.788\n",
            "Training MAE: 2.3996236324310303\n",
            "Validation MAE: 2.82226300239563\n",
            "\n",
            " Epoch21 / 50\n"
          ]
        },
        {
          "output_type": "stream",
          "name": "stderr",
          "text": [
            "100%|██████████| 120/120 [00:14<00:00,  8.10it/s]\n",
            "100%|██████████| 3/3 [00:00<00:00,  9.69it/s]"
          ]
        },
        {
          "output_type": "stream",
          "name": "stdout",
          "text": [
            "tensor(2.7673)\n",
            "tensor(5.5389)\n",
            "tensor(8.4943)\n"
          ]
        },
        {
          "output_type": "stream",
          "name": "stderr",
          "text": [
            "\n"
          ]
        },
        {
          "output_type": "stream",
          "name": "stdout",
          "text": [
            "\n",
            "Training loss: 10.275\n",
            "Validation loss: 13.734\n",
            "Training MAE: 2.395038366317749\n",
            "Validation MAE: 2.831434965133667\n",
            "\n",
            " Epoch22 / 50\n"
          ]
        },
        {
          "output_type": "stream",
          "name": "stderr",
          "text": [
            "100%|██████████| 120/120 [00:14<00:00,  8.23it/s]\n",
            "100%|██████████| 3/3 [00:00<00:00, 10.07it/s]"
          ]
        },
        {
          "output_type": "stream",
          "name": "stdout",
          "text": [
            "tensor(2.7990)\n",
            "tensor(5.5919)\n",
            "tensor(8.4525)\n"
          ]
        },
        {
          "output_type": "stream",
          "name": "stderr",
          "text": [
            "\n"
          ]
        },
        {
          "output_type": "stream",
          "name": "stdout",
          "text": [
            "\n",
            "Training loss: 10.215\n",
            "Validation loss: 13.594\n",
            "Training MAE: 2.3885085582733154\n",
            "Validation MAE: 2.817490339279175\n",
            "\n",
            " Epoch23 / 50\n"
          ]
        },
        {
          "output_type": "stream",
          "name": "stderr",
          "text": [
            "100%|██████████| 120/120 [00:14<00:00,  8.39it/s]\n",
            " 67%|██████▋   | 2/3 [00:00<00:00,  8.04it/s]"
          ]
        },
        {
          "output_type": "stream",
          "name": "stdout",
          "text": [
            "tensor(2.8815)\n",
            "tensor(5.6407)\n",
            "tensor(8.1417)\n"
          ]
        },
        {
          "output_type": "stream",
          "name": "stderr",
          "text": [
            "\r100%|██████████| 3/3 [00:00<00:00,  9.58it/s]\n"
          ]
        },
        {
          "output_type": "stream",
          "name": "stdout",
          "text": [
            "\n",
            "Training loss: 10.205\n",
            "Validation loss: 12.836\n",
            "Training MAE: 2.38731050491333\n",
            "Validation MAE: 2.7139084339141846\n",
            "\n",
            " Epoch24 / 50\n"
          ]
        },
        {
          "output_type": "stream",
          "name": "stderr",
          "text": [
            "100%|██████████| 120/120 [00:14<00:00,  8.27it/s]\n",
            "100%|██████████| 3/3 [00:00<00:00,  9.25it/s]\n"
          ]
        },
        {
          "output_type": "stream",
          "name": "stdout",
          "text": [
            "tensor(2.6808)\n",
            "tensor(5.4192)\n",
            "tensor(8.1375)\n",
            "\n",
            "Training loss: 10.186\n",
            "Validation loss: 12.926\n",
            "Training MAE: 2.3848044872283936\n",
            "Validation MAE: 2.712514638900757\n",
            "\n",
            " Epoch25 / 50\n"
          ]
        },
        {
          "output_type": "stream",
          "name": "stderr",
          "text": [
            "100%|██████████| 120/120 [00:14<00:00,  8.18it/s]\n",
            "100%|██████████| 3/3 [00:00<00:00,  9.49it/s]"
          ]
        },
        {
          "output_type": "stream",
          "name": "stdout",
          "text": [
            "tensor(2.5696)\n",
            "tensor(5.3743)\n",
            "tensor(8.0422)\n"
          ]
        },
        {
          "output_type": "stream",
          "name": "stderr",
          "text": [
            "\n"
          ]
        },
        {
          "output_type": "stream",
          "name": "stdout",
          "text": [
            "\n",
            "Training loss: 10.197\n",
            "Validation loss: 12.628\n",
            "Training MAE: 2.3878350257873535\n",
            "Validation MAE: 2.680732011795044\n",
            "\n",
            " Epoch26 / 50\n"
          ]
        },
        {
          "output_type": "stream",
          "name": "stderr",
          "text": [
            "100%|██████████| 120/120 [00:14<00:00,  8.34it/s]\n",
            "100%|██████████| 3/3 [00:00<00:00, 10.08it/s]\n"
          ]
        },
        {
          "output_type": "stream",
          "name": "stdout",
          "text": [
            "tensor(2.5290)\n",
            "tensor(5.0486)\n",
            "tensor(8.1184)\n",
            "\n",
            "Training loss: 10.154\n",
            "Validation loss: 12.845\n",
            "Training MAE: 2.383038282394409\n",
            "Validation MAE: 2.7061424255371094\n",
            "\n",
            " Epoch27 / 50\n"
          ]
        },
        {
          "output_type": "stream",
          "name": "stderr",
          "text": [
            "100%|██████████| 120/120 [00:14<00:00,  8.18it/s]\n",
            " 67%|██████▋   | 2/3 [00:00<00:00,  7.03it/s]"
          ]
        },
        {
          "output_type": "stream",
          "name": "stdout",
          "text": [
            "tensor(2.5860)\n",
            "tensor(5.3589)\n"
          ]
        },
        {
          "output_type": "stream",
          "name": "stderr",
          "text": [
            "\r100%|██████████| 3/3 [00:00<00:00,  8.50it/s]\n"
          ]
        },
        {
          "output_type": "stream",
          "name": "stdout",
          "text": [
            "tensor(7.9990)\n",
            "\n",
            "Training loss: 10.111\n",
            "Validation loss: 12.539\n",
            "Training MAE: 2.3767764568328857\n",
            "Validation MAE: 2.666346788406372\n",
            "\n",
            " Epoch28 / 50\n"
          ]
        },
        {
          "output_type": "stream",
          "name": "stderr",
          "text": [
            "100%|██████████| 120/120 [00:15<00:00,  7.66it/s]\n",
            "100%|██████████| 3/3 [00:00<00:00, 10.04it/s]\n"
          ]
        },
        {
          "output_type": "stream",
          "name": "stdout",
          "text": [
            "tensor(2.4651)\n",
            "tensor(5.2123)\n",
            "tensor(8.1117)\n",
            "\n",
            "Training loss: 10.079\n",
            "Validation loss: 12.689\n",
            "Training MAE: 2.3737146854400635\n",
            "Validation MAE: 2.703897476196289\n",
            "\n",
            " Epoch29 / 50\n"
          ]
        },
        {
          "output_type": "stream",
          "name": "stderr",
          "text": [
            "100%|██████████| 120/120 [00:14<00:00,  8.25it/s]\n",
            "100%|██████████| 3/3 [00:00<00:00, 10.16it/s]\n"
          ]
        },
        {
          "output_type": "stream",
          "name": "stdout",
          "text": [
            "tensor(2.5839)\n",
            "tensor(5.2421)\n",
            "tensor(8.1451)\n",
            "\n",
            "Training loss: 10.134\n",
            "Validation loss: 12.826\n",
            "Training MAE: 2.3801779747009277\n",
            "Validation MAE: 2.715043306350708\n",
            "\n",
            " Epoch30 / 50\n"
          ]
        },
        {
          "output_type": "stream",
          "name": "stderr",
          "text": [
            "100%|██████████| 120/120 [00:14<00:00,  8.33it/s]\n",
            "100%|██████████| 3/3 [00:00<00:00, 10.12it/s]\n"
          ]
        },
        {
          "output_type": "stream",
          "name": "stdout",
          "text": [
            "tensor(2.7203)\n",
            "tensor(5.4841)\n",
            "tensor(7.9765)\n",
            "\n",
            "Training loss: 10.180\n",
            "Validation loss: 12.569\n",
            "Training MAE: 2.38523006439209\n",
            "Validation MAE: 2.6588358879089355\n",
            "\n",
            " Epoch31 / 50\n"
          ]
        },
        {
          "output_type": "stream",
          "name": "stderr",
          "text": [
            "100%|██████████| 120/120 [00:14<00:00,  8.21it/s]\n",
            "100%|██████████| 3/3 [00:00<00:00, 10.21it/s]\n"
          ]
        },
        {
          "output_type": "stream",
          "name": "stdout",
          "text": [
            "tensor(2.7627)\n",
            "tensor(5.4281)\n",
            "tensor(8.2356)\n",
            "\n",
            "Training loss: 10.163\n",
            "Validation loss: 13.213\n",
            "Training MAE: 2.3831496238708496\n",
            "Validation MAE: 2.745210647583008\n",
            "\n",
            " Epoch32 / 50\n"
          ]
        },
        {
          "output_type": "stream",
          "name": "stderr",
          "text": [
            "100%|██████████| 120/120 [00:14<00:00,  8.34it/s]\n",
            " 67%|██████▋   | 2/3 [00:00<00:00,  7.72it/s]"
          ]
        },
        {
          "output_type": "stream",
          "name": "stdout",
          "text": [
            "tensor(2.8855)\n",
            "tensor(5.7402)\n"
          ]
        },
        {
          "output_type": "stream",
          "name": "stderr",
          "text": [
            "\r100%|██████████| 3/3 [00:00<00:00,  9.21it/s]\n"
          ]
        },
        {
          "output_type": "stream",
          "name": "stdout",
          "text": [
            "tensor(8.2097)\n",
            "\n",
            "Training loss: 10.151\n",
            "Validation loss: 13.282\n",
            "Training MAE: 2.382168769836426\n",
            "Validation MAE: 2.7365541458129883\n",
            "\n",
            " Epoch33 / 50\n"
          ]
        },
        {
          "output_type": "stream",
          "name": "stderr",
          "text": [
            "100%|██████████| 120/120 [00:14<00:00,  8.36it/s]\n",
            "100%|██████████| 3/3 [00:00<00:00,  9.59it/s]\n"
          ]
        },
        {
          "output_type": "stream",
          "name": "stdout",
          "text": [
            "tensor(2.8924)\n",
            "tensor(5.5711)\n",
            "tensor(8.3479)\n",
            "\n",
            "Training loss: 10.056\n",
            "Validation loss: 13.661\n",
            "Training MAE: 2.3712477684020996\n",
            "Validation MAE: 2.782646417617798\n",
            "\n",
            " Epoch34 / 50\n"
          ]
        },
        {
          "output_type": "stream",
          "name": "stderr",
          "text": [
            "100%|██████████| 120/120 [00:14<00:00,  8.46it/s]\n",
            "100%|██████████| 3/3 [00:00<00:00,  9.95it/s]\n"
          ]
        },
        {
          "output_type": "stream",
          "name": "stdout",
          "text": [
            "tensor(2.7671)\n",
            "tensor(5.4894)\n",
            "tensor(8.2593)\n",
            "\n",
            "Training loss: 10.073\n",
            "Validation loss: 13.480\n",
            "Training MAE: 2.3730645179748535\n",
            "Validation MAE: 2.7531089782714844\n",
            "\n",
            " Epoch35 / 50\n"
          ]
        },
        {
          "output_type": "stream",
          "name": "stderr",
          "text": [
            "100%|██████████| 120/120 [00:14<00:00,  8.36it/s]\n",
            "100%|██████████| 3/3 [00:00<00:00,  9.71it/s]\n"
          ]
        },
        {
          "output_type": "stream",
          "name": "stdout",
          "text": [
            "tensor(2.6364)\n",
            "tensor(5.3973)\n",
            "tensor(8.1625)\n",
            "\n",
            "Training loss: 10.063\n",
            "Validation loss: 13.073\n",
            "Training MAE: 2.371480703353882\n",
            "Validation MAE: 2.720837354660034\n",
            "\n",
            " Epoch36 / 50\n"
          ]
        },
        {
          "output_type": "stream",
          "name": "stderr",
          "text": [
            "100%|██████████| 120/120 [00:14<00:00,  8.24it/s]\n",
            "100%|██████████| 3/3 [00:00<00:00,  9.47it/s]\n"
          ]
        },
        {
          "output_type": "stream",
          "name": "stdout",
          "text": [
            "tensor(2.4933)\n",
            "tensor(5.3393)\n",
            "tensor(8.0484)\n",
            "\n",
            "Training loss: 10.037\n",
            "Validation loss: 12.854\n",
            "Training MAE: 2.3695247173309326\n",
            "Validation MAE: 2.682814598083496\n",
            "\n",
            " Epoch37 / 50\n"
          ]
        },
        {
          "output_type": "stream",
          "name": "stderr",
          "text": [
            "100%|██████████| 120/120 [00:14<00:00,  8.34it/s]\n",
            "100%|██████████| 3/3 [00:00<00:00, 10.10it/s]\n"
          ]
        },
        {
          "output_type": "stream",
          "name": "stdout",
          "text": [
            "tensor(2.6003)\n",
            "tensor(5.4024)\n",
            "tensor(8.0549)\n",
            "\n",
            "Training loss: 10.055\n",
            "Validation loss: 12.808\n",
            "Training MAE: 2.37073016166687\n",
            "Validation MAE: 2.6849639415740967\n",
            "\n",
            " Epoch38 / 50\n"
          ]
        },
        {
          "output_type": "stream",
          "name": "stderr",
          "text": [
            "100%|██████████| 120/120 [00:14<00:00,  8.32it/s]\n",
            "100%|██████████| 3/3 [00:00<00:00,  9.63it/s]\n"
          ]
        },
        {
          "output_type": "stream",
          "name": "stdout",
          "text": [
            "tensor(2.6307)\n",
            "tensor(5.2684)\n",
            "tensor(8.0959)\n",
            "\n",
            "Training loss: 10.103\n",
            "Validation loss: 12.732\n",
            "Training MAE: 2.3762638568878174\n",
            "Validation MAE: 2.6986277103424072\n",
            "\n",
            " Epoch39 / 50\n"
          ]
        },
        {
          "output_type": "stream",
          "name": "stderr",
          "text": [
            "100%|██████████| 120/120 [00:14<00:00,  8.34it/s]\n",
            "100%|██████████| 3/3 [00:00<00:00,  9.79it/s]"
          ]
        },
        {
          "output_type": "stream",
          "name": "stdout",
          "text": [
            "tensor(2.7434)\n",
            "tensor(5.3342)\n",
            "tensor(7.8798)\n"
          ]
        },
        {
          "output_type": "stream",
          "name": "stderr",
          "text": [
            "\n"
          ]
        },
        {
          "output_type": "stream",
          "name": "stdout",
          "text": [
            "\n",
            "Training loss: 10.117\n",
            "Validation loss: 12.295\n",
            "Training MAE: 2.3781306743621826\n",
            "Validation MAE: 2.6265835762023926\n",
            "\n",
            " Epoch40 / 50\n"
          ]
        },
        {
          "output_type": "stream",
          "name": "stderr",
          "text": [
            "100%|██████████| 120/120 [00:19<00:00,  6.03it/s]\n",
            "100%|██████████| 3/3 [00:00<00:00, 10.29it/s]\n"
          ]
        },
        {
          "output_type": "stream",
          "name": "stdout",
          "text": [
            "tensor(2.5551)\n",
            "tensor(5.2673)\n",
            "tensor(7.8761)\n",
            "\n",
            "Training loss: 9.967\n",
            "Validation loss: 12.372\n",
            "Training MAE: 2.360119342803955\n",
            "Validation MAE: 2.625372886657715\n",
            "\n",
            " Epoch41 / 50\n"
          ]
        },
        {
          "output_type": "stream",
          "name": "stderr",
          "text": [
            "100%|██████████| 120/120 [00:21<00:00,  5.50it/s]\n",
            "100%|██████████| 3/3 [00:00<00:00,  9.92it/s]"
          ]
        },
        {
          "output_type": "stream",
          "name": "stdout",
          "text": [
            "tensor(2.6982)\n",
            "tensor(5.3305)\n",
            "tensor(7.8101)\n"
          ]
        },
        {
          "output_type": "stream",
          "name": "stderr",
          "text": [
            "\n"
          ]
        },
        {
          "output_type": "stream",
          "name": "stdout",
          "text": [
            "\n",
            "Training loss: 9.953\n",
            "Validation loss: 12.206\n",
            "Training MAE: 2.359739065170288\n",
            "Validation MAE: 2.6033670902252197\n",
            "\n",
            " Epoch42 / 50\n"
          ]
        },
        {
          "output_type": "stream",
          "name": "stderr",
          "text": [
            "100%|██████████| 120/120 [00:27<00:00,  4.42it/s]\n",
            " 33%|███▎      | 1/3 [00:00<00:00,  8.09it/s]"
          ]
        },
        {
          "output_type": "stream",
          "name": "stdout",
          "text": [
            "tensor(2.5567)\n"
          ]
        },
        {
          "output_type": "stream",
          "name": "stderr",
          "text": [
            "100%|██████████| 3/3 [00:00<00:00,  7.57it/s]\n"
          ]
        },
        {
          "output_type": "stream",
          "name": "stdout",
          "text": [
            "tensor(5.1150)\n",
            "tensor(7.7086)\n",
            "\n",
            "Training loss: 10.031\n",
            "Validation loss: 11.765\n",
            "Training MAE: 2.367997169494629\n",
            "Validation MAE: 2.5695455074310303\n",
            "\n",
            " Epoch43 / 50\n"
          ]
        },
        {
          "output_type": "stream",
          "name": "stderr",
          "text": [
            "100%|██████████| 120/120 [00:16<00:00,  7.23it/s]\n",
            "100%|██████████| 3/3 [00:00<00:00,  9.18it/s]\n"
          ]
        },
        {
          "output_type": "stream",
          "name": "stdout",
          "text": [
            "tensor(2.5181)\n",
            "tensor(4.9476)\n",
            "tensor(7.7525)\n",
            "\n",
            "Training loss: 9.964\n",
            "Validation loss: 11.925\n",
            "Training MAE: 2.36124587059021\n",
            "Validation MAE: 2.5841705799102783\n",
            "\n",
            " Epoch44 / 50\n"
          ]
        },
        {
          "output_type": "stream",
          "name": "stderr",
          "text": [
            "100%|██████████| 120/120 [00:14<00:00,  8.33it/s]\n",
            "100%|██████████| 3/3 [00:00<00:00,  9.91it/s]"
          ]
        },
        {
          "output_type": "stream",
          "name": "stdout",
          "text": [
            "tensor(2.5843)\n",
            "tensor(5.1198)\n",
            "tensor(7.5855)\n"
          ]
        },
        {
          "output_type": "stream",
          "name": "stderr",
          "text": [
            "\n"
          ]
        },
        {
          "output_type": "stream",
          "name": "stdout",
          "text": [
            "\n",
            "Training loss: 9.986\n",
            "Validation loss: 11.514\n",
            "Training MAE: 2.363595485687256\n",
            "Validation MAE: 2.528505802154541\n",
            "\n",
            " Epoch45 / 50\n"
          ]
        },
        {
          "output_type": "stream",
          "name": "stderr",
          "text": [
            "100%|██████████| 120/120 [00:14<00:00,  8.34it/s]\n",
            "100%|██████████| 3/3 [00:00<00:00,  9.98it/s]\n"
          ]
        },
        {
          "output_type": "stream",
          "name": "stdout",
          "text": [
            "tensor(2.5321)\n",
            "tensor(5.1211)\n",
            "tensor(7.5447)\n",
            "\n",
            "Training loss: 9.964\n",
            "Validation loss: 11.520\n",
            "Training MAE: 2.3612053394317627\n",
            "Validation MAE: 2.514894723892212\n",
            "\n",
            " Epoch46 / 50\n"
          ]
        },
        {
          "output_type": "stream",
          "name": "stderr",
          "text": [
            "100%|██████████| 120/120 [00:14<00:00,  8.38it/s]\n",
            "100%|██████████| 3/3 [00:00<00:00,  9.98it/s]"
          ]
        },
        {
          "output_type": "stream",
          "name": "stdout",
          "text": [
            "tensor(2.6215)\n",
            "tensor(5.2071)\n",
            "tensor(7.4927)\n"
          ]
        },
        {
          "output_type": "stream",
          "name": "stderr",
          "text": [
            "\n"
          ]
        },
        {
          "output_type": "stream",
          "name": "stdout",
          "text": [
            "\n",
            "Training loss: 9.937\n",
            "Validation loss: 11.125\n",
            "Training MAE: 2.3587019443511963\n",
            "Validation MAE: 2.4975521564483643\n",
            "\n",
            " Epoch47 / 50\n"
          ]
        },
        {
          "output_type": "stream",
          "name": "stderr",
          "text": [
            "100%|██████████| 120/120 [00:15<00:00,  7.78it/s]\n",
            "100%|██████████| 3/3 [00:00<00:00,  9.90it/s]"
          ]
        },
        {
          "output_type": "stream",
          "name": "stdout",
          "text": [
            "tensor(2.5673)\n",
            "tensor(5.1366)\n",
            "tensor(7.4751)\n"
          ]
        },
        {
          "output_type": "stream",
          "name": "stderr",
          "text": [
            "\n"
          ]
        },
        {
          "output_type": "stream",
          "name": "stdout",
          "text": [
            "\n",
            "Training loss: 9.932\n",
            "Validation loss: 11.098\n",
            "Training MAE: 2.3572628498077393\n",
            "Validation MAE: 2.4916911125183105\n",
            "\n",
            " Epoch48 / 50\n"
          ]
        },
        {
          "output_type": "stream",
          "name": "stderr",
          "text": [
            "100%|██████████| 120/120 [00:15<00:00,  7.70it/s]\n",
            "100%|██████████| 3/3 [00:00<00:00, 10.25it/s]"
          ]
        },
        {
          "output_type": "stream",
          "name": "stdout",
          "text": [
            "tensor(2.5437)\n",
            "tensor(4.9571)\n",
            "tensor(7.4139)\n"
          ]
        },
        {
          "output_type": "stream",
          "name": "stderr",
          "text": [
            "\n"
          ]
        },
        {
          "output_type": "stream",
          "name": "stdout",
          "text": [
            "\n",
            "Training loss: 9.937\n",
            "Validation loss: 10.917\n",
            "Training MAE: 2.357966899871826\n",
            "Validation MAE: 2.471306324005127\n",
            "\n",
            " Epoch49 / 50\n"
          ]
        },
        {
          "output_type": "stream",
          "name": "stderr",
          "text": [
            "100%|██████████| 120/120 [00:14<00:00,  8.38it/s]\n",
            "100%|██████████| 3/3 [00:00<00:00,  9.22it/s]\n"
          ]
        },
        {
          "output_type": "stream",
          "name": "stdout",
          "text": [
            "tensor(2.4901)\n",
            "tensor(4.9878)\n",
            "tensor(7.5937)\n",
            "\n",
            "Training loss: 9.848\n",
            "Validation loss: 11.519\n",
            "Training MAE: 2.3477938175201416\n",
            "Validation MAE: 2.531245470046997\n",
            "\n",
            " Epoch50 / 50\n"
          ]
        },
        {
          "output_type": "stream",
          "name": "stderr",
          "text": [
            "100%|██████████| 120/120 [00:14<00:00,  8.06it/s]\n",
            "100%|██████████| 3/3 [00:00<00:00,  9.18it/s]"
          ]
        },
        {
          "output_type": "stream",
          "name": "stdout",
          "text": [
            "tensor(2.3677)\n",
            "tensor(5.0726)\n",
            "tensor(7.5118)\n",
            "\n",
            "Training loss: 9.844\n",
            "Validation loss: 11.165\n",
            "Training MAE: 2.348214864730835\n",
            "Validation MAE: 2.5039491653442383\n"
          ]
        },
        {
          "output_type": "stream",
          "name": "stderr",
          "text": [
            "\n"
          ]
        }
      ]
    },
    {
      "cell_type": "code",
      "source": [
        "plot_losses()"
      ],
      "metadata": {
        "colab": {
          "base_uri": "https://localhost:8080/",
          "height": 295
        },
        "id": "3XQipYIiPxjN",
        "outputId": "310c686d-5b1c-4067-f905-5eb4e6075f29"
      },
      "execution_count": null,
      "outputs": [
        {
          "output_type": "display_data",
          "data": {
            "text/plain": [
              "<Figure size 432x288 with 1 Axes>"
            ],
            "image/png": "[encoded data removed]"
          },
          "metadata": {
            "needs_background": "light"
          }
        }
      ]
    },
    {
      "cell_type": "code",
      "source": [
        "plot_metrics()"
      ],
      "metadata": {
        "colab": {
          "base_uri": "https://localhost:8080/",
          "height": 295
        },
        "id": "pgCySOmVQQKy",
        "outputId": "3ce8c3fa-db04-4bd3-92a5-cd5011b2015d"
      },
      "execution_count": null,
      "outputs": [
        {
          "output_type": "display_data",
          "data": {
            "text/plain": [
              "<Figure size 432x288 with 1 Axes>"
            ],
            "image/png": "[encoded data removed]"
          },
          "metadata": {
            "needs_background": "light"
          }
        }
      ]
    },
    {
      "cell_type": "code",
      "source": [
        "model = MatrixFactorizationModel(\n",
        "    80, len(user_lookup), len(movie_lookup), ratings_range=[1, 10]\n",
        ")\n",
        "model = model.to(device)\n",
        "loss_func = torch.nn.MSELoss()\n",
        "mae_func = torchmetrics.MeanAbsoluteError()\n",
        "\n",
        "optimizer = torch.optim.AdamW(model.parameters(), lr=0.05)"
      ],
      "metadata": {
        "id": "YCz9FPp1KZ3P"
      },
      "execution_count": null,
      "outputs": []
    },
    {
      "cell_type": "code",
      "source": [
        "all_train_losses = []\n",
        "all_valid_losses = []\n",
        "all_train_metrics = []\n",
        "all_val_metrics = []\n",
        "best_valid_loss = float('inf')\n",
        "best_val_metric = float('inf')\n",
        "epochs = 50\n",
        "train_losses = []\n",
        "valid_losses = []\n",
        "train_metrics, val_metrics = [], []\n",
        "\n",
        "for epoch in range(epochs):\n",
        "    print('\\n Epoch{:} / {:}'.format(epoch+1, epochs))\n",
        "\n",
        "    train_loss, train_mae, _ = train()\n",
        "    valid_loss, val_mae, _ = evaluate()\n",
        "    \n",
        "    if valid_loss < best_valid_loss:\n",
        "        best_valid_loss = valid_loss\n",
        "        best_val_metric = val_mae\n",
        "        torch.save(model.state_dict(), 'saved_weights.pt')\n",
        "    \n",
        "    train_losses.append(train_loss)\n",
        "    valid_losses.append(valid_loss)\n",
        "    train_metrics.append(train_mae)\n",
        "    val_metrics.append(val_mae)\n",
        "    print(f'\\nTraining loss: {train_loss:.3f}')\n",
        "    print(f'Validation loss: {valid_loss:.3f}')\n",
        "    print(f'Training MAE: {train_mae}')\n",
        "    print(f'Validation MAE: {val_mae}')\n",
        "    \n",
        "all_train_losses.extend(train_losses)\n",
        "all_valid_losses.extend(valid_losses)\n",
        "all_train_metrics.extend(train_metrics)\n",
        "all_val_metrics.extend(val_metrics)"
      ],
      "metadata": {
        "colab": {
          "base_uri": "https://localhost:8080/"
        },
        "id": "dn9CGLemPpx3",
        "outputId": "ca811bb0-304a-4559-a4be-b872761ced94"
      },
      "execution_count": null,
      "outputs": [
        {
          "output_type": "stream",
          "name": "stdout",
          "text": [
            "\n",
            " Epoch1 / 50\n"
          ]
        },
        {
          "output_type": "stream",
          "name": "stderr",
          "text": [
            "100%|██████████| 120/120 [00:15<00:00,  7.87it/s]\n",
            "100%|██████████| 3/3 [00:00<00:00, 10.03it/s]"
          ]
        },
        {
          "output_type": "stream",
          "name": "stdout",
          "text": [
            "tensor(3.9136)\n",
            "tensor(7.8373)\n",
            "tensor(11.5425)\n"
          ]
        },
        {
          "output_type": "stream",
          "name": "stderr",
          "text": [
            "\n"
          ]
        },
        {
          "output_type": "stream",
          "name": "stdout",
          "text": [
            "\n",
            "Training loss: 24.001\n",
            "Validation loss: 22.622\n",
            "Training MAE: 3.9821901321411133\n",
            "Validation MAE: 3.847510576248169\n",
            "\n",
            " Epoch2 / 50\n"
          ]
        },
        {
          "output_type": "stream",
          "name": "stderr",
          "text": [
            "100%|██████████| 120/120 [00:14<00:00,  8.25it/s]\n",
            " 67%|██████▋   | 2/3 [00:00<00:00,  8.13it/s]"
          ]
        },
        {
          "output_type": "stream",
          "name": "stdout",
          "text": [
            "tensor(3.6143)\n",
            "tensor(7.1907)\n"
          ]
        },
        {
          "output_type": "stream",
          "name": "stderr",
          "text": [
            "\r100%|██████████| 3/3 [00:00<00:00,  9.34it/s]\n"
          ]
        },
        {
          "output_type": "stream",
          "name": "stdout",
          "text": [
            "tensor(10.9797)\n",
            "\n",
            "Training loss: 17.138\n",
            "Validation loss: 21.134\n",
            "Training MAE: 3.1763570308685303\n",
            "Validation MAE: 3.6599109172821045\n",
            "\n",
            " Epoch3 / 50\n"
          ]
        },
        {
          "output_type": "stream",
          "name": "stderr",
          "text": [
            "100%|██████████| 120/120 [00:14<00:00,  8.27it/s]\n",
            "100%|██████████| 3/3 [00:00<00:00,  9.37it/s]"
          ]
        },
        {
          "output_type": "stream",
          "name": "stdout",
          "text": [
            "tensor(3.3513)\n",
            "tensor(7.1021)\n",
            "tensor(10.7458)\n"
          ]
        },
        {
          "output_type": "stream",
          "name": "stderr",
          "text": [
            "\n"
          ]
        },
        {
          "output_type": "stream",
          "name": "stdout",
          "text": [
            "\n",
            "Training loss: 14.268\n",
            "Validation loss: 20.570\n",
            "Training MAE: 2.849322557449341\n",
            "Validation MAE: 3.5819320678710938\n",
            "\n",
            " Epoch4 / 50\n"
          ]
        },
        {
          "output_type": "stream",
          "name": "stderr",
          "text": [
            "100%|██████████| 120/120 [00:14<00:00,  8.33it/s]\n",
            "100%|██████████| 3/3 [00:00<00:00,  9.73it/s]"
          ]
        },
        {
          "output_type": "stream",
          "name": "stdout",
          "text": [
            "tensor(3.5355)\n",
            "tensor(7.0245)\n",
            "tensor(10.4101)\n"
          ]
        },
        {
          "output_type": "stream",
          "name": "stderr",
          "text": [
            "\n"
          ]
        },
        {
          "output_type": "stream",
          "name": "stdout",
          "text": [
            "\n",
            "Training loss: 12.518\n",
            "Validation loss: 19.477\n",
            "Training MAE: 2.650317907333374\n",
            "Validation MAE: 3.4700472354888916\n",
            "\n",
            " Epoch5 / 50\n"
          ]
        },
        {
          "output_type": "stream",
          "name": "stderr",
          "text": [
            "100%|██████████| 120/120 [00:14<00:00,  8.37it/s]\n",
            "100%|██████████| 3/3 [00:00<00:00,  9.78it/s]"
          ]
        },
        {
          "output_type": "stream",
          "name": "stdout",
          "text": [
            "tensor(3.5317)\n",
            "tensor(6.9650)\n",
            "tensor(10.3512)\n"
          ]
        },
        {
          "output_type": "stream",
          "name": "stderr",
          "text": [
            "\n"
          ]
        },
        {
          "output_type": "stream",
          "name": "stdout",
          "text": [
            "\n",
            "Training loss: 11.443\n",
            "Validation loss: 19.147\n",
            "Training MAE: 2.5267879962921143\n",
            "Validation MAE: 3.4503965377807617\n",
            "\n",
            " Epoch6 / 50\n"
          ]
        },
        {
          "output_type": "stream",
          "name": "stderr",
          "text": [
            "100%|██████████| 120/120 [00:18<00:00,  6.65it/s]\n",
            "100%|██████████| 3/3 [00:00<00:00, 10.20it/s]\n"
          ]
        },
        {
          "output_type": "stream",
          "name": "stdout",
          "text": [
            "tensor(3.4263)\n",
            "tensor(6.8440)\n",
            "tensor(10.2013)\n",
            "\n",
            "Training loss: 10.789\n",
            "Validation loss: 18.950\n",
            "Training MAE: 2.453636646270752\n",
            "Validation MAE: 3.400423049926758\n",
            "\n",
            " Epoch7 / 50\n"
          ]
        },
        {
          "output_type": "stream",
          "name": "stderr",
          "text": [
            "100%|██████████| 120/120 [00:14<00:00,  8.30it/s]\n",
            " 67%|██████▋   | 2/3 [00:00<00:00,  7.55it/s]"
          ]
        },
        {
          "output_type": "stream",
          "name": "stdout",
          "text": [
            "tensor(3.2239)\n",
            "tensor(6.5445)\n"
          ]
        },
        {
          "output_type": "stream",
          "name": "stderr",
          "text": [
            "\r100%|██████████| 3/3 [00:00<00:00,  9.02it/s]\n"
          ]
        },
        {
          "output_type": "stream",
          "name": "stdout",
          "text": [
            "tensor(9.6977)\n",
            "\n",
            "Training loss: 10.336\n",
            "Validation loss: 17.213\n",
            "Training MAE: 2.4026479721069336\n",
            "Validation MAE: 3.232569932937622\n",
            "\n",
            " Epoch8 / 50\n"
          ]
        },
        {
          "output_type": "stream",
          "name": "stderr",
          "text": [
            "100%|██████████| 120/120 [00:14<00:00,  8.29it/s]\n",
            "100%|██████████| 3/3 [00:00<00:00, 10.13it/s]"
          ]
        },
        {
          "output_type": "stream",
          "name": "stdout",
          "text": [
            "tensor(2.9861)\n",
            "tensor(6.3334)\n",
            "tensor(9.4810)\n"
          ]
        },
        {
          "output_type": "stream",
          "name": "stderr",
          "text": [
            "\n"
          ]
        },
        {
          "output_type": "stream",
          "name": "stdout",
          "text": [
            "\n",
            "Training loss: 10.005\n",
            "Validation loss: 16.566\n",
            "Training MAE: 2.3648312091827393\n",
            "Validation MAE: 3.1603448390960693\n",
            "\n",
            " Epoch9 / 50\n"
          ]
        },
        {
          "output_type": "stream",
          "name": "stderr",
          "text": [
            "100%|██████████| 120/120 [00:14<00:00,  8.34it/s]\n",
            " 67%|██████▋   | 2/3 [00:00<00:00,  8.14it/s]"
          ]
        },
        {
          "output_type": "stream",
          "name": "stdout",
          "text": [
            "tensor(3.1301)\n",
            "tensor(6.1763)\n"
          ]
        },
        {
          "output_type": "stream",
          "name": "stderr",
          "text": [
            "100%|██████████| 3/3 [00:00<00:00,  7.26it/s]\n"
          ]
        },
        {
          "output_type": "stream",
          "name": "stdout",
          "text": [
            "tensor(9.1009)\n",
            "\n",
            "Training loss: 9.729\n",
            "Validation loss: 15.498\n",
            "Training MAE: 2.3345606327056885\n",
            "Validation MAE: 3.033634901046753\n",
            "\n",
            " Epoch10 / 50\n"
          ]
        },
        {
          "output_type": "stream",
          "name": "stderr",
          "text": [
            "100%|██████████| 120/120 [00:14<00:00,  8.15it/s]\n",
            "100%|██████████| 3/3 [00:00<00:00,  8.70it/s]"
          ]
        },
        {
          "output_type": "stream",
          "name": "stdout",
          "text": [
            "tensor(3.0414)\n",
            "tensor(5.9938)\n",
            "tensor(9.0394)\n"
          ]
        },
        {
          "output_type": "stream",
          "name": "stderr",
          "text": [
            "\n"
          ]
        },
        {
          "output_type": "stream",
          "name": "stdout",
          "text": [
            "\n",
            "Training loss: 9.562\n",
            "Validation loss: 15.377\n",
            "Training MAE: 2.3152663707733154\n",
            "Validation MAE: 3.013122320175171\n",
            "\n",
            " Epoch11 / 50\n"
          ]
        },
        {
          "output_type": "stream",
          "name": "stderr",
          "text": [
            "100%|██████████| 120/120 [00:14<00:00,  8.26it/s]\n",
            "100%|██████████| 3/3 [00:00<00:00,  8.88it/s]"
          ]
        },
        {
          "output_type": "stream",
          "name": "stdout",
          "text": [
            "tensor(3.0151)\n",
            "tensor(5.8741)\n",
            "tensor(8.9389)\n"
          ]
        },
        {
          "output_type": "stream",
          "name": "stderr",
          "text": [
            "\n"
          ]
        },
        {
          "output_type": "stream",
          "name": "stdout",
          "text": [
            "\n",
            "Training loss: 9.478\n",
            "Validation loss: 15.022\n",
            "Training MAE: 2.3069088459014893\n",
            "Validation MAE: 2.9796268939971924\n",
            "\n",
            " Epoch12 / 50\n"
          ]
        },
        {
          "output_type": "stream",
          "name": "stderr",
          "text": [
            "100%|██████████| 120/120 [00:14<00:00,  8.33it/s]\n",
            "100%|██████████| 3/3 [00:00<00:00, 10.51it/s]\n"
          ]
        },
        {
          "output_type": "stream",
          "name": "stdout",
          "text": [
            "tensor(2.8106)\n",
            "tensor(5.7805)\n",
            "tensor(8.7333)\n",
            "\n",
            "Training loss: 9.374\n",
            "Validation loss: 14.376\n",
            "Training MAE: 2.293552875518799\n",
            "Validation MAE: 2.9110991954803467\n",
            "\n",
            " Epoch13 / 50\n"
          ]
        },
        {
          "output_type": "stream",
          "name": "stderr",
          "text": [
            "100%|██████████| 120/120 [00:14<00:00,  8.30it/s]\n",
            "100%|██████████| 3/3 [00:00<00:00,  9.00it/s]"
          ]
        },
        {
          "output_type": "stream",
          "name": "stdout",
          "text": [
            "tensor(2.8894)\n",
            "tensor(5.7204)\n",
            "tensor(8.6394)\n"
          ]
        },
        {
          "output_type": "stream",
          "name": "stderr",
          "text": [
            "\n"
          ]
        },
        {
          "output_type": "stream",
          "name": "stdout",
          "text": [
            "\n",
            "Training loss: 9.320\n",
            "Validation loss: 14.093\n",
            "Training MAE: 2.289513111114502\n",
            "Validation MAE: 2.879800796508789\n",
            "\n",
            " Epoch14 / 50\n"
          ]
        },
        {
          "output_type": "stream",
          "name": "stderr",
          "text": [
            "100%|██████████| 120/120 [00:14<00:00,  8.35it/s]\n",
            "100%|██████████| 3/3 [00:00<00:00,  9.51it/s]\n"
          ]
        },
        {
          "output_type": "stream",
          "name": "stdout",
          "text": [
            "tensor(2.8946)\n",
            "tensor(5.6582)\n",
            "tensor(8.6661)\n",
            "\n",
            "Training loss: 9.273\n",
            "Validation loss: 14.241\n",
            "Training MAE: 2.284120798110962\n",
            "Validation MAE: 2.8886845111846924\n",
            "\n",
            " Epoch15 / 50\n"
          ]
        },
        {
          "output_type": "stream",
          "name": "stderr",
          "text": [
            "100%|██████████| 120/120 [00:14<00:00,  8.24it/s]\n",
            " 67%|██████▋   | 2/3 [00:00<00:00,  6.86it/s]"
          ]
        },
        {
          "output_type": "stream",
          "name": "stdout",
          "text": [
            "tensor(2.7636)\n",
            "tensor(5.6812)\n",
            "tensor(8.6580)\n"
          ]
        },
        {
          "output_type": "stream",
          "name": "stderr",
          "text": [
            "\r100%|██████████| 3/3 [00:00<00:00,  8.26it/s]\n"
          ]
        },
        {
          "output_type": "stream",
          "name": "stdout",
          "text": [
            "\n",
            "Training loss: 9.256\n",
            "Validation loss: 13.998\n",
            "Training MAE: 2.2799341678619385\n",
            "Validation MAE: 2.8860089778900146\n",
            "\n",
            " Epoch16 / 50\n"
          ]
        },
        {
          "output_type": "stream",
          "name": "stderr",
          "text": [
            "100%|██████████| 120/120 [00:15<00:00,  7.80it/s]\n",
            "100%|██████████| 3/3 [00:00<00:00,  9.76it/s]\n"
          ]
        },
        {
          "output_type": "stream",
          "name": "stdout",
          "text": [
            "tensor(2.7176)\n",
            "tensor(5.5502)\n",
            "tensor(8.3112)\n",
            "\n",
            "Training loss: 9.259\n",
            "Validation loss: 13.339\n",
            "Training MAE: 2.281705379486084\n",
            "Validation MAE: 2.7703983783721924\n",
            "\n",
            " Epoch17 / 50\n"
          ]
        },
        {
          "output_type": "stream",
          "name": "stderr",
          "text": [
            "100%|██████████| 120/120 [00:14<00:00,  8.23it/s]\n",
            "100%|██████████| 3/3 [00:00<00:00,  9.22it/s]"
          ]
        },
        {
          "output_type": "stream",
          "name": "stdout",
          "text": [
            "tensor(2.7479)\n",
            "tensor(5.6450)\n",
            "tensor(8.3448)\n"
          ]
        },
        {
          "output_type": "stream",
          "name": "stderr",
          "text": [
            "\n"
          ]
        },
        {
          "output_type": "stream",
          "name": "stdout",
          "text": [
            "\n",
            "Training loss: 9.245\n",
            "Validation loss: 13.266\n",
            "Training MAE: 2.2802531719207764\n",
            "Validation MAE: 2.781595230102539\n",
            "\n",
            " Epoch18 / 50\n"
          ]
        },
        {
          "output_type": "stream",
          "name": "stderr",
          "text": [
            "100%|██████████| 120/120 [00:14<00:00,  8.27it/s]\n",
            " 67%|██████▋   | 2/3 [00:00<00:00,  7.99it/s]"
          ]
        },
        {
          "output_type": "stream",
          "name": "stdout",
          "text": [
            "tensor(2.8827)\n",
            "tensor(5.5549)\n",
            "tensor(8.2725)\n"
          ]
        },
        {
          "output_type": "stream",
          "name": "stderr",
          "text": [
            "\r100%|██████████| 3/3 [00:00<00:00,  9.52it/s]\n"
          ]
        },
        {
          "output_type": "stream",
          "name": "stdout",
          "text": [
            "\n",
            "Training loss: 9.201\n",
            "Validation loss: 13.186\n",
            "Training MAE: 2.2754158973693848\n",
            "Validation MAE: 2.7574946880340576\n",
            "\n",
            " Epoch19 / 50\n"
          ]
        },
        {
          "output_type": "stream",
          "name": "stderr",
          "text": [
            "100%|██████████| 120/120 [00:14<00:00,  8.02it/s]\n",
            "100%|██████████| 3/3 [00:00<00:00,  9.48it/s]"
          ]
        },
        {
          "output_type": "stream",
          "name": "stdout",
          "text": [
            "tensor(2.6079)\n",
            "tensor(5.4833)\n",
            "tensor(8.2980)\n"
          ]
        },
        {
          "output_type": "stream",
          "name": "stderr",
          "text": [
            "\n"
          ]
        },
        {
          "output_type": "stream",
          "name": "stdout",
          "text": [
            "\n",
            "Training loss: 9.239\n",
            "Validation loss: 13.148\n",
            "Training MAE: 2.278771162033081\n",
            "Validation MAE: 2.7659919261932373\n",
            "\n",
            " Epoch20 / 50\n"
          ]
        },
        {
          "output_type": "stream",
          "name": "stderr",
          "text": [
            "100%|██████████| 120/120 [00:14<00:00,  8.08it/s]\n",
            "100%|██████████| 3/3 [00:00<00:00,  9.95it/s]\n"
          ]
        },
        {
          "output_type": "stream",
          "name": "stdout",
          "text": [
            "tensor(2.6810)\n",
            "tensor(5.4727)\n",
            "tensor(7.9929)\n",
            "\n",
            "Training loss: 9.173\n",
            "Validation loss: 12.531\n",
            "Training MAE: 2.27264404296875\n",
            "Validation MAE: 2.6643052101135254\n",
            "\n",
            " Epoch21 / 50\n"
          ]
        },
        {
          "output_type": "stream",
          "name": "stderr",
          "text": [
            "100%|██████████| 120/120 [00:14<00:00,  8.32it/s]\n",
            "100%|██████████| 3/3 [00:00<00:00,  9.32it/s]"
          ]
        },
        {
          "output_type": "stream",
          "name": "stdout",
          "text": [
            "tensor(2.6965)\n",
            "tensor(5.4346)\n",
            "tensor(7.9890)\n"
          ]
        },
        {
          "output_type": "stream",
          "name": "stderr",
          "text": [
            "\n"
          ]
        },
        {
          "output_type": "stream",
          "name": "stdout",
          "text": [
            "\n",
            "Training loss: 9.145\n",
            "Validation loss: 12.245\n",
            "Training MAE: 2.2692413330078125\n",
            "Validation MAE: 2.663008451461792\n",
            "\n",
            " Epoch22 / 50\n"
          ]
        },
        {
          "output_type": "stream",
          "name": "stderr",
          "text": [
            "100%|██████████| 120/120 [00:14<00:00,  8.34it/s]\n",
            "100%|██████████| 3/3 [00:00<00:00,  9.92it/s]\n"
          ]
        },
        {
          "output_type": "stream",
          "name": "stdout",
          "text": [
            "tensor(2.5263)\n",
            "tensor(5.1975)\n",
            "tensor(8.0156)\n",
            "\n",
            "Training loss: 9.221\n",
            "Validation loss: 12.392\n",
            "Training MAE: 2.278193712234497\n",
            "Validation MAE: 2.6718533039093018\n",
            "\n",
            " Epoch23 / 50\n"
          ]
        },
        {
          "output_type": "stream",
          "name": "stderr",
          "text": [
            "100%|██████████| 120/120 [00:14<00:00,  8.35it/s]\n",
            "100%|██████████| 3/3 [00:00<00:00,  9.46it/s]"
          ]
        },
        {
          "output_type": "stream",
          "name": "stdout",
          "text": [
            "tensor(2.5825)\n",
            "tensor(5.1436)\n",
            "tensor(7.8575)\n"
          ]
        },
        {
          "output_type": "stream",
          "name": "stderr",
          "text": [
            "\n"
          ]
        },
        {
          "output_type": "stream",
          "name": "stdout",
          "text": [
            "\n",
            "Training loss: 9.108\n",
            "Validation loss: 12.076\n",
            "Training MAE: 2.265275239944458\n",
            "Validation MAE: 2.6191654205322266\n",
            "\n",
            " Epoch24 / 50\n"
          ]
        },
        {
          "output_type": "stream",
          "name": "stderr",
          "text": [
            "100%|██████████| 120/120 [00:20<00:00,  5.88it/s]\n",
            "100%|██████████| 3/3 [00:00<00:00,  9.94it/s]"
          ]
        },
        {
          "output_type": "stream",
          "name": "stdout",
          "text": [
            "tensor(2.5509)\n",
            "tensor(5.1766)\n",
            "tensor(7.8221)\n"
          ]
        },
        {
          "output_type": "stream",
          "name": "stderr",
          "text": [
            "\n"
          ]
        },
        {
          "output_type": "stream",
          "name": "stdout",
          "text": [
            "\n",
            "Training loss: 9.055\n",
            "Validation loss: 11.938\n",
            "Training MAE: 2.2602810859680176\n",
            "Validation MAE: 2.6073806285858154\n",
            "\n",
            " Epoch25 / 50\n"
          ]
        },
        {
          "output_type": "stream",
          "name": "stderr",
          "text": [
            "100%|██████████| 120/120 [00:14<00:00,  8.21it/s]\n",
            "100%|██████████| 3/3 [00:00<00:00,  9.31it/s]"
          ]
        },
        {
          "output_type": "stream",
          "name": "stdout",
          "text": [
            "tensor(2.5339)\n",
            "tensor(5.0592)\n",
            "tensor(7.5763)\n"
          ]
        },
        {
          "output_type": "stream",
          "name": "stderr",
          "text": [
            "\n"
          ]
        },
        {
          "output_type": "stream",
          "name": "stdout",
          "text": [
            "\n",
            "Training loss: 9.009\n",
            "Validation loss: 11.295\n",
            "Training MAE: 2.254131555557251\n",
            "Validation MAE: 2.5254228115081787\n",
            "\n",
            " Epoch26 / 50\n"
          ]
        },
        {
          "output_type": "stream",
          "name": "stderr",
          "text": [
            "100%|██████████| 120/120 [00:14<00:00,  8.25it/s]\n",
            " 67%|██████▋   | 2/3 [00:00<00:00,  8.45it/s]"
          ]
        },
        {
          "output_type": "stream",
          "name": "stdout",
          "text": [
            "tensor(2.5801)\n",
            "tensor(5.1260)\n"
          ]
        },
        {
          "output_type": "stream",
          "name": "stderr",
          "text": [
            "\r100%|██████████| 3/3 [00:00<00:00,  9.30it/s]\n"
          ]
        },
        {
          "output_type": "stream",
          "name": "stdout",
          "text": [
            "tensor(7.6296)\n",
            "\n",
            "Training loss: 9.001\n",
            "Validation loss: 11.523\n",
            "Training MAE: 2.2531137466430664\n",
            "Validation MAE: 2.5432050228118896\n",
            "\n",
            " Epoch27 / 50\n"
          ]
        },
        {
          "output_type": "stream",
          "name": "stderr",
          "text": [
            "100%|██████████| 120/120 [00:14<00:00,  8.35it/s]\n",
            "100%|██████████| 3/3 [00:00<00:00,  9.48it/s]"
          ]
        },
        {
          "output_type": "stream",
          "name": "stdout",
          "text": [
            "tensor(2.5083)\n",
            "tensor(5.0175)\n",
            "tensor(7.4757)\n"
          ]
        },
        {
          "output_type": "stream",
          "name": "stderr",
          "text": [
            "\n"
          ]
        },
        {
          "output_type": "stream",
          "name": "stdout",
          "text": [
            "\n",
            "Training loss: 8.949\n",
            "Validation loss: 11.146\n",
            "Training MAE: 2.2465388774871826\n",
            "Validation MAE: 2.4919087886810303\n",
            "\n",
            " Epoch28 / 50\n"
          ]
        },
        {
          "output_type": "stream",
          "name": "stderr",
          "text": [
            "100%|██████████| 120/120 [00:14<00:00,  8.30it/s]\n",
            "100%|██████████| 3/3 [00:00<00:00, 10.02it/s]\n"
          ]
        },
        {
          "output_type": "stream",
          "name": "stdout",
          "text": [
            "tensor(2.3961)\n",
            "tensor(4.9429)\n",
            "tensor(7.5534)\n",
            "\n",
            "Training loss: 8.996\n",
            "Validation loss: 11.327\n",
            "Training MAE: 2.252391815185547\n",
            "Validation MAE: 2.517814874649048\n",
            "\n",
            " Epoch29 / 50\n"
          ]
        },
        {
          "output_type": "stream",
          "name": "stderr",
          "text": [
            "100%|██████████| 120/120 [00:14<00:00,  8.28it/s]\n",
            "100%|██████████| 3/3 [00:00<00:00,  9.50it/s]"
          ]
        },
        {
          "output_type": "stream",
          "name": "stdout",
          "text": [
            "tensor(2.3828)\n",
            "tensor(4.8532)\n",
            "tensor(7.7060)\n"
          ]
        },
        {
          "output_type": "stream",
          "name": "stderr",
          "text": [
            "\n"
          ]
        },
        {
          "output_type": "stream",
          "name": "stdout",
          "text": [
            "\n",
            "Training loss: 9.033\n",
            "Validation loss: 11.680\n",
            "Training MAE: 2.2559256553649902\n",
            "Validation MAE: 2.5686562061309814\n",
            "\n",
            " Epoch30 / 50\n"
          ]
        },
        {
          "output_type": "stream",
          "name": "stderr",
          "text": [
            "100%|██████████| 120/120 [00:14<00:00,  8.16it/s]\n",
            " 67%|██████▋   | 2/3 [00:00<00:00,  7.82it/s]"
          ]
        },
        {
          "output_type": "stream",
          "name": "stdout",
          "text": [
            "tensor(2.4978)\n",
            "tensor(4.9905)\n"
          ]
        },
        {
          "output_type": "stream",
          "name": "stderr",
          "text": [
            "\r100%|██████████| 3/3 [00:00<00:00,  8.74it/s]\n"
          ]
        },
        {
          "output_type": "stream",
          "name": "stdout",
          "text": [
            "tensor(7.6804)\n",
            "\n",
            "Training loss: 8.987\n",
            "Validation loss: 11.712\n",
            "Training MAE: 2.251300096511841\n",
            "Validation MAE: 2.560119867324829\n",
            "\n",
            " Epoch31 / 50\n"
          ]
        },
        {
          "output_type": "stream",
          "name": "stderr",
          "text": [
            "100%|██████████| 120/120 [00:14<00:00,  8.19it/s]\n",
            "100%|██████████| 3/3 [00:00<00:00,  9.65it/s]\n"
          ]
        },
        {
          "output_type": "stream",
          "name": "stdout",
          "text": [
            "tensor(2.5532)\n",
            "tensor(5.1288)\n",
            "tensor(7.6321)\n",
            "\n",
            "Training loss: 8.981\n",
            "Validation loss: 11.497\n",
            "Training MAE: 2.251289129257202\n",
            "Validation MAE: 2.5440356731414795\n",
            "\n",
            " Epoch32 / 50\n"
          ]
        },
        {
          "output_type": "stream",
          "name": "stderr",
          "text": [
            "100%|██████████| 120/120 [00:14<00:00,  8.27it/s]\n",
            "100%|██████████| 3/3 [00:00<00:00,  9.30it/s]\n"
          ]
        },
        {
          "output_type": "stream",
          "name": "stdout",
          "text": [
            "tensor(2.6250)\n",
            "tensor(5.0803)\n",
            "tensor(7.5248)\n",
            "\n",
            "Training loss: 8.928\n",
            "Validation loss: 11.216\n",
            "Training MAE: 2.2447187900543213\n",
            "Validation MAE: 2.508258104324341\n",
            "\n",
            " Epoch33 / 50\n"
          ]
        },
        {
          "output_type": "stream",
          "name": "stderr",
          "text": [
            "100%|██████████| 120/120 [00:14<00:00,  8.27it/s]\n",
            " 67%|██████▋   | 2/3 [00:00<00:00,  8.43it/s]"
          ]
        },
        {
          "output_type": "stream",
          "name": "stdout",
          "text": [
            "tensor(2.5418)\n",
            "tensor(5.1996)\n",
            "tensor(7.5029)\n"
          ]
        },
        {
          "output_type": "stream",
          "name": "stderr",
          "text": [
            "\r100%|██████████| 3/3 [00:00<00:00,  9.25it/s]\n"
          ]
        },
        {
          "output_type": "stream",
          "name": "stdout",
          "text": [
            "\n",
            "Training loss: 8.975\n",
            "Validation loss: 11.143\n",
            "Training MAE: 2.2498693466186523\n",
            "Validation MAE: 2.500969648361206\n",
            "\n",
            " Epoch34 / 50\n"
          ]
        },
        {
          "output_type": "stream",
          "name": "stderr",
          "text": [
            "100%|██████████| 120/120 [00:14<00:00,  8.31it/s]\n",
            "100%|██████████| 3/3 [00:00<00:00,  9.90it/s]\n"
          ]
        },
        {
          "output_type": "stream",
          "name": "stdout",
          "text": [
            "tensor(2.5564)\n",
            "tensor(5.0508)\n",
            "tensor(7.6906)\n",
            "\n",
            "Training loss: 8.971\n",
            "Validation loss: 11.682\n",
            "Training MAE: 2.2491297721862793\n",
            "Validation MAE: 2.563542366027832\n",
            "\n",
            " Epoch35 / 50\n"
          ]
        },
        {
          "output_type": "stream",
          "name": "stderr",
          "text": [
            "100%|██████████| 120/120 [00:14<00:00,  8.31it/s]\n",
            " 67%|██████▋   | 2/3 [00:00<00:00,  8.03it/s]"
          ]
        },
        {
          "output_type": "stream",
          "name": "stdout",
          "text": [
            "tensor(2.4413)\n",
            "tensor(5.0926)\n"
          ]
        },
        {
          "output_type": "stream",
          "name": "stderr",
          "text": [
            "\r100%|██████████| 3/3 [00:00<00:00,  9.40it/s]\n"
          ]
        },
        {
          "output_type": "stream",
          "name": "stdout",
          "text": [
            "tensor(7.5831)\n",
            "\n",
            "Training loss: 8.915\n",
            "Validation loss: 11.536\n",
            "Training MAE: 2.243276357650757\n",
            "Validation MAE: 2.5277040004730225\n",
            "\n",
            " Epoch36 / 50\n"
          ]
        },
        {
          "output_type": "stream",
          "name": "stderr",
          "text": [
            "100%|██████████| 120/120 [00:15<00:00,  7.82it/s]\n",
            "100%|██████████| 3/3 [00:00<00:00,  9.10it/s]"
          ]
        },
        {
          "output_type": "stream",
          "name": "stdout",
          "text": [
            "tensor(2.4875)\n",
            "tensor(5.0599)\n",
            "tensor(7.5381)\n"
          ]
        },
        {
          "output_type": "stream",
          "name": "stderr",
          "text": [
            "\n"
          ]
        },
        {
          "output_type": "stream",
          "name": "stdout",
          "text": [
            "\n",
            "Training loss: 9.000\n",
            "Validation loss: 11.060\n",
            "Training MAE: 2.2538022994995117\n",
            "Validation MAE: 2.5126962661743164\n",
            "\n",
            " Epoch37 / 50\n"
          ]
        },
        {
          "output_type": "stream",
          "name": "stderr",
          "text": [
            "100%|██████████| 120/120 [00:14<00:00,  8.26it/s]\n",
            "100%|██████████| 3/3 [00:00<00:00,  9.78it/s]"
          ]
        },
        {
          "output_type": "stream",
          "name": "stdout",
          "text": [
            "tensor(2.3971)\n",
            "tensor(4.9698)\n",
            "tensor(7.3803)\n"
          ]
        },
        {
          "output_type": "stream",
          "name": "stderr",
          "text": [
            "\n"
          ]
        },
        {
          "output_type": "stream",
          "name": "stdout",
          "text": [
            "\n",
            "Training loss: 8.970\n",
            "Validation loss: 10.827\n",
            "Training MAE: 2.2499098777770996\n",
            "Validation MAE: 2.4601075649261475\n",
            "\n",
            " Epoch38 / 50\n"
          ]
        },
        {
          "output_type": "stream",
          "name": "stderr",
          "text": [
            "100%|██████████| 120/120 [00:14<00:00,  8.27it/s]\n",
            "100%|██████████| 3/3 [00:00<00:00,  9.39it/s]\n"
          ]
        },
        {
          "output_type": "stream",
          "name": "stdout",
          "text": [
            "tensor(2.4343)\n",
            "tensor(4.9381)\n",
            "tensor(7.5346)\n",
            "\n",
            "Training loss: 8.974\n",
            "Validation loss: 11.207\n",
            "Training MAE: 2.2510452270507812\n",
            "Validation MAE: 2.51151704788208\n",
            "\n",
            " Epoch39 / 50\n"
          ]
        },
        {
          "output_type": "stream",
          "name": "stderr",
          "text": [
            "100%|██████████| 120/120 [00:14<00:00,  8.29it/s]\n",
            "100%|██████████| 3/3 [00:00<00:00,  9.93it/s]\n"
          ]
        },
        {
          "output_type": "stream",
          "name": "stdout",
          "text": [
            "tensor(2.5344)\n",
            "tensor(5.1367)\n",
            "tensor(7.6360)\n",
            "\n",
            "Training loss: 8.975\n",
            "Validation loss: 11.474\n",
            "Training MAE: 2.2506797313690186\n",
            "Validation MAE: 2.5453433990478516\n",
            "\n",
            " Epoch40 / 50\n"
          ]
        },
        {
          "output_type": "stream",
          "name": "stderr",
          "text": [
            "100%|██████████| 120/120 [00:14<00:00,  8.07it/s]\n",
            "100%|██████████| 3/3 [00:00<00:00,  9.33it/s]\n"
          ]
        },
        {
          "output_type": "stream",
          "name": "stdout",
          "text": [
            "tensor(2.4738)\n",
            "tensor(4.9333)\n",
            "tensor(7.7354)\n",
            "\n",
            "Training loss: 8.928\n",
            "Validation loss: 11.616\n",
            "Training MAE: 2.2450273036956787\n",
            "Validation MAE: 2.5784502029418945\n",
            "\n",
            " Epoch41 / 50\n"
          ]
        },
        {
          "output_type": "stream",
          "name": "stderr",
          "text": [
            "100%|██████████| 120/120 [00:14<00:00,  8.32it/s]\n",
            "100%|██████████| 3/3 [00:00<00:00,  9.49it/s]"
          ]
        },
        {
          "output_type": "stream",
          "name": "stdout",
          "text": [
            "tensor(2.5182)\n",
            "tensor(5.0881)\n",
            "tensor(7.6405)\n",
            "\n",
            "Training loss: 8.985\n",
            "Validation loss: 11.423\n",
            "Training MAE: 2.25179123878479\n"
          ]
        },
        {
          "output_type": "stream",
          "name": "stderr",
          "text": [
            "\n"
          ]
        },
        {
          "output_type": "stream",
          "name": "stdout",
          "text": [
            "Validation MAE: 2.546846628189087\n",
            "\n",
            " Epoch42 / 50\n"
          ]
        },
        {
          "output_type": "stream",
          "name": "stderr",
          "text": [
            "100%|██████████| 120/120 [00:14<00:00,  8.21it/s]\n",
            "100%|██████████| 3/3 [00:00<00:00,  9.12it/s]\n"
          ]
        },
        {
          "output_type": "stream",
          "name": "stdout",
          "text": [
            "tensor(2.6385)\n",
            "tensor(5.1836)\n",
            "tensor(7.9016)\n",
            "\n",
            "Training loss: 8.887\n",
            "Validation loss: 12.141\n",
            "Training MAE: 2.240042209625244\n",
            "Validation MAE: 2.633869171142578\n",
            "\n",
            " Epoch43 / 50\n"
          ]
        },
        {
          "output_type": "stream",
          "name": "stderr",
          "text": [
            "100%|██████████| 120/120 [00:14<00:00,  8.22it/s]\n",
            "100%|██████████| 3/3 [00:00<00:00,  9.70it/s]\n"
          ]
        },
        {
          "output_type": "stream",
          "name": "stdout",
          "text": [
            "tensor(2.6083)\n",
            "tensor(5.1940)\n",
            "tensor(7.7711)\n",
            "\n",
            "Training loss: 8.888\n",
            "Validation loss: 11.926\n",
            "Training MAE: 2.2401859760284424\n",
            "Validation MAE: 2.5903775691986084\n",
            "\n",
            " Epoch44 / 50\n"
          ]
        },
        {
          "output_type": "stream",
          "name": "stderr",
          "text": [
            "100%|██████████| 120/120 [00:14<00:00,  8.31it/s]\n",
            "100%|██████████| 3/3 [00:00<00:00,  9.27it/s]\n"
          ]
        },
        {
          "output_type": "stream",
          "name": "stdout",
          "text": [
            "tensor(2.5674)\n",
            "tensor(5.1570)\n",
            "tensor(7.7670)\n",
            "\n",
            "Training loss: 8.910\n",
            "Validation loss: 11.899\n",
            "Training MAE: 2.242525577545166\n",
            "Validation MAE: 2.5890016555786133\n",
            "\n",
            " Epoch45 / 50\n"
          ]
        },
        {
          "output_type": "stream",
          "name": "stderr",
          "text": [
            "100%|██████████| 120/120 [00:14<00:00,  8.27it/s]\n",
            "100%|██████████| 3/3 [00:00<00:00,  9.67it/s]\n"
          ]
        },
        {
          "output_type": "stream",
          "name": "stdout",
          "text": [
            "tensor(2.5316)\n",
            "tensor(5.1223)\n",
            "tensor(7.7410)\n",
            "\n",
            "Training loss: 8.944\n",
            "Validation loss: 11.743\n",
            "Training MAE: 2.247062921524048\n",
            "Validation MAE: 2.5803475379943848\n",
            "\n",
            " Epoch46 / 50\n"
          ]
        },
        {
          "output_type": "stream",
          "name": "stderr",
          "text": [
            "100%|██████████| 120/120 [00:14<00:00,  8.27it/s]\n",
            "100%|██████████| 3/3 [00:00<00:00,  9.40it/s]\n"
          ]
        },
        {
          "output_type": "stream",
          "name": "stdout",
          "text": [
            "tensor(2.4556)\n",
            "tensor(5.1589)\n",
            "tensor(7.6379)\n",
            "\n",
            "Training loss: 8.963\n",
            "Validation loss: 11.401\n",
            "Training MAE: 2.249523401260376\n",
            "Validation MAE: 2.545950174331665\n",
            "\n",
            " Epoch47 / 50\n"
          ]
        },
        {
          "output_type": "stream",
          "name": "stderr",
          "text": [
            "100%|██████████| 120/120 [00:14<00:00,  8.28it/s]\n",
            "100%|██████████| 3/3 [00:00<00:00,  9.72it/s]\n"
          ]
        },
        {
          "output_type": "stream",
          "name": "stdout",
          "text": [
            "tensor(2.5394)\n",
            "tensor(5.1408)\n",
            "tensor(7.5073)\n",
            "\n",
            "Training loss: 8.844\n",
            "Validation loss: 11.065\n",
            "Training MAE: 2.234907627105713\n",
            "Validation MAE: 2.5024168491363525\n",
            "\n",
            " Epoch48 / 50\n"
          ]
        },
        {
          "output_type": "stream",
          "name": "stderr",
          "text": [
            "100%|██████████| 120/120 [00:14<00:00,  8.33it/s]\n",
            "100%|██████████| 3/3 [00:00<00:00,  9.53it/s]\n"
          ]
        },
        {
          "output_type": "stream",
          "name": "stdout",
          "text": [
            "tensor(2.5146)\n",
            "tensor(5.0297)\n",
            "tensor(7.4302)\n",
            "\n",
            "Training loss: 8.835\n",
            "Validation loss: 10.885\n",
            "Training MAE: 2.2340469360351562\n",
            "Validation MAE: 2.4767274856567383\n",
            "\n",
            " Epoch49 / 50\n"
          ]
        },
        {
          "output_type": "stream",
          "name": "stderr",
          "text": [
            "100%|██████████| 120/120 [00:14<00:00,  8.31it/s]\n",
            "100%|██████████| 3/3 [00:00<00:00,  9.38it/s]\n"
          ]
        },
        {
          "output_type": "stream",
          "name": "stdout",
          "text": [
            "tensor(2.5080)\n",
            "tensor(5.0626)\n",
            "tensor(7.6329)\n",
            "\n",
            "Training loss: 8.858\n",
            "Validation loss: 11.476\n",
            "Training MAE: 2.2362098693847656\n",
            "Validation MAE: 2.5442922115325928\n",
            "\n",
            " Epoch50 / 50\n"
          ]
        },
        {
          "output_type": "stream",
          "name": "stderr",
          "text": [
            "100%|██████████| 120/120 [00:14<00:00,  8.00it/s]\n",
            "100%|██████████| 3/3 [00:00<00:00, 10.14it/s]"
          ]
        },
        {
          "output_type": "stream",
          "name": "stdout",
          "text": [
            "tensor(2.5377)\n",
            "tensor(5.0871)\n",
            "tensor(7.5608)\n",
            "\n",
            "Training loss: 8.875\n",
            "Validation loss: 11.344\n",
            "Training MAE: 2.2392256259918213\n",
            "Validation MAE: 2.520252227783203\n"
          ]
        },
        {
          "output_type": "stream",
          "name": "stderr",
          "text": [
            "\n"
          ]
        }
      ]
    },
    {
      "cell_type": "code",
      "source": [
        "plot_losses()"
      ],
      "metadata": {
        "colab": {
          "base_uri": "https://localhost:8080/",
          "height": 295
        },
        "id": "PGtCsihLQgyN",
        "outputId": "0c0fe11a-a019-401e-f1fd-bf35373d6c3f"
      },
      "execution_count": null,
      "outputs": [
        {
          "output_type": "display_data",
          "data": {
            "text/plain": [
              "<Figure size 432x288 with 1 Axes>"
            ],
            "image/png": "[encoded data removed]"
          },
          "metadata": {
            "needs_background": "light"
          }
        }
      ]
    },
    {
      "cell_type": "code",
      "source": [
        "plot_metrics()"
      ],
      "metadata": {
        "colab": {
          "base_uri": "https://localhost:8080/",
          "height": 295
        },
        "id": "FCl5PIvJQihu",
        "outputId": "f5425657-69db-4416-f54a-a77bd7f712c9"
      },
      "execution_count": null,
      "outputs": [
        {
          "output_type": "display_data",
          "data": {
            "text/plain": [
              "<Figure size 432x288 with 1 Axes>"
            ],
            "image/png": "[encoded data removed]"
          },
          "metadata": {
            "needs_background": "light"
          }
        }
      ]
    },
    {
      "cell_type": "code",
      "source": [
        "model = MatrixFactorizationModel(\n",
        "    60, len(user_lookup), len(movie_lookup), ratings_range=[1, 10]\n",
        ")\n",
        "model = model.to(device)\n",
        "loss_func = torch.nn.MSELoss()\n",
        "mae_func = torchmetrics.MeanAbsoluteError()\n",
        "\n",
        "optimizer = torch.optim.AdamW(model.parameters(), lr=0.05)"
      ],
      "metadata": {
        "id": "LBHSFNVTQj6e"
      },
      "execution_count": null,
      "outputs": []
    },
    {
      "cell_type": "code",
      "source": [
        "all_train_losses = []\n",
        "all_valid_losses = []\n",
        "all_train_metrics = []\n",
        "all_val_metrics = []\n",
        "best_valid_loss = float('inf')\n",
        "best_val_metric = float('inf')\n",
        "epochs = 50\n",
        "train_losses = []\n",
        "valid_losses = []\n",
        "train_metrics, val_metrics = [], []\n",
        "\n",
        "for epoch in range(epochs):\n",
        "    print('\\n Epoch{:} / {:}'.format(epoch+1, epochs))\n",
        "\n",
        "    train_loss, train_mae, _ = train()\n",
        "    valid_loss, val_mae, _ = evaluate()\n",
        "    \n",
        "    if valid_loss < best_valid_loss:\n",
        "        best_valid_loss = valid_loss\n",
        "        best_val_metric = val_mae\n",
        "        torch.save(model.state_dict(), 'saved_weights.pt')\n",
        "    \n",
        "    train_losses.append(train_loss)\n",
        "    valid_losses.append(valid_loss)\n",
        "    train_metrics.append(train_mae)\n",
        "    val_metrics.append(val_mae)\n",
        "    print(f'\\nTraining loss: {train_loss:.3f}')\n",
        "    print(f'Validation loss: {valid_loss:.3f}')\n",
        "    print(f'Training MAE: {train_mae}')\n",
        "    print(f'Validation MAE: {val_mae}')\n",
        "    \n",
        "all_train_losses.extend(train_losses)\n",
        "all_valid_losses.extend(valid_losses)\n",
        "all_train_metrics.extend(train_metrics)\n",
        "all_val_metrics.extend(val_metrics)"
      ],
      "metadata": {
        "colab": {
          "base_uri": "https://localhost:8080/"
        },
        "id": "wSBelbUgX4yf",
        "outputId": "16308de8-4855-4f97-8151-d686524d4dbe"
      },
      "execution_count": null,
      "outputs": [
        {
          "output_type": "stream",
          "name": "stdout",
          "text": [
            "\n",
            " Epoch1 / 50\n"
          ]
        },
        {
          "output_type": "stream",
          "name": "stderr",
          "text": [
            "100%|██████████| 120/120 [00:14<00:00,  8.29it/s]\n",
            "100%|██████████| 3/3 [00:00<00:00,  9.60it/s]\n"
          ]
        },
        {
          "output_type": "stream",
          "name": "stdout",
          "text": [
            "tensor(3.6012)\n",
            "tensor(7.3268)\n",
            "tensor(11.0804)\n",
            "\n",
            "Training loss: 23.054\n",
            "Validation loss: 21.324\n",
            "Training MAE: 3.883434772491455\n",
            "Validation MAE: 3.693481683731079\n",
            "\n",
            " Epoch2 / 50\n"
          ]
        },
        {
          "output_type": "stream",
          "name": "stderr",
          "text": [
            "100%|██████████| 120/120 [00:15<00:00,  7.81it/s]\n",
            "100%|██████████| 3/3 [00:00<00:00,  9.99it/s]\n"
          ]
        },
        {
          "output_type": "stream",
          "name": "stdout",
          "text": [
            "tensor(3.5578)\n",
            "tensor(7.0032)\n",
            "tensor(10.4366)\n",
            "\n",
            "Training loss: 15.458\n",
            "Validation loss: 19.660\n",
            "Training MAE: 2.9855682849884033\n",
            "Validation MAE: 3.4788706302642822\n",
            "\n",
            " Epoch3 / 50\n"
          ]
        },
        {
          "output_type": "stream",
          "name": "stderr",
          "text": [
            "100%|██████████| 120/120 [00:14<00:00,  8.39it/s]\n",
            "100%|██████████| 3/3 [00:00<00:00, 10.44it/s]\n"
          ]
        },
        {
          "output_type": "stream",
          "name": "stdout",
          "text": [
            "tensor(3.3624)\n",
            "tensor(6.7465)\n",
            "tensor(10.0948)\n",
            "\n",
            "Training loss: 12.322\n",
            "Validation loss: 18.377\n",
            "Training MAE: 2.6254594326019287\n",
            "Validation MAE: 3.364927291870117\n",
            "\n",
            " Epoch4 / 50\n"
          ]
        },
        {
          "output_type": "stream",
          "name": "stderr",
          "text": [
            "100%|██████████| 120/120 [00:14<00:00,  8.40it/s]\n",
            "100%|██████████| 3/3 [00:00<00:00, 10.04it/s]"
          ]
        },
        {
          "output_type": "stream",
          "name": "stdout",
          "text": [
            "tensor(3.1027)\n",
            "tensor(6.4413)\n",
            "tensor(9.6040)\n"
          ]
        },
        {
          "output_type": "stream",
          "name": "stderr",
          "text": [
            "\n"
          ]
        },
        {
          "output_type": "stream",
          "name": "stdout",
          "text": [
            "\n",
            "Training loss: 10.774\n",
            "Validation loss: 17.114\n",
            "Training MAE: 2.45047926902771\n",
            "Validation MAE: 3.2013299465179443\n",
            "\n",
            " Epoch5 / 50\n"
          ]
        },
        {
          "output_type": "stream",
          "name": "stderr",
          "text": [
            "100%|██████████| 120/120 [00:15<00:00,  7.80it/s]\n",
            "100%|██████████| 3/3 [00:00<00:00,  9.86it/s]"
          ]
        },
        {
          "output_type": "stream",
          "name": "stdout",
          "text": [
            "tensor(3.1677)\n",
            "tensor(6.4543)\n",
            "tensor(9.4554)\n"
          ]
        },
        {
          "output_type": "stream",
          "name": "stderr",
          "text": [
            "\n"
          ]
        },
        {
          "output_type": "stream",
          "name": "stdout",
          "text": [
            "\n",
            "Training loss: 9.805\n",
            "Validation loss: 16.606\n",
            "Training MAE: 2.3397762775421143\n",
            "Validation MAE: 3.151797294616699\n",
            "\n",
            " Epoch6 / 50\n"
          ]
        },
        {
          "output_type": "stream",
          "name": "stderr",
          "text": [
            "100%|██████████| 120/120 [00:14<00:00,  8.38it/s]\n",
            "100%|██████████| 3/3 [00:00<00:00, 10.39it/s]\n"
          ]
        },
        {
          "output_type": "stream",
          "name": "stdout",
          "text": [
            "tensor(3.1373)\n",
            "tensor(6.1515)\n",
            "tensor(9.2506)\n",
            "\n",
            "Training loss: 9.288\n",
            "Validation loss: 15.933\n",
            "Training MAE: 2.282874584197998\n",
            "Validation MAE: 3.083536386489868\n",
            "\n",
            " Epoch7 / 50\n"
          ]
        },
        {
          "output_type": "stream",
          "name": "stderr",
          "text": [
            "100%|██████████| 120/120 [00:14<00:00,  8.41it/s]\n",
            "100%|██████████| 3/3 [00:00<00:00,  9.91it/s]"
          ]
        },
        {
          "output_type": "stream",
          "name": "stdout",
          "text": [
            "tensor(3.1283)\n",
            "tensor(6.2454)\n",
            "tensor(9.0541)\n"
          ]
        },
        {
          "output_type": "stream",
          "name": "stderr",
          "text": [
            "\n"
          ]
        },
        {
          "output_type": "stream",
          "name": "stdout",
          "text": [
            "\n",
            "Training loss: 8.980\n",
            "Validation loss: 15.516\n",
            "Training MAE: 2.248020887374878\n",
            "Validation MAE: 3.0180416107177734\n",
            "\n",
            " Epoch8 / 50\n"
          ]
        },
        {
          "output_type": "stream",
          "name": "stderr",
          "text": [
            "100%|██████████| 120/120 [00:14<00:00,  8.31it/s]\n",
            "100%|██████████| 3/3 [00:00<00:00,  9.97it/s]\n"
          ]
        },
        {
          "output_type": "stream",
          "name": "stdout",
          "text": [
            "tensor(3.0866)\n",
            "tensor(5.9683)\n",
            "tensor(9.2531)\n",
            "\n",
            "Training loss: 8.824\n",
            "Validation loss: 15.994\n",
            "Training MAE: 2.228895425796509\n",
            "Validation MAE: 3.0843505859375\n",
            "\n",
            " Epoch9 / 50\n"
          ]
        },
        {
          "output_type": "stream",
          "name": "stderr",
          "text": [
            "100%|██████████| 120/120 [00:14<00:00,  8.17it/s]\n",
            " 67%|██████▋   | 2/3 [00:00<00:00,  7.97it/s]"
          ]
        },
        {
          "output_type": "stream",
          "name": "stdout",
          "text": [
            "tensor(3.0270)\n",
            "tensor(5.9513)\n"
          ]
        },
        {
          "output_type": "stream",
          "name": "stderr",
          "text": [
            "\r100%|██████████| 3/3 [00:00<00:00,  9.25it/s]\n"
          ]
        },
        {
          "output_type": "stream",
          "name": "stdout",
          "text": [
            "tensor(8.9652)\n",
            "\n",
            "Training loss: 8.695\n",
            "Validation loss: 15.170\n",
            "Training MAE: 2.2149815559387207\n",
            "Validation MAE: 2.9884045124053955\n",
            "\n",
            " Epoch10 / 50\n"
          ]
        },
        {
          "output_type": "stream",
          "name": "stderr",
          "text": [
            "100%|██████████| 120/120 [00:14<00:00,  8.42it/s]\n",
            "100%|██████████| 3/3 [00:00<00:00,  9.87it/s]\n"
          ]
        },
        {
          "output_type": "stream",
          "name": "stdout",
          "text": [
            "tensor(2.7998)\n",
            "tensor(5.8221)\n",
            "tensor(8.7371)\n",
            "\n",
            "Training loss: 8.638\n",
            "Validation loss: 14.440\n",
            "Training MAE: 2.2106566429138184\n",
            "Validation MAE: 2.9123713970184326\n",
            "\n",
            " Epoch11 / 50\n"
          ]
        },
        {
          "output_type": "stream",
          "name": "stderr",
          "text": [
            "100%|██████████| 120/120 [00:14<00:00,  8.45it/s]\n",
            "100%|██████████| 3/3 [00:00<00:00, 10.20it/s]\n"
          ]
        },
        {
          "output_type": "stream",
          "name": "stdout",
          "text": [
            "tensor(2.7968)\n",
            "tensor(5.8107)\n",
            "tensor(8.5760)\n",
            "\n",
            "Training loss: 8.510\n",
            "Validation loss: 13.799\n",
            "Training MAE: 2.1950385570526123\n",
            "Validation MAE: 2.8586666584014893\n",
            "\n",
            " Epoch12 / 50\n"
          ]
        },
        {
          "output_type": "stream",
          "name": "stderr",
          "text": [
            "100%|██████████| 120/120 [00:14<00:00,  8.26it/s]\n",
            "100%|██████████| 3/3 [00:00<00:00,  9.87it/s]"
          ]
        },
        {
          "output_type": "stream",
          "name": "stdout",
          "text": [
            "tensor(2.8869)\n",
            "tensor(5.7460)\n",
            "tensor(8.5292)\n"
          ]
        },
        {
          "output_type": "stream",
          "name": "stderr",
          "text": [
            "\n"
          ]
        },
        {
          "output_type": "stream",
          "name": "stdout",
          "text": [
            "\n",
            "Training loss: 8.507\n",
            "Validation loss: 13.785\n",
            "Training MAE: 2.1946535110473633\n",
            "Validation MAE: 2.8430652618408203\n",
            "\n",
            " Epoch13 / 50\n"
          ]
        },
        {
          "output_type": "stream",
          "name": "stderr",
          "text": [
            "100%|██████████| 120/120 [00:14<00:00,  8.43it/s]\n",
            "100%|██████████| 3/3 [00:00<00:00,  9.86it/s]"
          ]
        },
        {
          "output_type": "stream",
          "name": "stdout",
          "text": [
            "tensor(2.6918)\n",
            "tensor(5.5291)\n",
            "tensor(8.4411)\n"
          ]
        },
        {
          "output_type": "stream",
          "name": "stderr",
          "text": [
            "\n"
          ]
        },
        {
          "output_type": "stream",
          "name": "stdout",
          "text": [
            "\n",
            "Training loss: 8.437\n",
            "Validation loss: 13.536\n",
            "Training MAE: 2.1880486011505127\n",
            "Validation MAE: 2.8136990070343018\n",
            "\n",
            " Epoch14 / 50\n"
          ]
        },
        {
          "output_type": "stream",
          "name": "stderr",
          "text": [
            "100%|██████████| 120/120 [00:14<00:00,  8.37it/s]\n",
            "100%|██████████| 3/3 [00:00<00:00,  9.68it/s]"
          ]
        },
        {
          "output_type": "stream",
          "name": "stdout",
          "text": [
            "tensor(2.6844)\n",
            "tensor(5.5530)\n",
            "tensor(8.3010)\n"
          ]
        },
        {
          "output_type": "stream",
          "name": "stderr",
          "text": [
            "\n"
          ]
        },
        {
          "output_type": "stream",
          "name": "stdout",
          "text": [
            "\n",
            "Training loss: 8.399\n",
            "Validation loss: 13.251\n",
            "Training MAE: 2.1841163635253906\n",
            "Validation MAE: 2.766993522644043\n",
            "\n",
            " Epoch15 / 50\n"
          ]
        },
        {
          "output_type": "stream",
          "name": "stderr",
          "text": [
            "100%|██████████| 120/120 [00:14<00:00,  8.30it/s]\n",
            "100%|██████████| 3/3 [00:00<00:00,  9.72it/s]\n"
          ]
        },
        {
          "output_type": "stream",
          "name": "stdout",
          "text": [
            "tensor(2.7357)\n",
            "tensor(5.6297)\n",
            "tensor(8.4267)\n",
            "\n",
            "Training loss: 8.342\n",
            "Validation loss: 13.543\n",
            "Training MAE: 2.176758050918579\n",
            "Validation MAE: 2.8089091777801514\n",
            "\n",
            " Epoch16 / 50\n"
          ]
        },
        {
          "output_type": "stream",
          "name": "stderr",
          "text": [
            "100%|██████████| 120/120 [00:14<00:00,  8.39it/s]\n",
            "100%|██████████| 3/3 [00:00<00:00,  9.84it/s]\n"
          ]
        },
        {
          "output_type": "stream",
          "name": "stdout",
          "text": [
            "tensor(2.7631)\n",
            "tensor(5.5054)\n",
            "tensor(8.2661)\n",
            "\n",
            "Training loss: 8.309\n",
            "Validation loss: 12.941\n",
            "Training MAE: 2.174344778060913\n",
            "Validation MAE: 2.7553675174713135\n",
            "\n",
            " Epoch17 / 50\n"
          ]
        },
        {
          "output_type": "stream",
          "name": "stderr",
          "text": [
            "100%|██████████| 120/120 [00:14<00:00,  8.14it/s]\n",
            " 67%|██████▋   | 2/3 [00:00<00:00,  7.42it/s]"
          ]
        },
        {
          "output_type": "stream",
          "name": "stdout",
          "text": [
            "tensor(2.6335)\n",
            "tensor(5.2360)\n"
          ]
        },
        {
          "output_type": "stream",
          "name": "stderr",
          "text": [
            "\r100%|██████████| 3/3 [00:00<00:00,  8.49it/s]\n"
          ]
        },
        {
          "output_type": "stream",
          "name": "stdout",
          "text": [
            "tensor(7.8234)\n",
            "\n",
            "Training loss: 8.234\n",
            "Validation loss: 11.865\n",
            "Training MAE: 2.164574384689331\n",
            "Validation MAE: 2.607794761657715\n",
            "\n",
            " Epoch18 / 50\n"
          ]
        },
        {
          "output_type": "stream",
          "name": "stderr",
          "text": [
            "100%|██████████| 120/120 [00:15<00:00,  7.94it/s]\n",
            "100%|██████████| 3/3 [00:00<00:00,  9.67it/s]\n"
          ]
        },
        {
          "output_type": "stream",
          "name": "stdout",
          "text": [
            "tensor(2.6851)\n",
            "tensor(5.2916)\n",
            "tensor(7.8755)\n",
            "\n",
            "Training loss: 8.244\n",
            "Validation loss: 11.984\n",
            "Training MAE: 2.1656997203826904\n",
            "Validation MAE: 2.625178575515747\n",
            "\n",
            " Epoch19 / 50\n"
          ]
        },
        {
          "output_type": "stream",
          "name": "stderr",
          "text": [
            "100%|██████████| 120/120 [00:14<00:00,  8.48it/s]\n",
            "100%|██████████| 3/3 [00:00<00:00, 10.25it/s]\n"
          ]
        },
        {
          "output_type": "stream",
          "name": "stdout",
          "text": [
            "tensor(2.6242)\n",
            "tensor(5.2840)\n",
            "tensor(7.8937)\n",
            "\n",
            "Training loss: 8.253\n",
            "Validation loss: 12.080\n",
            "Training MAE: 2.167513608932495\n",
            "Validation MAE: 2.6312437057495117\n",
            "\n",
            " Epoch20 / 50\n"
          ]
        },
        {
          "output_type": "stream",
          "name": "stderr",
          "text": [
            "100%|██████████| 120/120 [00:14<00:00,  8.14it/s]\n",
            " 67%|██████▋   | 2/3 [00:00<00:00,  7.95it/s]"
          ]
        },
        {
          "output_type": "stream",
          "name": "stdout",
          "text": [
            "tensor(2.6554)\n",
            "tensor(5.2194)\n"
          ]
        },
        {
          "output_type": "stream",
          "name": "stderr",
          "text": [
            "\r100%|██████████| 3/3 [00:00<00:00,  9.25it/s]\n"
          ]
        },
        {
          "output_type": "stream",
          "name": "stdout",
          "text": [
            "tensor(7.7651)\n",
            "\n",
            "Training loss: 8.247\n",
            "Validation loss: 11.661\n",
            "Training MAE: 2.165027141571045\n",
            "Validation MAE: 2.5883586406707764\n",
            "\n",
            " Epoch21 / 50\n"
          ]
        },
        {
          "output_type": "stream",
          "name": "stderr",
          "text": [
            "100%|██████████| 120/120 [00:14<00:00,  8.34it/s]\n",
            "100%|██████████| 3/3 [00:00<00:00,  9.94it/s]"
          ]
        },
        {
          "output_type": "stream",
          "name": "stdout",
          "text": [
            "tensor(2.5947)\n",
            "tensor(5.1591)\n",
            "tensor(7.7143)\n"
          ]
        },
        {
          "output_type": "stream",
          "name": "stderr",
          "text": [
            "\n"
          ]
        },
        {
          "output_type": "stream",
          "name": "stdout",
          "text": [
            "\n",
            "Training loss: 8.326\n",
            "Validation loss: 11.642\n",
            "Training MAE: 2.1758203506469727\n",
            "Validation MAE: 2.571432113647461\n",
            "\n",
            " Epoch22 / 50\n"
          ]
        },
        {
          "output_type": "stream",
          "name": "stderr",
          "text": [
            "100%|██████████| 120/120 [00:14<00:00,  8.40it/s]\n",
            "100%|██████████| 3/3 [00:00<00:00,  9.67it/s]\n"
          ]
        },
        {
          "output_type": "stream",
          "name": "stdout",
          "text": [
            "tensor(2.6210)\n",
            "tensor(5.1349)\n",
            "tensor(7.7758)\n",
            "\n",
            "Training loss: 8.325\n",
            "Validation loss: 11.790\n",
            "Training MAE: 2.1760871410369873\n",
            "Validation MAE: 2.5919220447540283\n",
            "\n",
            " Epoch23 / 50\n"
          ]
        },
        {
          "output_type": "stream",
          "name": "stderr",
          "text": [
            "100%|██████████| 120/120 [00:14<00:00,  8.40it/s]\n",
            "100%|██████████| 3/3 [00:00<00:00,  9.58it/s]"
          ]
        },
        {
          "output_type": "stream",
          "name": "stdout",
          "text": [
            "tensor(2.4319)\n",
            "tensor(5.0902)\n",
            "tensor(7.6874)\n"
          ]
        },
        {
          "output_type": "stream",
          "name": "stderr",
          "text": [
            "\n"
          ]
        },
        {
          "output_type": "stream",
          "name": "stdout",
          "text": [
            "\n",
            "Training loss: 8.282\n",
            "Validation loss: 11.503\n",
            "Training MAE: 2.1708922386169434\n",
            "Validation MAE: 2.5624516010284424\n",
            "\n",
            " Epoch24 / 50\n"
          ]
        },
        {
          "output_type": "stream",
          "name": "stderr",
          "text": [
            "100%|██████████| 120/120 [00:14<00:00,  8.47it/s]\n",
            "100%|██████████| 3/3 [00:00<00:00,  9.42it/s]"
          ]
        },
        {
          "output_type": "stream",
          "name": "stdout",
          "text": [
            "tensor(2.5278)\n",
            "tensor(5.1367)\n",
            "tensor(7.6150)\n"
          ]
        },
        {
          "output_type": "stream",
          "name": "stderr",
          "text": [
            "\n"
          ]
        },
        {
          "output_type": "stream",
          "name": "stdout",
          "text": [
            "\n",
            "Training loss: 8.282\n",
            "Validation loss: 11.425\n",
            "Training MAE: 2.1703262329101562\n",
            "Validation MAE: 2.538329839706421\n",
            "\n",
            " Epoch25 / 50\n"
          ]
        },
        {
          "output_type": "stream",
          "name": "stderr",
          "text": [
            "100%|██████████| 120/120 [00:14<00:00,  8.33it/s]\n",
            "100%|██████████| 3/3 [00:00<00:00, 10.11it/s]\n"
          ]
        },
        {
          "output_type": "stream",
          "name": "stdout",
          "text": [
            "tensor(2.4456)\n",
            "tensor(5.1719)\n",
            "tensor(7.5805)\n",
            "\n",
            "Training loss: 8.263\n",
            "Validation loss: 11.196\n",
            "Training MAE: 2.168513059616089\n",
            "Validation MAE: 2.526827096939087\n",
            "\n",
            " Epoch26 / 50\n"
          ]
        },
        {
          "output_type": "stream",
          "name": "stderr",
          "text": [
            "100%|██████████| 120/120 [00:14<00:00,  8.38it/s]\n",
            "100%|██████████| 3/3 [00:00<00:00,  9.34it/s]"
          ]
        },
        {
          "output_type": "stream",
          "name": "stdout",
          "text": [
            "tensor(2.5908)\n",
            "tensor(5.1600)\n",
            "tensor(7.4412)\n"
          ]
        },
        {
          "output_type": "stream",
          "name": "stderr",
          "text": [
            "\n"
          ]
        },
        {
          "output_type": "stream",
          "name": "stdout",
          "text": [
            "\n",
            "Training loss: 8.252\n",
            "Validation loss: 10.852\n",
            "Training MAE: 2.1661925315856934\n",
            "Validation MAE: 2.480394124984741\n",
            "\n",
            " Epoch27 / 50\n"
          ]
        },
        {
          "output_type": "stream",
          "name": "stderr",
          "text": [
            "100%|██████████| 120/120 [00:14<00:00,  8.45it/s]\n",
            "100%|██████████| 3/3 [00:00<00:00,  9.84it/s]\n"
          ]
        },
        {
          "output_type": "stream",
          "name": "stdout",
          "text": [
            "tensor(2.6196)\n",
            "tensor(5.1169)\n",
            "tensor(7.5115)\n",
            "\n",
            "Training loss: 8.255\n",
            "Validation loss: 11.011\n",
            "Training MAE: 2.167365550994873\n",
            "Validation MAE: 2.5038363933563232\n",
            "\n",
            " Epoch28 / 50\n"
          ]
        },
        {
          "output_type": "stream",
          "name": "stderr",
          "text": [
            "100%|██████████| 120/120 [00:14<00:00,  8.35it/s]\n",
            "100%|██████████| 3/3 [00:00<00:00,  9.27it/s]\n"
          ]
        },
        {
          "output_type": "stream",
          "name": "stdout",
          "text": [
            "tensor(2.3966)\n",
            "tensor(4.9052)\n",
            "tensor(7.4905)\n",
            "\n",
            "Training loss: 8.202\n",
            "Validation loss: 10.927\n",
            "Training MAE: 2.1610891819000244\n",
            "Validation MAE: 2.4968454837799072\n",
            "\n",
            " Epoch29 / 50\n"
          ]
        },
        {
          "output_type": "stream",
          "name": "stderr",
          "text": [
            "100%|██████████| 120/120 [00:14<00:00,  8.38it/s]\n",
            " 67%|██████▋   | 2/3 [00:00<00:00,  7.68it/s]"
          ]
        },
        {
          "output_type": "stream",
          "name": "stdout",
          "text": [
            "tensor(2.4956)\n",
            "tensor(5.0039)\n"
          ]
        },
        {
          "output_type": "stream",
          "name": "stderr",
          "text": [
            "\r100%|██████████| 3/3 [00:00<00:00,  9.34it/s]\n"
          ]
        },
        {
          "output_type": "stream",
          "name": "stdout",
          "text": [
            "tensor(7.4825)\n",
            "\n",
            "Training loss: 8.239\n",
            "Validation loss: 10.909\n",
            "Training MAE: 2.166396141052246\n",
            "Validation MAE: 2.4941775798797607\n",
            "\n",
            " Epoch30 / 50\n"
          ]
        },
        {
          "output_type": "stream",
          "name": "stderr",
          "text": [
            "100%|██████████| 120/120 [00:14<00:00,  8.22it/s]\n",
            "100%|██████████| 3/3 [00:00<00:00,  9.42it/s]"
          ]
        },
        {
          "output_type": "stream",
          "name": "stdout",
          "text": [
            "tensor(2.1678)\n",
            "tensor(4.7622)\n",
            "tensor(7.2485)\n"
          ]
        },
        {
          "output_type": "stream",
          "name": "stderr",
          "text": [
            "\n"
          ]
        },
        {
          "output_type": "stream",
          "name": "stdout",
          "text": [
            "\n",
            "Training loss: 8.237\n",
            "Validation loss: 10.319\n",
            "Training MAE: 2.165727138519287\n",
            "Validation MAE: 2.4161577224731445\n",
            "\n",
            " Epoch31 / 50\n"
          ]
        },
        {
          "output_type": "stream",
          "name": "stderr",
          "text": [
            "100%|██████████| 120/120 [00:14<00:00,  8.39it/s]\n",
            "100%|██████████| 3/3 [00:00<00:00,  9.79it/s]\n"
          ]
        },
        {
          "output_type": "stream",
          "name": "stdout",
          "text": [
            "tensor(2.3636)\n",
            "tensor(4.8235)\n",
            "tensor(7.1851)\n",
            "\n",
            "Training loss: 8.220\n",
            "Validation loss: 10.153\n",
            "Training MAE: 2.1642630100250244\n",
            "Validation MAE: 2.3950233459472656\n",
            "\n",
            " Epoch32 / 50\n"
          ]
        },
        {
          "output_type": "stream",
          "name": "stderr",
          "text": [
            "100%|██████████| 120/120 [00:14<00:00,  8.41it/s]\n",
            "100%|██████████| 3/3 [00:00<00:00, 10.08it/s]\n"
          ]
        },
        {
          "output_type": "stream",
          "name": "stdout",
          "text": [
            "tensor(2.3738)\n",
            "tensor(4.8131)\n",
            "tensor(7.3041)\n",
            "\n",
            "Training loss: 8.143\n",
            "Validation loss: 10.607\n",
            "Training MAE: 2.154899835586548\n",
            "Validation MAE: 2.4346864223480225\n",
            "\n",
            " Epoch33 / 50\n"
          ]
        },
        {
          "output_type": "stream",
          "name": "stderr",
          "text": [
            "100%|██████████| 120/120 [00:14<00:00,  8.40it/s]\n",
            "100%|██████████| 3/3 [00:00<00:00,  9.81it/s]\n"
          ]
        },
        {
          "output_type": "stream",
          "name": "stdout",
          "text": [
            "tensor(2.4040)\n",
            "tensor(4.9070)\n",
            "tensor(7.4309)\n",
            "\n",
            "Training loss: 8.114\n",
            "Validation loss: 10.682\n",
            "Training MAE: 2.152000665664673\n",
            "Validation MAE: 2.476979970932007\n",
            "\n",
            " Epoch34 / 50\n"
          ]
        },
        {
          "output_type": "stream",
          "name": "stderr",
          "text": [
            "100%|██████████| 120/120 [00:14<00:00,  8.35it/s]\n",
            "100%|██████████| 3/3 [00:00<00:00, 10.47it/s]\n"
          ]
        },
        {
          "output_type": "stream",
          "name": "stdout",
          "text": [
            "tensor(2.3168)\n",
            "tensor(4.6703)\n",
            "tensor(7.1840)\n",
            "\n",
            "Training loss: 8.129\n",
            "Validation loss: 10.239\n",
            "Training MAE: 2.1527535915374756\n",
            "Validation MAE: 2.3946757316589355\n",
            "\n",
            " Epoch35 / 50\n"
          ]
        },
        {
          "output_type": "stream",
          "name": "stderr",
          "text": [
            "100%|██████████| 120/120 [00:14<00:00,  8.43it/s]\n",
            " 67%|██████▋   | 2/3 [00:00<00:00,  8.36it/s]"
          ]
        },
        {
          "output_type": "stream",
          "name": "stdout",
          "text": [
            "tensor(2.5504)\n",
            "tensor(4.7972)\n"
          ]
        },
        {
          "output_type": "stream",
          "name": "stderr",
          "text": [
            "\r100%|██████████| 3/3 [00:00<00:00,  9.40it/s]\n"
          ]
        },
        {
          "output_type": "stream",
          "name": "stdout",
          "text": [
            "tensor(6.9966)\n",
            "\n",
            "Training loss: 8.144\n",
            "Validation loss: 9.758\n",
            "Training MAE: 2.154585599899292\n",
            "Validation MAE: 2.33219838142395\n",
            "\n",
            " Epoch36 / 50\n"
          ]
        },
        {
          "output_type": "stream",
          "name": "stderr",
          "text": [
            "100%|██████████| 120/120 [00:14<00:00,  8.40it/s]\n",
            "100%|██████████| 3/3 [00:00<00:00,  9.81it/s]\n"
          ]
        },
        {
          "output_type": "stream",
          "name": "stdout",
          "text": [
            "tensor(2.4142)\n",
            "tensor(4.7541)\n",
            "tensor(7.2427)\n",
            "\n",
            "Training loss: 8.137\n",
            "Validation loss: 10.271\n",
            "Training MAE: 2.154287576675415\n",
            "Validation MAE: 2.414241075515747\n",
            "\n",
            " Epoch37 / 50\n"
          ]
        },
        {
          "output_type": "stream",
          "name": "stderr",
          "text": [
            "100%|██████████| 120/120 [00:14<00:00,  8.49it/s]\n",
            "100%|██████████| 3/3 [00:00<00:00,  9.27it/s]"
          ]
        },
        {
          "output_type": "stream",
          "name": "stdout",
          "text": [
            "tensor(2.4609)\n",
            "tensor(4.9232)\n",
            "tensor(7.1407)\n"
          ]
        },
        {
          "output_type": "stream",
          "name": "stderr",
          "text": [
            "\n"
          ]
        },
        {
          "output_type": "stream",
          "name": "stdout",
          "text": [
            "\n",
            "Training loss: 8.174\n",
            "Validation loss: 10.043\n",
            "Training MAE: 2.158048391342163\n",
            "Validation MAE: 2.3802196979522705\n",
            "\n",
            " Epoch38 / 50\n"
          ]
        },
        {
          "output_type": "stream",
          "name": "stderr",
          "text": [
            "100%|██████████| 120/120 [00:14<00:00,  8.18it/s]\n",
            "100%|██████████| 3/3 [00:00<00:00,  8.81it/s]"
          ]
        },
        {
          "output_type": "stream",
          "name": "stdout",
          "text": [
            "tensor(2.4678)\n",
            "tensor(4.8092)\n",
            "tensor(7.2087)\n"
          ]
        },
        {
          "output_type": "stream",
          "name": "stderr",
          "text": [
            "\n"
          ]
        },
        {
          "output_type": "stream",
          "name": "stdout",
          "text": [
            "\n",
            "Training loss: 8.228\n",
            "Validation loss: 10.282\n",
            "Training MAE: 2.16420841217041\n",
            "Validation MAE: 2.4028966426849365\n",
            "\n",
            " Epoch39 / 50\n"
          ]
        },
        {
          "output_type": "stream",
          "name": "stderr",
          "text": [
            "100%|██████████| 120/120 [00:15<00:00,  7.86it/s]\n",
            "100%|██████████| 3/3 [00:00<00:00, 10.19it/s]\n"
          ]
        },
        {
          "output_type": "stream",
          "name": "stdout",
          "text": [
            "tensor(2.4649)\n",
            "tensor(4.7954)\n",
            "tensor(7.1512)\n",
            "\n",
            "Training loss: 8.235\n",
            "Validation loss: 10.168\n",
            "Training MAE: 2.164729595184326\n",
            "Validation MAE: 2.3837316036224365\n",
            "\n",
            " Epoch40 / 50\n"
          ]
        },
        {
          "output_type": "stream",
          "name": "stderr",
          "text": [
            "100%|██████████| 120/120 [00:14<00:00,  8.18it/s]\n",
            "100%|██████████| 3/3 [00:00<00:00, 10.17it/s]\n"
          ]
        },
        {
          "output_type": "stream",
          "name": "stdout",
          "text": [
            "tensor(2.5181)\n",
            "tensor(4.7866)\n",
            "tensor(7.1335)\n",
            "\n",
            "Training loss: 8.215\n",
            "Validation loss: 10.134\n",
            "Training MAE: 2.1631381511688232\n",
            "Validation MAE: 2.3778340816497803\n",
            "\n",
            " Epoch41 / 50\n"
          ]
        },
        {
          "output_type": "stream",
          "name": "stderr",
          "text": [
            "100%|██████████| 120/120 [00:14<00:00,  8.37it/s]\n",
            "100%|██████████| 3/3 [00:00<00:00, 10.49it/s]\n"
          ]
        },
        {
          "output_type": "stream",
          "name": "stdout",
          "text": [
            "tensor(2.4485)\n",
            "tensor(4.8641)\n",
            "tensor(7.2027)\n",
            "\n",
            "Training loss: 8.117\n",
            "Validation loss: 10.256\n",
            "Training MAE: 2.15204119682312\n",
            "Validation MAE: 2.400913953781128\n",
            "\n",
            " Epoch42 / 50\n"
          ]
        },
        {
          "output_type": "stream",
          "name": "stderr",
          "text": [
            "100%|██████████| 120/120 [00:14<00:00,  8.44it/s]\n",
            "100%|██████████| 3/3 [00:00<00:00,  9.92it/s]\n"
          ]
        },
        {
          "output_type": "stream",
          "name": "stdout",
          "text": [
            "tensor(2.4365)\n",
            "tensor(4.9241)\n",
            "tensor(7.2027)\n",
            "\n",
            "Training loss: 8.101\n",
            "Validation loss: 10.356\n",
            "Training MAE: 2.149125099182129\n",
            "Validation MAE: 2.400909662246704\n",
            "\n",
            " Epoch43 / 50\n"
          ]
        },
        {
          "output_type": "stream",
          "name": "stderr",
          "text": [
            "100%|██████████| 120/120 [00:14<00:00,  8.40it/s]\n",
            "100%|██████████| 3/3 [00:00<00:00,  9.92it/s]\n"
          ]
        },
        {
          "output_type": "stream",
          "name": "stdout",
          "text": [
            "tensor(2.5342)\n",
            "tensor(4.8920)\n",
            "tensor(7.2650)\n",
            "\n",
            "Training loss: 8.160\n",
            "Validation loss: 10.539\n",
            "Training MAE: 2.156423330307007\n",
            "Validation MAE: 2.421678304672241\n",
            "\n",
            " Epoch44 / 50\n"
          ]
        },
        {
          "output_type": "stream",
          "name": "stderr",
          "text": [
            "100%|██████████| 120/120 [00:14<00:00,  8.37it/s]\n",
            "100%|██████████| 3/3 [00:00<00:00,  9.48it/s]\n"
          ]
        },
        {
          "output_type": "stream",
          "name": "stdout",
          "text": [
            "tensor(2.4074)\n",
            "tensor(4.8325)\n",
            "tensor(7.3711)\n",
            "\n",
            "Training loss: 8.261\n",
            "Validation loss: 10.750\n",
            "Training MAE: 2.1686689853668213\n",
            "Validation MAE: 2.4570353031158447\n",
            "\n",
            " Epoch45 / 50\n"
          ]
        },
        {
          "output_type": "stream",
          "name": "stderr",
          "text": [
            "100%|██████████| 120/120 [00:14<00:00,  8.36it/s]\n",
            "100%|██████████| 3/3 [00:00<00:00,  9.69it/s]\n"
          ]
        },
        {
          "output_type": "stream",
          "name": "stdout",
          "text": [
            "tensor(2.5349)\n",
            "tensor(4.9878)\n",
            "tensor(7.3417)\n",
            "\n",
            "Training loss: 8.228\n",
            "Validation loss: 10.508\n",
            "Training MAE: 2.1641671657562256\n",
            "Validation MAE: 2.4472296237945557\n",
            "\n",
            " Epoch46 / 50\n"
          ]
        },
        {
          "output_type": "stream",
          "name": "stderr",
          "text": [
            "100%|██████████| 120/120 [00:14<00:00,  8.35it/s]\n",
            "100%|██████████| 3/3 [00:00<00:00,  9.90it/s]\n"
          ]
        },
        {
          "output_type": "stream",
          "name": "stdout",
          "text": [
            "tensor(2.5125)\n",
            "tensor(4.7651)\n",
            "tensor(7.2368)\n",
            "\n",
            "Training loss: 8.187\n",
            "Validation loss: 10.246\n",
            "Training MAE: 2.15954852104187\n",
            "Validation MAE: 2.41225528717041\n",
            "\n",
            " Epoch47 / 50\n"
          ]
        },
        {
          "output_type": "stream",
          "name": "stderr",
          "text": [
            "100%|██████████| 120/120 [00:14<00:00,  8.30it/s]\n",
            "100%|██████████| 3/3 [00:00<00:00,  9.77it/s]\n"
          ]
        },
        {
          "output_type": "stream",
          "name": "stdout",
          "text": [
            "tensor(2.4371)\n",
            "tensor(4.8260)\n",
            "tensor(7.2731)\n",
            "\n",
            "Training loss: 8.186\n",
            "Validation loss: 10.466\n",
            "Training MAE: 2.1598711013793945\n",
            "Validation MAE: 2.4243829250335693\n",
            "\n",
            " Epoch48 / 50\n"
          ]
        },
        {
          "output_type": "stream",
          "name": "stderr",
          "text": [
            "100%|██████████| 120/120 [00:14<00:00,  8.34it/s]\n",
            "100%|██████████| 3/3 [00:00<00:00,  9.42it/s]\n"
          ]
        },
        {
          "output_type": "stream",
          "name": "stdout",
          "text": [
            "tensor(2.3224)\n",
            "tensor(4.6797)\n",
            "tensor(7.3099)\n",
            "\n",
            "Training loss: 8.231\n",
            "Validation loss: 10.669\n",
            "Training MAE: 2.164210081100464\n",
            "Validation MAE: 2.436631679534912\n",
            "\n",
            " Epoch49 / 50\n"
          ]
        },
        {
          "output_type": "stream",
          "name": "stderr",
          "text": [
            "100%|██████████| 120/120 [00:14<00:00,  8.37it/s]\n",
            "100%|██████████| 3/3 [00:00<00:00, 10.34it/s]\n"
          ]
        },
        {
          "output_type": "stream",
          "name": "stdout",
          "text": [
            "tensor(2.4349)\n",
            "tensor(4.8994)\n",
            "tensor(7.2826)\n",
            "\n",
            "Training loss: 8.297\n",
            "Validation loss: 10.413\n",
            "Training MAE: 2.171063184738159\n",
            "Validation MAE: 2.427518129348755\n",
            "\n",
            " Epoch50 / 50\n"
          ]
        },
        {
          "output_type": "stream",
          "name": "stderr",
          "text": [
            "100%|██████████| 120/120 [00:14<00:00,  8.16it/s]\n",
            "100%|██████████| 3/3 [00:00<00:00,  9.65it/s]"
          ]
        },
        {
          "output_type": "stream",
          "name": "stdout",
          "text": [
            "tensor(2.4294)\n",
            "tensor(4.8978)\n",
            "tensor(7.2318)\n",
            "\n",
            "Training loss: 8.249\n",
            "Validation loss: 10.313\n",
            "Training MAE: 2.1662964820861816\n",
            "Validation MAE: 2.4106132984161377\n"
          ]
        },
        {
          "output_type": "stream",
          "name": "stderr",
          "text": [
            "\n"
          ]
        }
      ]
    },
    {
      "cell_type": "code",
      "source": [
        "plot_losses()"
      ],
      "metadata": {
        "colab": {
          "base_uri": "https://localhost:8080/",
          "height": 295
        },
        "id": "LZjmJ0kuX8D4",
        "outputId": "4cce95a3-6c27-49ec-c290-5f39503ec8f9"
      },
      "execution_count": null,
      "outputs": [
        {
          "output_type": "display_data",
          "data": {
            "text/plain": [
              "<Figure size 432x288 with 1 Axes>"
            ],
            "image/png": "[encoded data removed]"
          },
          "metadata": {
            "needs_background": "light"
          }
        }
      ]
    },
    {
      "cell_type": "code",
      "source": [
        "plot_metrics()"
      ],
      "metadata": {
        "colab": {
          "base_uri": "https://localhost:8080/",
          "height": 295
        },
        "id": "J5CTmSOAX9wA",
        "outputId": "8746072d-489c-4d43-80af-74e58404b15a"
      },
      "execution_count": null,
      "outputs": [
        {
          "output_type": "display_data",
          "data": {
            "text/plain": [
              "<Figure size 432x288 with 1 Axes>"
            ],
            "image/png": "[encoded data removed]"
          },
          "metadata": {
            "needs_background": "light"
          }
        }
      ]
    },
    {
      "cell_type": "code",
      "source": [
        "model = MatrixFactorizationModel(\n",
        "    40, len(user_lookup), len(movie_lookup), ratings_range=[1, 10]\n",
        ")\n",
        "model = model.to(device)\n",
        "loss_func = torch.nn.MSELoss()\n",
        "mae_func = torchmetrics.MeanAbsoluteError()\n",
        "\n",
        "optimizer = torch.optim.AdamW(model.parameters(), lr=0.05)"
      ],
      "metadata": {
        "id": "Rg9f3u_pX-1g"
      },
      "execution_count": null,
      "outputs": []
    },
    {
      "cell_type": "code",
      "source": [
        "all_train_losses = []\n",
        "all_valid_losses = []\n",
        "all_train_metrics = []\n",
        "all_val_metrics = []\n",
        "best_valid_loss = float('inf')\n",
        "best_val_metric = float('inf')\n",
        "epochs = 50\n",
        "train_losses = []\n",
        "valid_losses = []\n",
        "train_metrics, val_metrics = [], []\n",
        "\n",
        "for epoch in range(epochs):\n",
        "    print('\\n Epoch{:} / {:}'.format(epoch+1, epochs))\n",
        "\n",
        "    train_loss, train_mae, _ = train()\n",
        "    valid_loss, val_mae, _ = evaluate()\n",
        "    \n",
        "    if valid_loss < best_valid_loss:\n",
        "        best_valid_loss = valid_loss\n",
        "        best_val_metric = val_mae\n",
        "        torch.save(model.state_dict(), 'saved_weights.pt')\n",
        "    \n",
        "    train_losses.append(train_loss)\n",
        "    valid_losses.append(valid_loss)\n",
        "    train_metrics.append(train_mae)\n",
        "    val_metrics.append(val_mae)\n",
        "    print(f'\\nTraining loss: {train_loss:.3f}')\n",
        "    print(f'Validation loss: {valid_loss:.3f}')\n",
        "    print(f'Training MAE: {train_mae}')\n",
        "    print(f'Validation MAE: {val_mae}')\n",
        "    \n",
        "all_train_losses.extend(train_losses)\n",
        "all_valid_losses.extend(valid_losses)\n",
        "all_train_metrics.extend(train_metrics)\n",
        "all_val_metrics.extend(val_metrics)"
      ],
      "metadata": {
        "colab": {
          "base_uri": "https://localhost:8080/"
        },
        "id": "mA-txLmAYBLJ",
        "outputId": "1baf9f45-86b5-423a-e886-bfb98d03a9e4"
      },
      "execution_count": null,
      "outputs": [
        {
          "output_type": "stream",
          "name": "stdout",
          "text": [
            "\n",
            " Epoch1 / 50\n"
          ]
        },
        {
          "output_type": "stream",
          "name": "stderr",
          "text": [
            "100%|██████████| 120/120 [00:14<00:00,  8.35it/s]\n",
            "100%|██████████| 3/3 [00:00<00:00,  9.98it/s]\n"
          ]
        },
        {
          "output_type": "stream",
          "name": "stdout",
          "text": [
            "tensor(3.3595)\n",
            "tensor(6.8799)\n",
            "tensor(10.3313)\n",
            "\n",
            "Training loss: 20.708\n",
            "Validation loss: 18.855\n",
            "Training MAE: 3.6338284015655518\n",
            "Validation MAE: 3.4437601566314697\n",
            "\n",
            " Epoch2 / 50\n"
          ]
        },
        {
          "output_type": "stream",
          "name": "stderr",
          "text": [
            "100%|██████████| 120/120 [00:14<00:00,  8.44it/s]\n",
            "100%|██████████| 3/3 [00:00<00:00, 10.17it/s]\n"
          ]
        },
        {
          "output_type": "stream",
          "name": "stdout",
          "text": [
            "tensor(3.1000)\n",
            "tensor(6.3005)\n",
            "tensor(9.4228)\n",
            "\n",
            "Training loss: 12.276\n",
            "Validation loss: 16.401\n",
            "Training MAE: 2.6153206825256348\n",
            "Validation MAE: 3.1409223079681396\n",
            "\n",
            " Epoch3 / 50\n"
          ]
        },
        {
          "output_type": "stream",
          "name": "stderr",
          "text": [
            "100%|██████████| 120/120 [00:14<00:00,  8.46it/s]\n",
            "100%|██████████| 3/3 [00:00<00:00, 10.24it/s]\n"
          ]
        },
        {
          "output_type": "stream",
          "name": "stdout",
          "text": [
            "tensor(2.9631)\n",
            "tensor(5.8978)\n",
            "tensor(8.9331)\n",
            "\n",
            "Training loss: 9.396\n",
            "Validation loss: 14.891\n",
            "Training MAE: 2.2813215255737305\n",
            "Validation MAE: 2.977689504623413\n",
            "\n",
            " Epoch4 / 50\n"
          ]
        },
        {
          "output_type": "stream",
          "name": "stderr",
          "text": [
            "100%|██████████| 120/120 [00:14<00:00,  8.49it/s]\n",
            " 67%|██████▋   | 2/3 [00:00<00:00,  8.15it/s]"
          ]
        },
        {
          "output_type": "stream",
          "name": "stdout",
          "text": [
            "tensor(2.8411)\n",
            "tensor(5.6436)\n"
          ]
        },
        {
          "output_type": "stream",
          "name": "stderr",
          "text": [
            "\r100%|██████████| 3/3 [00:00<00:00,  9.64it/s]\n"
          ]
        },
        {
          "output_type": "stream",
          "name": "stdout",
          "text": [
            "tensor(8.6537)\n",
            "\n",
            "Training loss: 8.242\n",
            "Validation loss: 14.283\n",
            "Training MAE: 2.149000406265259\n",
            "Validation MAE: 2.884551763534546\n",
            "\n",
            " Epoch5 / 50\n"
          ]
        },
        {
          "output_type": "stream",
          "name": "stderr",
          "text": [
            "100%|██████████| 120/120 [00:14<00:00,  8.39it/s]\n",
            "100%|██████████| 3/3 [00:00<00:00,  9.91it/s]\n"
          ]
        },
        {
          "output_type": "stream",
          "name": "stdout",
          "text": [
            "tensor(2.6804)\n",
            "tensor(5.4050)\n",
            "tensor(8.2888)\n",
            "\n",
            "Training loss: 7.783\n",
            "Validation loss: 13.030\n",
            "Training MAE: 2.0962541103363037\n",
            "Validation MAE: 2.762949228286743\n",
            "\n",
            " Epoch6 / 50\n"
          ]
        },
        {
          "output_type": "stream",
          "name": "stderr",
          "text": [
            "100%|██████████| 120/120 [00:14<00:00,  8.42it/s]\n",
            "100%|██████████| 3/3 [00:00<00:00, 10.00it/s]\n"
          ]
        },
        {
          "output_type": "stream",
          "name": "stdout",
          "text": [
            "tensor(2.6860)\n",
            "tensor(5.3828)\n",
            "tensor(8.2316)\n",
            "\n",
            "Training loss: 7.466\n",
            "Validation loss: 12.871\n",
            "Training MAE: 2.0581865310668945\n",
            "Validation MAE: 2.743849992752075\n",
            "\n",
            " Epoch7 / 50\n"
          ]
        },
        {
          "output_type": "stream",
          "name": "stderr",
          "text": [
            "100%|██████████| 120/120 [00:14<00:00,  8.44it/s]\n",
            "100%|██████████| 3/3 [00:00<00:00,  9.78it/s]"
          ]
        },
        {
          "output_type": "stream",
          "name": "stdout",
          "text": [
            "tensor(2.6826)\n",
            "tensor(5.3430)\n",
            "tensor(7.9820)\n"
          ]
        },
        {
          "output_type": "stream",
          "name": "stderr",
          "text": [
            "\n"
          ]
        },
        {
          "output_type": "stream",
          "name": "stdout",
          "text": [
            "\n",
            "Training loss: 7.291\n",
            "Validation loss: 12.160\n",
            "Training MAE: 2.0393948554992676\n",
            "Validation MAE: 2.6606528759002686\n",
            "\n",
            " Epoch8 / 50\n"
          ]
        },
        {
          "output_type": "stream",
          "name": "stderr",
          "text": [
            "100%|██████████| 120/120 [00:14<00:00,  8.34it/s]\n",
            "100%|██████████| 3/3 [00:00<00:00, 10.14it/s]\n"
          ]
        },
        {
          "output_type": "stream",
          "name": "stdout",
          "text": [
            "tensor(2.6367)\n",
            "tensor(5.2206)\n",
            "tensor(8.0954)\n",
            "\n",
            "Training loss: 7.176\n",
            "Validation loss: 12.443\n",
            "Training MAE: 2.0253593921661377\n",
            "Validation MAE: 2.6984689235687256\n",
            "\n",
            " Epoch9 / 50\n"
          ]
        },
        {
          "output_type": "stream",
          "name": "stderr",
          "text": [
            "100%|██████████| 120/120 [00:14<00:00,  8.17it/s]\n",
            "100%|██████████| 3/3 [00:00<00:00,  9.53it/s]"
          ]
        },
        {
          "output_type": "stream",
          "name": "stdout",
          "text": [
            "tensor(2.5846)\n",
            "tensor(5.0965)\n",
            "tensor(7.6684)\n"
          ]
        },
        {
          "output_type": "stream",
          "name": "stderr",
          "text": [
            "\n"
          ]
        },
        {
          "output_type": "stream",
          "name": "stdout",
          "text": [
            "\n",
            "Training loss: 7.073\n",
            "Validation loss: 11.362\n",
            "Training MAE: 2.013608694076538\n",
            "Validation MAE: 2.5561411380767822\n",
            "\n",
            " Epoch10 / 50\n"
          ]
        },
        {
          "output_type": "stream",
          "name": "stderr",
          "text": [
            "100%|██████████| 120/120 [00:15<00:00,  7.93it/s]\n",
            "100%|██████████| 3/3 [00:00<00:00, 10.33it/s]\n"
          ]
        },
        {
          "output_type": "stream",
          "name": "stdout",
          "text": [
            "tensor(2.3853)\n",
            "tensor(4.8765)\n",
            "tensor(7.4823)\n",
            "\n",
            "Training loss: 6.927\n",
            "Validation loss: 10.689\n",
            "Training MAE: 1.9932907819747925\n",
            "Validation MAE: 2.4940879344940186\n",
            "\n",
            " Epoch11 / 50\n"
          ]
        },
        {
          "output_type": "stream",
          "name": "stderr",
          "text": [
            "100%|██████████| 120/120 [00:14<00:00,  8.11it/s]\n",
            "100%|██████████| 3/3 [00:00<00:00, 10.17it/s]\n"
          ]
        },
        {
          "output_type": "stream",
          "name": "stdout",
          "text": [
            "tensor(2.3532)\n",
            "tensor(4.7225)\n",
            "tensor(7.3304)\n",
            "\n",
            "Training loss: 6.926\n",
            "Validation loss: 10.384\n",
            "Training MAE: 1.9949201345443726\n",
            "Validation MAE: 2.4434564113616943\n",
            "\n",
            " Epoch12 / 50\n"
          ]
        },
        {
          "output_type": "stream",
          "name": "stderr",
          "text": [
            "100%|██████████| 120/120 [00:14<00:00,  8.44it/s]\n",
            "100%|██████████| 3/3 [00:00<00:00, 10.10it/s]"
          ]
        },
        {
          "output_type": "stream",
          "name": "stdout",
          "text": [
            "tensor(2.5987)\n",
            "tensor(5.0127)\n",
            "tensor(7.2024)\n"
          ]
        },
        {
          "output_type": "stream",
          "name": "stderr",
          "text": [
            "\n"
          ]
        },
        {
          "output_type": "stream",
          "name": "stdout",
          "text": [
            "\n",
            "Training loss: 6.880\n",
            "Validation loss: 10.140\n",
            "Training MAE: 1.9889949560165405\n",
            "Validation MAE: 2.4008095264434814\n",
            "\n",
            " Epoch13 / 50\n"
          ]
        },
        {
          "output_type": "stream",
          "name": "stderr",
          "text": [
            "100%|██████████| 120/120 [00:14<00:00,  8.40it/s]\n",
            "100%|██████████| 3/3 [00:00<00:00,  9.80it/s]\n"
          ]
        },
        {
          "output_type": "stream",
          "name": "stdout",
          "text": [
            "tensor(2.3614)\n",
            "tensor(4.8783)\n",
            "tensor(7.2370)\n",
            "\n",
            "Training loss: 6.867\n",
            "Validation loss: 10.282\n",
            "Training MAE: 1.986531138420105\n",
            "Validation MAE: 2.4123456478118896\n",
            "\n",
            " Epoch14 / 50\n"
          ]
        },
        {
          "output_type": "stream",
          "name": "stderr",
          "text": [
            "100%|██████████| 120/120 [00:14<00:00,  8.34it/s]\n",
            "100%|██████████| 3/3 [00:00<00:00,  9.46it/s]"
          ]
        },
        {
          "output_type": "stream",
          "name": "stdout",
          "text": [
            "tensor(2.4059)\n",
            "tensor(4.8085)\n",
            "tensor(7.1692)\n"
          ]
        },
        {
          "output_type": "stream",
          "name": "stderr",
          "text": [
            "\n"
          ]
        },
        {
          "output_type": "stream",
          "name": "stdout",
          "text": [
            "\n",
            "Training loss: 6.877\n",
            "Validation loss: 9.865\n",
            "Training MAE: 1.9883105754852295\n",
            "Validation MAE: 2.3897454738616943\n",
            "\n",
            " Epoch15 / 50\n"
          ]
        },
        {
          "output_type": "stream",
          "name": "stderr",
          "text": [
            "100%|██████████| 120/120 [00:14<00:00,  8.36it/s]\n",
            "100%|██████████| 3/3 [00:00<00:00, 10.17it/s]\n"
          ]
        },
        {
          "output_type": "stream",
          "name": "stdout",
          "text": [
            "tensor(2.5414)\n",
            "tensor(4.7853)\n",
            "tensor(7.0093)\n",
            "\n",
            "Training loss: 6.870\n",
            "Validation loss: 9.504\n",
            "Training MAE: 1.9869294166564941\n",
            "Validation MAE: 2.3364181518554688\n",
            "\n",
            " Epoch16 / 50\n"
          ]
        },
        {
          "output_type": "stream",
          "name": "stderr",
          "text": [
            "100%|██████████| 120/120 [00:14<00:00,  8.40it/s]\n",
            "100%|██████████| 3/3 [00:00<00:00, 10.11it/s]\n"
          ]
        },
        {
          "output_type": "stream",
          "name": "stdout",
          "text": [
            "tensor(2.3942)\n",
            "tensor(4.7699)\n",
            "tensor(7.1143)\n",
            "\n",
            "Training loss: 6.897\n",
            "Validation loss: 9.839\n",
            "Training MAE: 1.9922126531600952\n",
            "Validation MAE: 2.371434450149536\n",
            "\n",
            " Epoch17 / 50\n"
          ]
        },
        {
          "output_type": "stream",
          "name": "stderr",
          "text": [
            "100%|██████████| 120/120 [00:14<00:00,  8.32it/s]\n",
            "100%|██████████| 3/3 [00:00<00:00,  9.58it/s]\n"
          ]
        },
        {
          "output_type": "stream",
          "name": "stdout",
          "text": [
            "tensor(2.4829)\n",
            "tensor(4.7308)\n",
            "tensor(7.0368)\n",
            "\n",
            "Training loss: 6.776\n",
            "Validation loss: 9.624\n",
            "Training MAE: 1.9745545387268066\n",
            "Validation MAE: 2.3455963134765625\n",
            "\n",
            " Epoch18 / 50\n"
          ]
        },
        {
          "output_type": "stream",
          "name": "stderr",
          "text": [
            "100%|██████████| 120/120 [00:14<00:00,  8.33it/s]\n",
            "100%|██████████| 3/3 [00:00<00:00,  9.49it/s]"
          ]
        },
        {
          "output_type": "stream",
          "name": "stdout",
          "text": [
            "tensor(2.5274)\n",
            "tensor(4.7697)\n",
            "tensor(7.1218)\n"
          ]
        },
        {
          "output_type": "stream",
          "name": "stderr",
          "text": [
            "\n"
          ]
        },
        {
          "output_type": "stream",
          "name": "stdout",
          "text": [
            "\n",
            "Training loss: 6.768\n",
            "Validation loss: 9.914\n",
            "Training MAE: 1.974155306816101\n",
            "Validation MAE: 2.3739330768585205\n",
            "\n",
            " Epoch19 / 50\n"
          ]
        },
        {
          "output_type": "stream",
          "name": "stderr",
          "text": [
            "100%|██████████| 120/120 [00:14<00:00,  8.27it/s]\n",
            "100%|██████████| 3/3 [00:00<00:00,  9.83it/s]\n"
          ]
        },
        {
          "output_type": "stream",
          "name": "stdout",
          "text": [
            "tensor(2.1814)\n",
            "tensor(4.6596)\n",
            "tensor(6.9869)\n",
            "\n",
            "Training loss: 6.785\n",
            "Validation loss: 9.637\n",
            "Training MAE: 1.9779510498046875\n",
            "Validation MAE: 2.328979253768921\n",
            "\n",
            " Epoch20 / 50\n"
          ]
        },
        {
          "output_type": "stream",
          "name": "stderr",
          "text": [
            "100%|██████████| 120/120 [00:14<00:00,  8.34it/s]\n",
            "100%|██████████| 3/3 [00:00<00:00, 10.20it/s]\n"
          ]
        },
        {
          "output_type": "stream",
          "name": "stdout",
          "text": [
            "tensor(2.3413)\n",
            "tensor(4.6288)\n",
            "tensor(7.0326)\n",
            "\n",
            "Training loss: 6.730\n",
            "Validation loss: 9.669\n",
            "Training MAE: 1.9667009115219116\n",
            "Validation MAE: 2.344200849533081\n",
            "\n",
            " Epoch21 / 50\n"
          ]
        },
        {
          "output_type": "stream",
          "name": "stderr",
          "text": [
            "100%|██████████| 120/120 [00:14<00:00,  8.32it/s]\n",
            " 67%|██████▋   | 2/3 [00:00<00:00,  5.18it/s]"
          ]
        },
        {
          "output_type": "stream",
          "name": "stdout",
          "text": [
            "tensor(2.2916)\n",
            "tensor(4.6856)\n"
          ]
        },
        {
          "output_type": "stream",
          "name": "stderr",
          "text": [
            "100%|██████████| 3/3 [00:00<00:00,  5.94it/s]\n"
          ]
        },
        {
          "output_type": "stream",
          "name": "stdout",
          "text": [
            "tensor(6.9832)\n",
            "\n",
            "Training loss: 6.792\n",
            "Validation loss: 9.369\n",
            "Training MAE: 1.9739965200424194\n",
            "Validation MAE: 2.327742338180542\n",
            "\n",
            " Epoch22 / 50\n"
          ]
        },
        {
          "output_type": "stream",
          "name": "stderr",
          "text": [
            "100%|██████████| 120/120 [00:14<00:00,  8.41it/s]\n",
            "100%|██████████| 3/3 [00:00<00:00,  9.74it/s]"
          ]
        },
        {
          "output_type": "stream",
          "name": "stdout",
          "text": [
            "tensor(2.3257)\n",
            "tensor(4.6187)\n",
            "tensor(6.8600)\n"
          ]
        },
        {
          "output_type": "stream",
          "name": "stderr",
          "text": [
            "\n"
          ]
        },
        {
          "output_type": "stream",
          "name": "stdout",
          "text": [
            "\n",
            "Training loss: 6.750\n",
            "Validation loss: 9.122\n",
            "Training MAE: 1.9711989164352417\n",
            "Validation MAE: 2.286679983139038\n",
            "\n",
            " Epoch23 / 50\n"
          ]
        },
        {
          "output_type": "stream",
          "name": "stderr",
          "text": [
            "100%|██████████| 120/120 [00:14<00:00,  8.35it/s]\n",
            "100%|██████████| 3/3 [00:00<00:00, 10.05it/s]\n"
          ]
        },
        {
          "output_type": "stream",
          "name": "stdout",
          "text": [
            "tensor(2.2411)\n",
            "tensor(4.5714)\n",
            "tensor(6.9789)\n",
            "\n",
            "Training loss: 6.779\n",
            "Validation loss: 9.466\n",
            "Training MAE: 1.9748859405517578\n",
            "Validation MAE: 2.326310873031616\n",
            "\n",
            " Epoch24 / 50\n"
          ]
        },
        {
          "output_type": "stream",
          "name": "stderr",
          "text": [
            "100%|██████████| 120/120 [00:14<00:00,  8.39it/s]\n",
            "100%|██████████| 3/3 [00:00<00:00,  9.53it/s]\n"
          ]
        },
        {
          "output_type": "stream",
          "name": "stdout",
          "text": [
            "tensor(2.2423)\n",
            "tensor(4.5957)\n",
            "tensor(6.9929)\n",
            "\n",
            "Training loss: 6.702\n",
            "Validation loss: 9.649\n",
            "Training MAE: 1.9629778861999512\n",
            "Validation MAE: 2.3309781551361084\n",
            "\n",
            " Epoch25 / 50\n"
          ]
        },
        {
          "output_type": "stream",
          "name": "stderr",
          "text": [
            "100%|██████████| 120/120 [00:14<00:00,  8.44it/s]\n",
            " 67%|██████▋   | 2/3 [00:00<00:00,  7.49it/s]"
          ]
        },
        {
          "output_type": "stream",
          "name": "stdout",
          "text": [
            "tensor(2.3974)\n",
            "tensor(4.7834)\n"
          ]
        },
        {
          "output_type": "stream",
          "name": "stderr",
          "text": [
            "\r100%|██████████| 3/3 [00:00<00:00,  8.98it/s]\n"
          ]
        },
        {
          "output_type": "stream",
          "name": "stdout",
          "text": [
            "tensor(7.0885)\n",
            "\n",
            "Training loss: 6.766\n",
            "Validation loss: 9.879\n",
            "Training MAE: 1.9733607769012451\n",
            "Validation MAE: 2.362823009490967\n",
            "\n",
            " Epoch26 / 50\n"
          ]
        },
        {
          "output_type": "stream",
          "name": "stderr",
          "text": [
            "100%|██████████| 120/120 [00:14<00:00,  8.39it/s]\n",
            "100%|██████████| 3/3 [00:00<00:00, 10.20it/s]\n"
          ]
        },
        {
          "output_type": "stream",
          "name": "stdout",
          "text": [
            "tensor(2.3327)\n",
            "tensor(4.6722)\n",
            "tensor(7.1637)\n",
            "\n",
            "Training loss: 6.733\n",
            "Validation loss: 10.157\n",
            "Training MAE: 1.9685734510421753\n",
            "Validation MAE: 2.387911796569824\n",
            "\n",
            " Epoch27 / 50\n"
          ]
        },
        {
          "output_type": "stream",
          "name": "stderr",
          "text": [
            "100%|██████████| 120/120 [00:14<00:00,  8.41it/s]\n",
            "100%|██████████| 3/3 [00:00<00:00,  9.54it/s]\n"
          ]
        },
        {
          "output_type": "stream",
          "name": "stdout",
          "text": [
            "tensor(2.3567)\n",
            "tensor(4.6150)\n",
            "tensor(7.0031)\n",
            "\n",
            "Training loss: 6.763\n",
            "Validation loss: 9.602\n",
            "Training MAE: 1.9720790386199951\n",
            "Validation MAE: 2.334371328353882\n",
            "\n",
            " Epoch28 / 50\n"
          ]
        },
        {
          "output_type": "stream",
          "name": "stderr",
          "text": [
            "100%|██████████| 120/120 [00:14<00:00,  8.38it/s]\n",
            "100%|██████████| 3/3 [00:00<00:00,  9.60it/s]\n"
          ]
        },
        {
          "output_type": "stream",
          "name": "stdout",
          "text": [
            "tensor(2.1875)\n",
            "tensor(4.5151)\n",
            "tensor(7.0398)\n",
            "\n",
            "Training loss: 6.746\n",
            "Validation loss: 9.757\n",
            "Training MAE: 1.9709378480911255\n",
            "Validation MAE: 2.346595525741577\n",
            "\n",
            " Epoch29 / 50\n"
          ]
        },
        {
          "output_type": "stream",
          "name": "stderr",
          "text": [
            "100%|██████████| 120/120 [00:14<00:00,  8.40it/s]\n",
            "100%|██████████| 3/3 [00:00<00:00,  9.77it/s]\n"
          ]
        },
        {
          "output_type": "stream",
          "name": "stdout",
          "text": [
            "tensor(2.2649)\n",
            "tensor(4.7648)\n",
            "tensor(6.8852)\n",
            "\n",
            "Training loss: 6.812\n",
            "Validation loss: 9.385\n",
            "Training MAE: 1.9783490896224976\n",
            "Validation MAE: 2.295069694519043\n",
            "\n",
            " Epoch30 / 50\n"
          ]
        },
        {
          "output_type": "stream",
          "name": "stderr",
          "text": [
            "100%|██████████| 120/120 [00:14<00:00,  8.25it/s]\n",
            "100%|██████████| 3/3 [00:00<00:00,  9.42it/s]\n"
          ]
        },
        {
          "output_type": "stream",
          "name": "stdout",
          "text": [
            "tensor(2.3515)\n",
            "tensor(4.7408)\n",
            "tensor(6.8349)\n",
            "\n",
            "Training loss: 6.754\n",
            "Validation loss: 9.374\n",
            "Training MAE: 1.9704538583755493\n",
            "Validation MAE: 2.2783145904541016\n",
            "\n",
            " Epoch31 / 50\n"
          ]
        },
        {
          "output_type": "stream",
          "name": "stderr",
          "text": [
            "100%|██████████| 120/120 [00:15<00:00,  7.88it/s]\n",
            " 67%|██████▋   | 2/3 [00:00<00:00,  7.66it/s]"
          ]
        },
        {
          "output_type": "stream",
          "name": "stdout",
          "text": [
            "tensor(2.4282)\n",
            "tensor(4.6945)\n"
          ]
        },
        {
          "output_type": "stream",
          "name": "stderr",
          "text": [
            "\r100%|██████████| 3/3 [00:00<00:00,  9.44it/s]\n"
          ]
        },
        {
          "output_type": "stream",
          "name": "stdout",
          "text": [
            "tensor(6.8944)\n",
            "\n",
            "Training loss: 6.782\n",
            "Validation loss: 9.431\n",
            "Training MAE: 1.9744877815246582\n",
            "Validation MAE: 2.2981250286102295\n",
            "\n",
            " Epoch32 / 50\n"
          ]
        },
        {
          "output_type": "stream",
          "name": "stderr",
          "text": [
            "100%|██████████| 120/120 [00:14<00:00,  8.21it/s]\n",
            "100%|██████████| 3/3 [00:00<00:00, 10.58it/s]\n"
          ]
        },
        {
          "output_type": "stream",
          "name": "stdout",
          "text": [
            "tensor(2.2638)\n",
            "tensor(4.5278)\n",
            "tensor(6.8965)\n",
            "\n",
            "Training loss: 6.773\n",
            "Validation loss: 9.413\n",
            "Training MAE: 1.9717293977737427\n",
            "Validation MAE: 2.2988412380218506\n",
            "\n",
            " Epoch33 / 50\n"
          ]
        },
        {
          "output_type": "stream",
          "name": "stderr",
          "text": [
            "100%|██████████| 120/120 [00:14<00:00,  8.37it/s]\n",
            "100%|██████████| 3/3 [00:00<00:00,  9.81it/s]\n"
          ]
        },
        {
          "output_type": "stream",
          "name": "stdout",
          "text": [
            "tensor(2.3406)\n",
            "tensor(4.7801)\n",
            "tensor(6.8733)\n",
            "\n",
            "Training loss: 6.742\n",
            "Validation loss: 9.234\n",
            "Training MAE: 1.9670357704162598\n",
            "Validation MAE: 2.2910845279693604\n",
            "\n",
            " Epoch34 / 50\n"
          ]
        },
        {
          "output_type": "stream",
          "name": "stderr",
          "text": [
            "100%|██████████| 120/120 [00:14<00:00,  8.34it/s]\n",
            "100%|██████████| 3/3 [00:00<00:00, 10.40it/s]\n"
          ]
        },
        {
          "output_type": "stream",
          "name": "stdout",
          "text": [
            "tensor(2.3742)\n",
            "tensor(4.6012)\n",
            "tensor(6.9034)\n",
            "\n",
            "Training loss: 6.780\n",
            "Validation loss: 9.373\n",
            "Training MAE: 1.9731956720352173\n",
            "Validation MAE: 2.301147222518921\n",
            "\n",
            " Epoch35 / 50\n"
          ]
        },
        {
          "output_type": "stream",
          "name": "stderr",
          "text": [
            "100%|██████████| 120/120 [00:14<00:00,  8.40it/s]\n",
            "100%|██████████| 3/3 [00:00<00:00,  9.85it/s]\n"
          ]
        },
        {
          "output_type": "stream",
          "name": "stdout",
          "text": [
            "tensor(2.2999)\n",
            "tensor(4.7342)\n",
            "tensor(6.9507)\n",
            "\n",
            "Training loss: 6.766\n",
            "Validation loss: 9.455\n",
            "Training MAE: 1.9718281030654907\n",
            "Validation MAE: 2.316890001296997\n",
            "\n",
            " Epoch36 / 50\n"
          ]
        },
        {
          "output_type": "stream",
          "name": "stderr",
          "text": [
            "100%|██████████| 120/120 [00:14<00:00,  8.37it/s]\n",
            "100%|██████████| 3/3 [00:00<00:00,  9.93it/s]\n"
          ]
        },
        {
          "output_type": "stream",
          "name": "stdout",
          "text": [
            "tensor(2.3661)\n",
            "tensor(4.6164)\n",
            "tensor(6.9109)\n",
            "\n",
            "Training loss: 6.802\n",
            "Validation loss: 9.325\n",
            "Training MAE: 1.9769572019577026\n",
            "Validation MAE: 2.303616762161255\n",
            "\n",
            " Epoch37 / 50\n"
          ]
        },
        {
          "output_type": "stream",
          "name": "stderr",
          "text": [
            "100%|██████████| 120/120 [00:14<00:00,  8.41it/s]\n",
            "100%|██████████| 3/3 [00:00<00:00,  9.71it/s]"
          ]
        },
        {
          "output_type": "stream",
          "name": "stdout",
          "text": [
            "tensor(2.2087)\n",
            "tensor(4.4523)\n",
            "tensor(6.7693)\n"
          ]
        },
        {
          "output_type": "stream",
          "name": "stderr",
          "text": [
            "\n"
          ]
        },
        {
          "output_type": "stream",
          "name": "stdout",
          "text": [
            "\n",
            "Training loss: 6.800\n",
            "Validation loss: 9.023\n",
            "Training MAE: 1.976487398147583\n",
            "Validation MAE: 2.256441354751587\n",
            "\n",
            " Epoch38 / 50\n"
          ]
        },
        {
          "output_type": "stream",
          "name": "stderr",
          "text": [
            "100%|██████████| 120/120 [00:14<00:00,  8.32it/s]\n",
            "100%|██████████| 3/3 [00:00<00:00, 10.37it/s]\n"
          ]
        },
        {
          "output_type": "stream",
          "name": "stdout",
          "text": [
            "tensor(2.3156)\n",
            "tensor(4.5235)\n",
            "tensor(6.7466)\n",
            "\n",
            "Training loss: 6.809\n",
            "Validation loss: 9.048\n",
            "Training MAE: 1.976675033569336\n",
            "Validation MAE: 2.2488646507263184\n",
            "\n",
            " Epoch39 / 50\n"
          ]
        },
        {
          "output_type": "stream",
          "name": "stderr",
          "text": [
            "100%|██████████| 120/120 [00:14<00:00,  8.38it/s]\n",
            "100%|██████████| 3/3 [00:00<00:00, 10.09it/s]\n"
          ]
        },
        {
          "output_type": "stream",
          "name": "stdout",
          "text": [
            "tensor(2.2958)\n",
            "tensor(4.6717)\n",
            "tensor(6.7170)\n",
            "\n",
            "Training loss: 6.804\n",
            "Validation loss: 8.805\n",
            "Training MAE: 1.9758918285369873\n",
            "Validation MAE: 2.238986015319824\n",
            "\n",
            " Epoch40 / 50\n"
          ]
        },
        {
          "output_type": "stream",
          "name": "stderr",
          "text": [
            "100%|██████████| 120/120 [00:14<00:00,  8.38it/s]\n",
            "100%|██████████| 3/3 [00:00<00:00,  9.40it/s]\n"
          ]
        },
        {
          "output_type": "stream",
          "name": "stdout",
          "text": [
            "tensor(2.3337)\n",
            "tensor(4.5857)\n",
            "tensor(6.9529)\n",
            "\n",
            "Training loss: 6.832\n",
            "Validation loss: 9.324\n",
            "Training MAE: 1.9789718389511108\n",
            "Validation MAE: 2.317621946334839\n",
            "\n",
            " Epoch41 / 50\n"
          ]
        },
        {
          "output_type": "stream",
          "name": "stderr",
          "text": [
            "100%|██████████| 120/120 [00:14<00:00,  8.46it/s]\n",
            "100%|██████████| 3/3 [00:00<00:00, 10.31it/s]\n"
          ]
        },
        {
          "output_type": "stream",
          "name": "stdout",
          "text": [
            "tensor(2.3079)\n",
            "tensor(4.5461)\n",
            "tensor(6.9638)\n",
            "\n",
            "Training loss: 6.818\n",
            "Validation loss: 9.472\n",
            "Training MAE: 1.9778918027877808\n",
            "Validation MAE: 2.3212637901306152\n",
            "\n",
            " Epoch42 / 50\n"
          ]
        },
        {
          "output_type": "stream",
          "name": "stderr",
          "text": [
            "100%|██████████| 120/120 [00:14<00:00,  8.19it/s]\n",
            "100%|██████████| 3/3 [00:00<00:00,  9.98it/s]\n"
          ]
        },
        {
          "output_type": "stream",
          "name": "stdout",
          "text": [
            "tensor(2.3792)\n",
            "tensor(4.7692)\n",
            "tensor(7.0841)\n",
            "\n",
            "Training loss: 6.792\n",
            "Validation loss: 9.799\n",
            "Training MAE: 1.9739969968795776\n",
            "Validation MAE: 2.361361265182495\n",
            "\n",
            " Epoch43 / 50\n"
          ]
        },
        {
          "output_type": "stream",
          "name": "stderr",
          "text": [
            "100%|██████████| 120/120 [00:14<00:00,  8.33it/s]\n",
            "100%|██████████| 3/3 [00:00<00:00, 10.47it/s]\n"
          ]
        },
        {
          "output_type": "stream",
          "name": "stdout",
          "text": [
            "tensor(2.2937)\n",
            "tensor(4.6041)\n",
            "tensor(7.1354)\n",
            "\n",
            "Training loss: 6.930\n",
            "Validation loss: 9.882\n",
            "Training MAE: 1.9919865131378174\n",
            "Validation MAE: 2.3784539699554443\n",
            "\n",
            " Epoch44 / 50\n"
          ]
        },
        {
          "output_type": "stream",
          "name": "stderr",
          "text": [
            "100%|██████████| 120/120 [00:14<00:00,  8.41it/s]\n",
            "100%|██████████| 3/3 [00:00<00:00,  9.77it/s]\n"
          ]
        },
        {
          "output_type": "stream",
          "name": "stdout",
          "text": [
            "tensor(2.4417)\n",
            "tensor(4.7178)\n",
            "tensor(6.9304)\n",
            "\n",
            "Training loss: 6.831\n",
            "Validation loss: 9.481\n",
            "Training MAE: 1.9767636060714722\n",
            "Validation MAE: 2.310121774673462\n",
            "\n",
            " Epoch45 / 50\n"
          ]
        },
        {
          "output_type": "stream",
          "name": "stderr",
          "text": [
            "100%|██████████| 120/120 [00:14<00:00,  8.39it/s]\n",
            "100%|██████████| 3/3 [00:00<00:00,  9.53it/s]\n"
          ]
        },
        {
          "output_type": "stream",
          "name": "stdout",
          "text": [
            "tensor(2.3070)\n",
            "tensor(4.6227)\n",
            "tensor(6.9080)\n",
            "\n",
            "Training loss: 6.784\n",
            "Validation loss: 9.353\n",
            "Training MAE: 1.9713108539581299\n",
            "Validation MAE: 2.3026790618896484\n",
            "\n",
            " Epoch46 / 50\n"
          ]
        },
        {
          "output_type": "stream",
          "name": "stderr",
          "text": [
            "100%|██████████| 120/120 [00:14<00:00,  8.42it/s]\n",
            "100%|██████████| 3/3 [00:00<00:00,  9.03it/s]"
          ]
        },
        {
          "output_type": "stream",
          "name": "stdout",
          "text": [
            "tensor(2.2817)\n",
            "tensor(4.5635)\n",
            "tensor(6.8345)\n"
          ]
        },
        {
          "output_type": "stream",
          "name": "stderr",
          "text": [
            "\n"
          ]
        },
        {
          "output_type": "stream",
          "name": "stdout",
          "text": [
            "\n",
            "Training loss: 6.799\n",
            "Validation loss: 9.215\n",
            "Training MAE: 1.9727436304092407\n",
            "Validation MAE: 2.2781808376312256\n",
            "\n",
            " Epoch47 / 50\n"
          ]
        },
        {
          "output_type": "stream",
          "name": "stderr",
          "text": [
            "100%|██████████| 120/120 [00:14<00:00,  8.40it/s]\n",
            "100%|██████████| 3/3 [00:00<00:00,  9.85it/s]\n"
          ]
        },
        {
          "output_type": "stream",
          "name": "stdout",
          "text": [
            "tensor(2.2024)\n",
            "tensor(4.4398)\n",
            "tensor(6.8256)\n",
            "\n",
            "Training loss: 6.845\n",
            "Validation loss: 9.182\n",
            "Training MAE: 1.9798182249069214\n",
            "Validation MAE: 2.275207281112671\n",
            "\n",
            " Epoch48 / 50\n"
          ]
        },
        {
          "output_type": "stream",
          "name": "stderr",
          "text": [
            "100%|██████████| 120/120 [00:14<00:00,  8.30it/s]\n",
            "100%|██████████| 3/3 [00:00<00:00,  9.80it/s]\n"
          ]
        },
        {
          "output_type": "stream",
          "name": "stdout",
          "text": [
            "tensor(2.2896)\n",
            "tensor(4.5366)\n",
            "tensor(6.7305)\n",
            "\n",
            "Training loss: 6.808\n",
            "Validation loss: 8.862\n",
            "Training MAE: 1.9732567071914673\n",
            "Validation MAE: 2.2434842586517334\n",
            "\n",
            " Epoch49 / 50\n"
          ]
        },
        {
          "output_type": "stream",
          "name": "stderr",
          "text": [
            "100%|██████████| 120/120 [00:14<00:00,  8.31it/s]\n",
            "100%|██████████| 3/3 [00:00<00:00,  9.72it/s]\n"
          ]
        },
        {
          "output_type": "stream",
          "name": "stdout",
          "text": [
            "tensor(2.3216)\n",
            "tensor(4.6081)\n",
            "tensor(6.8193)\n",
            "\n",
            "Training loss: 6.795\n",
            "Validation loss: 9.183\n",
            "Training MAE: 1.968709111213684\n",
            "Validation MAE: 2.273113489151001\n",
            "\n",
            " Epoch50 / 50\n"
          ]
        },
        {
          "output_type": "stream",
          "name": "stderr",
          "text": [
            "100%|██████████| 120/120 [00:14<00:00,  8.32it/s]\n",
            "100%|██████████| 3/3 [00:00<00:00,  9.95it/s]"
          ]
        },
        {
          "output_type": "stream",
          "name": "stdout",
          "text": [
            "tensor(2.2683)\n",
            "tensor(4.6285)\n",
            "tensor(7.0335)\n",
            "\n",
            "Training loss: 6.830\n",
            "Validation loss: 9.612\n",
            "Training MAE: 1.9758449792861938\n",
            "Validation MAE: 2.3445093631744385\n"
          ]
        },
        {
          "output_type": "stream",
          "name": "stderr",
          "text": [
            "\n"
          ]
        }
      ]
    },
    {
      "cell_type": "code",
      "source": [
        "plot_losses()"
      ],
      "metadata": {
        "colab": {
          "base_uri": "https://localhost:8080/",
          "height": 295
        },
        "id": "pA8tQxFmYC9Z",
        "outputId": "3f13883a-6062-42ee-c3e0-e08a8b069c6f"
      },
      "execution_count": null,
      "outputs": [
        {
          "output_type": "display_data",
          "data": {
            "text/plain": [
              "<Figure size 432x288 with 1 Axes>"
            ],
            "image/png": "[encoded data removed]"
          },
          "metadata": {
            "needs_background": "light"
          }
        }
      ]
    },
    {
      "cell_type": "code",
      "source": [
        "plot_metrics()"
      ],
      "metadata": {
        "colab": {
          "base_uri": "https://localhost:8080/",
          "height": 295
        },
        "id": "zQWCowEXYGXJ",
        "outputId": "d65ac820-6bf3-4570-fc60-79153e033628"
      },
      "execution_count": null,
      "outputs": [
        {
          "output_type": "display_data",
          "data": {
            "text/plain": [
              "<Figure size 432x288 with 1 Axes>"
            ],
            "image/png": "[encoded data removed]"
          },
          "metadata": {
            "needs_background": "light"
          }
        }
      ]
    },
    {
      "cell_type": "code",
      "source": [
        "model = MatrixFactorizationModel(\n",
        "    40, len(user_lookup), len(movie_lookup), ratings_range=[1, 10]\n",
        ")\n",
        "model = model.to(device)\n",
        "loss_func = torch.nn.MSELoss()\n",
        "mae_func = torchmetrics.MeanAbsoluteError()\n",
        "\n",
        "optimizer = torch.optim.AdamW(model.parameters(), lr=0.01)"
      ],
      "metadata": {
        "id": "C4KF6XPJdNBY"
      },
      "execution_count": null,
      "outputs": []
    },
    {
      "cell_type": "code",
      "source": [
        "all_train_losses = []\n",
        "all_valid_losses = []\n",
        "all_train_metrics = []\n",
        "all_val_metrics = []\n",
        "best_valid_loss = float('inf')\n",
        "best_val_metric = float('inf')\n",
        "epochs = 50\n",
        "train_losses = []\n",
        "valid_losses = []\n",
        "train_metrics, val_metrics = [], []\n",
        "\n",
        "for epoch in range(epochs):\n",
        "    print('\\n Epoch{:} / {:}'.format(epoch+1, epochs))\n",
        "\n",
        "    train_loss, train_mae, _ = train()\n",
        "    valid_loss, val_mae, _ = evaluate()\n",
        "    \n",
        "    if valid_loss < best_valid_loss:\n",
        "        best_valid_loss = valid_loss\n",
        "        best_val_metric = val_mae\n",
        "        torch.save(model.state_dict(), 'saved_weights.pt')\n",
        "    \n",
        "    train_losses.append(train_loss)\n",
        "    valid_losses.append(valid_loss)\n",
        "    train_metrics.append(train_mae)\n",
        "    val_metrics.append(val_mae)\n",
        "    print(f'\\nTraining loss: {train_loss:.3f}')\n",
        "    print(f'Validation loss: {valid_loss:.3f}')\n",
        "    print(f'Training MAE: {train_mae}')\n",
        "    print(f'Validation MAE: {val_mae}')\n",
        "\n",
        "all_train_losses.extend(train_losses)\n",
        "all_valid_losses.extend(valid_losses)\n",
        "all_train_metrics.extend(train_metrics)\n",
        "all_val_metrics.extend(val_metrics)"
      ],
      "metadata": {
        "colab": {
          "base_uri": "https://localhost:8080/"
        },
        "id": "FnSkyJ8FdUdh",
        "outputId": "c7310e74-87f3-4161-be1b-d0115e439107"
      },
      "execution_count": null,
      "outputs": [
        {
          "output_type": "stream",
          "name": "stdout",
          "text": [
            "\n",
            " Epoch1 / 50\n"
          ]
        },
        {
          "output_type": "stream",
          "name": "stderr",
          "text": [
            "100%|██████████| 120/120 [00:16<00:00,  7.23it/s]\n",
            "100%|██████████| 3/3 [00:00<00:00,  9.51it/s]"
          ]
        },
        {
          "output_type": "stream",
          "name": "stdout",
          "text": [
            "tensor(3.9755)\n",
            "tensor(7.6116)\n",
            "tensor(11.6071)\n"
          ]
        },
        {
          "output_type": "stream",
          "name": "stderr",
          "text": [
            "\n"
          ]
        },
        {
          "output_type": "stream",
          "name": "stdout",
          "text": [
            "\n",
            "Training loss: 23.206\n",
            "Validation loss: 22.790\n",
            "Training MAE: 3.919389009475708\n",
            "Validation MAE: 3.869039535522461\n",
            "\n",
            " Epoch2 / 50\n"
          ]
        },
        {
          "output_type": "stream",
          "name": "stderr",
          "text": [
            "100%|██████████| 120/120 [00:14<00:00,  8.07it/s]\n",
            "100%|██████████| 3/3 [00:00<00:00,  9.87it/s]\n"
          ]
        },
        {
          "output_type": "stream",
          "name": "stdout",
          "text": [
            "tensor(3.7330)\n",
            "tensor(7.6061)\n",
            "tensor(11.2434)\n",
            "\n",
            "Training loss: 16.175\n",
            "Validation loss: 21.669\n",
            "Training MAE: 3.000253200531006\n",
            "Validation MAE: 3.7478067874908447\n",
            "\n",
            " Epoch3 / 50\n"
          ]
        },
        {
          "output_type": "stream",
          "name": "stderr",
          "text": [
            "100%|██████████| 120/120 [00:14<00:00,  8.24it/s]\n",
            "100%|██████████| 3/3 [00:00<00:00,  9.38it/s]"
          ]
        },
        {
          "output_type": "stream",
          "name": "stdout",
          "text": [
            "tensor(3.5743)\n",
            "tensor(7.3769)\n",
            "tensor(11.0855)\n"
          ]
        },
        {
          "output_type": "stream",
          "name": "stderr",
          "text": [
            "\n"
          ]
        },
        {
          "output_type": "stream",
          "name": "stdout",
          "text": [
            "\n",
            "Training loss: 12.229\n",
            "Validation loss: 21.166\n",
            "Training MAE: 2.480240821838379\n",
            "Validation MAE: 3.6951770782470703\n",
            "\n",
            " Epoch4 / 50\n"
          ]
        },
        {
          "output_type": "stream",
          "name": "stderr",
          "text": [
            "100%|██████████| 120/120 [00:14<00:00,  8.29it/s]\n",
            " 67%|██████▋   | 2/3 [00:00<00:00,  7.98it/s]"
          ]
        },
        {
          "output_type": "stream",
          "name": "stdout",
          "text": [
            "tensor(3.7033)\n",
            "tensor(7.3539)\n"
          ]
        },
        {
          "output_type": "stream",
          "name": "stderr",
          "text": [
            "\r100%|██████████| 3/3 [00:00<00:00,  9.22it/s]\n"
          ]
        },
        {
          "output_type": "stream",
          "name": "stdout",
          "text": [
            "tensor(10.8125)\n",
            "\n",
            "Training loss: 10.233\n",
            "Validation loss: 20.362\n",
            "Training MAE: 2.225856065750122\n",
            "Validation MAE: 3.60416579246521\n",
            "\n",
            " Epoch5 / 50\n"
          ]
        },
        {
          "output_type": "stream",
          "name": "stderr",
          "text": [
            "100%|██████████| 120/120 [00:15<00:00,  7.92it/s]\n",
            "100%|██████████| 3/3 [00:00<00:00,  9.44it/s]"
          ]
        },
        {
          "output_type": "stream",
          "name": "stdout",
          "text": [
            "tensor(3.5210)\n",
            "tensor(7.1503)\n",
            "tensor(10.7419)\n"
          ]
        },
        {
          "output_type": "stream",
          "name": "stderr",
          "text": [
            "\n"
          ]
        },
        {
          "output_type": "stream",
          "name": "stdout",
          "text": [
            "\n",
            "Training loss: 8.961\n",
            "Validation loss: 20.053\n",
            "Training MAE: 2.0682389736175537\n",
            "Validation MAE: 3.580631971359253\n",
            "\n",
            " Epoch6 / 50\n"
          ]
        },
        {
          "output_type": "stream",
          "name": "stderr",
          "text": [
            "100%|██████████| 120/120 [00:15<00:00,  7.52it/s]\n",
            " 67%|██████▋   | 2/3 [00:00<00:00,  7.92it/s]"
          ]
        },
        {
          "output_type": "stream",
          "name": "stdout",
          "text": [
            "tensor(3.5436)\n",
            "tensor(7.0320)\n"
          ]
        },
        {
          "output_type": "stream",
          "name": "stderr",
          "text": [
            "\r100%|██████████| 3/3 [00:00<00:00,  8.67it/s]\n"
          ]
        },
        {
          "output_type": "stream",
          "name": "stdout",
          "text": [
            "tensor(10.5123)\n",
            "\n",
            "Training loss: 7.987\n",
            "Validation loss: 19.400\n",
            "Training MAE: 1.9468311071395874\n",
            "Validation MAE: 3.5040838718414307\n",
            "\n",
            " Epoch7 / 50\n"
          ]
        },
        {
          "output_type": "stream",
          "name": "stderr",
          "text": [
            "100%|██████████| 120/120 [00:15<00:00,  7.57it/s]\n",
            "100%|██████████| 3/3 [00:00<00:00,  9.84it/s]\n"
          ]
        },
        {
          "output_type": "stream",
          "name": "stdout",
          "text": [
            "tensor(3.5619)\n",
            "tensor(6.8985)\n",
            "tensor(10.5304)\n",
            "\n",
            "Training loss: 7.157\n",
            "Validation loss: 19.351\n",
            "Training MAE: 1.840088963508606\n",
            "Validation MAE: 3.5101497173309326\n",
            "\n",
            " Epoch8 / 50\n"
          ]
        },
        {
          "output_type": "stream",
          "name": "stderr",
          "text": [
            "100%|██████████| 120/120 [00:14<00:00,  8.29it/s]\n",
            "100%|██████████| 3/3 [00:00<00:00,  8.74it/s]"
          ]
        },
        {
          "output_type": "stream",
          "name": "stdout",
          "text": [
            "tensor(3.3716)\n",
            "tensor(6.7958)\n",
            "tensor(10.3178)\n"
          ]
        },
        {
          "output_type": "stream",
          "name": "stderr",
          "text": [
            "\n"
          ]
        },
        {
          "output_type": "stream",
          "name": "stdout",
          "text": [
            "\n",
            "Training loss: 6.452\n",
            "Validation loss: 18.825\n",
            "Training MAE: 1.739235758781433\n",
            "Validation MAE: 3.4392786026000977\n",
            "\n",
            " Epoch9 / 50\n"
          ]
        },
        {
          "output_type": "stream",
          "name": "stderr",
          "text": [
            "100%|██████████| 120/120 [00:14<00:00,  8.21it/s]\n",
            "100%|██████████| 3/3 [00:00<00:00,  9.49it/s]\n"
          ]
        },
        {
          "output_type": "stream",
          "name": "stdout",
          "text": [
            "tensor(3.2688)\n",
            "tensor(6.7583)\n",
            "tensor(10.1010)\n",
            "\n",
            "Training loss: 5.897\n",
            "Validation loss: 18.127\n",
            "Training MAE: 1.6571075916290283\n",
            "Validation MAE: 3.3670012950897217\n",
            "\n",
            " Epoch10 / 50\n"
          ]
        },
        {
          "output_type": "stream",
          "name": "stderr",
          "text": [
            "100%|██████████| 120/120 [00:15<00:00,  7.69it/s]\n",
            "100%|██████████| 3/3 [00:00<00:00, 10.53it/s]\n"
          ]
        },
        {
          "output_type": "stream",
          "name": "stdout",
          "text": [
            "tensor(3.3534)\n",
            "tensor(6.5843)\n",
            "tensor(9.9998)\n",
            "\n",
            "Training loss: 5.379\n",
            "Validation loss: 17.725\n",
            "Training MAE: 1.5761653184890747\n",
            "Validation MAE: 3.3332645893096924\n",
            "\n",
            " Epoch11 / 50\n"
          ]
        },
        {
          "output_type": "stream",
          "name": "stderr",
          "text": [
            "100%|██████████| 120/120 [00:14<00:00,  8.33it/s]\n",
            " 67%|██████▋   | 2/3 [00:00<00:00,  7.48it/s]"
          ]
        },
        {
          "output_type": "stream",
          "name": "stdout",
          "text": [
            "tensor(3.3197)\n",
            "tensor(6.6637)\n"
          ]
        },
        {
          "output_type": "stream",
          "name": "stderr",
          "text": [
            "\r100%|██████████| 3/3 [00:00<00:00,  9.05it/s]\n"
          ]
        },
        {
          "output_type": "stream",
          "name": "stdout",
          "text": [
            "tensor(9.7934)\n",
            "\n",
            "Training loss: 4.888\n",
            "Validation loss: 17.189\n",
            "Training MAE: 1.4994827508926392\n",
            "Validation MAE: 3.264458656311035\n",
            "\n",
            " Epoch12 / 50\n"
          ]
        },
        {
          "output_type": "stream",
          "name": "stderr",
          "text": [
            "100%|██████████| 120/120 [00:14<00:00,  8.36it/s]\n",
            "100%|██████████| 3/3 [00:00<00:00,  9.86it/s]\n"
          ]
        },
        {
          "output_type": "stream",
          "name": "stdout",
          "text": [
            "tensor(3.1274)\n",
            "tensor(6.4619)\n",
            "tensor(9.7693)\n",
            "\n",
            "Training loss: 4.452\n",
            "Validation loss: 17.109\n",
            "Training MAE: 1.4268085956573486\n",
            "Validation MAE: 3.256422996520996\n",
            "\n",
            " Epoch13 / 50\n"
          ]
        },
        {
          "output_type": "stream",
          "name": "stderr",
          "text": [
            "100%|██████████| 120/120 [00:14<00:00,  8.33it/s]\n",
            "100%|██████████| 3/3 [00:00<00:00, 10.07it/s]\n"
          ]
        },
        {
          "output_type": "stream",
          "name": "stdout",
          "text": [
            "tensor(3.2954)\n",
            "tensor(6.4924)\n",
            "tensor(9.5320)\n",
            "\n",
            "Training loss: 4.052\n",
            "Validation loss: 16.301\n",
            "Training MAE: 1.3519268035888672\n",
            "Validation MAE: 3.1773273944854736\n",
            "\n",
            " Epoch14 / 50\n"
          ]
        },
        {
          "output_type": "stream",
          "name": "stderr",
          "text": [
            "100%|██████████| 120/120 [00:14<00:00,  8.20it/s]\n",
            "100%|██████████| 3/3 [00:00<00:00,  9.65it/s]"
          ]
        },
        {
          "output_type": "stream",
          "name": "stdout",
          "text": [
            "tensor(3.2293)\n",
            "tensor(6.3941)\n",
            "tensor(9.3798)\n"
          ]
        },
        {
          "output_type": "stream",
          "name": "stderr",
          "text": [
            "\n"
          ]
        },
        {
          "output_type": "stream",
          "name": "stdout",
          "text": [
            "\n",
            "Training loss: 3.680\n",
            "Validation loss: 15.828\n",
            "Training MAE: 1.2793121337890625\n",
            "Validation MAE: 3.126598596572876\n",
            "\n",
            " Epoch15 / 50\n"
          ]
        },
        {
          "output_type": "stream",
          "name": "stderr",
          "text": [
            "100%|██████████| 120/120 [00:14<00:00,  8.29it/s]\n",
            "100%|██████████| 3/3 [00:00<00:00,  9.94it/s]\n"
          ]
        },
        {
          "output_type": "stream",
          "name": "stdout",
          "text": [
            "tensor(3.1830)\n",
            "tensor(6.2181)\n",
            "tensor(9.4589)\n",
            "\n",
            "Training loss: 3.356\n",
            "Validation loss: 15.959\n",
            "Training MAE: 1.2141282558441162\n",
            "Validation MAE: 3.1529502868652344\n",
            "\n",
            " Epoch16 / 50\n"
          ]
        },
        {
          "output_type": "stream",
          "name": "stderr",
          "text": [
            "100%|██████████| 120/120 [00:14<00:00,  8.30it/s]\n",
            "100%|██████████| 3/3 [00:00<00:00,  9.16it/s]\n"
          ]
        },
        {
          "output_type": "stream",
          "name": "stdout",
          "text": [
            "tensor(3.0929)\n",
            "tensor(6.0884)\n",
            "tensor(9.2808)\n",
            "\n",
            "Training loss: 3.068\n",
            "Validation loss: 15.557\n",
            "Training MAE: 1.155685544013977\n",
            "Validation MAE: 3.0936033725738525\n",
            "\n",
            " Epoch17 / 50\n"
          ]
        },
        {
          "output_type": "stream",
          "name": "stderr",
          "text": [
            "100%|██████████| 120/120 [00:14<00:00,  8.44it/s]\n",
            "100%|██████████| 3/3 [00:00<00:00, 10.38it/s]\n"
          ]
        },
        {
          "output_type": "stream",
          "name": "stdout",
          "text": [
            "tensor(2.9801)\n",
            "tensor(5.9529)\n",
            "tensor(9.1696)\n",
            "\n",
            "Training loss: 2.756\n",
            "Validation loss: 15.240\n",
            "Training MAE: 1.0890876054763794\n",
            "Validation MAE: 3.0565288066864014\n",
            "\n",
            " Epoch18 / 50\n"
          ]
        },
        {
          "output_type": "stream",
          "name": "stderr",
          "text": [
            "100%|██████████| 120/120 [00:14<00:00,  8.31it/s]\n",
            "100%|██████████| 3/3 [00:00<00:00, 10.27it/s]\n"
          ]
        },
        {
          "output_type": "stream",
          "name": "stdout",
          "text": [
            "tensor(2.9132)\n",
            "tensor(5.9312)\n",
            "tensor(9.0102)\n",
            "\n",
            "Training loss: 2.510\n",
            "Validation loss: 14.750\n",
            "Training MAE: 1.034050703048706\n",
            "Validation MAE: 3.0033912658691406\n",
            "\n",
            " Epoch19 / 50\n"
          ]
        },
        {
          "output_type": "stream",
          "name": "stderr",
          "text": [
            "100%|██████████| 120/120 [00:14<00:00,  8.31it/s]\n",
            "100%|██████████| 3/3 [00:00<00:00,  9.28it/s]"
          ]
        },
        {
          "output_type": "stream",
          "name": "stdout",
          "text": [
            "tensor(3.0038)\n",
            "tensor(5.8531)\n",
            "tensor(8.9631)\n"
          ]
        },
        {
          "output_type": "stream",
          "name": "stderr",
          "text": [
            "\n"
          ]
        },
        {
          "output_type": "stream",
          "name": "stdout",
          "text": [
            "\n",
            "Training loss: 2.283\n",
            "Validation loss: 14.545\n",
            "Training MAE: 0.9821786284446716\n",
            "Validation MAE: 2.9877045154571533\n",
            "\n",
            " Epoch20 / 50\n"
          ]
        },
        {
          "output_type": "stream",
          "name": "stderr",
          "text": [
            "100%|██████████| 120/120 [00:14<00:00,  8.43it/s]\n",
            "100%|██████████| 3/3 [00:00<00:00,  9.96it/s]"
          ]
        },
        {
          "output_type": "stream",
          "name": "stdout",
          "text": [
            "tensor(2.9311)\n",
            "tensor(5.8144)\n",
            "tensor(8.7119)\n"
          ]
        },
        {
          "output_type": "stream",
          "name": "stderr",
          "text": [
            "\n"
          ]
        },
        {
          "output_type": "stream",
          "name": "stdout",
          "text": [
            "\n",
            "Training loss: 2.060\n",
            "Validation loss: 13.928\n",
            "Training MAE: 0.928856611251831\n",
            "Validation MAE: 2.9039523601531982\n",
            "\n",
            " Epoch21 / 50\n"
          ]
        },
        {
          "output_type": "stream",
          "name": "stderr",
          "text": [
            "100%|██████████| 120/120 [00:14<00:00,  8.34it/s]\n",
            "100%|██████████| 3/3 [00:00<00:00,  9.87it/s]\n"
          ]
        },
        {
          "output_type": "stream",
          "name": "stdout",
          "text": [
            "tensor(2.7311)\n",
            "tensor(5.7162)\n",
            "tensor(8.5156)\n",
            "\n",
            "Training loss: 1.875\n",
            "Validation loss: 13.444\n",
            "Training MAE: 0.8810850381851196\n",
            "Validation MAE: 2.8385403156280518\n",
            "\n",
            " Epoch22 / 50\n"
          ]
        },
        {
          "output_type": "stream",
          "name": "stderr",
          "text": [
            "100%|██████████| 120/120 [00:14<00:00,  8.14it/s]\n",
            "100%|██████████| 3/3 [00:00<00:00, 10.70it/s]\n"
          ]
        },
        {
          "output_type": "stream",
          "name": "stdout",
          "text": [
            "tensor(2.8643)\n",
            "tensor(5.6269)\n",
            "tensor(8.4707)\n",
            "\n",
            "Training loss: 1.695\n",
            "Validation loss: 13.325\n",
            "Training MAE: 0.835628092288971\n",
            "Validation MAE: 2.8235576152801514\n",
            "\n",
            " Epoch23 / 50\n"
          ]
        },
        {
          "output_type": "stream",
          "name": "stderr",
          "text": [
            "100%|██████████| 120/120 [00:14<00:00,  8.43it/s]\n",
            "100%|██████████| 3/3 [00:00<00:00,  9.87it/s]\n"
          ]
        },
        {
          "output_type": "stream",
          "name": "stdout",
          "text": [
            "tensor(2.7589)\n",
            "tensor(5.5250)\n",
            "tensor(8.3764)\n",
            "\n",
            "Training loss: 1.544\n",
            "Validation loss: 12.944\n",
            "Training MAE: 0.7949212193489075\n",
            "Validation MAE: 2.792137861251831\n",
            "\n",
            " Epoch24 / 50\n"
          ]
        },
        {
          "output_type": "stream",
          "name": "stderr",
          "text": [
            "100%|██████████| 120/120 [00:14<00:00,  8.30it/s]\n",
            "100%|██████████| 3/3 [00:00<00:00,  9.63it/s]"
          ]
        },
        {
          "output_type": "stream",
          "name": "stdout",
          "text": [
            "tensor(2.7244)\n",
            "tensor(5.3933)\n",
            "tensor(8.2637)\n"
          ]
        },
        {
          "output_type": "stream",
          "name": "stderr",
          "text": [
            "\n"
          ]
        },
        {
          "output_type": "stream",
          "name": "stdout",
          "text": [
            "\n",
            "Training loss: 1.413\n",
            "Validation loss: 12.659\n",
            "Training MAE: 0.7584169507026672\n",
            "Validation MAE: 2.75456166267395\n",
            "\n",
            " Epoch25 / 50\n"
          ]
        },
        {
          "output_type": "stream",
          "name": "stderr",
          "text": [
            "100%|██████████| 120/120 [00:14<00:00,  8.34it/s]\n",
            "100%|██████████| 3/3 [00:00<00:00,  9.94it/s]\n"
          ]
        },
        {
          "output_type": "stream",
          "name": "stdout",
          "text": [
            "tensor(2.7839)\n",
            "tensor(5.3730)\n",
            "tensor(8.0802)\n",
            "\n",
            "Training loss: 1.282\n",
            "Validation loss: 12.202\n",
            "Training MAE: 0.7222187519073486\n",
            "Validation MAE: 2.6933908462524414\n",
            "\n",
            " Epoch26 / 50\n"
          ]
        },
        {
          "output_type": "stream",
          "name": "stderr",
          "text": [
            "100%|██████████| 120/120 [00:14<00:00,  8.23it/s]\n",
            "100%|██████████| 3/3 [00:00<00:00,  9.66it/s]\n"
          ]
        },
        {
          "output_type": "stream",
          "name": "stdout",
          "text": [
            "tensor(2.6169)\n",
            "tensor(5.2838)\n",
            "tensor(7.9501)\n",
            "\n",
            "Training loss: 1.164\n",
            "Validation loss: 11.818\n",
            "Training MAE: 0.6885271668434143\n",
            "Validation MAE: 2.6500184535980225\n",
            "\n",
            " Epoch27 / 50\n"
          ]
        },
        {
          "output_type": "stream",
          "name": "stderr",
          "text": [
            "100%|██████████| 120/120 [00:14<00:00,  8.20it/s]\n",
            "100%|██████████| 3/3 [00:00<00:00,  9.33it/s]"
          ]
        },
        {
          "output_type": "stream",
          "name": "stdout",
          "text": [
            "tensor(2.6361)\n",
            "tensor(5.1945)\n",
            "tensor(7.7555)\n"
          ]
        },
        {
          "output_type": "stream",
          "name": "stderr",
          "text": [
            "\n"
          ]
        },
        {
          "output_type": "stream",
          "name": "stdout",
          "text": [
            "\n",
            "Training loss: 1.056\n",
            "Validation loss: 11.251\n",
            "Training MAE: 0.6569067239761353\n",
            "Validation MAE: 2.585172414779663\n",
            "\n",
            " Epoch28 / 50\n"
          ]
        },
        {
          "output_type": "stream",
          "name": "stderr",
          "text": [
            "100%|██████████| 120/120 [00:15<00:00,  7.91it/s]\n",
            " 67%|██████▋   | 2/3 [00:00<00:00,  7.91it/s]"
          ]
        },
        {
          "output_type": "stream",
          "name": "stdout",
          "text": [
            "tensor(2.6711)\n",
            "tensor(5.1775)\n"
          ]
        },
        {
          "output_type": "stream",
          "name": "stderr",
          "text": [
            "\r100%|██████████| 3/3 [00:00<00:00,  8.96it/s]\n"
          ]
        },
        {
          "output_type": "stream",
          "name": "stdout",
          "text": [
            "tensor(7.6020)\n",
            "\n",
            "Training loss: 0.968\n",
            "Validation loss: 10.770\n",
            "Training MAE: 0.6315239667892456\n",
            "Validation MAE: 2.534005880355835\n",
            "\n",
            " Epoch29 / 50\n"
          ]
        },
        {
          "output_type": "stream",
          "name": "stderr",
          "text": [
            "100%|██████████| 120/120 [00:14<00:00,  8.27it/s]\n",
            "100%|██████████| 3/3 [00:00<00:00,  9.90it/s]\n"
          ]
        },
        {
          "output_type": "stream",
          "name": "stdout",
          "text": [
            "tensor(2.4316)\n",
            "tensor(4.9884)\n",
            "tensor(7.5184)\n",
            "\n",
            "Training loss: 0.878\n",
            "Validation loss: 10.745\n",
            "Training MAE: 0.6017448902130127\n",
            "Validation MAE: 2.506136417388916\n",
            "\n",
            " Epoch30 / 50\n"
          ]
        },
        {
          "output_type": "stream",
          "name": "stderr",
          "text": [
            "100%|██████████| 120/120 [00:14<00:00,  8.09it/s]\n",
            "100%|██████████| 3/3 [00:00<00:00,  9.77it/s]\n"
          ]
        },
        {
          "output_type": "stream",
          "name": "stdout",
          "text": [
            "tensor(2.4663)\n",
            "tensor(4.9595)\n",
            "tensor(7.4083)\n",
            "\n",
            "Training loss: 0.803\n",
            "Validation loss: 10.323\n",
            "Training MAE: 0.5771214962005615\n",
            "Validation MAE: 2.4694225788116455\n",
            "\n",
            " Epoch31 / 50\n"
          ]
        },
        {
          "output_type": "stream",
          "name": "stderr",
          "text": [
            "100%|██████████| 120/120 [00:14<00:00,  8.43it/s]\n",
            "100%|██████████| 3/3 [00:00<00:00,  9.95it/s]"
          ]
        },
        {
          "output_type": "stream",
          "name": "stdout",
          "text": [
            "tensor(2.5084)\n",
            "tensor(4.9189)\n",
            "tensor(7.2504)\n"
          ]
        },
        {
          "output_type": "stream",
          "name": "stderr",
          "text": [
            "\n"
          ]
        },
        {
          "output_type": "stream",
          "name": "stdout",
          "text": [
            "\n",
            "Training loss: 0.730\n",
            "Validation loss: 10.017\n",
            "Training MAE: 0.5515820980072021\n",
            "Validation MAE: 2.416785478591919\n",
            "\n",
            " Epoch32 / 50\n"
          ]
        },
        {
          "output_type": "stream",
          "name": "stderr",
          "text": [
            "100%|██████████| 120/120 [00:14<00:00,  8.38it/s]\n",
            "100%|██████████| 3/3 [00:00<00:00,  9.96it/s]\n"
          ]
        },
        {
          "output_type": "stream",
          "name": "stdout",
          "text": [
            "tensor(2.3692)\n",
            "tensor(4.7669)\n",
            "tensor(7.2413)\n",
            "\n",
            "Training loss: 0.690\n",
            "Validation loss: 9.867\n",
            "Training MAE: 0.5351101160049438\n",
            "Validation MAE: 2.413757562637329\n",
            "\n",
            " Epoch33 / 50\n"
          ]
        },
        {
          "output_type": "stream",
          "name": "stderr",
          "text": [
            "100%|██████████| 120/120 [00:14<00:00,  8.42it/s]\n",
            "100%|██████████| 3/3 [00:00<00:00,  9.63it/s]\n"
          ]
        },
        {
          "output_type": "stream",
          "name": "stdout",
          "text": [
            "tensor(2.3526)\n",
            "tensor(4.7228)\n",
            "tensor(6.9833)\n",
            "\n",
            "Training loss: 0.629\n",
            "Validation loss: 9.363\n",
            "Training MAE: 0.514270007610321\n",
            "Validation MAE: 2.3277761936187744\n",
            "\n",
            " Epoch34 / 50\n"
          ]
        },
        {
          "output_type": "stream",
          "name": "stderr",
          "text": [
            "100%|██████████| 120/120 [00:14<00:00,  8.29it/s]\n",
            "100%|██████████| 3/3 [00:00<00:00,  9.79it/s]\n"
          ]
        },
        {
          "output_type": "stream",
          "name": "stdout",
          "text": [
            "tensor(2.4374)\n",
            "tensor(4.7113)\n",
            "tensor(6.8949)\n",
            "\n",
            "Training loss: 0.579\n",
            "Validation loss: 9.138\n",
            "Training MAE: 0.4968108534812927\n",
            "Validation MAE: 2.2983028888702393\n",
            "\n",
            " Epoch35 / 50\n"
          ]
        },
        {
          "output_type": "stream",
          "name": "stderr",
          "text": [
            "100%|██████████| 120/120 [00:14<00:00,  8.31it/s]\n",
            "100%|██████████| 3/3 [00:00<00:00, 10.01it/s]"
          ]
        },
        {
          "output_type": "stream",
          "name": "stdout",
          "text": [
            "tensor(2.3253)\n",
            "tensor(4.5469)\n",
            "tensor(6.8001)\n"
          ]
        },
        {
          "output_type": "stream",
          "name": "stderr",
          "text": [
            "\n"
          ]
        },
        {
          "output_type": "stream",
          "name": "stdout",
          "text": [
            "\n",
            "Training loss: 0.546\n",
            "Validation loss: 8.861\n",
            "Training MAE: 0.4831012785434723\n",
            "Validation MAE: 2.2667076587677\n",
            "\n",
            " Epoch36 / 50\n"
          ]
        },
        {
          "output_type": "stream",
          "name": "stderr",
          "text": [
            "100%|██████████| 120/120 [00:14<00:00,  8.28it/s]\n",
            "100%|██████████| 3/3 [00:00<00:00,  9.60it/s]\n"
          ]
        },
        {
          "output_type": "stream",
          "name": "stdout",
          "text": [
            "tensor(2.2101)\n",
            "tensor(4.4004)\n",
            "tensor(6.8059)\n",
            "\n",
            "Training loss: 0.503\n",
            "Validation loss: 8.819\n",
            "Training MAE: 0.46802327036857605\n",
            "Validation MAE: 2.268622875213623\n",
            "\n",
            " Epoch37 / 50\n"
          ]
        },
        {
          "output_type": "stream",
          "name": "stderr",
          "text": [
            "100%|██████████| 120/120 [00:14<00:00,  8.42it/s]\n",
            "100%|██████████| 3/3 [00:00<00:00,  9.44it/s]"
          ]
        },
        {
          "output_type": "stream",
          "name": "stdout",
          "text": [
            "tensor(2.0710)\n",
            "tensor(4.2830)\n",
            "tensor(6.7087)\n"
          ]
        },
        {
          "output_type": "stream",
          "name": "stderr",
          "text": [
            "\n"
          ]
        },
        {
          "output_type": "stream",
          "name": "stdout",
          "text": [
            "\n",
            "Training loss: 0.472\n",
            "Validation loss: 8.573\n",
            "Training MAE: 0.45736780762672424\n",
            "Validation MAE: 2.2362213134765625\n",
            "\n",
            " Epoch38 / 50\n"
          ]
        },
        {
          "output_type": "stream",
          "name": "stderr",
          "text": [
            "100%|██████████| 120/120 [00:14<00:00,  8.13it/s]\n",
            "100%|██████████| 3/3 [00:00<00:00,  9.94it/s]\n"
          ]
        },
        {
          "output_type": "stream",
          "name": "stdout",
          "text": [
            "tensor(2.0835)\n",
            "tensor(4.3798)\n",
            "tensor(6.5003)\n",
            "\n",
            "Training loss: 0.447\n",
            "Validation loss: 8.137\n",
            "Training MAE: 0.4467051327228546\n",
            "Validation MAE: 2.1667673587799072\n",
            "\n",
            " Epoch39 / 50\n"
          ]
        },
        {
          "output_type": "stream",
          "name": "stderr",
          "text": [
            "100%|██████████| 120/120 [00:14<00:00,  8.28it/s]\n",
            " 67%|██████▋   | 2/3 [00:00<00:00,  7.76it/s]"
          ]
        },
        {
          "output_type": "stream",
          "name": "stdout",
          "text": [
            "tensor(2.0229)\n",
            "tensor(4.1688)\n"
          ]
        },
        {
          "output_type": "stream",
          "name": "stderr",
          "text": [
            "\r100%|██████████| 3/3 [00:00<00:00,  9.06it/s]\n"
          ]
        },
        {
          "output_type": "stream",
          "name": "stdout",
          "text": [
            "tensor(6.4480)\n",
            "\n",
            "Training loss: 0.425\n",
            "Validation loss: 7.968\n",
            "Training MAE: 0.4375632703304291\n",
            "Validation MAE: 2.149348020553589\n",
            "\n",
            " Epoch40 / 50\n"
          ]
        },
        {
          "output_type": "stream",
          "name": "stderr",
          "text": [
            "100%|██████████| 120/120 [00:14<00:00,  8.31it/s]\n",
            "100%|██████████| 3/3 [00:00<00:00,  9.68it/s]"
          ]
        },
        {
          "output_type": "stream",
          "name": "stdout",
          "text": [
            "tensor(1.9884)\n",
            "tensor(4.1474)\n",
            "tensor(6.3533)\n"
          ]
        },
        {
          "output_type": "stream",
          "name": "stderr",
          "text": [
            "\n"
          ]
        },
        {
          "output_type": "stream",
          "name": "stdout",
          "text": [
            "\n",
            "Training loss: 0.402\n",
            "Validation loss: 7.847\n",
            "Training MAE: 0.42806148529052734\n",
            "Validation MAE: 2.117769479751587\n",
            "\n",
            " Epoch41 / 50\n"
          ]
        },
        {
          "output_type": "stream",
          "name": "stderr",
          "text": [
            "100%|██████████| 120/120 [00:14<00:00,  8.36it/s]\n",
            "100%|██████████| 3/3 [00:00<00:00, 10.39it/s]\n"
          ]
        },
        {
          "output_type": "stream",
          "name": "stdout",
          "text": [
            "tensor(2.1372)\n",
            "tensor(4.1154)\n",
            "tensor(6.1799)\n",
            "\n",
            "Training loss: 0.385\n",
            "Validation loss: 7.331\n",
            "Training MAE: 0.4210284948348999\n",
            "Validation MAE: 2.0599634647369385\n",
            "\n",
            " Epoch42 / 50\n"
          ]
        },
        {
          "output_type": "stream",
          "name": "stderr",
          "text": [
            "100%|██████████| 120/120 [00:14<00:00,  8.35it/s]\n",
            "100%|██████████| 3/3 [00:00<00:00, 10.02it/s]\n"
          ]
        },
        {
          "output_type": "stream",
          "name": "stdout",
          "text": [
            "tensor(2.0690)\n",
            "tensor(4.1367)\n",
            "tensor(6.0531)\n",
            "\n",
            "Training loss: 0.368\n",
            "Validation loss: 7.137\n",
            "Training MAE: 0.4135366380214691\n",
            "Validation MAE: 2.0176842212677\n",
            "\n",
            " Epoch43 / 50\n"
          ]
        },
        {
          "output_type": "stream",
          "name": "stderr",
          "text": [
            "100%|██████████| 120/120 [00:14<00:00,  8.43it/s]\n",
            "100%|██████████| 3/3 [00:00<00:00,  9.70it/s]"
          ]
        },
        {
          "output_type": "stream",
          "name": "stdout",
          "text": [
            "tensor(2.0263)\n",
            "tensor(3.9415)\n",
            "tensor(6.0236)\n"
          ]
        },
        {
          "output_type": "stream",
          "name": "stderr",
          "text": [
            "\n"
          ]
        },
        {
          "output_type": "stream",
          "name": "stdout",
          "text": [
            "\n",
            "Training loss: 0.354\n",
            "Validation loss: 7.005\n",
            "Training MAE: 0.40723100304603577\n",
            "Validation MAE: 2.0078718662261963\n",
            "\n",
            " Epoch44 / 50\n"
          ]
        },
        {
          "output_type": "stream",
          "name": "stderr",
          "text": [
            "100%|██████████| 120/120 [00:14<00:00,  8.32it/s]\n",
            "100%|██████████| 3/3 [00:00<00:00, 10.17it/s]\n"
          ]
        },
        {
          "output_type": "stream",
          "name": "stdout",
          "text": [
            "tensor(1.9937)\n",
            "tensor(3.9773)\n",
            "tensor(5.8656)\n",
            "\n",
            "Training loss: 0.338\n",
            "Validation loss: 6.690\n",
            "Training MAE: 0.39971473813056946\n",
            "Validation MAE: 1.9552165269851685\n",
            "\n",
            " Epoch45 / 50\n"
          ]
        },
        {
          "output_type": "stream",
          "name": "stderr",
          "text": [
            "100%|██████████| 120/120 [00:14<00:00,  8.29it/s]\n",
            "100%|██████████| 3/3 [00:00<00:00,  9.83it/s]\n"
          ]
        },
        {
          "output_type": "stream",
          "name": "stdout",
          "text": [
            "tensor(1.8815)\n",
            "tensor(3.8708)\n",
            "tensor(5.8003)\n",
            "\n",
            "Training loss: 0.329\n",
            "Validation loss: 6.485\n",
            "Training MAE: 0.395224392414093\n",
            "Validation MAE: 1.933448314666748\n",
            "\n",
            " Epoch46 / 50\n"
          ]
        },
        {
          "output_type": "stream",
          "name": "stderr",
          "text": [
            "100%|██████████| 120/120 [00:14<00:00,  8.41it/s]\n",
            "100%|██████████| 3/3 [00:00<00:00,  8.82it/s]"
          ]
        },
        {
          "output_type": "stream",
          "name": "stdout",
          "text": [
            "tensor(1.8831)\n",
            "tensor(3.8636)\n",
            "tensor(5.7493)\n"
          ]
        },
        {
          "output_type": "stream",
          "name": "stderr",
          "text": [
            "\n"
          ]
        },
        {
          "output_type": "stream",
          "name": "stdout",
          "text": [
            "\n",
            "Training loss: 0.320\n",
            "Validation loss: 6.420\n",
            "Training MAE: 0.39193522930145264\n",
            "Validation MAE: 1.9164212942123413\n",
            "\n",
            " Epoch47 / 50\n"
          ]
        },
        {
          "output_type": "stream",
          "name": "stderr",
          "text": [
            "100%|██████████| 120/120 [00:14<00:00,  8.36it/s]\n",
            "100%|██████████| 3/3 [00:00<00:00, 10.10it/s]\n"
          ]
        },
        {
          "output_type": "stream",
          "name": "stdout",
          "text": [
            "tensor(2.0650)\n",
            "tensor(3.8009)\n",
            "tensor(5.6412)\n",
            "\n",
            "Training loss: 0.314\n",
            "Validation loss: 6.202\n",
            "Training MAE: 0.38904422521591187\n",
            "Validation MAE: 1.8804155588150024\n",
            "\n",
            " Epoch48 / 50\n"
          ]
        },
        {
          "output_type": "stream",
          "name": "stderr",
          "text": [
            "100%|██████████| 120/120 [00:14<00:00,  8.23it/s]\n",
            "100%|██████████| 3/3 [00:00<00:00, 10.05it/s]\n"
          ]
        },
        {
          "output_type": "stream",
          "name": "stdout",
          "text": [
            "tensor(1.8569)\n",
            "tensor(3.7410)\n",
            "tensor(5.6713)\n",
            "\n",
            "Training loss: 0.305\n",
            "Validation loss: 6.296\n",
            "Training MAE: 0.3852134346961975\n",
            "Validation MAE: 1.8904460668563843\n",
            "\n",
            " Epoch49 / 50\n"
          ]
        },
        {
          "output_type": "stream",
          "name": "stderr",
          "text": [
            "100%|██████████| 120/120 [00:15<00:00,  7.97it/s]\n",
            "100%|██████████| 3/3 [00:00<00:00,  9.26it/s]"
          ]
        },
        {
          "output_type": "stream",
          "name": "stdout",
          "text": [
            "tensor(1.8888)\n",
            "tensor(3.7141)\n",
            "tensor(5.5324)\n"
          ]
        },
        {
          "output_type": "stream",
          "name": "stderr",
          "text": [
            "\n"
          ]
        },
        {
          "output_type": "stream",
          "name": "stdout",
          "text": [
            "\n",
            "Training loss: 0.297\n",
            "Validation loss: 5.920\n",
            "Training MAE: 0.38100871443748474\n",
            "Validation MAE: 1.8441308736801147\n",
            "\n",
            " Epoch50 / 50\n"
          ]
        },
        {
          "output_type": "stream",
          "name": "stderr",
          "text": [
            "100%|██████████| 120/120 [00:14<00:00,  8.20it/s]\n",
            "100%|██████████| 3/3 [00:00<00:00,  9.40it/s]"
          ]
        },
        {
          "output_type": "stream",
          "name": "stdout",
          "text": [
            "tensor(1.7328)\n",
            "tensor(3.5681)\n",
            "tensor(5.5238)\n"
          ]
        },
        {
          "output_type": "stream",
          "name": "stderr",
          "text": [
            "\n"
          ]
        },
        {
          "output_type": "stream",
          "name": "stdout",
          "text": [
            "\n",
            "Training loss: 0.287\n",
            "Validation loss: 5.886\n",
            "Training MAE: 0.37609589099884033\n",
            "Validation MAE: 1.841267466545105\n"
          ]
        }
      ]
    },
    {
      "cell_type": "code",
      "source": [
        "plot_losses()"
      ],
      "metadata": {
        "colab": {
          "base_uri": "https://localhost:8080/",
          "height": 295
        },
        "id": "CsR3WQmgdhp9",
        "outputId": "a5156984-358d-4a1d-aef4-6f063586beb8"
      },
      "execution_count": null,
      "outputs": [
        {
          "output_type": "display_data",
          "data": {
            "text/plain": [
              "<Figure size 432x288 with 1 Axes>"
            ],
            "image/png": "[encoded data removed]"
          },
          "metadata": {
            "needs_background": "light"
          }
        }
      ]
    },
    {
      "cell_type": "code",
      "source": [
        "plot_metrics()"
      ],
      "metadata": {
        "colab": {
          "base_uri": "https://localhost:8080/",
          "height": 295
        },
        "id": "Oy4lj_wIkAIu",
        "outputId": "48132077-af27-4cfc-bd58-0672533bc4d9"
      },
      "execution_count": null,
      "outputs": [
        {
          "output_type": "display_data",
          "data": {
            "text/plain": [
              "<Figure size 432x288 with 1 Axes>"
            ],
            "image/png": "[encoded data removed]"
          },
          "metadata": {
            "needs_background": "light"
          }
        }
      ]
    },
    {
      "cell_type": "code",
      "source": [
        "model = MatrixFactorizationModel(\n",
        "    40, len(user_lookup), len(movie_lookup), ratings_range=[1, 10]\n",
        ")\n",
        "model = model.to(device)\n",
        "loss_func = torch.nn.MSELoss()\n",
        "mae_func = torchmetrics.MeanAbsoluteError()\n",
        "\n",
        "optimizer = torch.optim.AdamW(model.parameters(), lr=0.04)"
      ],
      "metadata": {
        "id": "bf67gz9RkBb2"
      },
      "execution_count": null,
      "outputs": []
    },
    {
      "cell_type": "code",
      "source": [
        "all_train_losses = []\n",
        "all_valid_losses = []\n",
        "all_train_metrics = []\n",
        "all_val_metrics = []\n",
        "best_valid_loss = float('inf')\n",
        "best_val_metric = float('inf')\n",
        "epochs = 50\n",
        "train_losses = []\n",
        "valid_losses = []\n",
        "train_metrics, val_metrics = [], []\n",
        "\n",
        "for epoch in range(epochs):\n",
        "    print('\\n Epoch{:} / {:}'.format(epoch+1, epochs))\n",
        "\n",
        "    train_loss, train_mae, _ = train()\n",
        "    valid_loss, val_mae, _ = evaluate()\n",
        "    \n",
        "    if valid_loss < best_valid_loss:\n",
        "        best_valid_loss = valid_loss\n",
        "        best_val_metric = val_mae\n",
        "        torch.save(model.state_dict(), 'saved_weights.pt')\n",
        "    \n",
        "    train_losses.append(train_loss)\n",
        "    valid_losses.append(valid_loss)\n",
        "    train_metrics.append(train_mae)\n",
        "    val_metrics.append(val_mae)\n",
        "    print(f'\\nTraining loss: {train_loss:.3f}')\n",
        "    print(f'Validation loss: {valid_loss:.3f}')\n",
        "    print(f'Training MAE: {train_mae}')\n",
        "    print(f'Validation MAE: {val_mae}')\n",
        "\n",
        "all_train_losses.extend(train_losses)\n",
        "all_valid_losses.extend(valid_losses)\n",
        "all_train_metrics.extend(train_metrics)\n",
        "all_val_metrics.extend(val_metrics)"
      ],
      "metadata": {
        "colab": {
          "base_uri": "https://localhost:8080/"
        },
        "id": "fgrwl-08kGeH",
        "outputId": "5cbeeeb8-324e-4464-b3f0-b7d37afb29af"
      },
      "execution_count": null,
      "outputs": [
        {
          "output_type": "stream",
          "name": "stdout",
          "text": [
            "\n",
            " Epoch1 / 50\n"
          ]
        },
        {
          "output_type": "stream",
          "name": "stderr",
          "text": [
            "100%|██████████| 120/120 [00:20<00:00,  5.99it/s]\n",
            "100%|██████████| 3/3 [00:00<00:00,  9.72it/s]\n"
          ]
        },
        {
          "output_type": "stream",
          "name": "stdout",
          "text": [
            "tensor(3.6500)\n",
            "tensor(7.0215)\n",
            "tensor(10.5676)\n",
            "\n",
            "Training loss: 21.405\n",
            "Validation loss: 19.635\n",
            "Training MAE: 3.718191385269165\n",
            "Validation MAE: 3.5225322246551514\n",
            "\n",
            " Epoch2 / 50\n"
          ]
        },
        {
          "output_type": "stream",
          "name": "stderr",
          "text": [
            "100%|██████████| 120/120 [00:14<00:00,  8.43it/s]\n",
            "100%|██████████| 3/3 [00:00<00:00,  9.48it/s]\n"
          ]
        },
        {
          "output_type": "stream",
          "name": "stdout",
          "text": [
            "tensor(3.2140)\n",
            "tensor(6.4410)\n",
            "tensor(9.7894)\n",
            "\n",
            "Training loss: 12.461\n",
            "Validation loss: 17.512\n",
            "Training MAE: 2.634064197540283\n",
            "Validation MAE: 3.263127565383911\n",
            "\n",
            " Epoch3 / 50\n"
          ]
        },
        {
          "output_type": "stream",
          "name": "stderr",
          "text": [
            "100%|██████████| 120/120 [00:14<00:00,  8.39it/s]\n",
            "100%|██████████| 3/3 [00:00<00:00,  9.85it/s]\n"
          ]
        },
        {
          "output_type": "stream",
          "name": "stdout",
          "text": [
            "tensor(3.1164)\n",
            "tensor(6.1879)\n",
            "tensor(9.2147)\n",
            "\n",
            "Training loss: 9.316\n",
            "Validation loss: 15.940\n",
            "Training MAE: 2.2630577087402344\n",
            "Validation MAE: 3.0715830326080322\n",
            "\n",
            " Epoch4 / 50\n"
          ]
        },
        {
          "output_type": "stream",
          "name": "stderr",
          "text": [
            "100%|██████████| 120/120 [00:14<00:00,  8.41it/s]\n",
            "100%|██████████| 3/3 [00:00<00:00,  9.98it/s]"
          ]
        },
        {
          "output_type": "stream",
          "name": "stdout",
          "text": [
            "tensor(2.9727)\n",
            "tensor(5.8184)\n",
            "tensor(8.8623)\n"
          ]
        },
        {
          "output_type": "stream",
          "name": "stderr",
          "text": [
            "\n"
          ]
        },
        {
          "output_type": "stream",
          "name": "stdout",
          "text": [
            "\n",
            "Training loss: 7.946\n",
            "Validation loss: 14.907\n",
            "Training MAE: 2.105095386505127\n",
            "Validation MAE: 2.954115629196167\n",
            "\n",
            " Epoch5 / 50\n"
          ]
        },
        {
          "output_type": "stream",
          "name": "stderr",
          "text": [
            "100%|██████████| 120/120 [00:14<00:00,  8.49it/s]\n",
            " 67%|██████▋   | 2/3 [00:00<00:00,  7.64it/s]"
          ]
        },
        {
          "output_type": "stream",
          "name": "stdout",
          "text": [
            "tensor(2.7826)\n",
            "tensor(5.6825)\n",
            "tensor(8.4583)\n"
          ]
        },
        {
          "output_type": "stream",
          "name": "stderr",
          "text": [
            "\r100%|██████████| 3/3 [00:00<00:00,  8.96it/s]\n"
          ]
        },
        {
          "output_type": "stream",
          "name": "stdout",
          "text": [
            "\n",
            "Training loss: 7.368\n",
            "Validation loss: 13.681\n",
            "Training MAE: 2.037571668624878\n",
            "Validation MAE: 2.819448709487915\n",
            "\n",
            " Epoch6 / 50\n"
          ]
        },
        {
          "output_type": "stream",
          "name": "stderr",
          "text": [
            "100%|██████████| 120/120 [00:14<00:00,  8.39it/s]\n",
            "100%|██████████| 3/3 [00:00<00:00,  9.76it/s]\n"
          ]
        },
        {
          "output_type": "stream",
          "name": "stdout",
          "text": [
            "tensor(2.5698)\n",
            "tensor(5.4413)\n",
            "tensor(8.1961)\n",
            "\n",
            "Training loss: 6.920\n",
            "Validation loss: 13.073\n",
            "Training MAE: 1.9828152656555176\n",
            "Validation MAE: 2.732020616531372\n",
            "\n",
            " Epoch7 / 50\n"
          ]
        },
        {
          "output_type": "stream",
          "name": "stderr",
          "text": [
            "100%|██████████| 120/120 [00:14<00:00,  8.37it/s]\n",
            "100%|██████████| 3/3 [00:00<00:00,  9.75it/s]"
          ]
        },
        {
          "output_type": "stream",
          "name": "stdout",
          "text": [
            "tensor(2.6671)\n",
            "tensor(5.2918)\n",
            "tensor(8.0386)\n"
          ]
        },
        {
          "output_type": "stream",
          "name": "stderr",
          "text": [
            "\n"
          ]
        },
        {
          "output_type": "stream",
          "name": "stdout",
          "text": [
            "\n",
            "Training loss: 6.679\n",
            "Validation loss: 12.280\n",
            "Training MAE: 1.9517868757247925\n",
            "Validation MAE: 2.6795406341552734\n",
            "\n",
            " Epoch8 / 50\n"
          ]
        },
        {
          "output_type": "stream",
          "name": "stderr",
          "text": [
            "100%|██████████| 120/120 [00:14<00:00,  8.06it/s]\n",
            "100%|██████████| 3/3 [00:00<00:00, 10.23it/s]\n"
          ]
        },
        {
          "output_type": "stream",
          "name": "stdout",
          "text": [
            "tensor(2.7998)\n",
            "tensor(5.2905)\n",
            "tensor(7.8625)\n",
            "\n",
            "Training loss: 6.495\n",
            "Validation loss: 11.681\n",
            "Training MAE: 1.926234483718872\n",
            "Validation MAE: 2.620824098587036\n",
            "\n",
            " Epoch9 / 50\n"
          ]
        },
        {
          "output_type": "stream",
          "name": "stderr",
          "text": [
            "100%|██████████| 120/120 [00:14<00:00,  8.02it/s]\n",
            "100%|██████████| 3/3 [00:00<00:00, 10.09it/s]\n"
          ]
        },
        {
          "output_type": "stream",
          "name": "stdout",
          "text": [
            "tensor(2.4750)\n",
            "tensor(5.0524)\n",
            "tensor(7.4943)\n",
            "\n",
            "Training loss: 6.298\n",
            "Validation loss: 10.935\n",
            "Training MAE: 1.8988842964172363\n",
            "Validation MAE: 2.49811053276062\n",
            "\n",
            " Epoch10 / 50\n"
          ]
        },
        {
          "output_type": "stream",
          "name": "stderr",
          "text": [
            "100%|██████████| 120/120 [00:14<00:00,  8.31it/s]\n",
            "100%|██████████| 3/3 [00:00<00:00,  9.51it/s]"
          ]
        },
        {
          "output_type": "stream",
          "name": "stdout",
          "text": [
            "tensor(2.2935)\n",
            "tensor(4.8265)\n",
            "tensor(7.3779)\n"
          ]
        },
        {
          "output_type": "stream",
          "name": "stderr",
          "text": [
            "\n"
          ]
        },
        {
          "output_type": "stream",
          "name": "stdout",
          "text": [
            "\n",
            "Training loss: 6.158\n",
            "Validation loss: 10.523\n",
            "Training MAE: 1.8796743154525757\n",
            "Validation MAE: 2.4592840671539307\n",
            "\n",
            " Epoch11 / 50\n"
          ]
        },
        {
          "output_type": "stream",
          "name": "stderr",
          "text": [
            "100%|██████████| 120/120 [00:14<00:00,  8.08it/s]\n",
            "100%|██████████| 3/3 [00:00<00:00,  9.93it/s]"
          ]
        },
        {
          "output_type": "stream",
          "name": "stdout",
          "text": [
            "tensor(2.3798)\n",
            "tensor(4.7669)\n",
            "tensor(7.1568)\n"
          ]
        },
        {
          "output_type": "stream",
          "name": "stderr",
          "text": [
            "\n"
          ]
        },
        {
          "output_type": "stream",
          "name": "stdout",
          "text": [
            "\n",
            "Training loss: 6.085\n",
            "Validation loss: 9.949\n",
            "Training MAE: 1.8664671182632446\n",
            "Validation MAE: 2.3856019973754883\n",
            "\n",
            " Epoch12 / 50\n"
          ]
        },
        {
          "output_type": "stream",
          "name": "stderr",
          "text": [
            "100%|██████████| 120/120 [00:14<00:00,  8.24it/s]\n",
            "100%|██████████| 3/3 [00:00<00:00,  8.99it/s]"
          ]
        },
        {
          "output_type": "stream",
          "name": "stdout",
          "text": [
            "tensor(2.2574)\n",
            "tensor(4.7054)\n",
            "tensor(7.0079)\n"
          ]
        },
        {
          "output_type": "stream",
          "name": "stderr",
          "text": [
            "\n"
          ]
        },
        {
          "output_type": "stream",
          "name": "stdout",
          "text": [
            "\n",
            "Training loss: 6.019\n",
            "Validation loss: 9.539\n",
            "Training MAE: 1.8536845445632935\n",
            "Validation MAE: 2.335963249206543\n",
            "\n",
            " Epoch13 / 50\n"
          ]
        },
        {
          "output_type": "stream",
          "name": "stderr",
          "text": [
            "100%|██████████| 120/120 [00:14<00:00,  8.37it/s]\n",
            "100%|██████████| 3/3 [00:00<00:00, 10.30it/s]\n"
          ]
        },
        {
          "output_type": "stream",
          "name": "stdout",
          "text": [
            "tensor(2.3101)\n",
            "tensor(4.5569)\n",
            "tensor(6.9878)\n",
            "\n",
            "Training loss: 5.912\n",
            "Validation loss: 9.467\n",
            "Training MAE: 1.8366146087646484\n",
            "Validation MAE: 2.3292694091796875\n",
            "\n",
            " Epoch14 / 50\n"
          ]
        },
        {
          "output_type": "stream",
          "name": "stderr",
          "text": [
            "100%|██████████| 120/120 [00:14<00:00,  8.52it/s]\n",
            "100%|██████████| 3/3 [00:00<00:00, 10.09it/s]\n"
          ]
        },
        {
          "output_type": "stream",
          "name": "stdout",
          "text": [
            "tensor(2.2733)\n",
            "tensor(4.6957)\n",
            "tensor(6.9833)\n",
            "\n",
            "Training loss: 5.818\n",
            "Validation loss: 9.546\n",
            "Training MAE: 1.8208705186843872\n",
            "Validation MAE: 2.32776141166687\n",
            "\n",
            " Epoch15 / 50\n"
          ]
        },
        {
          "output_type": "stream",
          "name": "stderr",
          "text": [
            "100%|██████████| 120/120 [00:15<00:00,  7.95it/s]\n",
            " 67%|██████▋   | 2/3 [00:00<00:00,  7.55it/s]"
          ]
        },
        {
          "output_type": "stream",
          "name": "stdout",
          "text": [
            "tensor(2.1669)\n",
            "tensor(4.4913)\n"
          ]
        },
        {
          "output_type": "stream",
          "name": "stderr",
          "text": [
            "\r100%|██████████| 3/3 [00:00<00:00,  8.92it/s]\n"
          ]
        },
        {
          "output_type": "stream",
          "name": "stdout",
          "text": [
            "tensor(6.7547)\n",
            "\n",
            "Training loss: 5.795\n",
            "Validation loss: 9.027\n",
            "Training MAE: 1.8164242506027222\n",
            "Validation MAE: 2.251570463180542\n",
            "\n",
            " Epoch16 / 50\n"
          ]
        },
        {
          "output_type": "stream",
          "name": "stderr",
          "text": [
            "100%|██████████| 120/120 [00:14<00:00,  8.08it/s]\n",
            "100%|██████████| 3/3 [00:00<00:00, 10.35it/s]\n"
          ]
        },
        {
          "output_type": "stream",
          "name": "stdout",
          "text": [
            "tensor(2.1979)\n",
            "tensor(4.4178)\n",
            "tensor(6.7033)\n",
            "\n",
            "Training loss: 5.773\n",
            "Validation loss: 8.824\n",
            "Training MAE: 1.8129158020019531\n",
            "Validation MAE: 2.234428644180298\n",
            "\n",
            " Epoch17 / 50\n"
          ]
        },
        {
          "output_type": "stream",
          "name": "stderr",
          "text": [
            "100%|██████████| 120/120 [00:14<00:00,  8.35it/s]\n",
            "100%|██████████| 3/3 [00:00<00:00,  9.37it/s]"
          ]
        },
        {
          "output_type": "stream",
          "name": "stdout",
          "text": [
            "tensor(2.3262)\n",
            "tensor(4.5597)\n",
            "tensor(6.8307)\n"
          ]
        },
        {
          "output_type": "stream",
          "name": "stderr",
          "text": [
            "\n"
          ]
        },
        {
          "output_type": "stream",
          "name": "stdout",
          "text": [
            "\n",
            "Training loss: 5.673\n",
            "Validation loss: 9.084\n",
            "Training MAE: 1.7972663640975952\n",
            "Validation MAE: 2.2769110202789307\n",
            "\n",
            " Epoch18 / 50\n"
          ]
        },
        {
          "output_type": "stream",
          "name": "stderr",
          "text": [
            "100%|██████████| 120/120 [00:14<00:00,  8.39it/s]\n",
            "100%|██████████| 3/3 [00:00<00:00, 10.80it/s]\n"
          ]
        },
        {
          "output_type": "stream",
          "name": "stdout",
          "text": [
            "tensor(2.2955)\n",
            "tensor(4.5133)\n",
            "tensor(6.6796)\n",
            "\n",
            "Training loss: 5.636\n",
            "Validation loss: 8.892\n",
            "Training MAE: 1.7894188165664673\n",
            "Validation MAE: 2.2265384197235107\n",
            "\n",
            " Epoch19 / 50\n"
          ]
        },
        {
          "output_type": "stream",
          "name": "stderr",
          "text": [
            "100%|██████████| 120/120 [00:14<00:00,  8.39it/s]\n",
            "100%|██████████| 3/3 [00:00<00:00,  9.80it/s]"
          ]
        },
        {
          "output_type": "stream",
          "name": "stdout",
          "text": [
            "tensor(2.2117)\n",
            "tensor(4.4202)\n",
            "tensor(6.5667)\n"
          ]
        },
        {
          "output_type": "stream",
          "name": "stderr",
          "text": [
            "\n"
          ]
        },
        {
          "output_type": "stream",
          "name": "stdout",
          "text": [
            "\n",
            "Training loss: 5.621\n",
            "Validation loss: 8.462\n",
            "Training MAE: 1.786818027496338\n",
            "Validation MAE: 2.1889095306396484\n",
            "\n",
            " Epoch20 / 50\n"
          ]
        },
        {
          "output_type": "stream",
          "name": "stderr",
          "text": [
            "100%|██████████| 120/120 [00:14<00:00,  8.43it/s]\n",
            "100%|██████████| 3/3 [00:00<00:00,  9.82it/s]"
          ]
        },
        {
          "output_type": "stream",
          "name": "stdout",
          "text": [
            "tensor(2.2838)\n",
            "tensor(4.4575)\n",
            "tensor(6.4819)\n"
          ]
        },
        {
          "output_type": "stream",
          "name": "stderr",
          "text": [
            "\n"
          ]
        },
        {
          "output_type": "stream",
          "name": "stdout",
          "text": [
            "\n",
            "Training loss: 5.534\n",
            "Validation loss: 8.289\n",
            "Training MAE: 1.7739351987838745\n",
            "Validation MAE: 2.1606438159942627\n",
            "\n",
            " Epoch21 / 50\n"
          ]
        },
        {
          "output_type": "stream",
          "name": "stderr",
          "text": [
            "100%|██████████| 120/120 [00:14<00:00,  8.38it/s]\n",
            "100%|██████████| 3/3 [00:00<00:00, 10.03it/s]\n"
          ]
        },
        {
          "output_type": "stream",
          "name": "stdout",
          "text": [
            "tensor(2.1205)\n",
            "tensor(4.3284)\n",
            "tensor(6.4145)\n",
            "\n",
            "Training loss: 5.475\n",
            "Validation loss: 8.129\n",
            "Training MAE: 1.7628835439682007\n",
            "Validation MAE: 2.1381781101226807\n",
            "\n",
            " Epoch22 / 50\n"
          ]
        },
        {
          "output_type": "stream",
          "name": "stderr",
          "text": [
            "100%|██████████| 120/120 [00:14<00:00,  8.34it/s]\n",
            "100%|██████████| 3/3 [00:00<00:00,  9.73it/s]"
          ]
        },
        {
          "output_type": "stream",
          "name": "stdout",
          "text": [
            "tensor(2.1265)\n",
            "tensor(4.2753)\n",
            "tensor(6.4457)\n"
          ]
        },
        {
          "output_type": "stream",
          "name": "stderr",
          "text": [
            "\n"
          ]
        },
        {
          "output_type": "stream",
          "name": "stdout",
          "text": [
            "\n",
            "Training loss: 5.476\n",
            "Validation loss: 7.917\n",
            "Training MAE: 1.762743592262268\n",
            "Validation MAE: 2.1485748291015625\n",
            "\n",
            " Epoch23 / 50\n"
          ]
        },
        {
          "output_type": "stream",
          "name": "stderr",
          "text": [
            "100%|██████████| 120/120 [00:14<00:00,  8.39it/s]\n",
            "100%|██████████| 3/3 [00:00<00:00,  9.77it/s]\n"
          ]
        },
        {
          "output_type": "stream",
          "name": "stdout",
          "text": [
            "tensor(2.1110)\n",
            "tensor(4.3036)\n",
            "tensor(6.4795)\n",
            "\n",
            "Training loss: 5.528\n",
            "Validation loss: 8.201\n",
            "Training MAE: 1.768927812576294\n",
            "Validation MAE: 2.1598312854766846\n",
            "\n",
            " Epoch24 / 50\n"
          ]
        },
        {
          "output_type": "stream",
          "name": "stderr",
          "text": [
            "100%|██████████| 120/120 [00:14<00:00,  8.32it/s]\n",
            "100%|██████████| 3/3 [00:00<00:00,  9.34it/s]\n"
          ]
        },
        {
          "output_type": "stream",
          "name": "stdout",
          "text": [
            "tensor(2.2458)\n",
            "tensor(4.3322)\n",
            "tensor(6.3625)\n",
            "\n",
            "Training loss: 5.419\n",
            "Validation loss: 7.989\n",
            "Training MAE: 1.7521075010299683\n",
            "Validation MAE: 2.120823860168457\n",
            "\n",
            " Epoch25 / 50\n"
          ]
        },
        {
          "output_type": "stream",
          "name": "stderr",
          "text": [
            "100%|██████████| 120/120 [00:14<00:00,  8.33it/s]\n",
            "100%|██████████| 3/3 [00:00<00:00, 10.23it/s]\n"
          ]
        },
        {
          "output_type": "stream",
          "name": "stdout",
          "text": [
            "tensor(2.1000)\n",
            "tensor(4.2466)\n",
            "tensor(6.4408)\n",
            "\n",
            "Training loss: 5.455\n",
            "Validation loss: 8.053\n",
            "Training MAE: 1.7552469968795776\n",
            "Validation MAE: 2.14693546295166\n",
            "\n",
            " Epoch26 / 50\n"
          ]
        },
        {
          "output_type": "stream",
          "name": "stderr",
          "text": [
            "100%|██████████| 120/120 [00:14<00:00,  8.17it/s]\n",
            "100%|██████████| 3/3 [00:00<00:00,  9.64it/s]\n"
          ]
        },
        {
          "output_type": "stream",
          "name": "stdout",
          "text": [
            "tensor(2.1318)\n",
            "tensor(4.3324)\n",
            "tensor(6.4032)\n",
            "\n",
            "Training loss: 5.348\n",
            "Validation loss: 7.902\n",
            "Training MAE: 1.7402851581573486\n",
            "Validation MAE: 2.1344010829925537\n",
            "\n",
            " Epoch27 / 50\n"
          ]
        },
        {
          "output_type": "stream",
          "name": "stderr",
          "text": [
            "100%|██████████| 120/120 [00:14<00:00,  8.28it/s]\n",
            "100%|██████████| 3/3 [00:00<00:00, 10.27it/s]\n"
          ]
        },
        {
          "output_type": "stream",
          "name": "stdout",
          "text": [
            "tensor(2.2462)\n",
            "tensor(4.2984)\n",
            "tensor(6.4296)\n",
            "\n",
            "Training loss: 5.362\n",
            "Validation loss: 8.074\n",
            "Training MAE: 1.7423239946365356\n",
            "Validation MAE: 2.1431987285614014\n",
            "\n",
            " Epoch28 / 50\n"
          ]
        },
        {
          "output_type": "stream",
          "name": "stderr",
          "text": [
            "100%|██████████| 120/120 [00:14<00:00,  8.44it/s]\n",
            " 67%|██████▋   | 2/3 [00:00<00:00,  8.36it/s]"
          ]
        },
        {
          "output_type": "stream",
          "name": "stdout",
          "text": [
            "tensor(2.2010)\n",
            "tensor(4.3388)\n"
          ]
        },
        {
          "output_type": "stream",
          "name": "stderr",
          "text": [
            "100%|██████████| 3/3 [00:00<00:00,  7.65it/s]\n"
          ]
        },
        {
          "output_type": "stream",
          "name": "stdout",
          "text": [
            "tensor(6.5200)\n",
            "\n",
            "Training loss: 5.339\n",
            "Validation loss: 8.458\n",
            "Training MAE: 1.73539137840271\n",
            "Validation MAE: 2.173318386077881\n",
            "\n",
            " Epoch29 / 50\n"
          ]
        },
        {
          "output_type": "stream",
          "name": "stderr",
          "text": [
            "100%|██████████| 120/120 [00:14<00:00,  8.47it/s]\n",
            "100%|██████████| 3/3 [00:00<00:00, 10.08it/s]\n"
          ]
        },
        {
          "output_type": "stream",
          "name": "stdout",
          "text": [
            "tensor(2.1696)\n",
            "tensor(4.3702)\n",
            "tensor(6.3890)\n",
            "\n",
            "Training loss: 5.334\n",
            "Validation loss: 8.019\n",
            "Training MAE: 1.7327958345413208\n",
            "Validation MAE: 2.129654884338379\n",
            "\n",
            " Epoch30 / 50\n"
          ]
        },
        {
          "output_type": "stream",
          "name": "stderr",
          "text": [
            "100%|██████████| 120/120 [00:14<00:00,  8.36it/s]\n",
            "100%|██████████| 3/3 [00:00<00:00, 10.27it/s]\n"
          ]
        },
        {
          "output_type": "stream",
          "name": "stdout",
          "text": [
            "tensor(2.0452)\n",
            "tensor(4.1615)\n",
            "tensor(6.3846)\n",
            "\n",
            "Training loss: 5.318\n",
            "Validation loss: 8.013\n",
            "Training MAE: 1.728148341178894\n",
            "Validation MAE: 2.128202199935913\n",
            "\n",
            " Epoch31 / 50\n"
          ]
        },
        {
          "output_type": "stream",
          "name": "stderr",
          "text": [
            "100%|██████████| 120/120 [00:14<00:00,  8.48it/s]\n",
            " 67%|██████▋   | 2/3 [00:00<00:00,  6.22it/s]"
          ]
        },
        {
          "output_type": "stream",
          "name": "stdout",
          "text": [
            "tensor(2.0483)\n",
            "tensor(4.2040)\n"
          ]
        },
        {
          "output_type": "stream",
          "name": "stderr",
          "text": [
            "\r100%|██████████| 3/3 [00:00<00:00,  7.95it/s]\n"
          ]
        },
        {
          "output_type": "stream",
          "name": "stdout",
          "text": [
            "tensor(6.2825)\n",
            "\n",
            "Training loss: 5.290\n",
            "Validation loss: 7.697\n",
            "Training MAE: 1.7240118980407715\n",
            "Validation MAE: 2.0941545963287354\n",
            "\n",
            " Epoch32 / 50\n"
          ]
        },
        {
          "output_type": "stream",
          "name": "stderr",
          "text": [
            "100%|██████████| 120/120 [00:14<00:00,  8.57it/s]\n",
            "100%|██████████| 3/3 [00:00<00:00,  9.96it/s]"
          ]
        },
        {
          "output_type": "stream",
          "name": "stdout",
          "text": [
            "tensor(2.0797)\n",
            "tensor(4.2827)\n",
            "tensor(6.2861)\n"
          ]
        },
        {
          "output_type": "stream",
          "name": "stderr",
          "text": [
            "\n"
          ]
        },
        {
          "output_type": "stream",
          "name": "stdout",
          "text": [
            "\n",
            "Training loss: 5.256\n",
            "Validation loss: 7.641\n",
            "Training MAE: 1.7178932428359985\n",
            "Validation MAE: 2.095362901687622\n",
            "\n",
            " Epoch33 / 50\n"
          ]
        },
        {
          "output_type": "stream",
          "name": "stderr",
          "text": [
            "100%|██████████| 120/120 [00:14<00:00,  8.42it/s]\n",
            "100%|██████████| 3/3 [00:00<00:00, 10.19it/s]\n"
          ]
        },
        {
          "output_type": "stream",
          "name": "stdout",
          "text": [
            "tensor(2.0597)\n",
            "tensor(4.1964)\n",
            "tensor(6.2515)\n",
            "\n",
            "Training loss: 5.303\n",
            "Validation loss: 7.630\n",
            "Training MAE: 1.7233465909957886\n",
            "Validation MAE: 2.0838229656219482\n",
            "\n",
            " Epoch34 / 50\n"
          ]
        },
        {
          "output_type": "stream",
          "name": "stderr",
          "text": [
            "100%|██████████| 120/120 [00:14<00:00,  8.48it/s]\n",
            "100%|██████████| 3/3 [00:00<00:00,  9.82it/s]\n"
          ]
        },
        {
          "output_type": "stream",
          "name": "stdout",
          "text": [
            "tensor(2.1079)\n",
            "tensor(4.1760)\n",
            "tensor(6.2940)\n",
            "\n",
            "Training loss: 5.261\n",
            "Validation loss: 7.827\n",
            "Training MAE: 1.72005033493042\n",
            "Validation MAE: 2.0979835987091064\n",
            "\n",
            " Epoch35 / 50\n"
          ]
        },
        {
          "output_type": "stream",
          "name": "stderr",
          "text": [
            "100%|██████████| 120/120 [00:14<00:00,  8.42it/s]\n",
            "100%|██████████| 3/3 [00:00<00:00, 10.30it/s]\n"
          ]
        },
        {
          "output_type": "stream",
          "name": "stdout",
          "text": [
            "tensor(2.1734)\n",
            "tensor(4.1456)\n",
            "tensor(6.2859)\n",
            "\n",
            "Training loss: 5.254\n",
            "Validation loss: 7.761\n",
            "Training MAE: 1.7173116207122803\n",
            "Validation MAE: 2.0953121185302734\n",
            "\n",
            " Epoch36 / 50\n"
          ]
        },
        {
          "output_type": "stream",
          "name": "stderr",
          "text": [
            "100%|██████████| 120/120 [00:14<00:00,  8.14it/s]\n",
            "100%|██████████| 3/3 [00:00<00:00,  9.15it/s]\n"
          ]
        },
        {
          "output_type": "stream",
          "name": "stdout",
          "text": [
            "tensor(2.1140)\n",
            "tensor(4.1819)\n",
            "tensor(6.2683)\n",
            "\n",
            "Training loss: 5.202\n",
            "Validation loss: 7.656\n",
            "Training MAE: 1.7111989259719849\n",
            "Validation MAE: 2.089449167251587\n",
            "\n",
            " Epoch37 / 50\n"
          ]
        },
        {
          "output_type": "stream",
          "name": "stderr",
          "text": [
            "100%|██████████| 120/120 [00:14<00:00,  8.14it/s]\n",
            "100%|██████████| 3/3 [00:00<00:00,  9.92it/s]\n"
          ]
        },
        {
          "output_type": "stream",
          "name": "stdout",
          "text": [
            "tensor(2.1338)\n",
            "tensor(4.2907)\n",
            "tensor(6.5514)\n",
            "\n",
            "Training loss: 5.242\n",
            "Validation loss: 8.298\n",
            "Training MAE: 1.7159045934677124\n",
            "Validation MAE: 2.183786630630493\n",
            "\n",
            " Epoch38 / 50\n"
          ]
        },
        {
          "output_type": "stream",
          "name": "stderr",
          "text": [
            "100%|██████████| 120/120 [00:14<00:00,  8.29it/s]\n",
            "100%|██████████| 3/3 [00:00<00:00, 10.06it/s]\n"
          ]
        },
        {
          "output_type": "stream",
          "name": "stdout",
          "text": [
            "tensor(2.0782)\n",
            "tensor(4.3529)\n",
            "tensor(6.3727)\n",
            "\n",
            "Training loss: 5.221\n",
            "Validation loss: 7.902\n",
            "Training MAE: 1.7098976373672485\n",
            "Validation MAE: 2.1242473125457764\n",
            "\n",
            " Epoch39 / 50\n"
          ]
        },
        {
          "output_type": "stream",
          "name": "stderr",
          "text": [
            "100%|██████████| 120/120 [00:14<00:00,  8.44it/s]\n",
            "100%|██████████| 3/3 [00:00<00:00, 10.22it/s]\n"
          ]
        },
        {
          "output_type": "stream",
          "name": "stdout",
          "text": [
            "tensor(2.1996)\n",
            "tensor(4.3101)\n",
            "tensor(6.4808)\n",
            "\n",
            "Training loss: 5.241\n",
            "Validation loss: 8.332\n",
            "Training MAE: 1.7123976945877075\n",
            "Validation MAE: 2.1602659225463867\n",
            "\n",
            " Epoch40 / 50\n"
          ]
        },
        {
          "output_type": "stream",
          "name": "stderr",
          "text": [
            "100%|██████████| 120/120 [00:14<00:00,  8.38it/s]\n",
            "100%|██████████| 3/3 [00:00<00:00,  9.97it/s]\n"
          ]
        },
        {
          "output_type": "stream",
          "name": "stdout",
          "text": [
            "tensor(2.1361)\n",
            "tensor(4.3286)\n",
            "tensor(6.4096)\n",
            "\n",
            "Training loss: 5.203\n",
            "Validation loss: 8.047\n",
            "Training MAE: 1.708611011505127\n",
            "Validation MAE: 2.1365277767181396\n",
            "\n",
            " Epoch41 / 50\n"
          ]
        },
        {
          "output_type": "stream",
          "name": "stderr",
          "text": [
            "100%|██████████| 120/120 [00:14<00:00,  8.17it/s]\n",
            "100%|██████████| 3/3 [00:00<00:00,  9.70it/s]\n"
          ]
        },
        {
          "output_type": "stream",
          "name": "stdout",
          "text": [
            "tensor(2.1162)\n",
            "tensor(4.2962)\n",
            "tensor(6.3303)\n",
            "\n",
            "Training loss: 5.204\n",
            "Validation loss: 7.827\n",
            "Training MAE: 1.7073273658752441\n",
            "Validation MAE: 2.1100852489471436\n",
            "\n",
            " Epoch42 / 50\n"
          ]
        },
        {
          "output_type": "stream",
          "name": "stderr",
          "text": [
            "100%|██████████| 120/120 [00:14<00:00,  8.42it/s]\n",
            "100%|██████████| 3/3 [00:00<00:00, 10.50it/s]\n"
          ]
        },
        {
          "output_type": "stream",
          "name": "stdout",
          "text": [
            "tensor(2.2002)\n",
            "tensor(4.0776)\n",
            "tensor(6.4956)\n",
            "\n",
            "Training loss: 5.209\n",
            "Validation loss: 8.228\n",
            "Training MAE: 1.7068159580230713\n",
            "Validation MAE: 2.165193557739258\n",
            "\n",
            " Epoch43 / 50\n"
          ]
        },
        {
          "output_type": "stream",
          "name": "stderr",
          "text": [
            "100%|██████████| 120/120 [00:14<00:00,  8.51it/s]\n",
            "100%|██████████| 3/3 [00:00<00:00,  9.89it/s]\n"
          ]
        },
        {
          "output_type": "stream",
          "name": "stdout",
          "text": [
            "tensor(2.0920)\n",
            "tensor(4.2554)\n",
            "tensor(6.3286)\n",
            "\n",
            "Training loss: 5.150\n",
            "Validation loss: 7.940\n",
            "Training MAE: 1.699332356452942\n",
            "Validation MAE: 2.1095478534698486\n",
            "\n",
            " Epoch44 / 50\n"
          ]
        },
        {
          "output_type": "stream",
          "name": "stderr",
          "text": [
            "100%|██████████| 120/120 [00:14<00:00,  8.36it/s]\n",
            "100%|██████████| 3/3 [00:00<00:00, 10.00it/s]\n"
          ]
        },
        {
          "output_type": "stream",
          "name": "stdout",
          "text": [
            "tensor(2.1679)\n",
            "tensor(4.2572)\n",
            "tensor(6.2227)\n",
            "\n",
            "Training loss: 5.157\n",
            "Validation loss: 7.609\n",
            "Training MAE: 1.6981664896011353\n",
            "Validation MAE: 2.0742170810699463\n",
            "\n",
            " Epoch45 / 50\n"
          ]
        },
        {
          "output_type": "stream",
          "name": "stderr",
          "text": [
            "100%|██████████| 120/120 [00:14<00:00,  8.30it/s]\n",
            "100%|██████████| 3/3 [00:00<00:00,  9.88it/s]\n"
          ]
        },
        {
          "output_type": "stream",
          "name": "stdout",
          "text": [
            "tensor(1.9650)\n",
            "tensor(4.0967)\n",
            "tensor(6.2996)\n",
            "\n",
            "Training loss: 5.176\n",
            "Validation loss: 7.828\n",
            "Training MAE: 1.7032794952392578\n",
            "Validation MAE: 2.099860429763794\n",
            "\n",
            " Epoch46 / 50\n"
          ]
        },
        {
          "output_type": "stream",
          "name": "stderr",
          "text": [
            "100%|██████████| 120/120 [00:14<00:00,  8.42it/s]\n",
            "100%|██████████| 3/3 [00:00<00:00,  9.81it/s]"
          ]
        },
        {
          "output_type": "stream",
          "name": "stdout",
          "text": [
            "tensor(2.1410)\n",
            "tensor(4.1743)\n",
            "tensor(6.1594)\n"
          ]
        },
        {
          "output_type": "stream",
          "name": "stderr",
          "text": [
            "\n"
          ]
        },
        {
          "output_type": "stream",
          "name": "stdout",
          "text": [
            "\n",
            "Training loss: 5.130\n",
            "Validation loss: 7.391\n",
            "Training MAE: 1.694556713104248\n",
            "Validation MAE: 2.0531251430511475\n",
            "\n",
            " Epoch47 / 50\n"
          ]
        },
        {
          "output_type": "stream",
          "name": "stderr",
          "text": [
            "100%|██████████| 120/120 [00:14<00:00,  8.42it/s]\n",
            "100%|██████████| 3/3 [00:00<00:00,  9.85it/s]\n"
          ]
        },
        {
          "output_type": "stream",
          "name": "stdout",
          "text": [
            "tensor(2.0376)\n",
            "tensor(4.2436)\n",
            "tensor(6.1337)\n",
            "\n",
            "Training loss: 5.141\n",
            "Validation loss: 7.351\n",
            "Training MAE: 1.6937588453292847\n",
            "Validation MAE: 2.0445539951324463\n",
            "\n",
            " Epoch48 / 50\n"
          ]
        },
        {
          "output_type": "stream",
          "name": "stderr",
          "text": [
            "100%|██████████| 120/120 [00:14<00:00,  8.48it/s]\n",
            "100%|██████████| 3/3 [00:00<00:00,  9.61it/s]\n"
          ]
        },
        {
          "output_type": "stream",
          "name": "stdout",
          "text": [
            "tensor(2.1299)\n",
            "tensor(4.1554)\n",
            "tensor(6.3299)\n",
            "\n",
            "Training loss: 5.152\n",
            "Validation loss: 7.914\n",
            "Training MAE: 1.696220874786377\n",
            "Validation MAE: 2.1099648475646973\n",
            "\n",
            " Epoch49 / 50\n"
          ]
        },
        {
          "output_type": "stream",
          "name": "stderr",
          "text": [
            "100%|██████████| 120/120 [00:14<00:00,  8.39it/s]\n",
            "100%|██████████| 3/3 [00:00<00:00, 10.20it/s]\n"
          ]
        },
        {
          "output_type": "stream",
          "name": "stdout",
          "text": [
            "tensor(2.1006)\n",
            "tensor(4.1329)\n",
            "tensor(6.2457)\n",
            "\n",
            "Training loss: 5.132\n",
            "Validation loss: 7.723\n",
            "Training MAE: 1.6909157037734985\n",
            "Validation MAE: 2.0818963050842285\n",
            "\n",
            " Epoch50 / 50\n"
          ]
        },
        {
          "output_type": "stream",
          "name": "stderr",
          "text": [
            "100%|██████████| 120/120 [00:14<00:00,  8.33it/s]\n",
            "100%|██████████| 3/3 [00:00<00:00, 10.34it/s]"
          ]
        },
        {
          "output_type": "stream",
          "name": "stdout",
          "text": [
            "tensor(2.2459)\n",
            "tensor(4.2480)\n",
            "tensor(6.1763)\n",
            "\n",
            "Training loss: 5.113\n",
            "Validation loss: 7.585\n",
            "Training MAE: 1.6890639066696167\n",
            "Validation MAE: 2.0587542057037354\n"
          ]
        },
        {
          "output_type": "stream",
          "name": "stderr",
          "text": [
            "\n"
          ]
        }
      ]
    },
    {
      "cell_type": "code",
      "source": [
        "plot_losses()"
      ],
      "metadata": {
        "colab": {
          "base_uri": "https://localhost:8080/",
          "height": 295
        },
        "id": "VvWHb4k3kJJY",
        "outputId": "74b61c4c-41f8-4f0a-ff7c-b51597ab0af1"
      },
      "execution_count": null,
      "outputs": [
        {
          "output_type": "display_data",
          "data": {
            "text/plain": [
              "<Figure size 432x288 with 1 Axes>"
            ],
            "image/png": "[encoded data removed]"
          },
          "metadata": {
            "needs_background": "light"
          }
        }
      ]
    },
    {
      "cell_type": "code",
      "source": [
        "plot_metrics()"
      ],
      "metadata": {
        "colab": {
          "base_uri": "https://localhost:8080/",
          "height": 295
        },
        "id": "PnnQ_2EekKd5",
        "outputId": "06ac94d3-273b-46f6-f430-75389d17f846"
      },
      "execution_count": null,
      "outputs": [
        {
          "output_type": "display_data",
          "data": {
            "text/plain": [
              "<Figure size 432x288 with 1 Axes>"
            ],
            "image/png": "[encoded data removed]"
          },
          "metadata": {
            "needs_background": "light"
          }
        }
      ]
    },
    {
      "cell_type": "code",
      "source": [
        "model = MatrixFactorizationModel(\n",
        "    40, len(user_lookup), len(movie_lookup), ratings_range=[1, 10]\n",
        ")\n",
        "model = model.to(device)\n",
        "loss_func = torch.nn.MSELoss()\n",
        "mae_func = torchmetrics.MeanAbsoluteError()\n",
        "\n",
        "optimizer = torch.optim.AdamW(model.parameters(), lr=0.02)"
      ],
      "metadata": {
        "id": "Xo9jFOj3kLdY"
      },
      "execution_count": null,
      "outputs": []
    },
    {
      "cell_type": "code",
      "source": [
        "model = MatrixFactorizationModel(\n",
        "    60, len(user_lookup), len(movie_lookup), ratings_range=[1, 10]\n",
        ")\n",
        "model = model.to(device)\n",
        "loss_func = torch.nn.MSELoss()\n",
        "mae_func = torchmetrics.MeanAbsoluteError()\n",
        "\n",
        "optimizer = torch.optim.AdamW(model.parameters(), lr=0.02)"
      ],
      "metadata": {
        "id": "vWYGi0T_ok4g"
      },
      "execution_count": null,
      "outputs": []
    },
    {
      "cell_type": "markdown",
      "source": [
        "# New experiments"
      ],
      "metadata": {
        "id": "50RyyqqndJ3h"
      }
    },
    {
      "cell_type": "code",
      "source": [
        "model = MatrixFactorizationModel(\n",
        "    60, len(user_lookup), len(book_lookup), ratings_range=[1, 10]\n",
        ")\n",
        "model = model.to(device)\n",
        "loss_func = torch.nn.MSELoss()\n",
        "mae_func = torchmetrics.MeanAbsoluteError()\n",
        "\n",
        "optimizer = torch.optim.AdamW(model.parameters(), lr=0.03)"
      ],
      "metadata": {
        "id": "jsT89D7dwZp2"
      },
      "execution_count": null,
      "outputs": []
    },
    {
      "cell_type": "code",
      "source": [
        "all_train_losses = []\n",
        "all_valid_losses = []\n",
        "all_train_metrics = []\n",
        "all_val_metrics = []\n",
        "best_valid_loss = float('inf')\n",
        "best_val_metric = float('inf')\n",
        "epochs = 60\n",
        "train_losses = []\n",
        "valid_losses = []\n",
        "train_metrics, val_metrics = [], []\n",
        "\n",
        "for epoch in range(epochs):\n",
        "    print('\\n Epoch{:} / {:}'.format(epoch+1, epochs))\n",
        "\n",
        "    train_loss, train_mae, _ = train()\n",
        "    valid_loss, val_mae, _ = evaluate()\n",
        "    \n",
        "    if valid_loss < best_valid_loss:\n",
        "        best_valid_loss = valid_loss\n",
        "        best_val_metric = val_mae\n",
        "        torch.save(model.state_dict(), 'saved_weights.pt')\n",
        "    \n",
        "    train_losses.append(train_loss)\n",
        "    valid_losses.append(valid_loss)\n",
        "    train_metrics.append(train_mae)\n",
        "    val_metrics.append(val_mae)\n",
        "    print(f'\\nTraining loss: {train_loss:.3f}')\n",
        "    print(f'Validation loss: {valid_loss:.3f}')\n",
        "    print(f'Training MAE: {train_mae}')\n",
        "    print(f'Validation MAE: {val_mae}')\n",
        "\n",
        "all_train_losses.extend(train_losses)\n",
        "all_valid_losses.extend(valid_losses)\n",
        "all_train_metrics.extend(train_metrics)\n",
        "all_val_metrics.extend(val_metrics)"
      ],
      "metadata": {
        "colab": {
          "base_uri": "https://localhost:8080/"
        },
        "id": "2JWEtrpJLeKZ",
        "outputId": "d90424ab-c8a8-4d5a-b3aa-276ea302bc03"
      },
      "execution_count": null,
      "outputs": [
        {
          "output_type": "stream",
          "name": "stdout",
          "text": [
            "\n",
            " Epoch1 / 60\n"
          ]
        },
        {
          "output_type": "stream",
          "name": "stderr",
          "text": [
            "100%|██████████| 120/120 [00:14<00:00,  8.04it/s]\n",
            " 33%|███▎      | 1/3 [00:00<00:00,  4.28it/s]"
          ]
        },
        {
          "output_type": "stream",
          "name": "stdout",
          "text": [
            "tensor(3.8750)\n"
          ]
        },
        {
          "output_type": "stream",
          "name": "stderr",
          "text": [
            "100%|██████████| 3/3 [00:00<00:00,  4.64it/s]\n"
          ]
        },
        {
          "output_type": "stream",
          "name": "stdout",
          "text": [
            "tensor(7.7567)\n",
            "tensor(11.6784)\n",
            "\n",
            "Training loss: 23.527\n",
            "Validation loss: 22.991\n",
            "Training MAE: 3.9420785903930664\n",
            "Validation MAE: 3.8927905559539795\n",
            "\n",
            " Epoch2 / 60\n"
          ]
        },
        {
          "output_type": "stream",
          "name": "stderr",
          "text": [
            "100%|██████████| 120/120 [00:22<00:00,  5.39it/s]\n",
            " 33%|███▎      | 1/3 [00:00<00:00,  4.14it/s]"
          ]
        },
        {
          "output_type": "stream",
          "name": "stdout",
          "text": [
            "tensor(3.6293)\n"
          ]
        },
        {
          "output_type": "stream",
          "name": "stderr",
          "text": [
            "100%|██████████| 3/3 [00:00<00:00,  4.91it/s]\n"
          ]
        },
        {
          "output_type": "stream",
          "name": "stdout",
          "text": [
            "tensor(7.5004)\n",
            "tensor(11.2580)\n",
            "\n",
            "Training loss: 15.757\n",
            "Validation loss: 21.699\n",
            "Training MAE: 3.014084815979004\n",
            "Validation MAE: 3.752668619155884\n",
            "\n",
            " Epoch3 / 60\n"
          ]
        },
        {
          "output_type": "stream",
          "name": "stderr",
          "text": [
            "100%|██████████| 120/120 [00:25<00:00,  4.74it/s]\n",
            "100%|██████████| 3/3 [00:00<00:00,  9.70it/s]\n"
          ]
        },
        {
          "output_type": "stream",
          "name": "stdout",
          "text": [
            "tensor(3.4976)\n",
            "tensor(7.1413)\n",
            "tensor(10.6908)\n",
            "\n",
            "Training loss: 12.423\n",
            "Validation loss: 20.187\n",
            "Training MAE: 2.630192995071411\n",
            "Validation MAE: 3.563612937927246\n",
            "\n",
            " Epoch4 / 60\n"
          ]
        },
        {
          "output_type": "stream",
          "name": "stderr",
          "text": [
            "100%|██████████| 120/120 [00:16<00:00,  7.28it/s]\n",
            "100%|██████████| 3/3 [00:00<00:00,  9.97it/s]"
          ]
        },
        {
          "output_type": "stream",
          "name": "stdout",
          "text": [
            "tensor(3.5105)\n",
            "tensor(6.9580)\n",
            "tensor(10.4794)\n"
          ]
        },
        {
          "output_type": "stream",
          "name": "stderr",
          "text": [
            "\n"
          ]
        },
        {
          "output_type": "stream",
          "name": "stdout",
          "text": [
            "\n",
            "Training loss: 10.617\n",
            "Validation loss: 19.339\n",
            "Training MAE: 2.4250223636627197\n",
            "Validation MAE: 3.4931414127349854\n",
            "\n",
            " Epoch5 / 60\n"
          ]
        },
        {
          "output_type": "stream",
          "name": "stderr",
          "text": [
            "100%|██████████| 120/120 [00:17<00:00,  6.81it/s]\n",
            "100%|██████████| 3/3 [00:00<00:00, 10.02it/s]\n"
          ]
        },
        {
          "output_type": "stream",
          "name": "stdout",
          "text": [
            "tensor(3.3084)\n",
            "tensor(6.6423)\n",
            "tensor(10.0796)\n",
            "\n",
            "Training loss: 9.592\n",
            "Validation loss: 18.120\n",
            "Training MAE: 2.311530828475952\n",
            "Validation MAE: 3.3598830699920654\n",
            "\n",
            " Epoch6 / 60\n"
          ]
        },
        {
          "output_type": "stream",
          "name": "stderr",
          "text": [
            "100%|██████████| 120/120 [00:14<00:00,  8.37it/s]\n",
            "100%|██████████| 3/3 [00:00<00:00, 10.17it/s]\n"
          ]
        },
        {
          "output_type": "stream",
          "name": "stdout",
          "text": [
            "tensor(3.1494)\n",
            "tensor(6.3400)\n",
            "tensor(9.6923)\n",
            "\n",
            "Training loss: 8.736\n",
            "Validation loss: 17.006\n",
            "Training MAE: 2.2121357917785645\n",
            "Validation MAE: 3.230753183364868\n",
            "\n",
            " Epoch7 / 60\n"
          ]
        },
        {
          "output_type": "stream",
          "name": "stderr",
          "text": [
            "100%|██████████| 120/120 [00:14<00:00,  8.48it/s]\n",
            "100%|██████████| 3/3 [00:00<00:00, 10.30it/s]"
          ]
        },
        {
          "output_type": "stream",
          "name": "stdout",
          "text": [
            "tensor(3.1813)\n",
            "tensor(6.3737)\n",
            "tensor(9.3981)\n"
          ]
        },
        {
          "output_type": "stream",
          "name": "stderr",
          "text": [
            "\n"
          ]
        },
        {
          "output_type": "stream",
          "name": "stdout",
          "text": [
            "\n",
            "Training loss: 8.206\n",
            "Validation loss: 16.381\n",
            "Training MAE: 2.1513795852661133\n",
            "Validation MAE: 3.1327121257781982\n",
            "\n",
            " Epoch8 / 60\n"
          ]
        },
        {
          "output_type": "stream",
          "name": "stderr",
          "text": [
            "100%|██████████| 120/120 [00:19<00:00,  6.24it/s]\n",
            " 67%|██████▋   | 2/3 [00:00<00:00,  7.72it/s]"
          ]
        },
        {
          "output_type": "stream",
          "name": "stdout",
          "text": [
            "tensor(3.0960)\n",
            "tensor(6.1774)\n"
          ]
        },
        {
          "output_type": "stream",
          "name": "stderr",
          "text": [
            "\r100%|██████████| 3/3 [00:00<00:00,  8.47it/s]\n"
          ]
        },
        {
          "output_type": "stream",
          "name": "stdout",
          "text": [
            "tensor(8.9704)\n",
            "\n",
            "Training loss: 7.855\n",
            "Validation loss: 15.112\n",
            "Training MAE: 2.1096179485321045\n",
            "Validation MAE: 2.990128517150879\n",
            "\n",
            " Epoch9 / 60\n"
          ]
        },
        {
          "output_type": "stream",
          "name": "stderr",
          "text": [
            "100%|██████████| 120/120 [00:14<00:00,  8.23it/s]\n",
            "100%|██████████| 3/3 [00:00<00:00, 10.13it/s]\n"
          ]
        },
        {
          "output_type": "stream",
          "name": "stdout",
          "text": [
            "tensor(2.8986)\n",
            "tensor(5.9614)\n",
            "tensor(8.9349)\n",
            "\n",
            "Training loss: 7.610\n",
            "Validation loss: 14.877\n",
            "Training MAE: 2.0799076557159424\n",
            "Validation MAE: 2.97831130027771\n",
            "\n",
            " Epoch10 / 60\n"
          ]
        },
        {
          "output_type": "stream",
          "name": "stderr",
          "text": [
            "100%|██████████| 120/120 [00:14<00:00,  8.30it/s]\n",
            " 67%|██████▋   | 2/3 [00:00<00:00,  7.42it/s]"
          ]
        },
        {
          "output_type": "stream",
          "name": "stdout",
          "text": [
            "tensor(3.0479)\n",
            "tensor(5.8314)\n"
          ]
        },
        {
          "output_type": "stream",
          "name": "stderr",
          "text": [
            "100%|██████████| 3/3 [00:00<00:00,  7.74it/s]\n"
          ]
        },
        {
          "output_type": "stream",
          "name": "stdout",
          "text": [
            "tensor(8.6931)\n",
            "\n",
            "Training loss: 7.396\n",
            "Validation loss: 14.212\n",
            "Training MAE: 2.0525858402252197\n",
            "Validation MAE: 2.8977136611938477\n",
            "\n",
            " Epoch11 / 60\n"
          ]
        },
        {
          "output_type": "stream",
          "name": "stderr",
          "text": [
            "100%|██████████| 120/120 [00:21<00:00,  5.56it/s]\n",
            "100%|██████████| 3/3 [00:00<00:00,  9.70it/s]"
          ]
        },
        {
          "output_type": "stream",
          "name": "stdout",
          "text": [
            "tensor(2.8633)\n",
            "tensor(5.7375)\n",
            "tensor(8.6155)\n"
          ]
        },
        {
          "output_type": "stream",
          "name": "stderr",
          "text": [
            "\n"
          ]
        },
        {
          "output_type": "stream",
          "name": "stdout",
          "text": [
            "\n",
            "Training loss: 7.238\n",
            "Validation loss: 13.936\n",
            "Training MAE: 2.0332658290863037\n",
            "Validation MAE: 2.871821641921997\n",
            "\n",
            " Epoch12 / 60\n"
          ]
        },
        {
          "output_type": "stream",
          "name": "stderr",
          "text": [
            "100%|██████████| 120/120 [00:14<00:00,  8.39it/s]\n",
            "100%|██████████| 3/3 [00:00<00:00, 10.32it/s]\n"
          ]
        },
        {
          "output_type": "stream",
          "name": "stdout",
          "text": [
            "tensor(2.8174)\n",
            "tensor(5.5170)\n",
            "tensor(8.3407)\n",
            "\n",
            "Training loss: 7.123\n",
            "Validation loss: 13.207\n",
            "Training MAE: 2.0165302753448486\n",
            "Validation MAE: 2.780226945877075\n",
            "\n",
            " Epoch13 / 60\n"
          ]
        },
        {
          "output_type": "stream",
          "name": "stderr",
          "text": [
            "100%|██████████| 120/120 [00:14<00:00,  8.45it/s]\n",
            " 67%|██████▋   | 2/3 [00:00<00:00,  7.52it/s]"
          ]
        },
        {
          "output_type": "stream",
          "name": "stdout",
          "text": [
            "tensor(2.5870)\n",
            "tensor(5.3432)\n"
          ]
        },
        {
          "output_type": "stream",
          "name": "stderr",
          "text": [
            "\r100%|██████████| 3/3 [00:00<00:00,  9.18it/s]\n"
          ]
        },
        {
          "output_type": "stream",
          "name": "stdout",
          "text": [
            "tensor(8.1484)\n",
            "\n",
            "Training loss: 6.986\n",
            "Validation loss: 12.612\n",
            "Training MAE: 1.9981807470321655\n",
            "Validation MAE: 2.7161319255828857\n",
            "\n",
            " Epoch14 / 60\n"
          ]
        },
        {
          "output_type": "stream",
          "name": "stderr",
          "text": [
            "100%|██████████| 120/120 [00:14<00:00,  8.36it/s]\n",
            "100%|██████████| 3/3 [00:00<00:00, 10.37it/s]\n"
          ]
        },
        {
          "output_type": "stream",
          "name": "stdout",
          "text": [
            "tensor(2.6750)\n",
            "tensor(5.3376)\n",
            "tensor(7.7483)\n",
            "\n",
            "Training loss: 6.877\n",
            "Validation loss: 11.617\n",
            "Training MAE: 1.98112154006958\n",
            "Validation MAE: 2.582768678665161\n",
            "\n",
            " Epoch15 / 60\n"
          ]
        },
        {
          "output_type": "stream",
          "name": "stderr",
          "text": [
            "100%|██████████| 120/120 [00:14<00:00,  8.39it/s]\n",
            "100%|██████████| 3/3 [00:00<00:00,  9.76it/s]\n"
          ]
        },
        {
          "output_type": "stream",
          "name": "stdout",
          "text": [
            "tensor(2.6771)\n",
            "tensor(5.2611)\n",
            "tensor(7.8398)\n",
            "\n",
            "Training loss: 6.758\n",
            "Validation loss: 11.861\n",
            "Training MAE: 1.9644752740859985\n",
            "Validation MAE: 2.613276243209839\n",
            "\n",
            " Epoch16 / 60\n"
          ]
        },
        {
          "output_type": "stream",
          "name": "stderr",
          "text": [
            "100%|██████████| 120/120 [00:14<00:00,  8.35it/s]\n",
            "100%|██████████| 3/3 [00:00<00:00,  9.93it/s]\n"
          ]
        },
        {
          "output_type": "stream",
          "name": "stdout",
          "text": [
            "tensor(2.5930)\n",
            "tensor(5.2333)\n",
            "tensor(8.0541)\n",
            "\n",
            "Training loss: 6.704\n",
            "Validation loss: 12.251\n",
            "Training MAE: 1.9556795358657837\n",
            "Validation MAE: 2.6846981048583984\n",
            "\n",
            " Epoch17 / 60\n"
          ]
        },
        {
          "output_type": "stream",
          "name": "stderr",
          "text": [
            "100%|██████████| 120/120 [00:14<00:00,  8.39it/s]\n",
            "100%|██████████| 3/3 [00:00<00:00,  9.97it/s]\n"
          ]
        },
        {
          "output_type": "stream",
          "name": "stdout",
          "text": [
            "tensor(2.5607)\n",
            "tensor(5.1848)\n",
            "tensor(7.8660)\n",
            "\n",
            "Training loss: 6.604\n",
            "Validation loss: 11.737\n",
            "Training MAE: 1.9387365579605103\n",
            "Validation MAE: 2.6220037937164307\n",
            "\n",
            " Epoch18 / 60\n"
          ]
        },
        {
          "output_type": "stream",
          "name": "stderr",
          "text": [
            "100%|██████████| 120/120 [00:14<00:00,  8.39it/s]\n",
            "100%|██████████| 3/3 [00:00<00:00,  9.78it/s]"
          ]
        },
        {
          "output_type": "stream",
          "name": "stdout",
          "text": [
            "tensor(2.5205)\n",
            "tensor(5.0016)\n",
            "tensor(7.6778)\n"
          ]
        },
        {
          "output_type": "stream",
          "name": "stderr",
          "text": [
            "\n"
          ]
        },
        {
          "output_type": "stream",
          "name": "stdout",
          "text": [
            "\n",
            "Training loss: 6.520\n",
            "Validation loss: 11.325\n",
            "Training MAE: 1.9272780418395996\n",
            "Validation MAE: 2.559276580810547\n",
            "\n",
            " Epoch19 / 60\n"
          ]
        },
        {
          "output_type": "stream",
          "name": "stderr",
          "text": [
            "100%|██████████| 120/120 [00:14<00:00,  8.30it/s]\n",
            " 67%|██████▋   | 2/3 [00:00<00:00,  5.64it/s]"
          ]
        },
        {
          "output_type": "stream",
          "name": "stdout",
          "text": [
            "tensor(2.5183)\n",
            "tensor(4.9926)\n"
          ]
        },
        {
          "output_type": "stream",
          "name": "stderr",
          "text": [
            "100%|██████████| 3/3 [00:00<00:00,  6.45it/s]\n"
          ]
        },
        {
          "output_type": "stream",
          "name": "stdout",
          "text": [
            "tensor(7.5123)\n",
            "\n",
            "Training loss: 6.432\n",
            "Validation loss: 10.826\n",
            "Training MAE: 1.913467526435852\n",
            "Validation MAE: 2.5040924549102783\n",
            "\n",
            " Epoch20 / 60\n"
          ]
        },
        {
          "output_type": "stream",
          "name": "stderr",
          "text": [
            "100%|██████████| 120/120 [00:14<00:00,  8.05it/s]\n",
            "100%|██████████| 3/3 [00:00<00:00,  9.64it/s]"
          ]
        },
        {
          "output_type": "stream",
          "name": "stdout",
          "text": [
            "tensor(2.3777)\n",
            "tensor(4.8904)\n",
            "tensor(7.4658)\n"
          ]
        },
        {
          "output_type": "stream",
          "name": "stderr",
          "text": [
            "\n"
          ]
        },
        {
          "output_type": "stream",
          "name": "stdout",
          "text": [
            "\n",
            "Training loss: 6.379\n",
            "Validation loss: 10.604\n",
            "Training MAE: 1.9030706882476807\n",
            "Validation MAE: 2.4886085987091064\n",
            "\n",
            " Epoch21 / 60\n"
          ]
        },
        {
          "output_type": "stream",
          "name": "stderr",
          "text": [
            "100%|██████████| 120/120 [00:14<00:00,  8.41it/s]\n",
            "100%|██████████| 3/3 [00:00<00:00,  9.43it/s]"
          ]
        },
        {
          "output_type": "stream",
          "name": "stdout",
          "text": [
            "tensor(2.4943)\n",
            "tensor(4.8518)\n",
            "tensor(7.4683)\n"
          ]
        },
        {
          "output_type": "stream",
          "name": "stderr",
          "text": [
            "\n"
          ]
        },
        {
          "output_type": "stream",
          "name": "stdout",
          "text": [
            "\n",
            "Training loss: 6.375\n",
            "Validation loss: 10.582\n",
            "Training MAE: 1.9006435871124268\n",
            "Validation MAE: 2.489438056945801\n",
            "\n",
            " Epoch22 / 60\n"
          ]
        },
        {
          "output_type": "stream",
          "name": "stderr",
          "text": [
            "100%|██████████| 120/120 [00:14<00:00,  8.46it/s]\n",
            "100%|██████████| 3/3 [00:00<00:00,  9.81it/s]"
          ]
        },
        {
          "output_type": "stream",
          "name": "stdout",
          "text": [
            "tensor(2.3393)\n",
            "tensor(4.8029)\n",
            "tensor(7.2096)\n"
          ]
        },
        {
          "output_type": "stream",
          "name": "stderr",
          "text": [
            "\n"
          ]
        },
        {
          "output_type": "stream",
          "name": "stdout",
          "text": [
            "\n",
            "Training loss: 6.324\n",
            "Validation loss: 9.958\n",
            "Training MAE: 1.8945329189300537\n",
            "Validation MAE: 2.403183698654175\n",
            "\n",
            " Epoch23 / 60\n"
          ]
        },
        {
          "output_type": "stream",
          "name": "stderr",
          "text": [
            "100%|██████████| 120/120 [00:14<00:00,  8.38it/s]\n",
            "100%|██████████| 3/3 [00:00<00:00,  9.92it/s]\n"
          ]
        },
        {
          "output_type": "stream",
          "name": "stdout",
          "text": [
            "tensor(2.3826)\n",
            "tensor(4.8689)\n",
            "tensor(7.1284)\n",
            "\n",
            "Training loss: 6.266\n",
            "Validation loss: 9.745\n",
            "Training MAE: 1.8844670057296753\n",
            "Validation MAE: 2.376142740249634\n",
            "\n",
            " Epoch24 / 60\n"
          ]
        },
        {
          "output_type": "stream",
          "name": "stderr",
          "text": [
            "100%|██████████| 120/120 [00:14<00:00,  8.27it/s]\n",
            "100%|██████████| 3/3 [00:00<00:00, 10.19it/s]\n"
          ]
        },
        {
          "output_type": "stream",
          "name": "stdout",
          "text": [
            "tensor(2.2923)\n",
            "tensor(4.7241)\n",
            "tensor(7.1182)\n",
            "\n",
            "Training loss: 6.177\n",
            "Validation loss: 9.863\n",
            "Training MAE: 1.8718829154968262\n",
            "Validation MAE: 2.372724771499634\n",
            "\n",
            " Epoch25 / 60\n"
          ]
        },
        {
          "output_type": "stream",
          "name": "stderr",
          "text": [
            "100%|██████████| 120/120 [00:14<00:00,  8.45it/s]\n",
            "100%|██████████| 3/3 [00:00<00:00,  9.81it/s]"
          ]
        },
        {
          "output_type": "stream",
          "name": "stdout",
          "text": [
            "tensor(2.3725)\n",
            "tensor(4.6507)\n",
            "tensor(6.9287)\n"
          ]
        },
        {
          "output_type": "stream",
          "name": "stderr",
          "text": [
            "\n"
          ]
        },
        {
          "output_type": "stream",
          "name": "stdout",
          "text": [
            "\n",
            "Training loss: 6.186\n",
            "Validation loss: 9.308\n",
            "Training MAE: 1.8727396726608276\n",
            "Validation MAE: 2.3095552921295166\n",
            "\n",
            " Epoch26 / 60\n"
          ]
        },
        {
          "output_type": "stream",
          "name": "stderr",
          "text": [
            "100%|██████████| 120/120 [00:14<00:00,  8.33it/s]\n",
            "100%|██████████| 3/3 [00:00<00:00, 10.11it/s]\n"
          ]
        },
        {
          "output_type": "stream",
          "name": "stdout",
          "text": [
            "tensor(2.3570)\n",
            "tensor(4.6206)\n",
            "tensor(6.9683)\n",
            "\n",
            "Training loss: 6.107\n",
            "Validation loss: 9.434\n",
            "Training MAE: 1.8604023456573486\n",
            "Validation MAE: 2.322775363922119\n",
            "\n",
            " Epoch27 / 60\n"
          ]
        },
        {
          "output_type": "stream",
          "name": "stderr",
          "text": [
            "100%|██████████| 120/120 [00:14<00:00,  8.29it/s]\n",
            "100%|██████████| 3/3 [00:00<00:00,  9.62it/s]\n"
          ]
        },
        {
          "output_type": "stream",
          "name": "stdout",
          "text": [
            "tensor(2.3352)\n",
            "tensor(4.6938)\n",
            "tensor(7.0301)\n",
            "\n",
            "Training loss: 6.070\n",
            "Validation loss: 9.407\n",
            "Training MAE: 1.8551748991012573\n",
            "Validation MAE: 2.3433609008789062\n",
            "\n",
            " Epoch28 / 60\n"
          ]
        },
        {
          "output_type": "stream",
          "name": "stderr",
          "text": [
            "100%|██████████| 120/120 [00:14<00:00,  8.15it/s]\n",
            " 67%|██████▋   | 2/3 [00:00<00:00,  7.49it/s]"
          ]
        },
        {
          "output_type": "stream",
          "name": "stdout",
          "text": [
            "tensor(2.2981)\n",
            "tensor(4.6477)\n"
          ]
        },
        {
          "output_type": "stream",
          "name": "stderr",
          "text": [
            "\r100%|██████████| 3/3 [00:00<00:00,  8.55it/s]\n"
          ]
        },
        {
          "output_type": "stream",
          "name": "stdout",
          "text": [
            "tensor(6.8778)\n",
            "\n",
            "Training loss: 6.054\n",
            "Validation loss: 9.058\n",
            "Training MAE: 1.851791501045227\n",
            "Validation MAE: 2.2926018238067627\n",
            "\n",
            " Epoch29 / 60\n"
          ]
        },
        {
          "output_type": "stream",
          "name": "stderr",
          "text": [
            "100%|██████████| 120/120 [00:14<00:00,  8.03it/s]\n",
            " 67%|██████▋   | 2/3 [00:00<00:00,  8.46it/s]"
          ]
        },
        {
          "output_type": "stream",
          "name": "stdout",
          "text": [
            "tensor(2.2552)\n",
            "tensor(4.6254)\n"
          ]
        },
        {
          "output_type": "stream",
          "name": "stderr",
          "text": [
            "\r100%|██████████| 3/3 [00:00<00:00,  9.07it/s]\n"
          ]
        },
        {
          "output_type": "stream",
          "name": "stdout",
          "text": [
            "tensor(6.9652)\n",
            "\n",
            "Training loss: 6.016\n",
            "Validation loss: 9.294\n",
            "Training MAE: 1.8461824655532837\n",
            "Validation MAE: 2.3217275142669678\n",
            "\n",
            " Epoch30 / 60\n"
          ]
        },
        {
          "output_type": "stream",
          "name": "stderr",
          "text": [
            "100%|██████████| 120/120 [00:14<00:00,  8.38it/s]\n",
            "100%|██████████| 3/3 [00:00<00:00,  9.84it/s]\n"
          ]
        },
        {
          "output_type": "stream",
          "name": "stdout",
          "text": [
            "tensor(2.1972)\n",
            "tensor(4.5741)\n",
            "tensor(6.9218)\n",
            "\n",
            "Training loss: 5.982\n",
            "Validation loss: 9.344\n",
            "Training MAE: 1.8394650220870972\n",
            "Validation MAE: 2.307278871536255\n",
            "\n",
            " Epoch31 / 60\n"
          ]
        },
        {
          "output_type": "stream",
          "name": "stderr",
          "text": [
            "100%|██████████| 120/120 [00:15<00:00,  7.67it/s]\n",
            "100%|██████████| 3/3 [00:00<00:00, 10.55it/s]\n"
          ]
        },
        {
          "output_type": "stream",
          "name": "stdout",
          "text": [
            "tensor(2.3983)\n",
            "tensor(4.6021)\n",
            "tensor(6.9659)\n",
            "\n",
            "Training loss: 5.965\n",
            "Validation loss: 9.235\n",
            "Training MAE: 1.834900975227356\n",
            "Validation MAE: 2.321963310241699\n",
            "\n",
            " Epoch32 / 60\n"
          ]
        },
        {
          "output_type": "stream",
          "name": "stderr",
          "text": [
            "100%|██████████| 120/120 [00:14<00:00,  8.41it/s]\n",
            "100%|██████████| 3/3 [00:00<00:00,  9.80it/s]\n"
          ]
        },
        {
          "output_type": "stream",
          "name": "stdout",
          "text": [
            "tensor(2.4102)\n",
            "tensor(4.6489)\n",
            "tensor(6.8771)\n",
            "\n",
            "Training loss: 5.943\n",
            "Validation loss: 9.140\n",
            "Training MAE: 1.8317036628723145\n",
            "Validation MAE: 2.292362928390503\n",
            "\n",
            " Epoch33 / 60\n"
          ]
        },
        {
          "output_type": "stream",
          "name": "stderr",
          "text": [
            "100%|██████████| 120/120 [00:14<00:00,  8.43it/s]\n",
            "100%|██████████| 3/3 [00:00<00:00, 10.24it/s]\n"
          ]
        },
        {
          "output_type": "stream",
          "name": "stdout",
          "text": [
            "tensor(2.2933)\n",
            "tensor(4.7254)\n",
            "tensor(6.7935)\n",
            "\n",
            "Training loss: 5.894\n",
            "Validation loss: 8.903\n",
            "Training MAE: 1.8237625360488892\n",
            "Validation MAE: 2.264493942260742\n",
            "\n",
            " Epoch34 / 60\n"
          ]
        },
        {
          "output_type": "stream",
          "name": "stderr",
          "text": [
            "100%|██████████| 120/120 [00:14<00:00,  8.29it/s]\n",
            "100%|██████████| 3/3 [00:00<00:00,  9.76it/s]\n"
          ]
        },
        {
          "output_type": "stream",
          "name": "stdout",
          "text": [
            "tensor(2.2543)\n",
            "tensor(4.5846)\n",
            "tensor(6.8605)\n",
            "\n",
            "Training loss: 5.904\n",
            "Validation loss: 9.055\n",
            "Training MAE: 1.8247724771499634\n",
            "Validation MAE: 2.2868425846099854\n",
            "\n",
            " Epoch35 / 60\n"
          ]
        },
        {
          "output_type": "stream",
          "name": "stderr",
          "text": [
            "100%|██████████| 120/120 [00:14<00:00,  8.34it/s]\n",
            "100%|██████████| 3/3 [00:00<00:00,  9.81it/s]\n"
          ]
        },
        {
          "output_type": "stream",
          "name": "stdout",
          "text": [
            "tensor(2.1654)\n",
            "tensor(4.4560)\n",
            "tensor(6.8882)\n",
            "\n",
            "Training loss: 5.852\n",
            "Validation loss: 8.991\n",
            "Training MAE: 1.8164937496185303\n",
            "Validation MAE: 2.2960612773895264\n",
            "\n",
            " Epoch36 / 60\n"
          ]
        },
        {
          "output_type": "stream",
          "name": "stderr",
          "text": [
            "100%|██████████| 120/120 [00:14<00:00,  8.33it/s]\n",
            " 67%|██████▋   | 2/3 [00:00<00:00,  7.59it/s]"
          ]
        },
        {
          "output_type": "stream",
          "name": "stdout",
          "text": [
            "tensor(2.1749)\n",
            "tensor(4.5784)\n"
          ]
        },
        {
          "output_type": "stream",
          "name": "stderr",
          "text": [
            "\r100%|██████████| 3/3 [00:00<00:00,  8.82it/s]\n"
          ]
        },
        {
          "output_type": "stream",
          "name": "stdout",
          "text": [
            "tensor(6.8676)\n",
            "\n",
            "Training loss: 5.818\n",
            "Validation loss: 9.201\n",
            "Training MAE: 1.8103569746017456\n",
            "Validation MAE: 2.28918719291687\n",
            "\n",
            " Epoch37 / 60\n"
          ]
        },
        {
          "output_type": "stream",
          "name": "stderr",
          "text": [
            "100%|██████████| 120/120 [00:14<00:00,  8.45it/s]\n",
            "100%|██████████| 3/3 [00:00<00:00,  9.60it/s]\n"
          ]
        },
        {
          "output_type": "stream",
          "name": "stdout",
          "text": [
            "tensor(2.2347)\n",
            "tensor(4.5605)\n",
            "tensor(6.7841)\n",
            "\n",
            "Training loss: 5.813\n",
            "Validation loss: 8.965\n",
            "Training MAE: 1.8088390827178955\n",
            "Validation MAE: 2.2613580226898193\n",
            "\n",
            " Epoch38 / 60\n"
          ]
        },
        {
          "output_type": "stream",
          "name": "stderr",
          "text": [
            "100%|██████████| 120/120 [00:14<00:00,  8.42it/s]\n",
            "100%|██████████| 3/3 [00:00<00:00, 10.02it/s]"
          ]
        },
        {
          "output_type": "stream",
          "name": "stdout",
          "text": [
            "tensor(2.3126)\n",
            "tensor(4.5348)\n",
            "tensor(6.7388)\n"
          ]
        },
        {
          "output_type": "stream",
          "name": "stderr",
          "text": [
            "\n"
          ]
        },
        {
          "output_type": "stream",
          "name": "stdout",
          "text": [
            "\n",
            "Training loss: 5.777\n",
            "Validation loss: 8.705\n",
            "Training MAE: 1.8044934272766113\n",
            "Validation MAE: 2.2462821006774902\n",
            "\n",
            " Epoch39 / 60\n"
          ]
        },
        {
          "output_type": "stream",
          "name": "stderr",
          "text": [
            "100%|██████████| 120/120 [00:14<00:00,  8.44it/s]\n",
            "100%|██████████| 3/3 [00:00<00:00, 10.11it/s]\n"
          ]
        },
        {
          "output_type": "stream",
          "name": "stdout",
          "text": [
            "tensor(2.3793)\n",
            "tensor(4.5598)\n",
            "tensor(6.6232)\n",
            "\n",
            "Training loss: 5.729\n",
            "Validation loss: 8.588\n",
            "Training MAE: 1.7981407642364502\n",
            "Validation MAE: 2.207735776901245\n",
            "\n",
            " Epoch40 / 60\n"
          ]
        },
        {
          "output_type": "stream",
          "name": "stderr",
          "text": [
            "100%|██████████| 120/120 [00:14<00:00,  8.43it/s]\n",
            "100%|██████████| 3/3 [00:00<00:00,  9.36it/s]\n"
          ]
        },
        {
          "output_type": "stream",
          "name": "stdout",
          "text": [
            "tensor(2.1689)\n",
            "tensor(4.4494)\n",
            "tensor(6.6823)\n",
            "\n",
            "Training loss: 5.696\n",
            "Validation loss: 8.732\n",
            "Training MAE: 1.7929054498672485\n",
            "Validation MAE: 2.2274324893951416\n",
            "\n",
            " Epoch41 / 60\n"
          ]
        },
        {
          "output_type": "stream",
          "name": "stderr",
          "text": [
            "100%|██████████| 120/120 [00:14<00:00,  8.32it/s]\n",
            "100%|██████████| 3/3 [00:00<00:00,  9.63it/s]"
          ]
        },
        {
          "output_type": "stream",
          "name": "stdout",
          "text": [
            "tensor(2.2393)\n",
            "tensor(4.4177)\n",
            "tensor(6.4857)\n"
          ]
        },
        {
          "output_type": "stream",
          "name": "stderr",
          "text": [
            "\n"
          ]
        },
        {
          "output_type": "stream",
          "name": "stdout",
          "text": [
            "\n",
            "Training loss: 5.722\n",
            "Validation loss: 8.221\n",
            "Training MAE: 1.7920058965682983\n",
            "Validation MAE: 2.161898612976074\n",
            "\n",
            " Epoch42 / 60\n"
          ]
        },
        {
          "output_type": "stream",
          "name": "stderr",
          "text": [
            "100%|██████████| 120/120 [00:14<00:00,  8.26it/s]\n",
            "100%|██████████| 3/3 [00:00<00:00,  9.42it/s]"
          ]
        },
        {
          "output_type": "stream",
          "name": "stdout",
          "text": [
            "tensor(2.1637)\n",
            "tensor(4.3144)\n",
            "tensor(6.5339)\n"
          ]
        },
        {
          "output_type": "stream",
          "name": "stderr",
          "text": [
            "\n"
          ]
        },
        {
          "output_type": "stream",
          "name": "stdout",
          "text": [
            "\n",
            "Training loss: 5.709\n",
            "Validation loss: 8.187\n",
            "Training MAE: 1.790318250656128\n",
            "Validation MAE: 2.1779699325561523\n",
            "\n",
            " Epoch43 / 60\n"
          ]
        },
        {
          "output_type": "stream",
          "name": "stderr",
          "text": [
            "100%|██████████| 120/120 [00:15<00:00,  7.72it/s]\n",
            "100%|██████████| 3/3 [00:00<00:00,  9.93it/s]\n"
          ]
        },
        {
          "output_type": "stream",
          "name": "stdout",
          "text": [
            "tensor(2.1356)\n",
            "tensor(4.3103)\n",
            "tensor(6.4639)\n",
            "\n",
            "Training loss: 5.681\n",
            "Validation loss: 7.961\n",
            "Training MAE: 1.7859927415847778\n",
            "Validation MAE: 2.1546294689178467\n",
            "\n",
            " Epoch44 / 60\n"
          ]
        },
        {
          "output_type": "stream",
          "name": "stderr",
          "text": [
            "100%|██████████| 120/120 [00:14<00:00,  8.24it/s]\n",
            "100%|██████████| 3/3 [00:00<00:00,  9.80it/s]\n"
          ]
        },
        {
          "output_type": "stream",
          "name": "stdout",
          "text": [
            "tensor(2.1649)\n",
            "tensor(4.3492)\n",
            "tensor(6.4832)\n",
            "\n",
            "Training loss: 5.691\n",
            "Validation loss: 8.117\n",
            "Training MAE: 1.7856924533843994\n",
            "Validation MAE: 2.1610519886016846\n",
            "\n",
            " Epoch45 / 60\n"
          ]
        },
        {
          "output_type": "stream",
          "name": "stderr",
          "text": [
            "100%|██████████| 120/120 [00:14<00:00,  8.34it/s]\n",
            "100%|██████████| 3/3 [00:00<00:00,  9.64it/s]\n"
          ]
        },
        {
          "output_type": "stream",
          "name": "stdout",
          "text": [
            "tensor(2.0864)\n",
            "tensor(4.0560)\n",
            "tensor(6.4128)\n",
            "\n",
            "Training loss: 5.711\n",
            "Validation loss: 8.108\n",
            "Training MAE: 1.7890126705169678\n",
            "Validation MAE: 2.1375892162323\n",
            "\n",
            " Epoch46 / 60\n"
          ]
        },
        {
          "output_type": "stream",
          "name": "stderr",
          "text": [
            "100%|██████████| 120/120 [00:14<00:00,  8.27it/s]\n",
            "100%|██████████| 3/3 [00:00<00:00,  9.81it/s]"
          ]
        },
        {
          "output_type": "stream",
          "name": "stdout",
          "text": [
            "tensor(2.1335)\n",
            "tensor(4.1407)\n",
            "tensor(6.2247)\n"
          ]
        },
        {
          "output_type": "stream",
          "name": "stderr",
          "text": [
            "\n"
          ]
        },
        {
          "output_type": "stream",
          "name": "stdout",
          "text": [
            "\n",
            "Training loss: 5.696\n",
            "Validation loss: 7.477\n",
            "Training MAE: 1.7854782342910767\n",
            "Validation MAE: 2.074909210205078\n",
            "\n",
            " Epoch47 / 60\n"
          ]
        },
        {
          "output_type": "stream",
          "name": "stderr",
          "text": [
            "100%|██████████| 120/120 [00:14<00:00,  8.22it/s]\n",
            "100%|██████████| 3/3 [00:00<00:00,  8.91it/s]\n"
          ]
        },
        {
          "output_type": "stream",
          "name": "stdout",
          "text": [
            "tensor(2.1552)\n",
            "tensor(4.2582)\n",
            "tensor(6.3754)\n",
            "\n",
            "Training loss: 5.666\n",
            "Validation loss: 7.914\n",
            "Training MAE: 1.7816718816757202\n",
            "Validation MAE: 2.1251277923583984\n",
            "\n",
            " Epoch48 / 60\n"
          ]
        },
        {
          "output_type": "stream",
          "name": "stderr",
          "text": [
            "100%|██████████| 120/120 [00:14<00:00,  8.33it/s]\n",
            "100%|██████████| 3/3 [00:00<00:00,  9.40it/s]\n"
          ]
        },
        {
          "output_type": "stream",
          "name": "stdout",
          "text": [
            "tensor(2.1273)\n",
            "tensor(4.2798)\n",
            "tensor(6.4764)\n",
            "\n",
            "Training loss: 5.621\n",
            "Validation loss: 8.038\n",
            "Training MAE: 1.7743788957595825\n",
            "Validation MAE: 2.158813714981079\n",
            "\n",
            " Epoch49 / 60\n"
          ]
        },
        {
          "output_type": "stream",
          "name": "stderr",
          "text": [
            "100%|██████████| 120/120 [00:14<00:00,  8.12it/s]\n",
            " 67%|██████▋   | 2/3 [00:00<00:00,  7.52it/s]"
          ]
        },
        {
          "output_type": "stream",
          "name": "stdout",
          "text": [
            "tensor(2.1434)\n",
            "tensor(4.3529)\n"
          ]
        },
        {
          "output_type": "stream",
          "name": "stderr",
          "text": [
            "\r100%|██████████| 3/3 [00:00<00:00,  8.80it/s]\n"
          ]
        },
        {
          "output_type": "stream",
          "name": "stdout",
          "text": [
            "tensor(6.4042)\n",
            "\n",
            "Training loss: 5.624\n",
            "Validation loss: 7.950\n",
            "Training MAE: 1.7743618488311768\n",
            "Validation MAE: 2.1347274780273438\n",
            "\n",
            " Epoch50 / 60\n"
          ]
        },
        {
          "output_type": "stream",
          "name": "stderr",
          "text": [
            "100%|██████████| 120/120 [00:14<00:00,  8.06it/s]\n",
            "100%|██████████| 3/3 [00:00<00:00,  9.86it/s]\n"
          ]
        },
        {
          "output_type": "stream",
          "name": "stdout",
          "text": [
            "tensor(2.1990)\n",
            "tensor(4.2995)\n",
            "tensor(6.3926)\n",
            "\n",
            "Training loss: 5.614\n",
            "Validation loss: 7.992\n",
            "Training MAE: 1.7721492052078247\n",
            "Validation MAE: 2.130872964859009\n",
            "\n",
            " Epoch51 / 60\n"
          ]
        },
        {
          "output_type": "stream",
          "name": "stderr",
          "text": [
            "100%|██████████| 120/120 [00:14<00:00,  8.38it/s]\n",
            "100%|██████████| 3/3 [00:00<00:00,  9.60it/s]\n"
          ]
        },
        {
          "output_type": "stream",
          "name": "stdout",
          "text": [
            "tensor(2.0800)\n",
            "tensor(4.3072)\n",
            "tensor(6.3862)\n",
            "\n",
            "Training loss: 5.550\n",
            "Validation loss: 7.858\n",
            "Training MAE: 1.7630410194396973\n",
            "Validation MAE: 2.1287448406219482\n",
            "\n",
            " Epoch52 / 60\n"
          ]
        },
        {
          "output_type": "stream",
          "name": "stderr",
          "text": [
            "100%|██████████| 120/120 [00:14<00:00,  8.35it/s]\n",
            "100%|██████████| 3/3 [00:00<00:00, 10.14it/s]\n"
          ]
        },
        {
          "output_type": "stream",
          "name": "stdout",
          "text": [
            "tensor(2.1830)\n",
            "tensor(4.3556)\n",
            "tensor(6.3895)\n",
            "\n",
            "Training loss: 5.569\n",
            "Validation loss: 7.721\n",
            "Training MAE: 1.7630666494369507\n",
            "Validation MAE: 2.129817008972168\n",
            "\n",
            " Epoch53 / 60\n"
          ]
        },
        {
          "output_type": "stream",
          "name": "stderr",
          "text": [
            "100%|██████████| 120/120 [00:14<00:00,  8.31it/s]\n",
            "100%|██████████| 3/3 [00:00<00:00,  9.42it/s]\n"
          ]
        },
        {
          "output_type": "stream",
          "name": "stdout",
          "text": [
            "tensor(2.1385)\n",
            "tensor(4.2316)\n",
            "tensor(6.2268)\n",
            "\n",
            "Training loss: 5.542\n",
            "Validation loss: 7.588\n",
            "Training MAE: 1.7569974660873413\n",
            "Validation MAE: 2.0755863189697266\n",
            "\n",
            " Epoch54 / 60\n"
          ]
        },
        {
          "output_type": "stream",
          "name": "stderr",
          "text": [
            "100%|██████████| 120/120 [00:15<00:00,  7.67it/s]\n",
            "100%|██████████| 3/3 [00:00<00:00,  9.96it/s]\n"
          ]
        },
        {
          "output_type": "stream",
          "name": "stdout",
          "text": [
            "tensor(2.1017)\n",
            "tensor(4.3219)\n",
            "tensor(6.2816)\n",
            "\n",
            "Training loss: 5.479\n",
            "Validation loss: 7.727\n",
            "Training MAE: 1.7488175630569458\n",
            "Validation MAE: 2.093872308731079\n",
            "\n",
            " Epoch55 / 60\n"
          ]
        },
        {
          "output_type": "stream",
          "name": "stderr",
          "text": [
            "100%|██████████| 120/120 [00:14<00:00,  8.24it/s]\n",
            "100%|██████████| 3/3 [00:00<00:00, 10.07it/s]\n"
          ]
        },
        {
          "output_type": "stream",
          "name": "stdout",
          "text": [
            "tensor(2.1965)\n",
            "tensor(4.2443)\n",
            "tensor(6.2080)\n",
            "\n",
            "Training loss: 5.484\n",
            "Validation loss: 7.618\n",
            "Training MAE: 1.7512210607528687\n",
            "Validation MAE: 2.0693490505218506\n",
            "\n",
            " Epoch56 / 60\n"
          ]
        },
        {
          "output_type": "stream",
          "name": "stderr",
          "text": [
            "100%|██████████| 120/120 [00:14<00:00,  8.31it/s]\n",
            "100%|██████████| 3/3 [00:00<00:00, 10.22it/s]\n"
          ]
        },
        {
          "output_type": "stream",
          "name": "stdout",
          "text": [
            "tensor(2.0326)\n",
            "tensor(4.1300)\n",
            "tensor(6.4022)\n",
            "\n",
            "Training loss: 5.441\n",
            "Validation loss: 8.005\n",
            "Training MAE: 1.7417657375335693\n",
            "Validation MAE: 2.134078025817871\n",
            "\n",
            " Epoch57 / 60\n"
          ]
        },
        {
          "output_type": "stream",
          "name": "stderr",
          "text": [
            "100%|██████████| 120/120 [00:14<00:00,  8.37it/s]\n",
            "100%|██████████| 3/3 [00:00<00:00,  9.72it/s]\n"
          ]
        },
        {
          "output_type": "stream",
          "name": "stdout",
          "text": [
            "tensor(2.1886)\n",
            "tensor(4.3439)\n",
            "tensor(6.4040)\n",
            "\n",
            "Training loss: 5.463\n",
            "Validation loss: 7.899\n",
            "Training MAE: 1.7456088066101074\n",
            "Validation MAE: 2.134653329849243\n",
            "\n",
            " Epoch58 / 60\n"
          ]
        },
        {
          "output_type": "stream",
          "name": "stderr",
          "text": [
            "100%|██████████| 120/120 [00:14<00:00,  8.31it/s]\n",
            "100%|██████████| 3/3 [00:00<00:00,  9.89it/s]\n"
          ]
        },
        {
          "output_type": "stream",
          "name": "stdout",
          "text": [
            "tensor(2.1749)\n",
            "tensor(4.3278)\n",
            "tensor(6.4990)\n",
            "\n",
            "Training loss: 5.422\n",
            "Validation loss: 8.190\n",
            "Training MAE: 1.7382985353469849\n",
            "Validation MAE: 2.166327714920044\n",
            "\n",
            " Epoch59 / 60\n"
          ]
        },
        {
          "output_type": "stream",
          "name": "stderr",
          "text": [
            "100%|██████████| 120/120 [00:14<00:00,  8.31it/s]\n",
            "100%|██████████| 3/3 [00:00<00:00,  9.74it/s]\n"
          ]
        },
        {
          "output_type": "stream",
          "name": "stdout",
          "text": [
            "tensor(2.1423)\n",
            "tensor(4.3271)\n",
            "tensor(6.2584)\n",
            "\n",
            "Training loss: 5.409\n",
            "Validation loss: 7.684\n",
            "Training MAE: 1.7343724966049194\n",
            "Validation MAE: 2.0861363410949707\n",
            "\n",
            " Epoch60 / 60\n"
          ]
        },
        {
          "output_type": "stream",
          "name": "stderr",
          "text": [
            "100%|██████████| 120/120 [00:14<00:00,  8.45it/s]\n",
            " 67%|██████▋   | 2/3 [00:00<00:00,  7.86it/s]"
          ]
        },
        {
          "output_type": "stream",
          "name": "stdout",
          "text": [
            "tensor(2.0556)\n",
            "tensor(4.2475)\n",
            "tensor(6.3183)\n"
          ]
        },
        {
          "output_type": "stream",
          "name": "stderr",
          "text": [
            "\r100%|██████████| 3/3 [00:00<00:00,  9.25it/s]"
          ]
        },
        {
          "output_type": "stream",
          "name": "stdout",
          "text": [
            "\n",
            "Training loss: 5.394\n",
            "Validation loss: 7.851\n",
            "Training MAE: 1.731674313545227\n",
            "Validation MAE: 2.106102705001831\n"
          ]
        },
        {
          "output_type": "stream",
          "name": "stderr",
          "text": [
            "\n"
          ]
        }
      ]
    },
    {
      "cell_type": "code",
      "source": [
        "plot_losses()"
      ],
      "metadata": {
        "colab": {
          "base_uri": "https://localhost:8080/"
        },
        "id": "mVxerhYwLidC",
        "outputId": "30c56927-8d75-409d-bb08-b0a129d7f5a2"
      },
      "execution_count": null,
      "outputs": [
        {
          "output_type": "display_data",
          "data": {
            "text/plain": [
              "<Figure size 432x288 with 1 Axes>"
            ],
            "image/png": "[encoded data removed]"
          },
          "metadata": {
            "needs_background": "light"
          }
        }
      ]
    },
    {
      "cell_type": "code",
      "source": [
        "plot_metrics()"
      ],
      "metadata": {
        "colab": {
          "base_uri": "https://localhost:8080/"
        },
        "id": "R6sSVL3XM8Hn",
        "outputId": "104c3410-ae37-456c-cb1e-be6015f11db0"
      },
      "execution_count": null,
      "outputs": [
        {
          "output_type": "display_data",
          "data": {
            "text/plain": [
              "<Figure size 432x288 with 1 Axes>"
            ],
            "image/png": "[encoded data removed]"
          },
          "metadata": {
            "needs_background": "light"
          }
        }
      ]
    },
    {
      "cell_type": "code",
      "source": [
        "plot_losses()"
      ],
      "metadata": {
        "id": "V5CVnE5JM9Pe",
        "colab": {
          "base_uri": "https://localhost:8080/",
          "height": 295
        },
        "outputId": "62f85669-6e87-427f-b67a-4c36b010ad0a"
      },
      "execution_count": null,
      "outputs": [
        {
          "output_type": "display_data",
          "data": {
            "text/plain": [
              "<Figure size 432x288 with 1 Axes>"
            ],
            "image/png": "[encoded data removed]"
          },
          "metadata": {
            "needs_background": "light"
          }
        }
      ]
    },
    {
      "cell_type": "code",
      "source": [
        "plot_metrics()"
      ],
      "metadata": {
        "colab": {
          "base_uri": "https://localhost:8080/",
          "height": 295
        },
        "id": "MJtYAgLD3dFZ",
        "outputId": "8f3073a9-0361-47e3-aa83-c9835315f780"
      },
      "execution_count": null,
      "outputs": [
        {
          "output_type": "display_data",
          "data": {
            "text/plain": [
              "<Figure size 432x288 with 1 Axes>"
            ],
            "image/png": "[encoded data removed]"
          },
          "metadata": {
            "needs_background": "light"
          }
        }
      ]
    },
    {
      "cell_type": "markdown",
      "source": [
        "# Average Precision\n",
        "- Adding new metric for evaluating"
      ],
      "metadata": {
        "id": "HE0DIN_S43T4"
      }
    },
    {
      "cell_type": "code",
      "source": [
        "from random import randint"
      ],
      "metadata": {
        "id": "bHvMZtVL5Zqr"
      },
      "execution_count": null,
      "outputs": []
    },
    {
      "cell_type": "code",
      "source": [
        "def apk(actual, predicted, k=10):\n",
        "    \"\"\"\n",
        "    Computes the average precision at k.\n",
        "    This function computes the average prescision at k between two lists of\n",
        "    items.\n",
        "    Parameters\n",
        "    ----------\n",
        "    actual : list\n",
        "             A list of elements that are to be predicted (order doesn't matter)\n",
        "    predicted : list\n",
        "                A list of predicted elements (order does matter)\n",
        "    k : int, optional\n",
        "        The maximum number of predicted elements\n",
        "    Returns\n",
        "    -------\n",
        "    score : double\n",
        "            The average precision at k over the input lists\n",
        "    \"\"\"\n",
        "    if len(predicted)>k:\n",
        "        predicted = predicted[:k]\n",
        "\n",
        "    score = 0.0\n",
        "    num_hits = 0.0\n",
        "\n",
        "    for i,p in enumerate(predicted):\n",
        "        if p in actual and p not in predicted[:i]:\n",
        "            num_hits += 1.0\n",
        "            score += num_hits / (i+1.0)\n",
        "\n",
        "    if not actual:\n",
        "        return 0.0\n",
        "\n",
        "    return score / min(len(actual), k)\n",
        "\n",
        "def mapk(actual, predicted, k=10):\n",
        "    \"\"\"\n",
        "    Computes the mean average precision at k.\n",
        "    This function computes the mean average prescision at k between two lists\n",
        "    of lists of items.\n",
        "    Parameters\n",
        "    ----------\n",
        "    actual : list\n",
        "             A list of lists of elements that are to be predicted \n",
        "             (order doesn't matter in the lists)\n",
        "    predicted : list\n",
        "                A list of lists of predicted elements\n",
        "                (order matters in the lists)\n",
        "    k : int, optional\n",
        "        The maximum number of predicted elements\n",
        "    Returns\n",
        "    -------\n",
        "    score : double\n",
        "            The mean average precision at k over the input lists\n",
        "    \"\"\"\n",
        "    return np.mean([apk(a,p,k) for a,p in zip(actual, predicted)])"
      ],
      "metadata": {
        "id": "vZThVOT6BAqL"
      },
      "execution_count": null,
      "outputs": []
    },
    {
      "cell_type": "code",
      "source": [
        "def plot_mapk():\n",
        "  # make data\n",
        "  x = np.arange(5, 100, 1)\n",
        "  # plot\n",
        "  fig, ax = plt.subplots()\n",
        "\n",
        "  ax.plot(x, mapk_metrics, linewidth=2.0, label=\"Test\")\n",
        "\n",
        "  plt.grid()\n",
        "  plt.title(\"AP@K Metric\")\n",
        "  plt.xlabel(\"Param k\")\n",
        "  plt.ylabel(\"Average Precision\")\n",
        "  ax.legend()\n",
        "  plt.show()"
      ],
      "metadata": {
        "id": "5GFvNAY7BduJ"
      },
      "execution_count": null,
      "outputs": []
    },
    {
      "cell_type": "code",
      "source": [
        "def generate_test_input(num_users=1000):\n",
        "    result = []\n",
        "    active_users = []\n",
        "    all_users = list(user_lookup.keys())\n",
        "    sorted_ratings_df = ratings_df.sort_values(by='time').reset_index()\n",
        "    index = sorted_ratings_df.index\n",
        "    for i in range(num_users):\n",
        "        while True:\n",
        "            rand = randint(0, len(user_lookup)-1)\n",
        "            if rand not in active_users:\n",
        "                active_users.append(rand)\n",
        "                break\n",
        "        user = all_users[rand]\n",
        "        user_rows = index[sorted_ratings_df.user_id==user]\n",
        "        row = randint(user_rows[0], user_rows[-1])\n",
        "        book_id = book_lookup[sorted_ratings_df.iloc[row].Book_title]\n",
        "        target_rating = sorted_ratings_df.iloc[row].rating.item()\n",
        "        result.append((torch.tensor([rand+1]).to(device), torch.tensor([book_id]).to(device), target_rating))\n",
        "    return result"
      ],
      "metadata": {
        "id": "cv70JH8y3eUe"
      },
      "execution_count": null,
      "outputs": []
    },
    {
      "cell_type": "code",
      "source": [
        "test_input = generate_test_input(1000)\n",
        "test_input[:5]"
      ],
      "metadata": {
        "colab": {
          "base_uri": "https://localhost:8080/"
        },
        "id": "PUYD9knF7iyj",
        "outputId": "34948b91-c65d-4ea5-aa01-d64fc18b0906"
      },
      "execution_count": null,
      "outputs": [
        {
          "output_type": "execute_result",
          "data": {
            "text/plain": [
              "[(tensor([452], device='cuda:0'), tensor([3654], device='cuda:0'), 9.0),\n",
              " (tensor([462], device='cuda:0'), tensor([773], device='cuda:0'), 10.0),\n",
              " (tensor([1270], device='cuda:0'), tensor([10122], device='cuda:0'), 8.0),\n",
              " (tensor([1232], device='cuda:0'), tensor([4956], device='cuda:0'), 3.0),\n",
              " (tensor([355], device='cuda:0'), tensor([36], device='cuda:0'), 9.0)]"
            ]
          },
          "metadata": {},
          "execution_count": 126
        }
      ]
    },
    {
      "cell_type": "code",
      "source": [
        "relevant = []\n",
        "pred_book_ids = []\n",
        "pred_ratings = []\n",
        "for user_id, book_id, rating in test_input:\n",
        "  if rating > 8:\n",
        "    relevant.append(book_id[0].detach().cpu())\n",
        "  pred = model((user_id, book_id))\n",
        "  # print(user_id, book_id)\n",
        "  # print(pred[0])\n",
        "  if pred[0] > 8:\n",
        "    pred_book_ids.append(book_id[0].detach().cpu())    \n",
        "    pred_ratings.append(pred[0].detach().cpu())\n",
        "  sorted_ids = np.argsort(pred_ratings)[::-1]\n",
        "  pred_books = [pred_book_ids[i] for i in sorted_ids]\n",
        "mapk_metrics = []\n",
        "print(len(relevant), len(pred_books))\n",
        "for i in range(5, 100, 1):\n",
        "  prec = mapk([relevant], [pred_books], i)\n",
        "  mapk_metrics.append(prec)"
      ],
      "metadata": {
        "colab": {
          "base_uri": "https://localhost:8080/"
        },
        "id": "fj7cYlZTBbcj",
        "outputId": "0f3a97a3-28a8-469f-f8ac-366b7e7c7609"
      },
      "execution_count": null,
      "outputs": [
        {
          "output_type": "stream",
          "name": "stdout",
          "text": [
            "378 843\n"
          ]
        }
      ]
    },
    {
      "cell_type": "code",
      "source": [
        "plot_mapk()"
      ],
      "metadata": {
        "colab": {
          "base_uri": "https://localhost:8080/",
          "height": 295
        },
        "id": "0SixQ6kn9yMr",
        "outputId": "96042bca-26f7-4803-8e25-f3c8b827fab2"
      },
      "execution_count": null,
      "outputs": [
        {
          "output_type": "display_data",
          "data": {
            "text/plain": [
              "<Figure size 432x288 with 1 Axes>"
            ],
            "image/png": "[encoded data removed]"
          },
          "metadata": {
            "needs_background": "light"
          }
        }
      ]
    },
    {
      "cell_type": "code",
      "source": [
        "def plot_mapk():\n",
        "  # make data\n",
        "  x = np.arange(3, 20, 1)\n",
        "  # plot\n",
        "  fig, ax = plt.subplots()\n",
        "\n",
        "  ax.plot(x, mapk_metrics, linewidth=2.0, label=\"Test\")\n",
        "\n",
        "  plt.grid()\n",
        "  plt.title(\"AP@K Metric\")\n",
        "  plt.xlabel(\"Param k\")\n",
        "  plt.ylabel(\"Average Precision\")\n",
        "  ax.legend()\n",
        "  plt.show()"
      ],
      "metadata": {
        "id": "E6Wgc7_vI7Fz"
      },
      "execution_count": null,
      "outputs": []
    },
    {
      "cell_type": "code",
      "source": [
        "mapk_metrics = []\n",
        "for i in range(3, 20, 1):\n",
        "  prec = mapk([relevant], [pred_books], i)\n",
        "  mapk_metrics.append(prec)"
      ],
      "metadata": {
        "id": "3N0ei9YCI9o3"
      },
      "execution_count": null,
      "outputs": []
    },
    {
      "cell_type": "code",
      "source": [
        "plot_mapk()"
      ],
      "metadata": {
        "colab": {
          "base_uri": "https://localhost:8080/",
          "height": 295
        },
        "id": "mPMK3xKbJjuU",
        "outputId": "9f780b51-62be-4ccd-b699-8a9a00d00068"
      },
      "execution_count": null,
      "outputs": [
        {
          "output_type": "display_data",
          "data": {
            "text/plain": [
              "<Figure size 432x288 with 1 Axes>"
            ],
            "image/png": "[encoded data removed]"
          },
          "metadata": {
            "needs_background": "light"
          }
        }
      ]
    }
  ],
  "metadata": {
    "colab": {
      "collapsed_sections": [
        "iOAztY3HBAJC",
        "6kZ5pawxb9eX",
        "50RyyqqndJ3h",
        "HE0DIN_S43T4"
      ],
      "name": "MatrixFactorization.ipynb",
      "provenance": [],
      "toc_visible": true
    },
    "kernelspec": {
      "display_name": "Python 3",
      "name": "python3"
    },
    "language_info": {
      "name": "python"
    },
    "accelerator": "GPU"
  },
  "nbformat": 4,
  "nbformat_minor": 0
}